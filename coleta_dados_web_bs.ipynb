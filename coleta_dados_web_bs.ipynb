{
  "cells": [
    {
      "cell_type": "markdown",
      "metadata": {
        "id": "view-in-github",
        "colab_type": "text"
      },
      "source": [
        "<a href=\"https://colab.research.google.com/github/oldairjsilva/IGTI/blob/main/coleta_dados_web_bs.ipynb\" target=\"_parent\"><img src=\"https://colab.research.google.com/assets/colab-badge.svg\" alt=\"Open In Colab\"/></a>"
      ]
    },
    {
      "cell_type": "markdown",
      "id": "40ee4590",
      "metadata": {
        "id": "40ee4590"
      },
      "source": [
        "# Coleta de dados na Web \n",
        "Vamos iniciar nosso primeiro web crawling utilizando as bibliotecas requests e BeautifulSoup"
      ]
    },
    {
      "cell_type": "code",
      "execution_count": null,
      "id": "27238bf0",
      "metadata": {
        "id": "27238bf0",
        "outputId": "7dedb355-491d-4902-9b8d-406979eee2ba"
      },
      "outputs": [
        {
          "name": "stdout",
          "output_type": "stream",
          "text": [
            "Requirement already satisfied: beautifulsoup4 in c:\\projetos\\env\\coleta_dados\\lib\\site-packages (4.10.0)\n",
            "Requirement already satisfied: soupsieve>1.2 in c:\\projetos\\env\\coleta_dados\\lib\\site-packages (from beautifulsoup4) (2.3.1)\n"
          ]
        }
      ],
      "source": [
        "!pip install beautifulsoup4"
      ]
    },
    {
      "cell_type": "code",
      "execution_count": null,
      "id": "db1c3975",
      "metadata": {
        "id": "db1c3975",
        "outputId": "eb493bde-351b-4f5d-e60a-2eac525c46f2"
      },
      "outputs": [
        {
          "name": "stdout",
          "output_type": "stream",
          "text": [
            "Collecting requests\n",
            "  Downloading requests-2.27.1-py2.py3-none-any.whl (63 kB)\n",
            "     ---------------------------------------- 63.1/63.1 KB 1.1 MB/s eta 0:00:00\n",
            "Collecting charset-normalizer~=2.0.0\n",
            "  Downloading charset_normalizer-2.0.12-py3-none-any.whl (39 kB)\n",
            "Collecting idna<4,>=2.5\n",
            "  Using cached idna-3.3-py3-none-any.whl (61 kB)\n",
            "Collecting urllib3<1.27,>=1.21.1\n",
            "  Downloading urllib3-1.26.9-py2.py3-none-any.whl (138 kB)\n",
            "     -------------------------------------- 139.0/139.0 KB 2.8 MB/s eta 0:00:00\n",
            "Collecting certifi>=2017.4.17\n",
            "  Using cached certifi-2021.10.8-py2.py3-none-any.whl (149 kB)\n",
            "Installing collected packages: certifi, urllib3, idna, charset-normalizer, requests\n",
            "Successfully installed certifi-2021.10.8 charset-normalizer-2.0.12 idna-3.3 requests-2.27.1 urllib3-1.26.9\n"
          ]
        }
      ],
      "source": [
        "!pip install requests"
      ]
    },
    {
      "cell_type": "code",
      "execution_count": null,
      "id": "5b1ff193",
      "metadata": {
        "id": "5b1ff193"
      },
      "outputs": [],
      "source": [
        "# O primeiro passo temos que importar as bibliotecas que vamos utilizar\n",
        "\n",
        "import requests # para realizar as requisiçoes HTMLs\n",
        "from bs4 import BeautifulSoup\n",
        "import re #trabalhar com expressão regular"
      ]
    },
    {
      "cell_type": "markdown",
      "id": "0fea13ad",
      "metadata": {
        "id": "0fea13ad"
      },
      "source": [
        "Para esse estudo vamos extrair informações dos candidatos a prefeitos de 3 cidades (São Paulo, Rio de Janeiro e Belo Horizonte)\n",
        "Vamos acessar o site \"https://politica.estadao.com.br/eleicoes/2020/candidatos\"\n",
        "\n",
        "Vamos extrair as seguintes informações:\n",
        "\n",
        "1. Nome do candidato\n",
        "2. Partido do candidado\n",
        "3. O estado\n",
        "4. A cidade\n",
        "5. O endereço de link do candidato"
      ]
    },
    {
      "cell_type": "code",
      "execution_count": null,
      "id": "f91fc6ce",
      "metadata": {
        "id": "f91fc6ce"
      },
      "outputs": [],
      "source": [
        "# Vamos fazer uma requisição ao link que contém as informações dos candidatos\n",
        "\n",
        "# Criamos uma variável e atribuimos\n",
        "r = requests.get(\"https://politica.estadao.com.br/eleicoes/2020/candidatos\")"
      ]
    },
    {
      "cell_type": "code",
      "execution_count": null,
      "id": "55c0d1a0",
      "metadata": {
        "id": "55c0d1a0",
        "outputId": "52f86cbf-9b1f-4a23-8863-3b7f9c96c8d9"
      },
      "outputs": [
        {
          "data": {
            "text/plain": [
              "'<!DOCTYPE html><html lang=\"pt-BR\"><head><script>(function(w,d,s,l,i){w[l]=w[l]||[];w[l].push({\\'gtm.start\\': new Date().getTime(),event:\\'gtm.js\\'});var f=d.getElementsByTagName(s)[0], j=d.createElement(s),dl=l!=\\'dataLayer\\'?\\'&l=\\'+l:\\'\\';j.async=true;j.src= \\'https://www.googletagmanager.com/gtm.js?id=\\'+i+dl;f.parentNode.insertBefore(j,f); })(window,document,\\'script\\',\\'dataLayerEstadao\\',\\'GTM-M4LH38R\\');</script><meta charset=\"UTF-8\"/><link rel=\"preconnect\" href=\"https://img.estadao.com.br\" /><link rel=\"preconnect\" href=\"https://statics.estadao.com.br\" /><link rel=\"preconnect\" href=\"https://www.googletagmanager.com\" /><link rel=\"preconnect\" href=\"https://www.google-analytics.com\" /><link rel=\"preconnect\" href=\"https://tag.navdmp.com\" /><link rel=\"preconnect\" href=\"https://acesso.estadao.com.br\" /><link rel=\"preconnect\" href=\"https://connect.facebook.net\" /><link rel=\"preconnect\" href=\"https://fundingchoicesmessages.google.com\" /><link rel=\"dns-prefetch\" href=\"https://securepubads.g.doubleclick.net\" /><link rel=\"dns-prefetch\" href=\"https://pagead2.googlesyndication.com\" /><link rel=\"dns-prefetch\" href=\"https://cdn.insurads.com\" /><link rel=\"dns-prefetch\" href=\"https://ivccftag.ivcbrasil.org.br\" /><link rel=\"dns-prefetch\" href=\"https://ivccf.ivcbrasil.org.br\" /><link rel=\"dns-prefetch\" href=\"https://ping.chartbeat.net\" /><link rel=\"dns-prefetch\" href=\"https://s8t.teads.tv\" /><link rel=\"dns-prefetch\" href=\"https://services.insurads.com\" /><link rel=\"dns-prefetch\" href=\"https://script.hotjar.com\" /><link rel=\"dns-prefetch\" href=\"https://contributor.google.com\" /><link rel=\"dns-prefetch\" href=\"https://a.teads.tv\" /><link rel=\"dns-prefetch\" href=\"https://v3.denakop.com\" /> <script async=\\'async\\' src=\\'https://securepubads.g.doubleclick.net/tag/js/gpt.js\\'></script> <script async=\\'async\\' src=\"https://statics.estadao.com.br/s2016/utils/publicidade/dfp.min.js\"></script> <script type=\\'text/javascript\\'> window.mobileCheck = function() { let check = false; (function(a){if(/(android|bb\\\\d+|meego).+mobile|avantgo|bada\\\\/|blackberry|blazer|compal|elaine|fennec|hiptop|iemobile|ip(hone|od)|iris|kindle|lge |maemo|midp|mmp|mobile.+firefox|netfront|opera m(ob|in)i|palm( os)?|phone|p(ixi|re)\\\\/|plucker|pocket|psp|series(4|6)0|symbian|treo|up\\\\.(browser|link)|vodafone|wap|windows ce|xda|xiino/i.test(a)||/1207|6310|6590|3gso|4thp|50[1-6]i|770s|802s|a wa|abac|ac(er|oo|s\\\\-)|ai(ko|rn)|al(av|ca|co)|amoi|an(ex|ny|yw)|aptu|ar(ch|go)|as(te|us)|attw|au(di|\\\\-m|r |s )|avan|be(ck|ll|nq)|bi(lb|rd)|bl(ac|az)|br(e|v)w|bumb|bw\\\\-(n|u)|c55\\\\/|capi|ccwa|cdm\\\\-|cell|chtm|cldc|cmd\\\\-|co(mp|nd)|craw|da(it|ll|ng)|dbte|dc\\\\-s|devi|dica|dmob|do(c|p)o|ds(12|\\\\-d)|el(49|ai)|em(l2|ul)|er(ic|k0)|esl8|ez([4-7]0|os|wa|ze)|fetc|fly(\\\\-|_)|g1 u|g560|gene|gf\\\\-5|g\\\\-mo|go(\\\\.w|od)|gr(ad|un)|haie|hcit|hd\\\\-(m|p|t)|hei\\\\-|hi(pt|ta)|hp( i|ip)|hs\\\\-c|ht(c(\\\\-| |_|a|g|p|s|t)|tp)|hu(aw|tc)|i\\\\-(20|go|ma)|i230|iac( |\\\\-|\\\\/)|ibro|idea|ig01|ikom|im1k|inno|ipaq|iris|ja(t|v)a|jbro|jemu|jigs|kddi|keji|kgt( |\\\\/)|klon|kpt |kwc\\\\-|kyo(c|k)|le(no|xi)|lg( g|\\\\/(k|l|u)|50|54|\\\\-[a-w])|libw|lynx|m1\\\\-w|m3ga|m50\\\\/|ma(te|ui|xo)|mc(01|21|ca)|m\\\\-cr|me(rc|ri)|mi(o8|oa|ts)|mmef|mo(01|02|bi|de|do|t(\\\\-| |o|v)|zz)|mt(50|p1|v )|mwbp|mywa|n10[0-2]|n20[2-3]|n30(0|2)|n50(0|2|5)|n7(0(0|1)|10)|ne((c|m)\\\\-|on|tf|wf|wg|wt)|nok(6|i)|nzph|o2im|op(ti|wv)|oran|owg1|p800|pan(a|d|t)|pdxg|pg(13|\\\\-([1-8]|c))|phil|pire|pl(ay|uc)|pn\\\\-2|po(ck|rt|se)|prox|psio|pt\\\\-g|qa\\\\-a|qc(07|12|21|32|60|\\\\-[2-7]|i\\\\-)|qtek|r380|r600|raks|rim9|ro(ve|zo)|s55\\\\/|sa(ge|ma|mm|ms|ny|va)|sc(01|h\\\\-|oo|p\\\\-)|sdk\\\\/|se(c(\\\\-|0|1)|47|mc|nd|ri)|sgh\\\\-|shar|sie(\\\\-|m)|sk\\\\-0|sl(45|id)|sm(al|ar|b3|it|t5)|so(ft|ny)|sp(01|h\\\\-|v\\\\-|v )|sy(01|mb)|t2(18|50)|t6(00|10|18)|ta(gt|lk)|tcl\\\\-|tdg\\\\-|tel(i|m)|tim\\\\-|t\\\\-mo|to(pl|sh)|ts(70|m\\\\-|m3|m5)|tx\\\\-9|up(\\\\.b|g1|si)|utst|v400|v750|veri|vi(rg|te)|vk(40|5[0-3]|\\\\-v)|vm40|voda|vulc|vx(52|53|60|61|70|80|81|83|85|98)|w3c(\\\\-| )|webc|whit|wi(g |nc|nw)|wmlb|wonu|x700|yas\\\\-|your|zeto|zte\\\\-/i.test(a.substr(0,4))) check = true;})(navigator.userAgent||navigator.vendor||window.opera); return check; }; </script> <script type=\\'text/javascript\\'> var DFP = DFP || {}; DFP.cmd = DFP.cmd || []; if (!mobileCheck()) { DFP.cmd.push(function(){DFP.Prebid.init({ \"bids\": [{ \"accepted_formats\": [{ \"targets\": { \"formato\": [\"sticky\"] }, \"params\": { \"formatId\": \"91190\", \"siteId\": \"352949\", \"pageId\": \"1236065\" } }, { \"targets\": { \"formato\": [\"ttopo\"] }, \"params\": { \"formatId\": \"91189\", \"siteId\": \"352949\", \"pageId\": \"1236065\" } }, { \"targets\": { \"formato\": [\"tmeio2\"] }, \"params\": { \"formatId\": \"91188\", \"siteId\": \"352949\", \"pageId\": \"1236065\" } }, { \"targets\": { \"formato\": [\"hmeio2\"] }, \"params\": { \"formatId\": \"91187\", \"siteId\": \"352949\", \"pageId\": \"1236065\" } }, { \"targets\": { \"formato\": [\"hmeio1\"] }, \"params\": { \"formatId\": \"91186\", \"siteId\": \"352949\", \"pageId\": \"1236065\" } }, { \"targets\": { \"formato\": [\"vmeio1\"] }, \"params\": { \"formatId\": \"91185\", \"siteId\": \"352949\", \"pageId\": \"1236065\" } }, { \"targets\": { \"formato\": [\"tmeio1\"] }, \"params\": { \"formatId\": \"91184\", \"siteId\": \"352949\", \"pageId\": \"1236065\" } }, { \"targets\": { \"formato\": [\"vlatd\"] }, \"params\": { \"formatId\": \"91183\", \"siteId\": \"352949\", \"pageId\": \"1236065\" } }, { \"targets\": { \"formato\": [\"vlate\"] }, \"params\": { \"formatId\": \"92463\", \"siteId\": \"352949\", \"pageId\": \"1236065\" } }, { \"targets\": { \"formato\": [\"htopo\"] }, \"params\": { \"formatId\": \"91182\", \"siteId\": \"352949\", \"pageId\": \"1236065\" } }], \"bidder\": \"smartadserver\", \"mediaTypes\": \"bannerOnly\", \"params\": [] }, { \"bidder\": \"rubicon\", \"params\": { \"accountId\": \"14044\", \"siteId\": \"70010\", \"zoneId\": \"334044\" } }, { \"accepted_formats\": [{ \"devices\": [\"xl\", \"lg\", \"md\", \"sm\"], \"params\": { \"placementId\": \"14149591\" } }, { \"devices\": [\"xs\"], \"params\": { \"placementId\": \"14149592\" } }], \"bidder\": \"appnexus\", \"params\": [] }, { \"accepted_formats\": [{ \"targets\": { \"formato\": [\"tmeio1\"] }, \"devices\": [\"xl\", \"lg\", \"md\"], \"format\": [300, 250], \"params\": { \"dcn\": \"8a96941801787864ba7464d54b060007\", \"pos\": \"estadao_sub_home_desk_tmeio1_custom_300x250\" } }, { \"targets\": { \"formato\": [\"tmeio2\"] }, \"devices\": [\"xl\", \"lg\", \"md\"], \"format\": [300, 250], \"params\": { \"dcn\": \"8a96941801787864ba7464d54b060007\", \"pos\": \"estadao_sub_home_desk_tmeio2_custom_300x250\" } }, { \"targets\": { \"formato\": [\"hmeio1\"] }, \"devices\": [\"xl\", \"lg\", \"md\"], \"format\": [728, 90], \"params\": { \"dcn\": \"8a96941801787864ba7464d54b060007\", \"pos\": \"estadao_sub_home_desk_hmeio1_custom_728x90\" } }, { \"targets\": { \"formato\": [\"hmeio2\"] }, \"devices\": [\"xl\", \"lg\", \"md\"], \"format\": [728, 90], \"params\": { \"dcn\": \"8a96941801787864ba7464d54b060007\", \"pos\": \"estadao_sub_home_desk_hmeio2_custom_728x90\" } }, { \"targets\": { \"formato\": [\"htopo\"] }, \"devices\": [\"xl\", \"lg\", \"md\"], \"format\": [970, 250], \"params\": { \"dcn\": \"8a96941801787864ba7464d54b060007\", \"pos\": \"estadao_sub_home_desk_htopo_dym_970x250\" } }, { \"targets\": { \"formato\": [\"sticky\"] }, \"devices\": [\"sm\", \"xs\"], \"format\": [320, 100], \"params\": { \"dcn\": \"8a96941801787864ba7464d8110d0009\", \"pos\": \"estadao_sub_home_mobile_dfp_dym_320x100\" } }, { \"targets\": { \"formato\": [\"htopo\"] }, \"devices\": [\"sm\", \"xs\"], \"format\": [320, 100], \"params\": { \"dcn\": \"8a96941801787864ba7464d8110d0009\", \"pos\": \"estadao_sub_home_mobile_htopo_dym_320x100\" } }, { \"targets\": { \"formato\": [\"hmeio1\"] }, \"devices\": [\"sm\", \"xs\"], \"format\": [300, 250], \"params\": { \"dcn\": \"8a96941801787864ba7464d8110d0009\", \"pos\": \"estadao_sub_home_mobile_hmeio1_dym_300x250\" } }, { \"targets\": { \"formato\": [\"hmeio2\"] }, \"devices\": [\"sm\", \"xs\"], \"format\": [300, 250], \"params\": { \"dcn\": \"8a96941801787864ba7464d8110d0009\", \"pos\": \"estadao_sub_home_mobile_hmeio2_dym_300x250\" } }, { \"targets\": { \"formato\": [\"tmeio1\"] }, \"devices\": [\"sm\", \"xs\"], \"format\": [300, 250], \"params\": { \"dcn\": \"8a96941801787864ba7464d8110d0009\", \"pos\": \"estadao_sub_home_mobile_tmeio1_custom_300x250\" } }, { \"targets\": { \"formato\": [\"tmeio2\"] }, \"devices\": [\"sm\", \"xs\"], \"format\": [300, 250], \"params\": { \"dcn\": \"8a96941801787864ba7464d8110d0009\", \"pos\": \"estadao_sub_home_mobile_tmeio2_custom_300x250\" } }], \"bidder\": \"onemobile\", \"params\": [] }], \"currency\": []})}); } DFP.cmd.push(function(){ DFP.init(\\'/118650305/estadao/politica/eleicoes\\',\\'eleicoes\\'); DFP.pushTargetsDefault([]); }); </script> <title>Elei&ccedil;&otilde;es 2020 | Candidatos | Estad&atilde;o</title><meta http-equiv=\"X-UA-Compatible\" content=\"IE=edge\"><meta name=\"viewport\" content=\"width=device-width, initial-scale=1\"><meta name=\"mobile-web-app-capable\" content=\"yes\"><meta name=\"apple-mobile-web-app-status-bar-style\" content=\"black\"><meta name=\"description\" content=\"Conhe&ccedil;a dados e informa&ccedil;&otilde;es sobre os candidatos nas elei&ccedil;&otilde;es municipais em S&atilde;o Paulo, Rio de Janeiro, Belo Horizonte e todas as demais cidades do Pa&iacute;s\"><link rel=\"canonical\" href=\"https://politica.estadao.com.br/eleicoes/2020/candidatos\"><meta name=\"google-site-verification\" content=\"PfiLKXdZ8G42sTRx1JwiEfHMkIoKwxG8pFKwjhhxZ8c\" /><meta name=\"msvalidate.01\" content=\"472E06798AE8794A1997378AF5BDA687\" /><meta property=\"fb:app_id\" content=\"127970263920039\" /><meta property=\"og:title\" content=\"Elei&ccedil;&otilde;es 2020 | Candidatos | Estad&atilde;o\" ><meta property=\"og:type\" content=\"article\" ><meta property=\"og:url\" content=\"https://politica.estadao.com.br/eleicoes/2020/candidatos\" /><meta property=\"og:image\" content=\"https://statics.estadao.com.br/s2016/portal/logos/estadao-logo-200x200.png\" ><meta property=\"og:site_name\" content=\"Estad&atilde;o\" ><meta property=\"og:description\" content=\"Conhe&ccedil;a dados e informa&ccedil;&otilde;es sobre os candidatos nas elei&ccedil;&otilde;es municipais em S&atilde;o Paulo, Rio de Janeiro, Belo Horizonte e todas as demais cidades do Pa&iacute;s\" ><link rel=\"shortcut icon\" href=\"https://statics.estadao.com.br/s2016/portal/logos/favicon/favicon.ico\"><link rel=\"apple-touch-icon\" href=\"https://statics.estadao.com.br/s2016/portal/logos/favicon/apple-touch-icon.png\"><link crossOrigin=\"https://statics.estadao.com.br/s2016/\" rel=\"preload\" as=\"font\" href=\"https://statics.estadao.com.br/s2016/portal/font/icons/icones-estadao.woff2\"><link crossOrigin=\"https://statics.estadao.com.br/s2016/\" rel=\"preload\" as=\"font\" href=\"https://statics.estadao.com.br/s2016/portal/font/estado/bold/estadoheadline-bold.woff2\"><link crossOrigin=\"https://statics.estadao.com.br/s2016/\" rel=\"preload\" as=\"font\" href=\"https://statics.estadao.com.br/s2016/portal/font/lato/bold/lato-bold.woff2\"><link crossOrigin=\"https://statics.estadao.com.br/s2016/\" rel=\"preload\" as=\"font\" href=\"https://statics.estadao.com.br/s2016/portal/font/lato/bold-italic/lato-bolditalic.woff2\"><link crossOrigin=\"https://statics.estadao.com.br/s2016/\" rel=\"preload\" as=\"font\" href=\"https://statics.estadao.com.br/s2016/portal/font/lato/black/lato-black.woff2\"><link crossOrigin=\"https://statics.estadao.com.br/s2016/\" rel=\"preload\" as=\"font\" href=\"https://statics.estadao.com.br/s2016/portal/font/lato/regular/lato-regular.woff2\"><link crossOrigin=\"https://statics.estadao.com.br/s2016/\" rel=\"preload\" as=\"font\" href=\"https://statics.estadao.com.br/s2016/portal/font/lato/light/lato-light.woff2\"><link crossOrigin=\"https://statics.estadao.com.br/s2016/\" rel=\"preload\" as=\"font\" href=\"https://statics.estadao.com.br/s2016/portal/font/lato/italic/lato-italic.woff2\"><link crossOrigin=\"https://statics.estadao.com.br/s2016/\" rel=\"preload\" as=\"font\" href=\"https://statics.estadao.com.br/s2016/portal/font/flama/regular/flama.woff2\"><link rel=\"preload\" type=\"text/css\" href=\"https://statics.estadao.com.br/s2016/portal/css/flexboxgrid/6.3.0/flexboxgrid.min.css\" as=\"style\"><link rel=\"stylesheet\" type=\"text/css\" href=\"https://statics.estadao.com.br/s2016/portal/css/flexboxgrid/6.3.0/flexboxgrid.min.css\"><link rel=\"preload\" type=\"text/css\" href=\"https://statics.estadao.com.br/s2016/portal/eleicoes2020/css/eleicoes2020.min.css?v=27-11-2020\" as=\"style\"><link rel=\"stylesheet\" type=\"text/css\" href=\"https://statics.estadao.com.br/s2016/portal/eleicoes2020/css/eleicoes2020.min.css?v=27-11-2020\"><!--[if lt IE 10]><link rel=\"stylesheet\" type=\"text/css\" href=\"https://statics.estadao.com.br/s2016/portal/css/ie.css\" media=\"all\" /><![endif]--> <link rel=\"preload\" href=\"https://statics.estadao.com.br/s2016/portal/js/frameworks.min.js\" as=\"script\"> <script type=\"text/javascript\" src=\"https://statics.estadao.com.br/s2016/portal/js/frameworks.min.js\"></script> <script>var mod_default = mod_default || [];mod_default = [\"busca-candidatos-filtros\",\"lista-candidatos\",\"lista-candidatos\",\"lista-candidatos\",\"mais-lidas\"];</script> <script id=\"navegg\" type=\"text/javascript\"> (function(n,v,g){o=\\'Navegg\\';if(!n[o]){ a=v.createElement(\\'script\\');a.src=g;b=document.getElementsByTagName(\\'script\\')[0]; b.parentNode.insertBefore(a,b);n[o]=n[o]||function(parms){ n[o].q=n[o].q||[];n[o].q.push([this, parms])};}}) (window, document, \\'https://tag.navdmp.com/universal.min.js\\'); window.naveggReady = window.naveggReady||[]; window.nvg23902 = new Navegg({ acc: 23902 });</script><script type=\"text/javascript\" src=\"https://statics.estadao.com.br/s2016/portal/js/advertisement.js\" async></script> <script> !function(f,b,e,v,n,t,s){if(f.fbq)return;n=f.fbq=function(){n.callMethod? n.callMethod.apply(n,arguments):n.queue.push(arguments)};if(!f._fbq)f._fbq=n; n.push=n;n.loaded=!0;n.version=\\'2.0\\';n.queue=[];t=b.createElement(e);t.async=!0; t.src=v;s=b.getElementsByTagName(e)[0];s.parentNode.insertBefore(t,s)}(window, document,\\'script\\',\\'//connect.facebook.net/en_US/fbevents.js\\'); fbq(\\'init\\', \\'1659995760901982\\'); fbq(\\'track\\', \\'PageView\\'); </script> <noscript><img height=\"1\" width=\"1\" style=\"display:none\" src=\"https://www.facebook.com/tr?id=1659995760901982&ev=PageView&noscript=1\"/></noscript> <style>.async-hide { opacity: 0 !important} </style> <script> (function(a,s,y,n,c,h,i,d,e){s.className+=\\' \\'+y;h.start=1*new Date; h.end=i=function(){s.className=s.className.replace(RegExp(\\' ?\\'+y),\\'\\')}; (a[n]=a[n]||[]).hide=h;setTimeout(function(){i();h.end=null},c);h.timeout=c; })(window,document.documentElement,\\'async-hide\\',\\'dataLayer\\',4000, {\\'GTM-PMJLHJ3\\':true});</script> <script async src=\"https://www.googleoptimize.com/optimize.js?id=GTM-PMJLHJ3\" onerror=\"dataLayer.hide.end && dataLayer.hide.end();\"></script> <link rel=\"preload\" href=\"https://statics.estadao.com.br/s2016/portal/js/hide-assine-scripts.js?v=16-11-2021\" as=\"script\"></head><body class=\"politica \" data-area=\"\"> <noscript> <iframe src=\"https://www.googletagmanager.com/ns.html?id=GTM-M4LH38R\" height=\"0\" width=\"0\" style=\"display:none;visibility:hidden\"></iframe> </noscript> <script src=\"https://statics.estadao.com.br/s2016/portal/js/hide-assine-scripts.js?v=16-11-2021\" type=\"text/javascript\"></script> <style> #barra-estadao-parceiros{box-sizing:border-box;-webkit-box-sizing:border-box;-moz-box-sizing:border-box;-ms-box-sizing:border-box;-o-box-sizing:border-box;margin:0;padding:0;height:auto;max-height:100%;background-color:#393b41;white-space:nowrap;overflow:hidden!important;overflow-x:auto!important} #barra-estadao-parceiros .barra-estadao-list{margin:0 auto;text-align:center} #barra-estadao-parceiros ul{padding:9px 20px;position:relative;display:inline-block;margin:0;font-size:0;text-align:center} #barra-estadao-parceiros li:first-child{margin-left:0} #barra-estadao-parceiros li{margin:0 0 0 9px;display:inline-block;list-style:none;color:#fff} #barra-estadao-parceiros li:not(.barra-item-visibility):before{content:\\'●\\';display:inline-block;margin-right:9px;color:#fff;font-size:12px} #barra-estadao-parceiros li.barra-item-visibility + li:before{display:none} #barra-estadao-parceiros li:not(.barra-item-visibility) a:hover{color:#D0D0D0} #barra-estadao-parceiros li.barra-estadao-item{margin-right:5px} #barra-estadao-parceiros li.barra-estadao-item a{background:rgba(255,255,255,0.4);padding:5px 10px;border-radius:2px;font-weight:bold} #barra-estadao-parceiros li a{padding:0;margin:0;line-height:normal;color:#fff;font-family:sans-serif;font-size:12px;text-decoration:none;-webkit-transition:all .3s ease;-moz-transition:all .3s ease;-ms-transition:all .3s ease;-o-transition:all .3s ease;transition:all .3s ease}@media screen and (max-width:767px) { #barra-estadao-parceiros { display:none; } }</style><div id=\"barra-estadao-parceiros\" class=\"barra-estadao-parceiros\"> <nav class=\"barra-estadao-list\"> <ul> <li><a href=\"https://acervo.estadao.com.br\" title=\"Acervo\" target=\"_blank\" rel=\"noopener noreferrer\">Acervo</a></li> <li><a href=\"http://institucional.ae.com.br/\" title=\"Agência Estado\" target=\"_blank\" rel=\"noopener noreferrer\">Agência Estado</a></li> <li><a href=\"https://classificados.estadao.com.br/\" title=\"Classificados\" target=\"_blank\" rel=\"noopener noreferrer\">Classificados</a></li> <li><a href=\"https://emais.estadao.com.br\" title=\"E+\" target=\"_blank\" rel=\"noopener noreferrer\">E+</a></li> <li><a href=\"https://einvestidor.estadao.com.br/\" title=\"E-Investidor\" target=\"_blank\" rel=\"noopener noreferrer\">E-Investidor</a></li> <li><a href=\"https://esportefera.com.br\" title=\"#FERA\" target=\"_blank\" rel=\"noopener noreferrer\">#FERA</a></li> <li><a href=\"https://imoveis.estadao.com.br/\" title=\"Imóveis\" target=\"_blank\" rel=\"noopener noreferrer\">Imóveis</a></li> <li><a href=\"https://link.estadao.com.br\" title=\"Link\" target=\"_blank\" rel=\"noopener noreferrer\">Link</a></li> <li><a href=\"https://mobilidade.estadao.com.br/\" title=\"Mobilidade\" target=\"_blank\" rel=\"noopener noreferrer\">Mobilidade</a></li> <li><a href=\"https://paladar.estadao.com.br\" title=\"Paladar\" target=\"_blank\" rel=\"noopener noreferrer\">Paladar</a></li> <li><a href=\"https://pme.estadao.com.br\" title=\"PME\" target=\"_blank\" rel=\"noopener noreferrer\">PME</a></li> <li><a href=\"https://eldorado.estadao.com.br\" title=\"Rádio Eldorado\" target=\"_blank\" rel=\"noopener noreferrer\">Rádio Eldorado</a></li> <li><a href=\"https://saudeciencia.estadao.com.br/\" title=\"Saúde & Ciência\" target=\"_blank\" rel=\"noopener noreferrer\">Saúde & Ciência</a></li> </ul> <script type=\"text/javascript\"> (function(){ var getCookie = function(cname) { var name = cname + \"=\"; var decodedCookie = decodeURIComponent(document.cookie); var ca = decodedCookie.split(\\';\\'); for(var i = 0; i <ca.length; i++) { var c = ca[i]; while (c.charAt(0) == \\' \\') { c = c.substring(1); } if (c.indexOf(name) == 0) { return c.substring(name.length, c.length); } } return null; }; try{ var cookieData = getCookie(\\'OESP_INFO\\'); if(cookieData) { cookieData = JSON.parse(cookieData); if (cookieData.produtos !== \\'undefined\\' && cookieData.produtos != \"\" && cookieData.produtos.indexOf(\\'Not_\\') > -1 ) { var li_assine = document.querySelectorAll(\\'#barra-estadao-parceiros .barra-estadao-item\\'); for(var i in li_assine){ li_assine[i].style.display = \"none\"; } } } }catch (e) {} })(); </script> </nav></div><header class=\"js-header header-estadao header-subhome \" > <div class=\"header-wrapper\"> <div class=\"header-hamburger-menu js-toggle-menu\"> <div class=\"header-menu-bar\"></div> </div> <div class=\"header-icon-menu\"> <a href=\"#\" class=\"header-icon search-button js-toggle-menu\" title=\"Buscar\"> <i class=\"ico-search\"></i> </a> <a href=\"https://acesso.estadao.com.br/login/minha-conta\" class=\"header-icon minha-conta-picture\" title=\"Meu Perfil\"> <i class=\"ico-profile\"></i> </a> </div> <div class=\"header-publicidade selo-menu-top\" style=\"top: 2px !important; z-index: 15;\"> <script type=\"text/javascript\"> if (window.DFP) { DFP.cmd.push(function(){ DFP.renderHtml({ \\'selector\\': \\'.header-publicidade.selo-menu-top\\', \\'targets\\': {\"formato\": \"selo\"}, \"screenmap\" : \"out_of_page\", \"oop_devices\": [\"xs\",\"sm\",\"md\",\"lg\",\"xl\"], \"emptyCallback\" : function(){ if(DFP.isAssinante() !== \"true\"){ document.getElementById(\"selo-assine-dfp\").style.display = \"block\"; } } }); }); } </script> <div id=\"selo-assine-dfp\" style=\"display:none\"> <style> #assine-top-button .assine-top-button__text { font-family: LatoRegular, Lato-Regular, Lato; font-size: 16px; font-stretch: normal; font-style: normal; line-height: normal; letter-spacing: normal; text-align: left; padding-right: 16px; font-weight: bold; } #assine-top-button .assine-top-button__icon { fill: white; transform: scaleX(-1); transition: .3s ease all; } #assine-top-button .assine-top-button--green { display: flex; align-items: center; color: white; background-color: #539c3f; border-radius: 5px; padding: 12px 16px; transition: .3s ease all; border: solid 1px ; } #assine-top-button .assine-top-button--green:hover .assine-top-button__icon { fill: #539c3f; } #assine-top-button .assine-top-button--green:hover { color: #539c3f; background-color: white; } @media (max-width: 640px){ #assine-top-button.hide-for-mobile { display: none; } }</style><a class=\".n-hdr .selo-assine hide-for-mobile\" id=\"assine-top-button\" href=\"https://assine.estadao.com.br?utm_source=estadao:editorias&utm_medium=botao&utm_campaign=alwayson:c&utm_content=link:selo-superior:lp-planos:&utm_term=::::&referrer_url=https://politica.estadao.com.br/eleicoes/2020/candidatos\" target=\"_blank\"> <div class=\"assine-top-button--green\"> <span class=\"assine-top-button__text\">Assine Estadão</span> <span> <svg class=\"assine-top-button__icon\" width=\"20\" height=\"20\"> <use xlink:href=\"#button-logo\" /> </svg> </span> </div></a><svg display=\"none\"> <symbol width=\"20\" height=\"20\" viewBox=\"0 0 60 61\" id=\"button-logo\"> <path d=\"M56.539 30.95c-.027 1.513-.622 2.918-1.541 4.032l-.054.027c.324-1.008.757-2.732.757-2.918V30.13c0-.955-.947-3.236-1.271-4.005l.027.026.054.053a6.79 6.79 0 0 1 1.298 1.698l.054.132a5.8 5.8 0 0 1 .649 2.334l.027.478v.106zM22.767 20.529c-.08-.027-.162-.106-.27-.239-.216-.318-.46-.796-.46-.822 0-.504 1.109-.45 1.352-.637.244-.185.352-.45.73-.61v.053l.027.345a4.117 4.117 0 0 0-.108 1.008c0 .477.081 1.14.162 1.3 0 0-.54.212-.594.265-.298-.265-.514-.53-.839-.663zm.109-3.952l4.407-4.747 2.839 2.28-.108.345c-.108.239-.216.451-.352.69-.135.239-.297.45-.46.69-.189.238-.405.45-.648.689l-.108.106a6.599 6.599 0 0 1-2.137 1.273c-.513.16-1 .265-1.46.265l-1.973-1.59zm2.136-7.85V7.479c0-.212.054-.318.135-.398.162-.08.324-.185.46-.291l.135-.133c.324.053.622.026.919-.106.108-.027.324-.133.433-.212.162-.133.216-.319.243-.53l.433-.027V6.604l-.027.106c-.055.16-.082.318-.082.477 0 .398.136.796.379 1.088.351.504.946.822 1.622.848.054.186.027.504 0 .717-.027.212-.27.795-.351 1.113-.19.584-.379 1.167-.352 1.777l-.649-.53.433-1.538.297-1.035c-.784-.185-1.433-.636-1.757-1.193-.406.106-.974.292-1.136.292h-1.135zm-1.623-1.618c-.189-.16-.135-.557.19-1.273.108-.133.297-.318.405-.425.27.133.379.133.46.186.08.133.135.239.216.318.054.08.216.053.27.08.136.345.352.424.433.53-.054.106-.649.425-.865.504-.216.08-.946.239-1.109.08zm-.838-2.838c-.811-.477-1.487-1.06-1.947-1.697.135-.053.27-.106.406-.186.27-.133.514-.345.784-.557.216-.212.406-.424.54-.637.38.955 1.11 1.91 2.11 2.732l-.108.265v.107c-.054.212-.054.45-.027.69a6.934 6.934 0 0 1-1.758-.717zm-2.19-2.095l-.027-.027s-.027-.026-.027-.08c-.027-.185.243-.61.676-1.007.216-.186.405-.345.595-.451.243-.16.432-.212.513-.16h.054l.028.054c0 .053 0 .106-.028.159-.054.212-.297.557-.648.902-.46.45-.974.716-1.136.61zm4.597 1.83l1.108.08s.54.37.595.689c.027.133 0 .557 0 .663l-1.73.026c-.352-.716-.163-1.246.027-1.458zm1.216 2.28c-.919.054-.865-.45-.865-.45l1.568-.027s.217.425-.703.478zm2.272-1.803c.135-.132.297-.239.486-.345.19.16.46.398.703.584l.027.026c.108.08.217.16.298.186.189-.186.324-.398.378-.61l.027-.16c0-.211-.108-.317-.243-.37-.135-.08-.324-.133-.54-.24 0-.105-.082-.238-.163-.344.081-.239.297-.53.297-.53l.46-.266c.243-.132.46-.238.54-.318 0 .292-.026.478-.026.69v.053l-.027.371v.663h.405V3.29l.027-.372.136-1.458.162-.027.297-.053h.054l.244.027c.027.053-.163 1.034-.217 1.22l-.189 1.22v.026h.379l.027.027c.08-.478.162-.902.27-1.353.108-.398.216-.769.325-1.14.351.053.784.132 1.081.265l.027.026c.243.106.46.213.649.372l.108.08c.135.132.27.291.379.424l.46.636c.053.08.053.212.135.345l.054.212.054.239v.026l-.081.027-.352.08c-.324.052-.649.105-1 .105h-.081l-.46-.026-.027.026a2.717 2.717 0 0 1-.73 1.247 2.862 2.862 0 0 1-.974.69l-.27.106-.162.026.027.239v.345l-.325.053V6.63l-.027-.132V5.702l-.027-.398V4.96h-.378v.346l-.081.105-.46.478-.108.132-.027.027-.054.053-.298.371a3.958 3.958 0 0 1-.351-.238l-.244-.266-.108-.159-.108-.185-.054-.16-.027-.053-.135-.291a.576.576 0 0 0-.135-.212c-.054-.054-.109-.107-.19-.16a.704.704 0 0 1 .163-.265zm5.38 13.394l.244-.239.135-.16.027-.052 1.46 1.167-4.461 4.8-.163-.159-2.622-2.122c.81-.238 1.649-.583 2.46-1.008a14.102 14.102 0 0 0 2.569-1.883l.054-.053.162-.185.135-.106zM36.99 19.6l.027.026-1.325 1.008-3.218 2.52-.243-.266 3.299-3.58.08-.08.028-.026.351-.398 1 .796zm.135 1.723h-.054l-2.893 1.061-.216.106 2.65-2.042.135-.106.378.981zm20.117 18.751c.135-.477.243-.981.352-1.379l.892-2.997 1.27-4.19c.163-.557.244-1.14.244-1.724 0-3.421-2.866-6.206-6.408-6.206-.325 0-.622.026-.92.08a4.326 4.326 0 0 1-.621-.107l-.298-.08-.216-.079-.433-.159-.703-.318a14.584 14.584 0 0 0-3.623-1.008 18.76 18.76 0 0 0-2.11-.133c-.891 0-1.73.08-2.568.213-.92.159-1.838.397-2.677.716-.486.159-.892.265-1 .265-.568 0-.622-.557-1.298-.557-.216 0-.649.212-.946.318l.108.133c1.19 1.856 2.163 4.031 2.812 6.418l.027.133.081.318-9.193 3.58-1.65-3.872s-1.703 1.14-2.568 1.644c.027.451.027 1.167-.027 2.016-.135 2.652-.65 6.551-.784 7.771-.136.16-.244.292-.46.292-.19 0-2.569-.239-3.218-1.088l.379-5.781.297-4.244 3.137-7.214.514-1.114.919 2.122 3.785 8.779 8.193-3.13v-.053l-.027-.026-.027-.106a22.44 22.44 0 0 0-2.974-6.71l-.054-.16c0-.159-.027-.132.027-.185l2.136-.77-.541-1.379.54-.424-.161-.132-.514-.425-.838-.663-1-.796-.46-.37-.163-.107.217-.292.46-.636c.35-.478.648-.981.892-1.512.162-.318.297-.663.405-.981.054-.16.108-.318.108-.372a7.13 7.13 0 0 0 .27-1.273c.055-.238.055-.503.055-.742v-.106c0-.478-.135-.929-.406-1.326-.081-.133-.162-.266-.297-.398l-.054-.027a1.27 1.27 0 0 0-.27-.265 2.143 2.143 0 0 0-.623-.371 1.404 1.404 0 0 0-.46-.212l-.026-.425-.27.053c-.244.053-.487.106-.73.186h-.055c.081-.45.622-.53.811-.796.054-.026.081-.106.081-.159 0-.08-.027-.132-.054-.159-.054-.106-.108-.16-.108-.292l.027-.132a.367.367 0 0 1 .081-.106l.108-.08.136-.08.162-.159c.46-.45.784-1.034.92-1.644l.026-.16.027-.185a2.508 2.508 0 0 0 0-.636l-.054-.186c-.135-.716-.514-1.3-1.081-1.777-.136-.106-.298-.239-.487-.318l-.027-.053c-.19-.08-.433-.212-.649-.265l-.108-.053-.081-.027c-.19-.053-.406-.08-.622-.133-.19-.026-.379-.053-.568-.053l-.379.027h-.162l-.108.026-.324-.026h-.352l-.108.132-.027.054-.243.45-.027.027-.109.106c-.324.292-.865.371-.973.637l-.595 1.166s-.973 1.061-.973 1.114c0 .186.027.292-.135.425l-.568-.186c-.027-.08-.027-.371-.054-.45-.027-.027-.703-.876-1.055-.85l-1.298-.106c-1.217-.954-1.865-2.068-2.109-3.235V.292l-.027-.053-.081-.133c-.108-.106-.27-.133-.487-.08-.162.027-.351.08-.54.186-.244.133-.541.345-.812.584l-.216.212c-.135.185-.297.371-.378.53-.244.372-.298.69-.19.902l.027.027c.65 1.14 1.947 2.148 3.624 2.758l.135.053c-.325.318-.541.69-.65 1.008h-1.595v4.429l.028.185.027.186.027.133c.054.185.135.371.243.557l.081.106c.325.45.865.769 1.46.848l.325.027h2.217l-3.596 3.899s1.054.848 1.433 1.167c-.027.053-.406.557-.541.636-.27.133-1.785.265-1.676.955.027.053.027.133.08.239.082.291.46.742.623.954.243.319.757.345.946.85-.243.158-.514.476-.568.715-.568-.636-1.784-2.122-2.298-3.156-1.839.451-6.3 2.838-7.463 3.183-.973.291-2.542.477-2.542.477.081.265.27.61.244.822 0 .106-.352.212-.757.451-.19.08-.433.265-.595.451.162 1.114-.19 2.095-.433 2.89-.135.32-.243.637-.351.982l-.081.318-.163.743c-.054.345-.08.663-.108 1.008V31.19c.027.424.081.848.135 1.246l.054.265.082.372c.135.477.297.901.46 1.326l.08.132.027.08v.026l.163-.026c.27-.08.54-.212.784-.345l.486-.345c.163-.106.298-.238.46-.398a3.945 3.945 0 0 1-1.163 1.406l-.27.186-.216.08s-1.217.397-1.46.424c-.703.159-2.542.398-3.867.848-.216.08-.595-.397-1.758-.291-1.135.106-2.027 1.167-2 1.91.027.742.351.927.46 1.352.134.53 1.027 5.225 1.108 6.047.081.53.081 1.246.081 1.273 0 .053-.19.955-.216 1.246v.16c0 .132 0 .265.027.397.08.61.405 1.14.838 1.406l.027.08.216.69c.514 1.246 1.217 2.306 2.001 3.076l.027-.053 1.758-3.263.027-.026a7.367 7.367 0 0 0-1.433-1.83l-.217-.212-.567-.478.027-.132c0-.663-.298-1.247-.757-1.671l-.217-.186c0-.132-.243-5.012-.054-6.816.379-.053 1.46-.345 2.001-.743.162-.106 5.76.398 5.949.425.162 0 .621-.212.946-.212l1.054.08a1.88 1.88 0 0 0 1.028-.319c.297-.239.54-.53.622-.902l.054-.265v-.345l-.054-.185a1.035 1.035 0 0 0-.162-.398c.297-.106.594-.212.892-.345.27-.133.54-.292.784-.45a6.01 6.01 0 0 0 1.514-1.566 7.87 7.87 0 0 0 .379-.636c-.352 1.379-1.244 2.546-2.46 3.315l.026.345c0 .212-.027.424-.054.636-.108.451-.324.876-.649 1.22-.378.372-.865.69-1.433.822.46 1.565 1.433 4.297 1.433 4.483 0 .61 1.568 3.527 1.568 3.58 0 1.22.379 2.44.514 3.501.054.265.081.53.081.77 0 .211.108 1.458.19 3.473 0 .186.08.213.08.425 0 .159-.08.318-.189.45l-.027.054-.216.265-.27.398a5.965 5.965 0 0 0-.595.981l-.244.504-.108.212c-.324.77-.54 1.538-.622 2.281h4.137a3.232 3.232 0 0 1-.08-.716c-.055-.822.162-1.75.621-2.6.244-.503.298-.768.65-1.14-.055-.344-.082-.981-.325-1.724-.217-.716-.947-1.883-.947-1.91l-.27-4.985c0-.212.351-1.936.514-2.838.027-.053.189-1.565.81-2.679.082-.159-.459-.663-.621-.955l.108-.08h.081c.216.187 4.191 1.327 4.191 1.327s.892-1.087 1.244-1.3a49.54 49.54 0 0 0 5.246-.636c2.703-.477 5.191-1.14 7.3-1.883l1.163-.424.054.053v.212c0 .265.027.53.054.769a8.191 8.191 0 0 0 .838 2.917c.19.398.433.77.676 1.088l.054.106a5.38 5.38 0 0 0-.405 1.114c-.055.238-.082.504-.109.742a5.319 5.319 0 0 0 0 .929c-2.839 3.288-4.326 5.781-4.677 6.285l-.027.027c-.568.291-1 .981-1 1.803 0 .239.053.451.107.663.081.239.19.478.325.663l-.135.69a7.12 7.12 0 0 0-.109 1.538v.027a7.45 7.45 0 0 0 .487 2.227c.054.16.135.292.216.425l3.137-2.493.081-.053a6.354 6.354 0 0 0-.514-1.061c-.162-.318-.46-.796-.649-1.061.27-.345.622-.716.65-1.326l.026-.265-.027-.239c-.027-.61-.216-1.14-.486-1.485.378-.663 1.298-1.936 1.595-2.281.487-.637 1.379-1.512 1.812-1.883.243-.212 1.243-.425 1.406-.478l.973-.132 1.109-.186.08-.026-.27-.823-.027-.053a5.62 5.62 0 0 1 0-.954c.054-.213.108-.451.163-.637l.108-.186.135-.238.054-.053 1.433-1.777-.081-.106-.054-.053a13.7 13.7 0 0 1-1.514-2.308c-.19-.398-.379-.822-.514-1.246-.19-.53-.352-1.088-.46-1.645l-.135-.795-.027-.053-.54-.398a7.45 7.45 0 0 1-1.299-1.3 12.154 12.154 0 0 1-.622-.981l-.108-.212.136.185a6.958 6.958 0 0 0 2.298 2.016l.08.053.244.106.541.265.135.717c.081.344.19.69.298 1.034.08.292.189.583.297.875.19.478.406.902.65 1.353.296.504.62.981.972 1.432l.244.318a10.461 10.461 0 0 0 2.46 2.148c.487.292 1 .584 1.569.796l.46.16c.107.503.783 1.193 1.27 1.59.216.186.622.451.811.69.406.637.676 1.353.838 1.936.352 1.114.758 3.183.758 3.395 0 .186.08 1.008.08 1.22 0 .186-.594 2.122-.594 2.334l-.027.053a6.367 6.367 0 0 0-2.055 2.546 6.332 6.332 0 0 0-.541 1.83h3.515c.081-.53.216-1.06.433-1.591a8.223 8.223 0 0 1 1.433-2.414c.135-.159.27-.318.432-.45a.557.557 0 0 0 .082-.319v-.053c0-.557-.325-1.485-.541-2.042-.081-.212-.217-.424-.217-.637 0-.185-.351-4.19-.351-4.35.081-.079.73-2.094 1.379-2.917-.243-.318-.487-.53-.676-.716-.514-.477-.865-.716-1.136-1.564-.027-.186-.189-.186-.189-.398 0-.106.027-.16.054-.186.757.557 1.73.875 2.758.875a3.974 3.974 0 0 1-1.46-3.978l.027-.186zM1.028 13.181c0 .212.216 1.698.406 2.52.216.796 2.136 5.41 2.27 6.18.163.769.055.901.136 2.227.568.265 1.947 1.22 2.65 1.22.73 0 2.433-1.565 3.163-1.75 0-1.936-.513-2.122-.324-3.13.216-1.193.838-2.413 1.244-3.368.405-.955.108-1.273.162-1.565 0 0 .46.557.325 1.432-.19 1.061-1.11 2.68-1.217 3.395-.135.716-.081 1.538.189 1.698 2.38-.24 4.164-.955 5.705-1.777 1.569-.823 2.866-1.486 4.191-2.016-.27-.902-2.244-3.74-3.19-4.827-.974-1.087-2.19-2.254-3.732-3.13-1.54-.875-4.245-1.352-6.219-1.167-1.973.186-3.893.743-3.893.743S1.65 8.858.704 9.176l.567 1.406-1.216.69s.973 1.724.973 1.91z\"/> </symbol></svg><script> (function() { document.getElementById(\"assine-top-button\").addEventListener(\"click\", function() { window.dp6GenericEvent(\"convers\\\\u00e3o\", \"menu_superior\", \"bot\\\\u00e3o_assine_direto\"); }); var getCookieData = function(cname) { var name = cname + \"=\"; var decodedCookie = decodeURIComponent(document.cookie); var ca = decodedCookie.split(\\';\\'); for (var i = 0; i < ca.length; i++) { var c = ca[i]; while (c.charAt(0) == \\' \\') { c = c.substring(1); } if (c.indexOf(name) == 0) { return c.substring(name.length, c.length); } } return null; }; try { var cookieData = getCookieData(\\'OESP_INFO\\'); if (cookieData) { cookieData = JSON.parse(cookieData); if (cookieData.produtos !== \\'undefined\\' && cookieData.produtos != \"\" && cookieData.produtos.indexOf(\\'Not_\\') > -1 ) { var assineComponents = document.querySelectorAll(\\'#assine-top-button\\'); for (var i in assineComponents) { assineComponents[i].style.display = \"none\"; } } } } catch (e) {} })();</script> </div> </div> <a href=\"javascript:history.go(-1)\" class=\"header-back-button\"> <div class=\"header-back-bar\"></div> </a> <div class=\"header-primary-logo logo-small logo-blue js-logo-events\"> <a href=\"https://www.estadao.com.br/\" title=\"Estadão - Portal do Estado de S. Paulo\" > <span>Estadão - Portal do Estado de S. Paulo</span> </a> </div> <h1 class=\"novo_h1 header-current-page cor-e\"> <a href=\"https://politica.estadao.com.br/eleicoes/2020\"> Eleições 2020 </a> </h1> <p class=\"header-current-section cor-e\"> <a href=\"https://politica.estadao.com.br/\" class=\"header-section-title\"> Política </a> </p> </div> <nav class=\"header-menu header-secundary-menu \"> <ul> <li class=\" \"> <a href=\"https://politica.estadao.com.br/eleicoes/2020/#ultimas\" title=\"Últimas\" > Últimas </a> </li> <li class=\" \"> <a href=\"https://politica.estadao.com.br/eleicoes/2020/cobertura-votacao-apuracao/primeiro-turno\" title=\"Apuração 1º turno\" > Apuração 1º turno </a> </li> <li class=\" \"> <a href=\"https://politica.estadao.com.br/eleicoes/2020/cobertura-votacao-apuracao/segundo-turno\" title=\"Apuração 2º turno\" > Apuração 2º turno </a> </li> <li class=\"actived \"> <a href=\"https://politica.estadao.com.br/eleicoes/2020/candidatos\" title=\"Candidatos\" > Candidatos </a> </li> <li class=\" \"> <a href=\"https://politica.estadao.com.br/eleicoes/2020/conteudo-interativo\" title=\"Conteúdo Interativo\" > Conteúdo Interativo </a> </li> <li class=\" \"> <a href=\"https://politica.estadao.com.br/eleicoes/2020/guia-do-eleitor\" title=\"Guia do Eleitor\" > Guia do Eleitor </a> </li> <li class=\" \"> <a href=\"https://politica.estadao.com.br/eleicoes/2020/pesquisas/segundo-turno/prefeito/sp/sao-paulo/ibope\" title=\"Pesquisas\" > Pesquisas </a> </li> <li class=\" \"> <a href=\"https://politica.estadao.com.br/eleicoes/2016\" title=\"Eleições 2016\" > Eleições 2016 </a> </li> <li class=\" \"> <a href=\"https://politica.estadao.com.br/eleicoes/2018\" title=\"Eleições 2018\" > Eleições 2018 </a> </li> </ul> </nav> <section class=\"header-menu-user js-menu-user\"> <div class=\"header-wrapper\"><div class=\"search-box\"> <form method=\"GET\" class=\"busca-filtro\" action=\"//busca.estadao.com.br\"> <div class=\"input-search ico-search\"> <input type=\"text\" name=\"q\" placeholder=\"Encontre notícias, assuntos e pessoas\" autocomplete=\"off\" /> </div> </form></div><div class=\"row\"> <div class=\"col-lg-8 col-xs-12 col-sm-12\"> <ul class=\"navbar\"> <li class=\"inline-block perfil item-1 \" > <a href=\"https://acesso.estadao.com.br/login/minha-conta\" class=\"change-menu-hamburguer\" title=\"Perfil\"> <span class=\"icon icon-perfil minha-conta-picture-mobile\"></span> <span class=\"text\">Perfil</span> </a> </li> <li class=\"inline-block transito item-2 \" > <a href=\"https://transito.estadao.com.br\" title=\"Trânsito\"> <span class=\"icon icon-transito\"></span> <span class=\"text\">Trânsito</span> </a> </li> <li class=\"inline-block tempo item-3 \" > <a href=\"https://www.estadao.com.br/clima-e-tempo/sp-sao-paulo/\" title=\"Tempo\"> <span class=\"icon icon-tempo\"></span> <span class=\"text\">Tempo</span> </a> </li> <li class=\"inline-block horoscopo item-4 \" > <a href=\"https://emais.estadao.com.br/horoscopo\" title=\"Horóscopo\"> <span class=\"icon icon-horoscopo\"></span> <span class=\"text\">Horóscopo</span> </a> </li> <li class=\"inline-block quadrinhos item-5 \" > <a href=\"https://cultura.estadao.com.br/quadrinhos\" title=\"Quadrinhos\"> <span class=\"icon icon-quadrinhos\"></span> <span class=\"text\">Quadrinhos</span> </a> </li> <li class=\"inline-block loterias item-6 \" > <a href=\"https://loterias.estadao.com.br/mega-sena\" title=\"Loterias\"> <span class=\"icon icon-loterias\"></span> <span class=\"text\">Loterias</span> </a> </li> <li class=\"inline-block aplicativos item-7 \" > <a href=\"https://www.estadao.com.br/aplicativos/\" title=\"Aplicativos\"> <span class=\"icon icon-aplicativos\"></span> <span class=\"text\">Aplicativos</span> </a> </li> <li class=\"inline-block assine item-8 hidden\" > <a href=\"https://assine.estadao.com.br/?&utm_source=portal_estadao_selo_acesso&referrer_url=https://politica.estadao.com.br/eleicoes/2020/candidatos&utm_medium=portal_estadao_selo_acesso&utm_campaign=portal_estadao_selo_acesso\" target=\"_blank\" title=\"Assine\"> <span class=\"icon icon-assine\"></span> <span class=\"text\">Assine</span> </a> </li> </ul> <div class=\"menu-list\"> <ul> <li> <a href=\"https://opiniao.estadao.com.br\" title=\"Opinião\"> Opinião <i class=\"ico-arrow-right\"></i> </a> </li> <li> <a href=\"https://politica.estadao.com.br\" title=\"Política\"> Política <i class=\"ico-arrow-right\"></i> </a> </li> <li> <a href=\"https://economia.estadao.com.br\" title=\"Economia & Negócios\"> Economia & Negócios <i class=\"ico-arrow-right\"></i> </a> </li> <li> <a href=\"https://brasil.estadao.com.br\" title=\"Brasil\"> Brasil <i class=\"ico-arrow-right\"></i> </a> </li> <li> <a href=\"https://internacional.estadao.com.br\" title=\"Internacional\"> Internacional <i class=\"ico-arrow-right\"></i> </a> </li> <li> <a href=\"https://esportes.estadao.com.br\" title=\"Esportes\"> Esportes <i class=\"ico-arrow-right\"></i> </a> </li> <li> <a href=\"https://cultura.estadao.com.br\" title=\"Cultura\"> Cultura <i class=\"ico-arrow-right\"></i> </a> </li> <li> <a href=\"https://www.estadao.com.br/ultimas\" title=\"Últimas\"> Últimas <i class=\"ico-arrow-right\"></i> </a> </li> </ul> </div> <div class=\"menu-list\"> <ul> <li> <a href=\"https://acervo.estadao.com.br/\" title=\"Acervo\"> Acervo <i class=\"ico-arrow-right\"></i> </a> </li> <li> <a href=\"http://pme.estadao.com.br/\" title=\"PME\"> PME <i class=\"ico-arrow-right\"></i> </a> </li> <li> <a href=\"http://jornaldocarro.estadao.com.br/\" title=\"Jornal do Carro\"> Jornal do Carro <i class=\"ico-arrow-right\"></i> </a> </li> <li> <a href=\"https://paladar.estadao.com.br/\" title=\"Paladar\"> Paladar <i class=\"ico-arrow-right\"></i> </a> </li> <li> <a href=\"https://link.estadao.com.br/\" title=\"Link\"> Link <i class=\"ico-arrow-right\"></i> </a> </li> <li> <a href=\"https://emais.estadao.com.br/\" title=\"E+\"> E+ <i class=\"ico-arrow-right\"></i> </a> </li> <li> <a href=\"https://viagem.estadao.com.br/\" title=\"Viagem\"> Viagem <i class=\"ico-arrow-right\"></i> </a> </li> <li> <a href=\"http://www.classificadosestadao.com.br/\" title=\"Classificados\"> Classificados <i class=\"ico-arrow-right\"></i> </a> </li> </ul> </div> <div class=\"menu-list\"> <ul> <li> <a href=\"https://eldorado.estadao.com.br\" title=\"Rádio Eldorado\"> Rádio Eldorado <i class=\"ico-arrow-right\"></i> </a> </li> <li> <a href=\"https://alias.estadao.com.br/\" title=\"Aliás\"> Aliás <i class=\"ico-arrow-right\"></i> </a> </li> <li> <a href=\"https://educacao.estadao.com.br/\" title=\"Educação\"> Educação <i class=\"ico-arrow-right\"></i> </a> </li> <li> <a href=\"https://ciencia.estadao.com.br/\" title=\"Ciência\"> Ciência <i class=\"ico-arrow-right\"></i> </a> </li> <li> <a href=\"https://sustentabilidade.estadao.com.br/\" title=\"Sustentabilidade\"> Sustentabilidade <i class=\"ico-arrow-right\"></i> </a> </li> <li> <a href=\"https://saude.estadao.com.br/\" title=\"Saúde\"> Saúde <i class=\"ico-arrow-right\"></i> </a> </li> <li> <a href=\"https://sao-paulo.estadao.com.br/\" title=\"São Paulo\"> São Paulo <i class=\"ico-arrow-right\"></i> </a> </li> </ul> </div> <div class=\"menu-list\"> <ul> <li> <a href=\"https://tudo-sobre.estadao.com.br/\" title=\"Tudo Sobre\"> Tudo Sobre <i class=\"ico-arrow-right\"></i> </a> </li> <li> <a href=\"https://www.estadao.com.br/ao-vivo/\" title=\"Ao Vivo\"> Ao Vivo <i class=\"ico-arrow-right\"></i> </a> </li> <li> <a href=\"https://www.estadao.com.br/blogs/\" title=\"Blogs\"> Blogs <i class=\"ico-arrow-right\"></i> </a> </li> <li> <a href=\"https://www.estadao.com.br/colunas/\" title=\"Colunas\"> Colunas <i class=\"ico-arrow-right\"></i> </a> </li> <li> <a href=\"https://tv.estadao.com.br/\" title=\"TV Estadão\"> TV Estadão <i class=\"ico-arrow-right\"></i> </a> </li> <li> <a href=\"https://www.estadao.com.br/aplicativos/\" title=\"Aplicativos\"> Aplicativos <i class=\"ico-arrow-right\"></i> </a> </li> <li> <a href=\"https://www.estadao.com.br/infograficos\" title=\"Infográficos\"> Infográficos <i class=\"ico-arrow-right\"></i> </a> </li> <li> <a href=\"https://fotos.estadao.com.br/\" title=\"Fotos\"> Fotos <i class=\"ico-arrow-right\"></i> </a> </li> </ul> </div> <div class=\"menu-list\"> <ul> <li> <a href=\"https://emais.estadao.com.br/horoscopo\" title=\"Horóscopo\"> Horóscopo <i class=\"ico-arrow-right\"></i> </a> </li> <li> <a href=\"https://loterias.estadao.com.br/mega-sena\" title=\"Loterias\"> Loterias <i class=\"ico-arrow-right\"></i> </a> </li> <li> <a href=\"https://www.estadao.com.br/clima-e-tempo/sp-sao-paulo/\" title=\"Tempo\"> Tempo <i class=\"ico-arrow-right\"></i> </a> </li> <li> <a href=\"https://transito.estadao.com.br/\" title=\"Trânsito\"> Trânsito <i class=\"ico-arrow-right\"></i> </a> </li> <li> <a href=\"https://www.estadao.com.br/newsletters/\" title=\"Newsletter\"> Newsletter <i class=\"ico-arrow-right\"></i> </a> </li> <li> <a href=\"https://cultura.estadao.com.br/quadrinhos\" title=\"Quadrinhos\"> Quadrinhos <i class=\"ico-arrow-right\"></i> </a> </li> <li> <a href=\"https://arte.estadao.com.br/jogos/sudoku/\" title=\"Sudoku\"> Sudoku <i class=\"ico-arrow-right\"></i> </a> </li> <li> <a href=\"https://arte.estadao.com.br/jogos/palavras-cruzadas/\" title=\"Cruzadas\"> Cruzadas <i class=\"ico-arrow-right\"></i> </a> </li> </ul> </div> <div class=\"menu-list\"> <ul> <li> <a href=\"https://imoveis.moving.com.br/\" target=\"_blank\" title=\"Moving\"> Moving <i class=\"ico-arrow-right\"></i> </a> </li> <li> <a href=\"https://estradao.estadao.com.br/\" target=\"_blank\" title=\"Estradão\"> Estradão <i class=\"ico-arrow-right\"></i> </a> </li> <li> <a href=\"http://www.broadcastpolitico.com.br/\" title=\"Broadcast Político\"> Broadcast Político <i class=\"ico-arrow-right\"></i> </a> </li> <li> <a href=\"https://bluestudio.estadao.com.br\" target=\"_blank\" title=\"Estadão Blue Studio\"> Estadão Blue Studio <i class=\"ico-arrow-right\"></i> </a> </li> </ul> </div> </div> </div> </div> </section></header><div class=\"clearfix\"></div><img data-src-desktop=\"/s2016/portal/logos/logo-estadao-black-340-73.png\" class=\"logo-for-print elazy\" style=\"display: none;\" /><section class=\"col-md-12 col-sm-12 col-xs-12 htopo-style publi--spacing_news_htopo\"><div id=\\'htopo-0\\' class=\\'publicidade dfp\\' data-screenmap=\\'Horizontal_Max_N_T_100\\' data-target=\\'{\"formato\":\"htopo\",\"page_url\":\"politica.estadao.com.br,eleicoes,2020,candidatos\",\"pg_tipo\":\"eleicoes\",\"tags\":false}\\' data-status=\\'init\\' ></div></section> <section class=\"container editorial\" id=\"\"> <div class=\"row\"> <section class=\"col-md-8 col-sm-12 col-xs-12 content\"> <div class=\"row\"> <div class=\"col-xs-12\"> <div class=\"mold-busca\"> <h2 class=\"title-secundary uppercase cor-e\" title=\"Busque Seu Candidato\">Busque Seu Candidato</h2> <form action=\"/eleicoes/2020/busca\" method=\"get\" class=\"form-busca-candidatos\"> <div class=\"mold-content-busca \"> <div class=\"form-row\"> <div class=\"form-group col input-uf\"> <div class=\"custom-select \"> <select id=\"sel-est-candidatos\" name=\"sigla_uf\" class=\"form-control\"> <option value=\"\">UF</option> <option value=\"ac\" >AC</option> <option value=\"al\" >AL</option> <option value=\"ap\" >AP</option> <option value=\"am\" >AM</option> <option value=\"ba\" >BA</option> <option value=\"ce\" >CE</option> <option value=\"es\" >ES</option> <option value=\"go\" >GO</option> <option value=\"ma\" >MA</option> <option value=\"mt\" >MT</option> <option value=\"ms\" >MS</option> <option value=\"mg\" >MG</option> <option value=\"pa\" >PA</option> <option value=\"pb\" >PB</option> <option value=\"pr\" >PR</option> <option value=\"pe\" >PE</option> <option value=\"pi\" >PI</option> <option value=\"rj\" >RJ</option> <option value=\"rn\" >RN</option> <option value=\"rs\" >RS</option> <option value=\"ro\" >RO</option> <option value=\"rr\" >RR</option> <option value=\"sc\" >SC</option> <option value=\"sp\" >SP</option> <option value=\"se\" >SE</option> <option value=\"to\" >TO</option> </select> </div> </div> <div class=\"form-group col input-cidades\"> <div class=\"mold-autocomplete-select\"> <div class=\"autocomplete-select \"> <div class=\"autocomplete\"> <input type=\"text\" autocomplete=\"off\" class=\"autocomplete-input uppercase\" name=\"municipio_search\" placeholder=\"Cidade\" value=\"\" disabled> <div class=\"autocomplete-list\"> <ul></ul> <img class=\"loading-autocomplete\" src=\"https://statics.estadao.com.br/s2016/portal/eleicoes2020/img/svg/loading-autocomplete.svg\" alt=\"Loading\" /> </div> </div> </div> </div> </div> <div class=\"form-group col input-busca \"> <input type=\"text\" name=\"search\" class=\"form-control\" placeholder=\"Nome ou n. do candidato\" data-js=\"input-search\" value=\"\"> </div> </div> <div class=\"busca-body\"> <div class=\"form-row\"> <div class=\"form-group col input-partido\"> <div class=\"custom-dropdown \"> <div class=\"form-control\" data-js=\"custom-dropdown\"> <span class=\"item-label\">Partido</span> <span class=\"item-valor\"></span> </div> <ul class=\"custom-dropdown-menu\" role=\"menu\"> <li role=\"presentation\"> <label class=\"list-checked\"> <input class=\"input\" type=\"checkbox\" name=\"sigla_partido[]\" value=\"AVANTE\" > <div class=\"item\"><span>Avante</span></div> </label> </li> <li role=\"presentation\"> <label class=\"list-checked\"> <input class=\"input\" type=\"checkbox\" name=\"sigla_partido[]\" value=\"CIDADANIA\" > <div class=\"item\"><span>Cidadania</span></div> </label> </li> <li role=\"presentation\"> <label class=\"list-checked\"> <input class=\"input\" type=\"checkbox\" name=\"sigla_partido[]\" value=\"DC\" > <div class=\"item\"><span>dc</span></div> </label> </li> <li role=\"presentation\"> <label class=\"list-checked\"> <input class=\"input\" type=\"checkbox\" name=\"sigla_partido[]\" value=\"DEM\" > <div class=\"item\"><span>Dem</span></div> </label> </li> <li role=\"presentation\"> <label class=\"list-checked\"> <input class=\"input\" type=\"checkbox\" name=\"sigla_partido[]\" value=\"MDB\" > <div class=\"item\"><span>Mdb</span></div> </label> </li> <li role=\"presentation\"> <label class=\"list-checked\"> <input class=\"input\" type=\"checkbox\" name=\"sigla_partido[]\" value=\"NOVO\" > <div class=\"item\"><span>Novo</span></div> </label> </li> <li role=\"presentation\"> <label class=\"list-checked\"> <input class=\"input\" type=\"checkbox\" name=\"sigla_partido[]\" value=\"PATRIOTA\" > <div class=\"item\"><span>PATRIOTA</span></div> </label> </li> <li role=\"presentation\"> <label class=\"list-checked\"> <input class=\"input\" type=\"checkbox\" name=\"sigla_partido[]\" value=\"PC do B\" > <div class=\"item\"><span>PC do B</span></div> </label> </li> <li role=\"presentation\"> <label class=\"list-checked\"> <input class=\"input\" type=\"checkbox\" name=\"sigla_partido[]\" value=\"PCB\" > <div class=\"item\"><span>Pcb</span></div> </label> </li> <li role=\"presentation\"> <label class=\"list-checked\"> <input class=\"input\" type=\"checkbox\" name=\"sigla_partido[]\" value=\"PCO\" > <div class=\"item\"><span>Pco</span></div> </label> </li> <li role=\"presentation\"> <label class=\"list-checked\"> <input class=\"input\" type=\"checkbox\" name=\"sigla_partido[]\" value=\"PDT\" > <div class=\"item\"><span>Pdt</span></div> </label> </li> <li role=\"presentation\"> <label class=\"list-checked\"> <input class=\"input\" type=\"checkbox\" name=\"sigla_partido[]\" value=\"PL\" > <div class=\"item\"><span>Pl</span></div> </label> </li> <li role=\"presentation\"> <label class=\"list-checked\"> <input class=\"input\" type=\"checkbox\" name=\"sigla_partido[]\" value=\"PMB\" > <div class=\"item\"><span>Pmb</span></div> </label> </li> <li role=\"presentation\"> <label class=\"list-checked\"> <input class=\"input\" type=\"checkbox\" name=\"sigla_partido[]\" value=\"PMN\" > <div class=\"item\"><span>Pmn</span></div> </label> </li> <li role=\"presentation\"> <label class=\"list-checked\"> <input class=\"input\" type=\"checkbox\" name=\"sigla_partido[]\" value=\"PODE\" > <div class=\"item\"><span>Pode</span></div> </label> </li> <li role=\"presentation\"> <label class=\"list-checked\"> <input class=\"input\" type=\"checkbox\" name=\"sigla_partido[]\" value=\"PP\" > <div class=\"item\"><span>Pp</span></div> </label> </li> <li role=\"presentation\"> <label class=\"list-checked\"> <input class=\"input\" type=\"checkbox\" name=\"sigla_partido[]\" value=\"PROS\" > <div class=\"item\"><span>Pros</span></div> </label> </li> <li role=\"presentation\"> <label class=\"list-checked\"> <input class=\"input\" type=\"checkbox\" name=\"sigla_partido[]\" value=\"PRTB\" > <div class=\"item\"><span>Prtb</span></div> </label> </li> <li role=\"presentation\"> <label class=\"list-checked\"> <input class=\"input\" type=\"checkbox\" name=\"sigla_partido[]\" value=\"PSC\" > <div class=\"item\"><span>Psc</span></div> </label> </li> <li role=\"presentation\"> <label class=\"list-checked\"> <input class=\"input\" type=\"checkbox\" name=\"sigla_partido[]\" value=\"PSD\" > <div class=\"item\"><span>Psd</span></div> </label> </li> <li role=\"presentation\"> <label class=\"list-checked\"> <input class=\"input\" type=\"checkbox\" name=\"sigla_partido[]\" value=\"PSDB\" > <div class=\"item\"><span>Psdb</span></div> </label> </li> <li role=\"presentation\"> <label class=\"list-checked\"> <input class=\"input\" type=\"checkbox\" name=\"sigla_partido[]\" value=\"PSL\" > <div class=\"item\"><span>Psl</span></div> </label> </li> <li role=\"presentation\"> <label class=\"list-checked\"> <input class=\"input\" type=\"checkbox\" name=\"sigla_partido[]\" value=\"PSOL\" > <div class=\"item\"><span>Psol</span></div> </label> </li> <li role=\"presentation\"> <label class=\"list-checked\"> <input class=\"input\" type=\"checkbox\" name=\"sigla_partido[]\" value=\"PSTU\" > <div class=\"item\"><span>Pstu</span></div> </label> </li> <li role=\"presentation\"> <label class=\"list-checked\"> <input class=\"input\" type=\"checkbox\" name=\"sigla_partido[]\" value=\"PT\" > <div class=\"item\"><span>Pt</span></div> </label> </li> <li role=\"presentation\"> <label class=\"list-checked\"> <input class=\"input\" type=\"checkbox\" name=\"sigla_partido[]\" value=\"PTB\" > <div class=\"item\"><span>Ptb</span></div> </label> </li> <li role=\"presentation\"> <label class=\"list-checked\"> <input class=\"input\" type=\"checkbox\" name=\"sigla_partido[]\" value=\"PTC\" > <div class=\"item\"><span>Ptc</span></div> </label> </li> <li role=\"presentation\"> <label class=\"list-checked\"> <input class=\"input\" type=\"checkbox\" name=\"sigla_partido[]\" value=\"PV\" > <div class=\"item\"><span>Pv</span></div> </label> </li> <li role=\"presentation\"> <label class=\"list-checked\"> <input class=\"input\" type=\"checkbox\" name=\"sigla_partido[]\" value=\"REDE\" > <div class=\"item\"><span>Rede</span></div> </label> </li> <li role=\"presentation\"> <label class=\"list-checked\"> <input class=\"input\" type=\"checkbox\" name=\"sigla_partido[]\" value=\"REPUBLICANOS\" > <div class=\"item\"><span>Republicanos</span></div> </label> </li> <li role=\"presentation\"> <label class=\"list-checked\"> <input class=\"input\" type=\"checkbox\" name=\"sigla_partido[]\" value=\"SOLIDARIEDADE\" > <div class=\"item\"><span>Solidariedade</span></div> </label> </li> <li role=\"presentation\"> <label class=\"list-checked\"> <input class=\"input\" type=\"checkbox\" name=\"sigla_partido[]\" value=\"UP\" > <div class=\"item\"><span>Up</span></div> </label> </li> </ul> </div> </div> <div class=\"form-group col input-cargo\"> <div class=\"custom-dropdown \"> <div class=\"form-control\" data-js=\"custom-dropdown\"> <span class=\"item-label\">Cargo</span> <span class=\"item-valor\"></span> </div> <ul class=\"custom-dropdown-menu\" role=\"menu\"> <li role=\"presentation\"> <label class=\"list-checked\"> <input class=\"input\" type=\"checkbox\" name=\"descricao_cargo[]\" value=\"PREFEITO\" > <div class=\"item\"><span>Prefeito/a</span></div> </label> </li> <li role=\"presentation\"> <label class=\"list-checked\"> <input class=\"input\" type=\"checkbox\" name=\"descricao_cargo[]\" value=\"VICE-PREFEITO\" > <div class=\"item\"><span>Vice-Prefeito/a</span></div> </label> </li> <li role=\"presentation\"> <label class=\"list-checked\"> <input class=\"input\" type=\"checkbox\" name=\"descricao_cargo[]\" value=\"VEREADOR\" > <div class=\"item\"><span>Vereador/a</span></div> </label> </li> </ul> </div> </div> <div class=\"form-group col input-idade\"> <div class=\"custom-dropdown \"> <div class=\"form-control\" data-js=\"custom-dropdown\"> <span class=\"item-label\">Idade</span> <span class=\"item-valor\"></span> </div> <ul class=\"custom-dropdown-menu\" role=\"menu\"> <li role=\"presentation\"> <div class=\"form-group\"> <label for=\"label-control\" class=\"label-control\">De</label> <input type=\"text\" class=\"form-control\" name=\"idade_data_eleicao_min\" value=\"\" data-js=\"idade-field\"> </div> <div class=\"form-group\"> <label for=\"label-control\" class=\"label-control\">Até</label> <input type=\"text\" class=\"form-control\" name=\"idade_data_eleicao_max\" value=\"\" data-js=\"idade-field\"> </div> <button type=\"submit\" class=\"bt -bg-fill\" data-js=\"filtrar-range\" disabled=\"disabled\">Filtrar</button> </li> </ul> </div> </div> <div class=\"form-group col input-grau\"> <div class=\"custom-dropdown \"> <div class=\"form-control\" data-js=\"custom-dropdown\"> <span class=\"item-label\">Grau de Instrução</span> <span class=\"item-valor\"></span> </div> <ul class=\"custom-dropdown-menu\" role=\"menu\"> <li role=\"presentation\"> <label class=\"list-checked\"> <input class=\"input\" type=\"checkbox\" name=\"descricao_grau_instrucao[]\" value=\"SUPERIOR COMPLETO\" > <div class=\"item\"><span>Ensino Superior Completo</span></div> </label> </li> <li role=\"presentation\"> <label class=\"list-checked\"> <input class=\"input\" type=\"checkbox\" name=\"descricao_grau_instrucao[]\" value=\"SUPERIOR INCOMPLETO\" > <div class=\"item\"><span>Ensino Superior Incompleto</span></div> </label> </li> <li role=\"presentation\"> <label class=\"list-checked\"> <input class=\"input\" type=\"checkbox\" name=\"descricao_grau_instrucao[]\" value=\"ENSINO MÉDIO COMPLETO\" > <div class=\"item\"><span>Ensino Médio Completo</span></div> </label> </li> <li role=\"presentation\"> <label class=\"list-checked\"> <input class=\"input\" type=\"checkbox\" name=\"descricao_grau_instrucao[]\" value=\"ENSINO MÉDIO INCOMPLETO\" > <div class=\"item\"><span>Ensino Médio Incompleto</span></div> </label> </li> <li role=\"presentation\"> <label class=\"list-checked\"> <input class=\"input\" type=\"checkbox\" name=\"descricao_grau_instrucao[]\" value=\"ENSINO FUNDAMENTAL COMPLETO\" > <div class=\"item\"><span>Ensino Fundamental Completo</span></div> </label> </li> <li role=\"presentation\"> <label class=\"list-checked\"> <input class=\"input\" type=\"checkbox\" name=\"descricao_grau_instrucao[]\" value=\"ENSINO FUNDAMENTAL INCOMPLETO\" > <div class=\"item\"><span>Ensino Fundamental Incompleto</span></div> </label> </li> <li role=\"presentation\"> <label class=\"list-checked\"> <input class=\"input\" type=\"checkbox\" name=\"descricao_grau_instrucao[]\" value=\"LÊ E ESCREVE\" > <div class=\"item\"><span>Lê e Escreve</span></div> </label> </li> <li role=\"presentation\"> <label class=\"list-checked\"> <input class=\"input\" type=\"checkbox\" name=\"descricao_grau_instrucao[]\" value=\"ANALFABETO\" > <div class=\"item\"><span>Analfabeto</span></div> </label> </li> </ul> </div> </div> <div class=\"form-group col input-estado-civil\"> <div class=\"custom-dropdown \"> <div class=\"form-control\" data-js=\"custom-dropdown\"> <span class=\"item-label\">Estado Civil</span> <span class=\"item-valor\"></span> </div> <ul class=\"custom-dropdown-menu\" role=\"menu\"> <li role=\"presentation\"> <label class=\"list-checked\"> <input class=\"input\" type=\"checkbox\" name=\"descricao_estado_civil[]\" value=\"casado\" > <div class=\"item\"><span>Casado/a</span></div> </label> </li> <li role=\"presentation\"> <label class=\"list-checked\"> <input class=\"input\" type=\"checkbox\" name=\"descricao_estado_civil[]\" value=\"solteiro\" > <div class=\"item\"><span>Solteiro/a</span></div> </label> </li> <li role=\"presentation\"> <label class=\"list-checked\"> <input class=\"input\" type=\"checkbox\" name=\"descricao_estado_civil[]\" value=\"divorciado\" > <div class=\"item\"><span>Divorciado/a</span></div> </label> </li> <li role=\"presentation\"> <label class=\"list-checked\"> <input class=\"input\" type=\"checkbox\" name=\"descricao_estado_civil[]\" value=\"separado\" > <div class=\"item\"><span>Separado/a Judicialmente</span></div> </label> </li> <li role=\"presentation\"> <label class=\"list-checked\"> <input class=\"input\" type=\"checkbox\" name=\"descricao_estado_civil[]\" value=\"viúvo\" > <div class=\"item\"><span>Viúvo/a</span></div> </label> </li> </ul> </div> </div> <div class=\"form-group col input-genero\"> <div class=\"custom-dropdown \"> <div class=\"form-control\" data-js=\"custom-dropdown\"> <span class=\"item-label\">Gênero</span> <span class=\"item-valor\"></span> </div> <ul class=\"custom-dropdown-menu\" role=\"menu\"> <li role=\"presentation\"> <label class=\"list-checked\"> <input class=\"input\" type=\"checkbox\" name=\"descricao_sexo[]\" value=\"masculino\" > <div class=\"item\"><span>Masculino</span></div> </label> </li> <li role=\"presentation\"> <label class=\"list-checked\"> <input class=\"input\" type=\"checkbox\" name=\"descricao_sexo[]\" value=\"feminino\" > <div class=\"item\"><span>Feminino</span></div> </label> </li> </ul> </div> </div> <div class=\"form-group col input-etnia\"> <div class=\"custom-dropdown \"> <div class=\"form-control\" data-js=\"custom-dropdown\"> <span class=\"item-label\">Cor/raça</span> <span class=\"item-valor\"></span> </div> <ul class=\"custom-dropdown-menu\" role=\"menu\"> <li role=\"presentation\"> <label class=\"list-checked\"> <input class=\"input\" type=\"checkbox\" name=\"descricao_cor_raca[]\" value=\"amarela\" > <div class=\"item\"><span>Amarelo</span></div> </label> </li> <li role=\"presentation\"> <label class=\"list-checked\"> <input class=\"input\" type=\"checkbox\" name=\"descricao_cor_raca[]\" value=\"branca\" > <div class=\"item\"><span>Branco</span></div> </label> </li> <li role=\"presentation\"> <label class=\"list-checked\"> <input class=\"input\" type=\"checkbox\" name=\"descricao_cor_raca[]\" value=\"indígena\" > <div class=\"item\"><span>Indígena</span></div> </label> </li> <li role=\"presentation\"> <label class=\"list-checked\"> <input class=\"input\" type=\"checkbox\" name=\"descricao_cor_raca[]\" value=\"preta\" > <div class=\"item\"><span>Parda</span></div> </label> </li> <li role=\"presentation\"> <label class=\"list-checked\"> <input class=\"input\" type=\"checkbox\" name=\"descricao_cor_raca[]\" value=\"preta\" > <div class=\"item\"><span>Preta</span></div> </label> </li> <li role=\"presentation\"> <label class=\"list-checked\"> <input class=\"input\" type=\"checkbox\" name=\"descricao_cor_raca[]\" value=\"sem\" > <div class=\"item\"><span>Sem informação</span></div> </label> </li> </ul> </div> </div> <div class=\"form-group col input-despesas\"> <div class=\"custom-dropdown \"> <div class=\"form-control\" data-js=\"custom-dropdown\"> <span class=\"item-label\">Despesas</span> </div> <ul class=\"custom-dropdown-menu\" role=\"menu\"> <li role=\"presentation\"> <div class=\"form-group\"> <label for=\"label-control\" class=\"label-control\">De</label> <input type=\"text\" class=\"form-control\" name=\"despesa_min_campanha\" data-js=\"dolar-field\" placeholder=\"R$\" value=\"\"> </div> <div class=\"form-group\"> <label for=\"label-control\" class=\"label-control\">Até</label> <input type=\"text\" class=\"form-control\" name=\"despesa_max_campanha\" data-js=\"dolar-field\" placeholder=\"R$\" value=\"\"> </div> <button type=\"submit\" class=\"bt -bg-fill\" data-js=\"filtrar-range\" disabled=\"disabled\">Filtrar</button> </li> </ul> </div> </div> <div class=\"form-group col input-situacao\"> <div class=\"custom-dropdown \"> <div class=\"form-control\" data-js=\"custom-dropdown\"> <span class=\"item-label\">Situação da candidatura</span> <span class=\"item-valor\"></span> </div> <ul class=\"custom-dropdown-menu\" role=\"menu\"> <li role=\"presentation\"> <label class=\"list-checked\"> <input class=\"input\" type=\"checkbox\" name=\"cod_situacao_candidatura[]\" value=\"1\" > <div class=\"item\"><span>Cadastrado</span></div> </label> </li> <li role=\"presentation\"> <label class=\"list-checked\"> <input class=\"input\" type=\"checkbox\" name=\"cod_situacao_candidatura[]\" value=\"12\" > <div class=\"item\"><span>Apto</span></div> </label> </li> <li role=\"presentation\"> <label class=\"list-checked\"> <input class=\"input\" type=\"checkbox\" name=\"cod_situacao_candidatura[]\" value=\"3\" > <div class=\"item\"><span>Inapto</span></div> </label> </li> </ul> </div> </div> </div> </div> <div class=\"busca-bottom\"> <div class=\"form-row\"> <div class=\"form-group col input-button-mais\"> <a href=\"#\" class=\"bt -blue-full\" title=\"Mais\" data-js=\"button-mais\"> <i class=\"ico-arrow-down\"></i> </a> </div> <div class=\"form-group col input-button-buscar\"> <input type=\"submit\" class=\"bt -bg-fill\" value=\"Buscar\" data-js=\"button-buscar\" disabled=\"disabled\"> </div> </div> </div> </div> </form> </div></div><div class=\"col-xs-12\"> <div class=\"container-candidatos\"> <div class=\"mold-title\"> <h2 class=\"chapeu title-primary -black\" title=\"S&atilde;o Paulo - SP\"> <a href=\"https://politica.estadao.com.br/eleicoes/2020/candidatos/sp/sao-paulo\">S&atilde;o Paulo - SP</a> </h2> </div> <div class=\"mold-title-share\"> <h2 class=\"chapeu cor-e title-secundary uppercase\" title=\"Candidatos a prefeito\"> <a href=\"https://politica.estadao.com.br/eleicoes/2020/candidatos/sp/sao-paulo/prefeito\">Candidatos a prefeito</a> </h2> <ul class=\"share \"> <li class=\"hidden\"> <a href=\"javascript:void(0);\" class=\"balloon comentarios-balaozinho\" data-ancora=\\'noticia_1\\' title=\"Comentários\"> </a> </li> <li class=\"whatsapp \"> <a href=\"https://wa.me/?text=Candidatos+a+prefeito+de+S%C3%A3o+Paulo+-+SP%20Estad%C3%A3o%3A%20https://politica.estadao.com.br/eleicoes/2020/candidatos/sp/sao-paulo/prefeito%3Futm_source%3Destadao%3Awhatsapp%26utm_medium%3Dlink\" class=\"ico-whatsapp\" title=\"Compartilhe pelo WhatsApp\" target=\"_blank\">&nbsp;</a> </li> <li class=\"facebook \"> <a href=\"https://www.facebook.com/sharer/sharer.php?u=https://politica.estadao.com.br/eleicoes/2020/candidatos/sp/sao-paulo/prefeito%3Futm_source%3Destadao%3Afacebook%26utm_medium%3Dlink\" target=\"_blank\" class=\"ico-facebook\" title=\"Compartilhe pelo Facebook\" >&nbsp;</a> </li> <li class=\"twitter \"> <a href=\"https://twitter.com/intent/tweet?text=Candidatos a prefeito de São Paulo - SP%20@estadao%3A%20&amp;url=https://politica.estadao.com.br/eleicoes/2020/candidatos/sp/sao-paulo/prefeito%3Futm_source%3Destadao%3Atwitter%26utm_medium%3Dlink\" target=\"_blank\" class=\"ico-twitter\" title=\"Compartilhe pelo Twitter\" >&nbsp;</a> </li> <li class=\"other \"> <a href=\"javascript:void(0);\" class=\"ico-dots-three-horizontal \" title=\"Mais compartilhamentos\" data-href=\"https://politica.estadao.com.br/eleicoes/2020/candidatos/sp/sao-paulo/prefeito\" data-title=\"Candidatos a prefeito de São Paulo - SP\">&nbsp;</a> <div class=\"share-more\" > <div class=\"share-total\" data-url=\"https://politica.estadao.com.br/eleicoes/2020/candidatos/sp/sao-paulo/prefeito\"></div> <ul> <li class=\"twitter\"> <a href=\"https://twitter.com/intent/tweet?text=Candidatos a prefeito de São Paulo - SP%20@estadao%3A%20&amp;url=https://politica.estadao.com.br/eleicoes/2020/candidatos/sp/sao-paulo/prefeito%3Futm_source%3Destadao%3Atwitter%26utm_medium%3Dlink\" target=\"_blank\" class=\"ico-twitter\" > <span>twitter</span> </a> </li> <li class=\"linkedin\"> <a href=\"https://www.linkedin.com/cws/share?url=https://politica.estadao.com.br/eleicoes/2020/candidatos/sp/sao-paulo/prefeito%3Futm_source%3Destadao%3Alinkedin%26utm_medium%3Dlink\" target=\"_blank\" class=\"ico-linkedin\" > <span>linkedin</span> </a> </li> <li class=\"email\"> <a href=\"mailto:?subject=Candidatos a prefeito de São Paulo - SP&amp;body=Candidatos a prefeito de São Paulo - SP - https://politica.estadao.com.br/eleicoes/2020/candidatos/sp/sao-paulo/prefeito%3Futm_source%3Destadao%3Amail%26utm_medium%3Dlink\" class=\"ico-envelope-o\" > <span>e-mail</span> </a> </li> <li class=\"print\"> <a href=\"javascript:window.print();\" class=\"ico-printer-text\" > <span>imprimir</span> </a> </li> </ul> </div> </li></ul> </div> <div class=\"mold-candidatos\"> <div class=\"list-candidatos\"> <div class=\"row\"> <div class=\"col-xs-12 -only\"> <a href=\"https://politica.estadao.com.br/eleicoes/2020/candidatos/sp/sao-paulo/prefeito/andrea-matarazzo,55\" title=\"andrea matarazzo\"> <div class=\"mold-cand \"> <div class=\"cand-mask\"> <img class=\"elazy\" onerror=this.onerror=null;this.src=&#039;https://statics.estadao.com.br/s2016/portal/eleicoes2020/img/img_placeholder.png&#039;; data-src=\"https://img.estadao.com.br/fotos/politica/eleicoes-2020/SP/FSP250000661535_div.jpg\" alt=\"andrea matarazzo\"/> </div> <div class=\"cand-desc\"> <h3 class=\"cand-name\">andrea matarazzo</h3> <span class=\"cand-partido\">PSD</span> </div> </div> </a> </div> <div class=\"col-xs-12 -only\"> <a href=\"https://politica.estadao.com.br/eleicoes/2020/candidatos/sp/sao-paulo/prefeito/antonio-carlos,29\" title=\"ant&ocirc;nio carlos\"> <div class=\"mold-cand \"> <div class=\"cand-mask\"> <img class=\"elazy\" onerror=this.onerror=null;this.src=&#039;https://statics.estadao.com.br/s2016/portal/eleicoes2020/img/img_placeholder.png&#039;; data-src=\"https://img.estadao.com.br/fotos/politica/eleicoes-2020/SP/FSP250001172314_div.jpg\" alt=\"ant&ocirc;nio carlos\"/> </div> <div class=\"cand-desc\"> <h3 class=\"cand-name\">ant&ocirc;nio carlos</h3> <span class=\"cand-partido\">PCO</span> </div> </div> </a> </div> <div class=\"col-xs-12 -only\"> <a href=\"https://politica.estadao.com.br/eleicoes/2020/candidatos/sp/sao-paulo/prefeito/arthur-do-val-mamae-falei,51\" title=\"arthur do val mam&atilde;e falei\"> <div class=\"mold-cand \"> <div class=\"cand-mask\"> <img class=\"elazy\" onerror=this.onerror=null;this.src=&#039;https://statics.estadao.com.br/s2016/portal/eleicoes2020/img/img_placeholder.png&#039;; data-src=\"https://img.estadao.com.br/fotos/politica/eleicoes-2020/SP/FSP250000641390_div.jpg\" alt=\"arthur do val mam&atilde;e falei\"/> </div> <div class=\"cand-desc\"> <h3 class=\"cand-name\">arthur do val mam&atilde;e falei</h3> <span class=\"cand-partido\">PATRIOTA</span> </div> </div> </a> </div> <div class=\"col-xs-12 -only\"> <a href=\"https://politica.estadao.com.br/eleicoes/2020/candidatos/sp/sao-paulo/prefeito/bruno-covas,45\" title=\"bruno covas\"> <div class=\"mold-cand -type-eleito\"> <div class=\"cand-mask\"> <img class=\"elazy\" onerror=this.onerror=null;this.src=&#039;https://statics.estadao.com.br/s2016/portal/eleicoes2020/img/img_placeholder.png&#039;; data-src=\"https://img.estadao.com.br/fotos/politica/eleicoes-2020/SP/FSP250000896546_div.jpg\" alt=\"bruno covas\"/> </div> <div class=\"cand-desc\"> <h3 class=\"cand-name\">bruno covas</h3> <span class=\"cand-partido\">PSDB</span> </div> </div> </a> </div> <div class=\"col-xs-12 -only\"> <a href=\"https://politica.estadao.com.br/eleicoes/2020/candidatos/sp/sao-paulo/prefeito/celso-russomanno,10\" title=\"celso russomanno\"> <div class=\"mold-cand \"> <div class=\"cand-mask\"> <img class=\"elazy\" onerror=this.onerror=null;this.src=&#039;https://statics.estadao.com.br/s2016/portal/eleicoes2020/img/img_placeholder.png&#039;; data-src=\"https://img.estadao.com.br/fotos/politica/eleicoes-2020/SP/FSP250001094597_div.jpg\" alt=\"celso russomanno\"/> </div> <div class=\"cand-desc\"> <h3 class=\"cand-name\">celso russomanno</h3> <span class=\"cand-partido\">REPUBLICANOS</span> </div> </div> </a> </div> <div class=\"col-xs-12 -only\"> <a href=\"https://politica.estadao.com.br/eleicoes/2020/candidatos/sp/sao-paulo/prefeito/guilherme-boulos,50\" title=\"guilherme boulos\"> <div class=\"mold-cand \"> <div class=\"cand-mask\"> <img class=\"elazy\" onerror=this.onerror=null;this.src=&#039;https://statics.estadao.com.br/s2016/portal/eleicoes2020/img/img_placeholder.png&#039;; data-src=\"https://img.estadao.com.br/fotos/politica/eleicoes-2020/SP/FSP250000746936_div.jpg\" alt=\"guilherme boulos\"/> </div> <div class=\"cand-desc\"> <h3 class=\"cand-name\">guilherme boulos</h3> <span class=\"cand-partido\">PSOL</span> </div> </div> </a> </div> <div class=\"col-xs-12 -only\"> <a href=\"https://politica.estadao.com.br/eleicoes/2020/candidatos/sp/sao-paulo/prefeito/jilmar-tatto,13\" title=\"jilmar tatto\"> <div class=\"mold-cand \"> <div class=\"cand-mask\"> <img class=\"elazy\" onerror=this.onerror=null;this.src=&#039;https://statics.estadao.com.br/s2016/portal/eleicoes2020/img/img_placeholder.png&#039;; data-src=\"https://img.estadao.com.br/fotos/politica/eleicoes-2020/SP/FSP250000755896_div.jpg\" alt=\"jilmar tatto\"/> </div> <div class=\"cand-desc\"> <h3 class=\"cand-name\">jilmar tatto</h3> <span class=\"cand-partido\">PT</span> </div> </div> </a> </div> <div class=\"col-xs-12 -only\"> <a href=\"https://politica.estadao.com.br/eleicoes/2020/candidatos/sp/sao-paulo/prefeito/joice-hasselmann,17\" title=\"joice hasselmann\"> <div class=\"mold-cand \"> <div class=\"cand-mask\"> <img class=\"elazy\" onerror=this.onerror=null;this.src=&#039;https://statics.estadao.com.br/s2016/portal/eleicoes2020/img/img_placeholder.png&#039;; data-src=\"https://img.estadao.com.br/fotos/politica/eleicoes-2020/SP/FSP250000658458_div.jpg\" alt=\"joice hasselmann\"/> </div> <div class=\"cand-desc\"> <h3 class=\"cand-name\">joice hasselmann</h3> <span class=\"cand-partido\">PSL</span> </div> </div> </a> </div> <div class=\"col-xs-12 -only\"> <a href=\"https://politica.estadao.com.br/eleicoes/2020/candidatos/sp/sao-paulo/prefeito/levy-fidelix,28\" title=\"levy fidelix\"> <div class=\"mold-cand \"> <div class=\"cand-mask\"> <img class=\"elazy\" onerror=this.onerror=null;this.src=&#039;https://statics.estadao.com.br/s2016/portal/eleicoes2020/img/img_placeholder.png&#039;; data-src=\"https://img.estadao.com.br/fotos/politica/eleicoes-2020/SP/FSP250001013564_div.jpg\" alt=\"levy fidelix\"/> </div> <div class=\"cand-desc\"> <h3 class=\"cand-name\">levy fidelix</h3> <span class=\"cand-partido\">PRTB</span> </div> </div> </a> </div> <div class=\"col-xs-12 -only\"> <a href=\"https://politica.estadao.com.br/eleicoes/2020/candidatos/sp/sao-paulo/prefeito/marina-helou,18\" title=\"marina helou\"> <div class=\"mold-cand \"> <div class=\"cand-mask\"> <img class=\"elazy\" onerror=this.onerror=null;this.src=&#039;https://statics.estadao.com.br/s2016/portal/eleicoes2020/img/img_placeholder.png&#039;; data-src=\"https://img.estadao.com.br/fotos/politica/eleicoes-2020/SP/FSP250001152470_div.jpg\" alt=\"marina helou\"/> </div> <div class=\"cand-desc\"> <h3 class=\"cand-name\">marina helou</h3> <span class=\"cand-partido\">REDE</span> </div> </div> </a> </div> <div class=\"col-xs-12 -only\"> <a href=\"https://politica.estadao.com.br/eleicoes/2020/candidatos/sp/sao-paulo/prefeito/marcio-franca,40\" title=\"m&aacute;rcio fran&ccedil;a\"> <div class=\"mold-cand \"> <div class=\"cand-mask\"> <img class=\"elazy\" onerror=this.onerror=null;this.src=&#039;https://statics.estadao.com.br/s2016/portal/eleicoes2020/img/img_placeholder.png&#039;; data-src=\"https://img.estadao.com.br/fotos/politica/eleicoes-2020/SP/FSP250001012981_div.jpg\" alt=\"m&aacute;rcio fran&ccedil;a\"/> </div> <div class=\"cand-desc\"> <h3 class=\"cand-name\">m&aacute;rcio fran&ccedil;a</h3> <span class=\"cand-partido\">PSB</span> </div> </div> </a> </div> <div class=\"col-xs-12 -only\"> <a href=\"https://politica.estadao.com.br/eleicoes/2020/candidatos/sp/sao-paulo/prefeito/orlando-silva,65\" title=\"orlando silva\"> <div class=\"mold-cand \"> <div class=\"cand-mask\"> <img class=\"elazy\" onerror=this.onerror=null;this.src=&#039;https://statics.estadao.com.br/s2016/portal/eleicoes2020/img/img_placeholder.png&#039;; data-src=\"https://img.estadao.com.br/fotos/politica/eleicoes-2020/SP/FSP250000766422_div.jpg\" alt=\"orlando silva\"/> </div> <div class=\"cand-desc\"> <h3 class=\"cand-name\">orlando silva</h3> <span class=\"cand-partido\">PC do B</span> </div> </div> </a> </div> <div class=\"col-xs-12 -only\"> <a href=\"https://politica.estadao.com.br/eleicoes/2020/candidatos/sp/sao-paulo/prefeito/sabara,30\" title=\"sabar&aacute;\"> <div class=\"mold-cand \"> <div class=\"cand-mask\"> <img class=\"elazy\" onerror=this.onerror=null;this.src=&#039;https://statics.estadao.com.br/s2016/portal/eleicoes2020/img/img_placeholder.png&#039;; data-src=\"https://img.estadao.com.br/fotos/politica/eleicoes-2020/SP/FSP250000693062_div.jpg\" alt=\"sabar&aacute;\"/> </div> <div class=\"cand-desc\"> <h3 class=\"cand-name\">sabar&aacute;</h3> <span class=\"cand-partido\">NOVO</span> </div> </div> </a> </div> <div class=\"col-xs-12 -only\"> <a href=\"https://politica.estadao.com.br/eleicoes/2020/candidatos/sp/sao-paulo/prefeito/vera,16\" title=\"vera\"> <div class=\"mold-cand \"> <div class=\"cand-mask\"> <img class=\"elazy\" onerror=this.onerror=null;this.src=&#039;https://statics.estadao.com.br/s2016/portal/eleicoes2020/img/img_placeholder.png&#039;; data-src=\"https://img.estadao.com.br/fotos/politica/eleicoes-2020/SP/FSP250000744464_div.jpg\" alt=\"vera\"/> </div> <div class=\"cand-desc\"> <h3 class=\"cand-name\">vera</h3> <span class=\"cand-partido\">PSTU</span> </div> </div> </a> </div> </div></div> <div class=\"row-link-arrow\"> <a class=\"link-arrow cor-e uppercase\" href=\"https://politica.estadao.com.br/eleicoes/2020/candidatos/sp/sao-paulo/vereador\"> <span>Veja os candidatos a vereador</span> <i class=\"ico-arrow-right\"></i> </a> </div> </div> </div></div><div class=\"col-xs-12\"> <div class=\"container-candidatos\"> <div class=\"mold-title\"> <h2 class=\"chapeu title-primary -black\" title=\"Rio de Janeiro - RJ\"> <a href=\"https://politica.estadao.com.br/eleicoes/2020/candidatos/rj/rio-de-janeiro\">Rio de Janeiro - RJ</a> </h2> </div> <div class=\"mold-title-share\"> <h2 class=\"chapeu cor-e title-secundary uppercase\" title=\"Candidatos a prefeito\"> <a href=\"https://politica.estadao.com.br/eleicoes/2020/candidatos/rj/rio-de-janeiro/prefeito\">Candidatos a prefeito</a> </h2> <ul class=\"share \"> <li class=\"hidden\"> <a href=\"javascript:void(0);\" class=\"balloon comentarios-balaozinho\" data-ancora=\\'noticia_1\\' title=\"Comentários\"> </a> </li> <li class=\"whatsapp \"> <a href=\"https://wa.me/?text=Candidatos+a+prefeito+de+Rio+de+Janeiro+-+RJ%20Estad%C3%A3o%3A%20https://politica.estadao.com.br/eleicoes/2020/candidatos/rj/rio-de-janeiro/prefeito%3Futm_source%3Destadao%3Awhatsapp%26utm_medium%3Dlink\" class=\"ico-whatsapp\" title=\"Compartilhe pelo WhatsApp\" target=\"_blank\">&nbsp;</a> </li> <li class=\"facebook \"> <a href=\"https://www.facebook.com/sharer/sharer.php?u=https://politica.estadao.com.br/eleicoes/2020/candidatos/rj/rio-de-janeiro/prefeito%3Futm_source%3Destadao%3Afacebook%26utm_medium%3Dlink\" target=\"_blank\" class=\"ico-facebook\" title=\"Compartilhe pelo Facebook\" >&nbsp;</a> </li> <li class=\"twitter \"> <a href=\"https://twitter.com/intent/tweet?text=Candidatos a prefeito de Rio de Janeiro - RJ%20@estadao%3A%20&amp;url=https://politica.estadao.com.br/eleicoes/2020/candidatos/rj/rio-de-janeiro/prefeito%3Futm_source%3Destadao%3Atwitter%26utm_medium%3Dlink\" target=\"_blank\" class=\"ico-twitter\" title=\"Compartilhe pelo Twitter\" >&nbsp;</a> </li> <li class=\"other \"> <a href=\"javascript:void(0);\" class=\"ico-dots-three-horizontal \" title=\"Mais compartilhamentos\" data-href=\"https://politica.estadao.com.br/eleicoes/2020/candidatos/rj/rio-de-janeiro/prefeito\" data-title=\"Candidatos a prefeito de Rio de Janeiro - RJ\">&nbsp;</a> <div class=\"share-more\" > <div class=\"share-total\" data-url=\"https://politica.estadao.com.br/eleicoes/2020/candidatos/rj/rio-de-janeiro/prefeito\"></div> <ul> <li class=\"twitter\"> <a href=\"https://twitter.com/intent/tweet?text=Candidatos a prefeito de Rio de Janeiro - RJ%20@estadao%3A%20&amp;url=https://politica.estadao.com.br/eleicoes/2020/candidatos/rj/rio-de-janeiro/prefeito%3Futm_source%3Destadao%3Atwitter%26utm_medium%3Dlink\" target=\"_blank\" class=\"ico-twitter\" > <span>twitter</span> </a> </li> <li class=\"linkedin\"> <a href=\"https://www.linkedin.com/cws/share?url=https://politica.estadao.com.br/eleicoes/2020/candidatos/rj/rio-de-janeiro/prefeito%3Futm_source%3Destadao%3Alinkedin%26utm_medium%3Dlink\" target=\"_blank\" class=\"ico-linkedin\" > <span>linkedin</span> </a> </li> <li class=\"email\"> <a href=\"mailto:?subject=Candidatos a prefeito de Rio de Janeiro - RJ&amp;body=Candidatos a prefeito de Rio de Janeiro - RJ - https://politica.estadao.com.br/eleicoes/2020/candidatos/rj/rio-de-janeiro/prefeito%3Futm_source%3Destadao%3Amail%26utm_medium%3Dlink\" class=\"ico-envelope-o\" > <span>e-mail</span> </a> </li> <li class=\"print\"> <a href=\"javascript:window.print();\" class=\"ico-printer-text\" > <span>imprimir</span> </a> </li> </ul> </div> </li></ul> </div> <div class=\"mold-candidatos\"> <div class=\"list-candidatos\"> <div class=\"row\"> <div class=\"col-xs-12 -only\"> <a href=\"https://politica.estadao.com.br/eleicoes/2020/candidatos/rj/rio-de-janeiro/prefeito/bandeira-de-mello,18\" title=\"bandeira de mello\"> <div class=\"mold-cand \"> <div class=\"cand-mask\"> <img class=\"elazy\" onerror=this.onerror=null;this.src=&#039;https://statics.estadao.com.br/s2016/portal/eleicoes2020/img/img_placeholder.png&#039;; data-src=\"https://img.estadao.com.br/fotos/politica/eleicoes-2020/RJ/FRJ190001156278_div.jpg\" alt=\"bandeira de mello\"/> </div> <div class=\"cand-desc\"> <h3 class=\"cand-name\">bandeira de mello</h3> <span class=\"cand-partido\">REDE</span> </div> </div> </a> </div> <div class=\"col-xs-12 -only\"> <a href=\"https://politica.estadao.com.br/eleicoes/2020/candidatos/rj/rio-de-janeiro/prefeito/benedita-da-silva,13\" title=\"benedita da silva\"> <div class=\"mold-cand \"> <div class=\"cand-mask\"> <img class=\"elazy\" onerror=this.onerror=null;this.src=&#039;https://statics.estadao.com.br/s2016/portal/eleicoes2020/img/img_placeholder.png&#039;; data-src=\"https://img.estadao.com.br/fotos/politica/eleicoes-2020/RJ/FRJ190000945336_div.jpg\" alt=\"benedita da silva\"/> </div> <div class=\"cand-desc\"> <h3 class=\"cand-name\">benedita da silva</h3> <span class=\"cand-partido\">PT</span> </div> </div> </a> </div> <div class=\"col-xs-12 -only\"> <a href=\"https://politica.estadao.com.br/eleicoes/2020/candidatos/rj/rio-de-janeiro/prefeito/clarissa-garotinho,90\" title=\"clarissa garotinho\"> <div class=\"mold-cand \"> <div class=\"cand-mask\"> <img class=\"elazy\" onerror=this.onerror=null;this.src=&#039;https://statics.estadao.com.br/s2016/portal/eleicoes2020/img/img_placeholder.png&#039;; data-src=\"https://img.estadao.com.br/fotos/politica/eleicoes-2020/RJ/FRJ190000688300_div.jpg\" alt=\"clarissa garotinho\"/> </div> <div class=\"cand-desc\"> <h3 class=\"cand-name\">clarissa garotinho</h3> <span class=\"cand-partido\">PROS</span> </div> </div> </a> </div> <div class=\"col-xs-12 -only\"> <a href=\"https://politica.estadao.com.br/eleicoes/2020/candidatos/rj/rio-de-janeiro/prefeito/crivella,10\" title=\"crivella\"> <div class=\"mold-cand \"> <div class=\"cand-mask\"> <img class=\"elazy\" onerror=this.onerror=null;this.src=&#039;https://statics.estadao.com.br/s2016/portal/eleicoes2020/img/img_placeholder.png&#039;; data-src=\"https://img.estadao.com.br/fotos/politica/eleicoes-2020/RJ/FRJ190000684240_div.jpg\" alt=\"crivella\"/> </div> <div class=\"cand-desc\"> <h3 class=\"cand-name\">crivella</h3> <span class=\"cand-partido\">REPUBLICANOS</span> </div> </div> </a> </div> <div class=\"col-xs-12 -only\"> <a href=\"https://politica.estadao.com.br/eleicoes/2020/candidatos/rj/rio-de-janeiro/prefeito/cyro-garcia,16\" title=\"cyro garcia\"> <div class=\"mold-cand \"> <div class=\"cand-mask\"> <img class=\"elazy\" onerror=this.onerror=null;this.src=&#039;https://statics.estadao.com.br/s2016/portal/eleicoes2020/img/img_placeholder.png&#039;; data-src=\"https://img.estadao.com.br/fotos/politica/eleicoes-2020/RJ/FRJ190000858699_div.jpg\" alt=\"cyro garcia\"/> </div> <div class=\"cand-desc\"> <h3 class=\"cand-name\">cyro garcia</h3> <span class=\"cand-partido\">PSTU</span> </div> </div> </a> </div> <div class=\"col-xs-12 -only\"> <a href=\"https://politica.estadao.com.br/eleicoes/2020/candidatos/rj/rio-de-janeiro/prefeito/delegada-martha-rocha,12\" title=\"delegada martha rocha\"> <div class=\"mold-cand \"> <div class=\"cand-mask\"> <img class=\"elazy\" onerror=this.onerror=null;this.src=&#039;https://statics.estadao.com.br/s2016/portal/eleicoes2020/img/img_placeholder.png&#039;; data-src=\"https://img.estadao.com.br/fotos/politica/eleicoes-2020/RJ/FRJ190000945200_div.jpg\" alt=\"delegada martha rocha\"/> </div> <div class=\"cand-desc\"> <h3 class=\"cand-name\">delegada martha rocha</h3> <span class=\"cand-partido\">PDT</span> </div> </div> </a> </div> <div class=\"col-xs-12 -only\"> <a href=\"https://politica.estadao.com.br/eleicoes/2020/candidatos/rj/rio-de-janeiro/prefeito/eduardo-paes,25\" title=\"eduardo paes\"> <div class=\"mold-cand -type-eleito\"> <div class=\"cand-mask\"> <img class=\"elazy\" onerror=this.onerror=null;this.src=&#039;https://statics.estadao.com.br/s2016/portal/eleicoes2020/img/img_placeholder.png&#039;; data-src=\"https://img.estadao.com.br/fotos/politica/eleicoes-2020/RJ/FRJ190000688286_div.jpg\" alt=\"eduardo paes\"/> </div> <div class=\"cand-desc\"> <h3 class=\"cand-name\">eduardo paes</h3> <span class=\"cand-partido\">DEM</span> </div> </div> </a> </div> <div class=\"col-xs-12 -only\"> <a href=\"https://politica.estadao.com.br/eleicoes/2020/candidatos/rj/rio-de-janeiro/prefeito/fred-luz,30\" title=\"fred luz\"> <div class=\"mold-cand \"> <div class=\"cand-mask\"> <img class=\"elazy\" onerror=this.onerror=null;this.src=&#039;https://statics.estadao.com.br/s2016/portal/eleicoes2020/img/img_placeholder.png&#039;; data-src=\"https://img.estadao.com.br/fotos/politica/eleicoes-2020/RJ/FRJ190000641672_div.jpg\" alt=\"fred luz\"/> </div> <div class=\"cand-desc\"> <h3 class=\"cand-name\">fred luz</h3> <span class=\"cand-partido\">NOVO</span> </div> </div> </a> </div> <div class=\"col-xs-12 -only\"> <a href=\"https://politica.estadao.com.br/eleicoes/2020/candidatos/rj/rio-de-janeiro/prefeito/gloria-heloiza,20\" title=\"gl&oacute;ria heloiza\"> <div class=\"mold-cand \"> <div class=\"cand-mask\"> <img class=\"elazy\" onerror=this.onerror=null;this.src=&#039;https://statics.estadao.com.br/s2016/portal/eleicoes2020/img/img_placeholder.png&#039;; data-src=\"https://img.estadao.com.br/fotos/politica/eleicoes-2020/RJ/FRJ190001005298_div.jpg\" alt=\"gl&oacute;ria heloiza\"/> </div> <div class=\"cand-desc\"> <h3 class=\"cand-name\">gl&oacute;ria heloiza</h3> <span class=\"cand-partido\">PSC</span> </div> </div> </a> </div> <div class=\"col-xs-12 -only\"> <a href=\"https://politica.estadao.com.br/eleicoes/2020/candidatos/rj/rio-de-janeiro/prefeito/henrique-simonard,29\" title=\"henrique simonard\"> <div class=\"mold-cand \"> <div class=\"cand-mask\"> <img class=\"elazy\" onerror=this.onerror=null;this.src=&#039;https://statics.estadao.com.br/s2016/portal/eleicoes2020/img/img_placeholder.png&#039;; data-src=\"https://img.estadao.com.br/fotos/politica/eleicoes-2020/RJ/FRJ190001091134_div.jpg\" alt=\"henrique simonard\"/> </div> <div class=\"cand-desc\"> <h3 class=\"cand-name\">henrique simonard</h3> <span class=\"cand-partido\">PCO</span> </div> </div> </a> </div> <div class=\"col-xs-12 -only\"> <a href=\"https://politica.estadao.com.br/eleicoes/2020/candidatos/rj/rio-de-janeiro/prefeito/luiz-lima,17\" title=\"luiz lima\"> <div class=\"mold-cand \"> <div class=\"cand-mask\"> <img class=\"elazy\" onerror=this.onerror=null;this.src=&#039;https://statics.estadao.com.br/s2016/portal/eleicoes2020/img/img_placeholder.png&#039;; data-src=\"https://img.estadao.com.br/fotos/politica/eleicoes-2020/RJ/FRJ190000885034_div.jpg\" alt=\"luiz lima\"/> </div> <div class=\"cand-desc\"> <h3 class=\"cand-name\">luiz lima</h3> <span class=\"cand-partido\">PSL</span> </div> </div> </a> </div> <div class=\"col-xs-12 -only\"> <a href=\"https://politica.estadao.com.br/eleicoes/2020/candidatos/rj/rio-de-janeiro/prefeito/paulo-messina,15\" title=\"paulo messina\"> <div class=\"mold-cand \"> <div class=\"cand-mask\"> <img class=\"elazy\" onerror=this.onerror=null;this.src=&#039;https://statics.estadao.com.br/s2016/portal/eleicoes2020/img/img_placeholder.png&#039;; data-src=\"https://img.estadao.com.br/fotos/politica/eleicoes-2020/RJ/FRJ190000988467_div.jpg\" alt=\"paulo messina\"/> </div> <div class=\"cand-desc\"> <h3 class=\"cand-name\">paulo messina</h3> <span class=\"cand-partido\">MDB</span> </div> </div> </a> </div> <div class=\"col-xs-12 -only\"> <a href=\"https://politica.estadao.com.br/eleicoes/2020/candidatos/rj/rio-de-janeiro/prefeito/renata-souza,50\" title=\"renata souza\"> <div class=\"mold-cand \"> <div class=\"cand-mask\"> <img class=\"elazy\" onerror=this.onerror=null;this.src=&#039;https://statics.estadao.com.br/s2016/portal/eleicoes2020/img/img_placeholder.png&#039;; data-src=\"https://img.estadao.com.br/fotos/politica/eleicoes-2020/RJ/FRJ190000684522_div.jpg\" alt=\"renata souza\"/> </div> <div class=\"cand-desc\"> <h3 class=\"cand-name\">renata souza</h3> <span class=\"cand-partido\">PSOL</span> </div> </div> </a> </div> <div class=\"col-xs-12 -only\"> <a href=\"https://politica.estadao.com.br/eleicoes/2020/candidatos/rj/rio-de-janeiro/prefeito/sued-haidar,35\" title=\"su&ecirc;d haidar\"> <div class=\"mold-cand \"> <div class=\"cand-mask\"> <img class=\"elazy\" onerror=this.onerror=null;this.src=&#039;https://statics.estadao.com.br/s2016/portal/eleicoes2020/img/img_placeholder.png&#039;; data-src=\"https://img.estadao.com.br/fotos/politica/eleicoes-2020/RJ/FRJ190000946166_div.jpg\" alt=\"su&ecirc;d haidar\"/> </div> <div class=\"cand-desc\"> <h3 class=\"cand-name\">su&ecirc;d haidar</h3> <span class=\"cand-partido\">PMB</span> </div> </div> </a> </div> </div></div> <div class=\"row-link-arrow\"> <a class=\"link-arrow cor-e uppercase\" href=\"https://politica.estadao.com.br/eleicoes/2020/candidatos/rj/rio-de-janeiro/vereador\"> <span>Veja os candidatos a vereador</span> <i class=\"ico-arrow-right\"></i> </a> </div> </div> </div></div><div class=\"col-xs-12\"> <div class=\"container-candidatos\"> <div class=\"mold-title\"> <h2 class=\"chapeu title-primary -black\" title=\"Belo Horizonte - MG\"> <a href=\"https://politica.estadao.com.br/eleicoes/2020/candidatos/mg/belo-horizonte\">Belo Horizonte - MG</a> </h2> </div> <div class=\"mold-title-share\"> <h2 class=\"chapeu cor-e title-secundary uppercase\" title=\"Candidatos a prefeito\"> <a href=\"https://politica.estadao.com.br/eleicoes/2020/candidatos/mg/belo-horizonte/prefeito\">Candidatos a prefeito</a> </h2> <ul class=\"share \"> <li class=\"hidden\"> <a href=\"javascript:void(0);\" class=\"balloon comentarios-balaozinho\" data-ancora=\\'noticia_1\\' title=\"Comentários\"> </a> </li> <li class=\"whatsapp \"> <a href=\"https://wa.me/?text=Candidatos+a+prefeito+de+Belo+Horizonte+-+MG%20Estad%C3%A3o%3A%20https://politica.estadao.com.br/eleicoes/2020/candidatos/mg/belo-horizonte/prefeito%3Futm_source%3Destadao%3Awhatsapp%26utm_medium%3Dlink\" class=\"ico-whatsapp\" title=\"Compartilhe pelo WhatsApp\" target=\"_blank\">&nbsp;</a> </li> <li class=\"facebook \"> <a href=\"https://www.facebook.com/sharer/sharer.php?u=https://politica.estadao.com.br/eleicoes/2020/candidatos/mg/belo-horizonte/prefeito%3Futm_source%3Destadao%3Afacebook%26utm_medium%3Dlink\" target=\"_blank\" class=\"ico-facebook\" title=\"Compartilhe pelo Facebook\" >&nbsp;</a> </li> <li class=\"twitter \"> <a href=\"https://twitter.com/intent/tweet?text=Candidatos a prefeito de Belo Horizonte - MG%20@estadao%3A%20&amp;url=https://politica.estadao.com.br/eleicoes/2020/candidatos/mg/belo-horizonte/prefeito%3Futm_source%3Destadao%3Atwitter%26utm_medium%3Dlink\" target=\"_blank\" class=\"ico-twitter\" title=\"Compartilhe pelo Twitter\" >&nbsp;</a> </li> <li class=\"other \"> <a href=\"javascript:void(0);\" class=\"ico-dots-three-horizontal \" title=\"Mais compartilhamentos\" data-href=\"https://politica.estadao.com.br/eleicoes/2020/candidatos/mg/belo-horizonte/prefeito\" data-title=\"Candidatos a prefeito de Belo Horizonte - MG\">&nbsp;</a> <div class=\"share-more\" > <div class=\"share-total\" data-url=\"https://politica.estadao.com.br/eleicoes/2020/candidatos/mg/belo-horizonte/prefeito\"></div> <ul> <li class=\"twitter\"> <a href=\"https://twitter.com/intent/tweet?text=Candidatos a prefeito de Belo Horizonte - MG%20@estadao%3A%20&amp;url=https://politica.estadao.com.br/eleicoes/2020/candidatos/mg/belo-horizonte/prefeito%3Futm_source%3Destadao%3Atwitter%26utm_medium%3Dlink\" target=\"_blank\" class=\"ico-twitter\" > <span>twitter</span> </a> </li> <li class=\"linkedin\"> <a href=\"https://www.linkedin.com/cws/share?url=https://politica.estadao.com.br/eleicoes/2020/candidatos/mg/belo-horizonte/prefeito%3Futm_source%3Destadao%3Alinkedin%26utm_medium%3Dlink\" target=\"_blank\" class=\"ico-linkedin\" > <span>linkedin</span> </a> </li> <li class=\"email\"> <a href=\"mailto:?subject=Candidatos a prefeito de Belo Horizonte - MG&amp;body=Candidatos a prefeito de Belo Horizonte - MG - https://politica.estadao.com.br/eleicoes/2020/candidatos/mg/belo-horizonte/prefeito%3Futm_source%3Destadao%3Amail%26utm_medium%3Dlink\" class=\"ico-envelope-o\" > <span>e-mail</span> </a> </li> <li class=\"print\"> <a href=\"javascript:window.print();\" class=\"ico-printer-text\" > <span>imprimir</span> </a> </li> </ul> </div> </li></ul> </div> <div class=\"mold-candidatos\"> <div class=\"list-candidatos\"> <div class=\"row\"> <div class=\"col-xs-12 -only\"> <a href=\"https://politica.estadao.com.br/eleicoes/2020/candidatos/mg/belo-horizonte/prefeito/bruno-engler,28\" title=\"bruno engler\"> <div class=\"mold-cand \"> <div class=\"cand-mask\"> <img class=\"elazy\" onerror=this.onerror=null;this.src=&#039;https://statics.estadao.com.br/s2016/portal/eleicoes2020/img/img_placeholder.png&#039;; data-src=\"https://img.estadao.com.br/fotos/politica/eleicoes-2020/MG/FMG130001252256_div.jpg\" alt=\"bruno engler\"/> </div> <div class=\"cand-desc\"> <h3 class=\"cand-name\">bruno engler</h3> <span class=\"cand-partido\">PRTB</span> </div> </div> </a> </div> <div class=\"col-xs-12 -only\"> <a href=\"https://politica.estadao.com.br/eleicoes/2020/candidatos/mg/belo-horizonte/prefeito/bruno-engler,28\" title=\"bruno engler\"> <div class=\"mold-cand \"> <div class=\"cand-mask\"> <img class=\"elazy\" onerror=this.onerror=null;this.src=&#039;https://statics.estadao.com.br/s2016/portal/eleicoes2020/img/img_placeholder.png&#039;; data-src=\"https://img.estadao.com.br/fotos/politica/eleicoes-2020/MG/FMG130001226853_div.jpg\" alt=\"bruno engler\"/> </div> <div class=\"cand-desc\"> <h3 class=\"cand-name\">bruno engler</h3> <span class=\"cand-partido\">PRTB</span> </div> </div> </a> </div> <div class=\"col-xs-12 -only\"> <a href=\"https://politica.estadao.com.br/eleicoes/2020/candidatos/mg/belo-horizonte/prefeito/cabo-xavier,35\" title=\"cabo xavier\"> <div class=\"mold-cand \"> <div class=\"cand-mask\"> <img class=\"elazy\" onerror=this.onerror=null;this.src=&#039;https://statics.estadao.com.br/s2016/portal/eleicoes2020/img/img_placeholder.png&#039;; data-src=\"https://img.estadao.com.br/fotos/politica/eleicoes-2020/MG/FMG130001180688_div.jpg\" alt=\"cabo xavier\"/> </div> <div class=\"cand-desc\"> <h3 class=\"cand-name\">cabo xavier</h3> <span class=\"cand-partido\">PMB</span> </div> </div> </a> </div> <div class=\"col-xs-12 -only\"> <a href=\"https://politica.estadao.com.br/eleicoes/2020/candidatos/mg/belo-horizonte/prefeito/fabiano-cazeca,90\" title=\"fabiano cazeca\"> <div class=\"mold-cand \"> <div class=\"cand-mask\"> <img class=\"elazy\" onerror=this.onerror=null;this.src=&#039;https://statics.estadao.com.br/s2016/portal/eleicoes2020/img/img_placeholder.png&#039;; data-src=\"https://img.estadao.com.br/fotos/politica/eleicoes-2020/MG/FMG130000665121_div.jpg\" alt=\"fabiano cazeca\"/> </div> <div class=\"cand-desc\"> <h3 class=\"cand-name\">fabiano cazeca</h3> <span class=\"cand-partido\">PROS</span> </div> </div> </a> </div> <div class=\"col-xs-12 -only\"> <a href=\"https://politica.estadao.com.br/eleicoes/2020/candidatos/mg/belo-horizonte/prefeito/joao-vitor-xavier,23\" title=\"jo&atilde;o vitor xavier\"> <div class=\"mold-cand \"> <div class=\"cand-mask\"> <img class=\"elazy\" onerror=this.onerror=null;this.src=&#039;https://statics.estadao.com.br/s2016/portal/eleicoes2020/img/img_placeholder.png&#039;; data-src=\"https://img.estadao.com.br/fotos/politica/eleicoes-2020/MG/FMG130001140594_div.jpg\" alt=\"jo&atilde;o vitor xavier\"/> </div> <div class=\"cand-desc\"> <h3 class=\"cand-name\">jo&atilde;o vitor xavier</h3> <span class=\"cand-partido\">CIDADANIA</span> </div> </div> </a> </div> <div class=\"col-xs-12 -only\"> <a href=\"https://politica.estadao.com.br/eleicoes/2020/candidatos/mg/belo-horizonte/prefeito/kalil,55\" title=\"kalil\"> <div class=\"mold-cand -type-eleito\"> <div class=\"cand-mask\"> <img class=\"elazy\" onerror=this.onerror=null;this.src=&#039;https://statics.estadao.com.br/s2016/portal/eleicoes2020/img/img_placeholder.png&#039;; data-src=\"https://img.estadao.com.br/fotos/politica/eleicoes-2020/MG/FMG130000756879_div.jpg\" alt=\"kalil\"/> </div> <div class=\"cand-desc\"> <h3 class=\"cand-name\">kalil</h3> <span class=\"cand-partido\">PSD</span> </div> </div> </a> </div> <div class=\"col-xs-12 -only\"> <a href=\"https://politica.estadao.com.br/eleicoes/2020/candidatos/mg/belo-horizonte/prefeito/lafayette-andrada,10\" title=\"lafayette andrada\"> <div class=\"mold-cand \"> <div class=\"cand-mask\"> <img class=\"elazy\" onerror=this.onerror=null;this.src=&#039;https://statics.estadao.com.br/s2016/portal/eleicoes2020/img/img_placeholder.png&#039;; data-src=\"https://img.estadao.com.br/fotos/politica/eleicoes-2020/MG/FMG130001001426_div.jpg\" alt=\"lafayette andrada\"/> </div> <div class=\"cand-desc\"> <h3 class=\"cand-name\">lafayette andrada</h3> <span class=\"cand-partido\">REPUBLICANOS</span> </div> </div> </a> </div> <div class=\"col-xs-12 -only\"> <a href=\"https://politica.estadao.com.br/eleicoes/2020/candidatos/mg/belo-horizonte/prefeito/luisa-barreto,45\" title=\"luisa barreto\"> <div class=\"mold-cand \"> <div class=\"cand-mask\"> <img class=\"elazy\" onerror=this.onerror=null;this.src=&#039;https://statics.estadao.com.br/s2016/portal/eleicoes2020/img/img_placeholder.png&#039;; data-src=\"https://img.estadao.com.br/fotos/politica/eleicoes-2020/MG/FMG130000868277_div.jpg\" alt=\"luisa barreto\"/> </div> <div class=\"cand-desc\"> <h3 class=\"cand-name\">luisa barreto</h3> <span class=\"cand-partido\">PSDB</span> </div> </div> </a> </div> <div class=\"col-xs-12 -only\"> <a href=\"https://politica.estadao.com.br/eleicoes/2020/candidatos/mg/belo-horizonte/prefeito/marcelo-souza-e-silva,51\" title=\"marcelo souza e silva\"> <div class=\"mold-cand \"> <div class=\"cand-mask\"> <img class=\"elazy\" onerror=this.onerror=null;this.src=&#039;https://statics.estadao.com.br/s2016/portal/eleicoes2020/img/img_placeholder.png&#039;; data-src=\"https://img.estadao.com.br/fotos/politica/eleicoes-2020/MG/FMG130000658456_div.jpg\" alt=\"marcelo souza e silva\"/> </div> <div class=\"cand-desc\"> <h3 class=\"cand-name\">marcelo souza e silva</h3> <span class=\"cand-partido\">PATRIOTA</span> </div> </div> </a> </div> <div class=\"col-xs-12 -only\"> <a href=\"https://politica.estadao.com.br/eleicoes/2020/candidatos/mg/belo-horizonte/prefeito/marilia-domingues,29\" title=\"marilia domingues\"> <div class=\"mold-cand \"> <div class=\"cand-mask\"> <img class=\"elazy\" onerror=this.onerror=null;this.src=&#039;https://statics.estadao.com.br/s2016/portal/eleicoes2020/img/img_placeholder.png&#039;; data-src=\"https://img.estadao.com.br/fotos/politica/eleicoes-2020/MG/FMG130001181053_div.jpg\" alt=\"marilia domingues\"/> </div> <div class=\"cand-desc\"> <h3 class=\"cand-name\">marilia domingues</h3> <span class=\"cand-partido\">PCO</span> </div> </div> </a> </div> <div class=\"col-xs-12 -only\"> <a href=\"https://politica.estadao.com.br/eleicoes/2020/candidatos/mg/belo-horizonte/prefeito/nilmario-miranda,13\" title=\"nilm&aacute;rio miranda\"> <div class=\"mold-cand \"> <div class=\"cand-mask\"> <img class=\"elazy\" onerror=this.onerror=null;this.src=&#039;https://statics.estadao.com.br/s2016/portal/eleicoes2020/img/img_placeholder.png&#039;; data-src=\"https://img.estadao.com.br/fotos/politica/eleicoes-2020/MG/FMG130000704118_div.jpg\" alt=\"nilm&aacute;rio miranda\"/> </div> <div class=\"cand-desc\"> <h3 class=\"cand-name\">nilm&aacute;rio miranda</h3> <span class=\"cand-partido\">PT</span> </div> </div> </a> </div> <div class=\"col-xs-12 -only\"> <a href=\"https://politica.estadao.com.br/eleicoes/2020/candidatos/mg/belo-horizonte/prefeito/professor-wendel-mesquita,77\" title=\"professor wendel mesquita\"> <div class=\"mold-cand \"> <div class=\"cand-mask\"> <img class=\"elazy\" onerror=this.onerror=null;this.src=&#039;https://statics.estadao.com.br/s2016/portal/eleicoes2020/img/img_placeholder.png&#039;; data-src=\"https://img.estadao.com.br/fotos/politica/eleicoes-2020/MG/FMG130000944000_div.jpg\" alt=\"professor wendel mesquita\"/> </div> <div class=\"cand-desc\"> <h3 class=\"cand-name\">professor wendel mesquita</h3> <span class=\"cand-partido\">SOLIDARIEDADE</span> </div> </div> </a> </div> <div class=\"col-xs-12 -only\"> <a href=\"https://politica.estadao.com.br/eleicoes/2020/candidatos/mg/belo-horizonte/prefeito/rodrigo-paiva,30\" title=\"rodrigo paiva\"> <div class=\"mold-cand \"> <div class=\"cand-mask\"> <img class=\"elazy\" onerror=this.onerror=null;this.src=&#039;https://statics.estadao.com.br/s2016/portal/eleicoes2020/img/img_placeholder.png&#039;; data-src=\"https://img.estadao.com.br/fotos/politica/eleicoes-2020/MG/FMG130000639684_div.jpg\" alt=\"rodrigo paiva\"/> </div> <div class=\"cand-desc\"> <h3 class=\"cand-name\">rodrigo paiva</h3> <span class=\"cand-partido\">NOVO</span> </div> </div> </a> </div> <div class=\"col-xs-12 -only\"> <a href=\"https://politica.estadao.com.br/eleicoes/2020/candidatos/mg/belo-horizonte/prefeito/wadson-ribeiro,65\" title=\"wadson ribeiro\"> <div class=\"mold-cand \"> <div class=\"cand-mask\"> <img class=\"elazy\" onerror=this.onerror=null;this.src=&#039;https://statics.estadao.com.br/s2016/portal/eleicoes2020/img/img_placeholder.png&#039;; data-src=\"https://img.estadao.com.br/fotos/politica/eleicoes-2020/MG/FMG130000861189_div.jpg\" alt=\"wadson ribeiro\"/> </div> <div class=\"cand-desc\"> <h3 class=\"cand-name\">wadson ribeiro</h3> <span class=\"cand-partido\">PC do B</span> </div> </div> </a> </div> <div class=\"col-xs-12 -only\"> <a href=\"https://politica.estadao.com.br/eleicoes/2020/candidatos/mg/belo-horizonte/prefeito/wanderson-rocha,16\" title=\"wanderson rocha\"> <div class=\"mold-cand \"> <div class=\"cand-mask\"> <img class=\"elazy\" onerror=this.onerror=null;this.src=&#039;https://statics.estadao.com.br/s2016/portal/eleicoes2020/img/img_placeholder.png&#039;; data-src=\"https://img.estadao.com.br/fotos/politica/eleicoes-2020/MG/FMG130001172845_div.jpg\" alt=\"wanderson rocha\"/> </div> <div class=\"cand-desc\"> <h3 class=\"cand-name\">wanderson rocha</h3> <span class=\"cand-partido\">PSTU</span> </div> </div> </a> </div> <div class=\"col-xs-12 -only\"> <a href=\"https://politica.estadao.com.br/eleicoes/2020/candidatos/mg/belo-horizonte/prefeito/aurea-carolina,50\" title=\"&aacute;urea carolina\"> <div class=\"mold-cand \"> <div class=\"cand-mask\"> <img class=\"elazy\" onerror=this.onerror=null;this.src=&#039;https://statics.estadao.com.br/s2016/portal/eleicoes2020/img/img_placeholder.png&#039;; data-src=\"https://img.estadao.com.br/fotos/politica/eleicoes-2020/MG/FMG130000662154_div.jpg\" alt=\"&aacute;urea carolina\"/> </div> <div class=\"cand-desc\"> <h3 class=\"cand-name\">&aacute;urea carolina</h3> <span class=\"cand-partido\">PSOL</span> </div> </div> </a> </div> </div></div> <div class=\"row-link-arrow\"> <a class=\"link-arrow cor-e uppercase\" href=\"https://politica.estadao.com.br/eleicoes/2020/candidatos/mg/belo-horizonte/vereador\"> <span>Veja os candidatos a vereador</span> <i class=\"ico-arrow-right\"></i> </a> </div> </div> </div></div> </div> </section> <section class=\"col-md-4 col-sm-12 col-xs-12 content\"> <div class=\"row\"> <div style=\\'display:block;margin: 20px auto;\\'><div id=\\'tmeio1-1\\' class=\\'publicidade dfp\\' data-screenmap=\\'Tile_300_250_T_400\\' data-target=\\'{\"formato\":\"tmeio1\",\"page_url\":\"politica.estadao.com.br,eleicoes,2020,candidatos\",\"pg_tipo\":\"eleicoes\",\"tags\":false}\\' data-status=\\'init\\' ></div></div><section class=\"col-xs-12 maislidas-interno\"> <a href=\"http://www.estadao.com.br/mais-lidas\"> <p class=\"now cor-e\" title=\"Mais lidas\"> Mais lidas </p> </a> <div class=\"box \"> <div class=\"label\"> <a href=\"https://politica.estadao.com.br/noticias/eleicoes,leite-vai-renunciar-ao-governo-e-prepara-dia-do-fico-no-psdb-de-olho-no-planalto,70004019673\" title=\"Política\"> <h4 class=\"cor-e\"> Política </h4> </a> <ul class=\"share \"> <li class=\"hidden\"> <a href=\"javascript:void(0);\" class=\"balloon comentarios-balaozinho\" data-ancora=\\'noticia_1\\' title=\"Comentários\"> </a> </li> <li class=\"whatsapp \"> <a href=\"https://wa.me/?text=Leite+vai+renunciar+ao+governo+e+prepara+%E2%80%98Dia+do+Fico%E2%80%99+no+PSDB%2C+de+olho+no+Planalto%20Estad%C3%A3o%3A%20https://politica.estadao.com.br/noticias/eleicoes,leite-vai-renunciar-ao-governo-e-prepara-dia-do-fico-no-psdb-de-olho-no-planalto,70004019673%3Futm_source%3Destadao%3Awhatsapp%26utm_medium%3Dlink\" class=\"ico-whatsapp\" title=\"Compartilhe pelo WhatsApp\" target=\"_blank\">&nbsp;</a> </li> <li class=\"facebook \"> <a href=\"https://www.facebook.com/sharer/sharer.php?u=https://politica.estadao.com.br/noticias/eleicoes,leite-vai-renunciar-ao-governo-e-prepara-dia-do-fico-no-psdb-de-olho-no-planalto,70004019673%3Futm_source%3Destadao%3Afacebook%26utm_medium%3Dlink\" target=\"_blank\" class=\"ico-facebook\" title=\"Compartilhe pelo Facebook\" >&nbsp;</a> </li> <li class=\"twitter \"> <a href=\"https://twitter.com/intent/tweet?text=Leite vai renunciar ao governo e prepara ‘Dia do Fico’ no PSDB, de olho no Planalto%20@estadao%3A%20&amp;url=https://politica.estadao.com.br/noticias/eleicoes,leite-vai-renunciar-ao-governo-e-prepara-dia-do-fico-no-psdb-de-olho-no-planalto,70004019673%3Futm_source%3Destadao%3Atwitter%26utm_medium%3Dlink\" target=\"_blank\" class=\"ico-twitter\" title=\"Compartilhe pelo Twitter\" >&nbsp;</a> </li> <li class=\"other \"> <a href=\"javascript:void(0);\" class=\"ico-dots-three-horizontal \" title=\"Mais compartilhamentos\" data-href=\"https://politica.estadao.com.br/noticias/eleicoes,leite-vai-renunciar-ao-governo-e-prepara-dia-do-fico-no-psdb-de-olho-no-planalto,70004019673\" data-title=\"Leite vai renunciar ao governo e prepara ‘Dia do Fico’ no PSDB, de olho no Planalto\">&nbsp;</a> <div class=\"share-more\" > <div class=\"share-total\" data-url=\"https://politica.estadao.com.br/noticias/eleicoes,leite-vai-renunciar-ao-governo-e-prepara-dia-do-fico-no-psdb-de-olho-no-planalto,70004019673\"></div> <ul> <li class=\"twitter\"> <a href=\"https://twitter.com/intent/tweet?text=Leite vai renunciar ao governo e prepara ‘Dia do Fico’ no PSDB, de olho no Planalto%20@estadao%3A%20&amp;url=https://politica.estadao.com.br/noticias/eleicoes,leite-vai-renunciar-ao-governo-e-prepara-dia-do-fico-no-psdb-de-olho-no-planalto,70004019673%3Futm_source%3Destadao%3Atwitter%26utm_medium%3Dlink\" target=\"_blank\" class=\"ico-twitter\" > <span>twitter</span> </a> </li> <li class=\"linkedin\"> <a href=\"https://www.linkedin.com/cws/share?url=https://politica.estadao.com.br/noticias/eleicoes,leite-vai-renunciar-ao-governo-e-prepara-dia-do-fico-no-psdb-de-olho-no-planalto,70004019673%3Futm_source%3Destadao%3Alinkedin%26utm_medium%3Dlink\" target=\"_blank\" class=\"ico-linkedin\" > <span>linkedin</span> </a> </li> <li class=\"email\"> <a href=\"mailto:?subject=Leite vai renunciar ao governo e prepara ‘Dia do Fico’ no PSDB, de olho no Planalto&amp;body=Leite vai renunciar ao governo e prepara ‘Dia do Fico’ no PSDB, de olho no Planalto - https://politica.estadao.com.br/noticias/eleicoes,leite-vai-renunciar-ao-governo-e-prepara-dia-do-fico-no-psdb-de-olho-no-planalto,70004019673%3Futm_source%3Destadao%3Amail%26utm_medium%3Dlink\" class=\"ico-envelope-o\" > <span>e-mail</span> </a> </li> <li class=\"print\"> <a href=\"javascript:window.print();\" class=\"ico-printer-text\" > <span>imprimir</span> </a> </li> </ul> </div> </li></ul> </div> <figure> <a href=\"https://politica.estadao.com.br/noticias/eleicoes,leite-vai-renunciar-ao-governo-e-prepara-dia-do-fico-no-psdb-de-olho-no-planalto,70004019673\" title=\"Leite vai renunciar ao governo e prepara ‘Dia do Fico’ no PSDB, de olho no Planalto}\"> <img class=\"elazy\" alt=\"Dida Sampaio/Estad&atilde;o\" data-src-desktop=\"https://img.estadao.com.br/fotos/crop/360x200/resources/jpg/8/0/1637503131008.jpg\" /> </a> </figure> <a href=\"https://politica.estadao.com.br/noticias/eleicoes,leite-vai-renunciar-ao-governo-e-prepara-dia-do-fico-no-psdb-de-olho-no-planalto,70004019673\" title=\"Leite vai renunciar ao governo e prepara ‘Dia do Fico’ no PSDB, de olho no Planalto\"> <h3 class=\"fifth\" title=\"Leite vai renunciar ao governo e prepara ‘Dia do Fico’ no PSDB, de olho no Planalto\"> Leite vai renunciar ao governo e prepara ‘Dia do Fico’ no PSDB, de olho no Planalto </h3> <p title=\"Governador gaúcho articula com MDB e União Brasil para tentar candidatura no PSDB; opção por permanecer no partido ganhou força em relação à migração para o PSD\"> Governador gaúcho articula com MDB e União Brasil para tentar candidatura no PSDB; opção por permanecer no partido ganhou força em relação à migração para o PSD </p> </a> </div> <div class=\"box \"> <div class=\"label\"> <a href=\"https://politica.estadao.com.br/noticias/eleicoes,bolsonaro-voto-tem-que-ser-contado-nao-podemos-disputar-com-suspeicao,70004019612\" title=\"Política\"> <h4 class=\"cor-e\"> Política </h4> </a> <ul class=\"share \"> <li class=\"hidden\"> <a href=\"javascript:void(0);\" class=\"balloon comentarios-balaozinho\" data-ancora=\\'noticia_1\\' title=\"Comentários\"> </a> </li> <li class=\"whatsapp \"> <a href=\"https://wa.me/?text=Bolsonaro%3A+%E2%80%98Voto+tem+que+ser+contado.+N%C3%A3o+podemos+disputar+com+suspei%C3%A7%C3%A3o%E2%80%99%20Estad%C3%A3o%3A%20https://politica.estadao.com.br/noticias/eleicoes,bolsonaro-voto-tem-que-ser-contado-nao-podemos-disputar-com-suspeicao,70004019612%3Futm_source%3Destadao%3Awhatsapp%26utm_medium%3Dlink\" class=\"ico-whatsapp\" title=\"Compartilhe pelo WhatsApp\" target=\"_blank\">&nbsp;</a> </li> <li class=\"facebook \"> <a href=\"https://www.facebook.com/sharer/sharer.php?u=https://politica.estadao.com.br/noticias/eleicoes,bolsonaro-voto-tem-que-ser-contado-nao-podemos-disputar-com-suspeicao,70004019612%3Futm_source%3Destadao%3Afacebook%26utm_medium%3Dlink\" target=\"_blank\" class=\"ico-facebook\" title=\"Compartilhe pelo Facebook\" >&nbsp;</a> </li> <li class=\"twitter \"> <a href=\"https://twitter.com/intent/tweet?text=Bolsonaro: ‘Voto tem que ser contado. Não podemos disputar com suspeição’%20@estadao%3A%20&amp;url=https://politica.estadao.com.br/noticias/eleicoes,bolsonaro-voto-tem-que-ser-contado-nao-podemos-disputar-com-suspeicao,70004019612%3Futm_source%3Destadao%3Atwitter%26utm_medium%3Dlink\" target=\"_blank\" class=\"ico-twitter\" title=\"Compartilhe pelo Twitter\" >&nbsp;</a> </li> <li class=\"other \"> <a href=\"javascript:void(0);\" class=\"ico-dots-three-horizontal \" title=\"Mais compartilhamentos\" data-href=\"https://politica.estadao.com.br/noticias/eleicoes,bolsonaro-voto-tem-que-ser-contado-nao-podemos-disputar-com-suspeicao,70004019612\" data-title=\"Bolsonaro: ‘Voto tem que ser contado. Não podemos disputar com suspeição’\">&nbsp;</a> <div class=\"share-more\" > <div class=\"share-total\" data-url=\"https://politica.estadao.com.br/noticias/eleicoes,bolsonaro-voto-tem-que-ser-contado-nao-podemos-disputar-com-suspeicao,70004019612\"></div> <ul> <li class=\"twitter\"> <a href=\"https://twitter.com/intent/tweet?text=Bolsonaro: ‘Voto tem que ser contado. Não podemos disputar com suspeição’%20@estadao%3A%20&amp;url=https://politica.estadao.com.br/noticias/eleicoes,bolsonaro-voto-tem-que-ser-contado-nao-podemos-disputar-com-suspeicao,70004019612%3Futm_source%3Destadao%3Atwitter%26utm_medium%3Dlink\" target=\"_blank\" class=\"ico-twitter\" > <span>twitter</span> </a> </li> <li class=\"linkedin\"> <a href=\"https://www.linkedin.com/cws/share?url=https://politica.estadao.com.br/noticias/eleicoes,bolsonaro-voto-tem-que-ser-contado-nao-podemos-disputar-com-suspeicao,70004019612%3Futm_source%3Destadao%3Alinkedin%26utm_medium%3Dlink\" target=\"_blank\" class=\"ico-linkedin\" > <span>linkedin</span> </a> </li> <li class=\"email\"> <a href=\"mailto:?subject=Bolsonaro: ‘Voto tem que ser contado. Não podemos disputar com suspeição’&amp;body=Bolsonaro: ‘Voto tem que ser contado. Não podemos disputar com suspeição’ - https://politica.estadao.com.br/noticias/eleicoes,bolsonaro-voto-tem-que-ser-contado-nao-podemos-disputar-com-suspeicao,70004019612%3Futm_source%3Destadao%3Amail%26utm_medium%3Dlink\" class=\"ico-envelope-o\" > <span>e-mail</span> </a> </li> <li class=\"print\"> <a href=\"javascript:window.print();\" class=\"ico-printer-text\" > <span>imprimir</span> </a> </li> </ul> </div> </li></ul> </div> <a href=\"https://politica.estadao.com.br/noticias/eleicoes,bolsonaro-voto-tem-que-ser-contado-nao-podemos-disputar-com-suspeicao,70004019612\" title=\"Bolsonaro: ‘Voto tem que ser contado. Não podemos disputar com suspeição’\"> <h3 class=\"fifth\" title=\"Bolsonaro: ‘Voto tem que ser contado. Não podemos disputar com suspeição’\"> Bolsonaro: ‘Voto tem que ser contado. Não podemos disputar com suspeição’ </h3> <p title=\"Presidente diz que está mantido ato para marcar lançamento de sua pré-candidatura, no domingo, mas PL tenta driblar lei eleitoral\"> Presidente diz que está mantido ato para marcar lançamento de sua pré-candidatura, no domingo, mas PL tenta driblar lei eleitoral </p> </a> </div> <div class=\"box \"> <div class=\"label\"> <a href=\"https://politica.estadao.com.br/noticias/eleicoes,kalil-deixa-prefeitura-de-belo-horizonte-e-negocia-apoio-de-lula-para-disputar-governo-de-mg,70004019346\" title=\"Política\"> <h4 class=\"cor-e\"> Política </h4> </a> <ul class=\"share \"> <li class=\"hidden\"> <a href=\"javascript:void(0);\" class=\"balloon comentarios-balaozinho\" data-ancora=\\'noticia_1\\' title=\"Comentários\"> </a> </li> <li class=\"whatsapp \"> <a href=\"https://wa.me/?text=Kalil+deixa+prefeitura+de+Belo+Horizonte+e+negocia+apoio+de+Lula+para+disputar+governo+de+MG%20Estad%C3%A3o%3A%20https://politica.estadao.com.br/noticias/eleicoes,kalil-deixa-prefeitura-de-belo-horizonte-e-negocia-apoio-de-lula-para-disputar-governo-de-mg,70004019346%3Futm_source%3Destadao%3Awhatsapp%26utm_medium%3Dlink\" class=\"ico-whatsapp\" title=\"Compartilhe pelo WhatsApp\" target=\"_blank\">&nbsp;</a> </li> <li class=\"facebook \"> <a href=\"https://www.facebook.com/sharer/sharer.php?u=https://politica.estadao.com.br/noticias/eleicoes,kalil-deixa-prefeitura-de-belo-horizonte-e-negocia-apoio-de-lula-para-disputar-governo-de-mg,70004019346%3Futm_source%3Destadao%3Afacebook%26utm_medium%3Dlink\" target=\"_blank\" class=\"ico-facebook\" title=\"Compartilhe pelo Facebook\" >&nbsp;</a> </li> <li class=\"twitter \"> <a href=\"https://twitter.com/intent/tweet?text=Kalil deixa prefeitura de Belo Horizonte e negocia apoio de Lula para disputar governo de MG%20@estadao%3A%20&amp;url=https://politica.estadao.com.br/noticias/eleicoes,kalil-deixa-prefeitura-de-belo-horizonte-e-negocia-apoio-de-lula-para-disputar-governo-de-mg,70004019346%3Futm_source%3Destadao%3Atwitter%26utm_medium%3Dlink\" target=\"_blank\" class=\"ico-twitter\" title=\"Compartilhe pelo Twitter\" >&nbsp;</a> </li> <li class=\"other \"> <a href=\"javascript:void(0);\" class=\"ico-dots-three-horizontal \" title=\"Mais compartilhamentos\" data-href=\"https://politica.estadao.com.br/noticias/eleicoes,kalil-deixa-prefeitura-de-belo-horizonte-e-negocia-apoio-de-lula-para-disputar-governo-de-mg,70004019346\" data-title=\"Kalil deixa prefeitura de Belo Horizonte e negocia apoio de Lula para disputar governo de MG\">&nbsp;</a> <div class=\"share-more\" > <div class=\"share-total\" data-url=\"https://politica.estadao.com.br/noticias/eleicoes,kalil-deixa-prefeitura-de-belo-horizonte-e-negocia-apoio-de-lula-para-disputar-governo-de-mg,70004019346\"></div> <ul> <li class=\"twitter\"> <a href=\"https://twitter.com/intent/tweet?text=Kalil deixa prefeitura de Belo Horizonte e negocia apoio de Lula para disputar governo de MG%20@estadao%3A%20&amp;url=https://politica.estadao.com.br/noticias/eleicoes,kalil-deixa-prefeitura-de-belo-horizonte-e-negocia-apoio-de-lula-para-disputar-governo-de-mg,70004019346%3Futm_source%3Destadao%3Atwitter%26utm_medium%3Dlink\" target=\"_blank\" class=\"ico-twitter\" > <span>twitter</span> </a> </li> <li class=\"linkedin\"> <a href=\"https://www.linkedin.com/cws/share?url=https://politica.estadao.com.br/noticias/eleicoes,kalil-deixa-prefeitura-de-belo-horizonte-e-negocia-apoio-de-lula-para-disputar-governo-de-mg,70004019346%3Futm_source%3Destadao%3Alinkedin%26utm_medium%3Dlink\" target=\"_blank\" class=\"ico-linkedin\" > <span>linkedin</span> </a> </li> <li class=\"email\"> <a href=\"mailto:?subject=Kalil deixa prefeitura de Belo Horizonte e negocia apoio de Lula para disputar governo de MG&amp;body=Kalil deixa prefeitura de Belo Horizonte e negocia apoio de Lula para disputar governo de MG - https://politica.estadao.com.br/noticias/eleicoes,kalil-deixa-prefeitura-de-belo-horizonte-e-negocia-apoio-de-lula-para-disputar-governo-de-mg,70004019346%3Futm_source%3Destadao%3Amail%26utm_medium%3Dlink\" class=\"ico-envelope-o\" > <span>e-mail</span> </a> </li> <li class=\"print\"> <a href=\"javascript:window.print();\" class=\"ico-printer-text\" > <span>imprimir</span> </a> </li> </ul> </div> </li></ul> </div> <a href=\"https://politica.estadao.com.br/noticias/eleicoes,kalil-deixa-prefeitura-de-belo-horizonte-e-negocia-apoio-de-lula-para-disputar-governo-de-mg,70004019346\" title=\"Kalil deixa prefeitura de Belo Horizonte e negocia apoio de Lula para disputar governo de MG\"> <h3 class=\"fifth\" title=\"Kalil deixa prefeitura de Belo Horizonte e negocia apoio de Lula para disputar governo de MG\"> Kalil deixa prefeitura de Belo Horizonte e negocia apoio de Lula para disputar governo de MG </h3> <p title=\"Prefeito anunciou a renúncia nesta manhã; após se manter ‘avesso’ à polarização entre PT e PSDB no Estado, Kalil aposta em aliança com Lula para superar Zema\"> Prefeito anunciou a renúncia nesta manhã; após se manter ‘avesso’ à polarização entre PT e PSDB no Estado, Kalil aposta em aliança com Lula para superar Zema </p> </a> </div> <div class=\"box \"> <div class=\"label\"> <a href=\"https://politica.estadao.com.br/blogs/estadao-verifica/tse-bolsonaro-gasolina-dilma-temer/\" title=\"Política\"> <h4 class=\"cor-e\"> Política </h4> </a> <ul class=\"share \"> <li class=\"hidden\"> <a href=\"javascript:void(0);\" class=\"balloon comentarios-balaozinho\" data-ancora=\\'noticia_1\\' title=\"Comentários\"> </a> </li> <li class=\"whatsapp \"> <a href=\"https://wa.me/?text=Tu%C3%ADte+distorce+fatos+sobre+redu%C3%A7%C3%A3o+de+pre%C3%A7os+de+gasolina+em+ano+eleitoral%20Estad%C3%A3o%3A%20https://politica.estadao.com.br/blogs/estadao-verifica/tse-bolsonaro-gasolina-dilma-temer/%3Futm_source%3Destadao%3Awhatsapp%26utm_medium%3Dlink\" class=\"ico-whatsapp\" title=\"Compartilhe pelo WhatsApp\" target=\"_blank\">&nbsp;</a> </li> <li class=\"facebook \"> <a href=\"https://www.facebook.com/sharer/sharer.php?u=https://politica.estadao.com.br/blogs/estadao-verifica/tse-bolsonaro-gasolina-dilma-temer/%3Futm_source%3Destadao%3Afacebook%26utm_medium%3Dlink\" target=\"_blank\" class=\"ico-facebook\" title=\"Compartilhe pelo Facebook\" >&nbsp;</a> </li> <li class=\"twitter \"> <a href=\"https://twitter.com/intent/tweet?text=Tuíte distorce fatos sobre redução de preços de gasolina em ano eleitoral%20@estadao%3A%20&amp;url=https://politica.estadao.com.br/blogs/estadao-verifica/tse-bolsonaro-gasolina-dilma-temer/%3Futm_source%3Destadao%3Atwitter%26utm_medium%3Dlink\" target=\"_blank\" class=\"ico-twitter\" title=\"Compartilhe pelo Twitter\" >&nbsp;</a> </li> <li class=\"other \"> <a href=\"javascript:void(0);\" class=\"ico-dots-three-horizontal \" title=\"Mais compartilhamentos\" data-href=\"https://politica.estadao.com.br/blogs/estadao-verifica/tse-bolsonaro-gasolina-dilma-temer/\" data-title=\"Tuíte distorce fatos sobre redução de preços de gasolina em ano eleitoral\">&nbsp;</a> <div class=\"share-more\" > <div class=\"share-total\" data-url=\"https://politica.estadao.com.br/blogs/estadao-verifica/tse-bolsonaro-gasolina-dilma-temer/\"></div> <ul> <li class=\"twitter\"> <a href=\"https://twitter.com/intent/tweet?text=Tuíte distorce fatos sobre redução de preços de gasolina em ano eleitoral%20@estadao%3A%20&amp;url=https://politica.estadao.com.br/blogs/estadao-verifica/tse-bolsonaro-gasolina-dilma-temer/%3Futm_source%3Destadao%3Atwitter%26utm_medium%3Dlink\" target=\"_blank\" class=\"ico-twitter\" > <span>twitter</span> </a> </li> <li class=\"linkedin\"> <a href=\"https://www.linkedin.com/cws/share?url=https://politica.estadao.com.br/blogs/estadao-verifica/tse-bolsonaro-gasolina-dilma-temer/%3Futm_source%3Destadao%3Alinkedin%26utm_medium%3Dlink\" target=\"_blank\" class=\"ico-linkedin\" > <span>linkedin</span> </a> </li> <li class=\"email\"> <a href=\"mailto:?subject=Tuíte distorce fatos sobre redução de preços de gasolina em ano eleitoral&amp;body=Tuíte distorce fatos sobre redução de preços de gasolina em ano eleitoral - https://politica.estadao.com.br/blogs/estadao-verifica/tse-bolsonaro-gasolina-dilma-temer/%3Futm_source%3Destadao%3Amail%26utm_medium%3Dlink\" class=\"ico-envelope-o\" > <span>e-mail</span> </a> </li> <li class=\"print\"> <a href=\"javascript:window.print();\" class=\"ico-printer-text\" > <span>imprimir</span> </a> </li> </ul> </div> </li></ul> </div> <a href=\"https://politica.estadao.com.br/blogs/estadao-verifica/tse-bolsonaro-gasolina-dilma-temer/\" title=\"Tuíte distorce fatos sobre redução de preços de gasolina em ano eleitoral\"> <h3 class=\"fifth\" title=\"Tuíte distorce fatos sobre redução de preços de gasolina em ano eleitoral\"> Tuíte distorce fatos sobre redução de preços de gasolina em ano eleitoral </h3> <p title=\"Dilma não diminuiu tarifa de energia em ano eleitoral e TSE não julgou Bolsonaro sobre valor de combustíveis\"> Dilma não diminuiu tarifa de energia em ano eleitoral e TSE não julgou Bolsonaro sobre valor de combustíveis </p> </a> </div> <div class=\"box \"> <div class=\"label\"> <a href=\"https://politica.estadao.com.br/noticias/eleicoes,tarcisio-negocia-filiacao-ao-republicanos-para-disputar-governo-de-sao-paulo,70004018534\" title=\"Política\"> <h4 class=\"cor-e\"> Política </h4> </a> <ul class=\"share \"> <li class=\"hidden\"> <a href=\"javascript:void(0);\" class=\"balloon comentarios-balaozinho\" data-ancora=\\'noticia_1\\' title=\"Comentários\"> </a> </li> <li class=\"whatsapp \"> <a href=\"https://wa.me/?text=Tarc%C3%ADsio+acerta+filia%C3%A7%C3%A3o+ao+Republicanos+para+disputar+governo+de+S%C3%A3o+Paulo%20Estad%C3%A3o%3A%20https://politica.estadao.com.br/noticias/eleicoes,tarcisio-negocia-filiacao-ao-republicanos-para-disputar-governo-de-sao-paulo,70004018534%3Futm_source%3Destadao%3Awhatsapp%26utm_medium%3Dlink\" class=\"ico-whatsapp\" title=\"Compartilhe pelo WhatsApp\" target=\"_blank\">&nbsp;</a> </li> <li class=\"facebook \"> <a href=\"https://www.facebook.com/sharer/sharer.php?u=https://politica.estadao.com.br/noticias/eleicoes,tarcisio-negocia-filiacao-ao-republicanos-para-disputar-governo-de-sao-paulo,70004018534%3Futm_source%3Destadao%3Afacebook%26utm_medium%3Dlink\" target=\"_blank\" class=\"ico-facebook\" title=\"Compartilhe pelo Facebook\" >&nbsp;</a> </li> <li class=\"twitter \"> <a href=\"https://twitter.com/intent/tweet?text=Tarcísio acerta filiação ao Republicanos para disputar governo de São Paulo%20@estadao%3A%20&amp;url=https://politica.estadao.com.br/noticias/eleicoes,tarcisio-negocia-filiacao-ao-republicanos-para-disputar-governo-de-sao-paulo,70004018534%3Futm_source%3Destadao%3Atwitter%26utm_medium%3Dlink\" target=\"_blank\" class=\"ico-twitter\" title=\"Compartilhe pelo Twitter\" >&nbsp;</a> </li> <li class=\"other \"> <a href=\"javascript:void(0);\" class=\"ico-dots-three-horizontal \" title=\"Mais compartilhamentos\" data-href=\"https://politica.estadao.com.br/noticias/eleicoes,tarcisio-negocia-filiacao-ao-republicanos-para-disputar-governo-de-sao-paulo,70004018534\" data-title=\"Tarcísio acerta filiação ao Republicanos para disputar governo de São Paulo\">&nbsp;</a> <div class=\"share-more\" > <div class=\"share-total\" data-url=\"https://politica.estadao.com.br/noticias/eleicoes,tarcisio-negocia-filiacao-ao-republicanos-para-disputar-governo-de-sao-paulo,70004018534\"></div> <ul> <li class=\"twitter\"> <a href=\"https://twitter.com/intent/tweet?text=Tarcísio acerta filiação ao Republicanos para disputar governo de São Paulo%20@estadao%3A%20&amp;url=https://politica.estadao.com.br/noticias/eleicoes,tarcisio-negocia-filiacao-ao-republicanos-para-disputar-governo-de-sao-paulo,70004018534%3Futm_source%3Destadao%3Atwitter%26utm_medium%3Dlink\" target=\"_blank\" class=\"ico-twitter\" > <span>twitter</span> </a> </li> <li class=\"linkedin\"> <a href=\"https://www.linkedin.com/cws/share?url=https://politica.estadao.com.br/noticias/eleicoes,tarcisio-negocia-filiacao-ao-republicanos-para-disputar-governo-de-sao-paulo,70004018534%3Futm_source%3Destadao%3Alinkedin%26utm_medium%3Dlink\" target=\"_blank\" class=\"ico-linkedin\" > <span>linkedin</span> </a> </li> <li class=\"email\"> <a href=\"mailto:?subject=Tarcísio acerta filiação ao Republicanos para disputar governo de São Paulo&amp;body=Tarcísio acerta filiação ao Republicanos para disputar governo de São Paulo - https://politica.estadao.com.br/noticias/eleicoes,tarcisio-negocia-filiacao-ao-republicanos-para-disputar-governo-de-sao-paulo,70004018534%3Futm_source%3Destadao%3Amail%26utm_medium%3Dlink\" class=\"ico-envelope-o\" > <span>e-mail</span> </a> </li> <li class=\"print\"> <a href=\"javascript:window.print();\" class=\"ico-printer-text\" > <span>imprimir</span> </a> </li> </ul> </div> </li></ul> </div> <a href=\"https://politica.estadao.com.br/noticias/eleicoes,tarcisio-negocia-filiacao-ao-republicanos-para-disputar-governo-de-sao-paulo,70004018534\" title=\"Tarcísio acerta filiação ao Republicanos para disputar governo de São Paulo\"> <h3 class=\"fifth\" title=\"Tarcísio acerta filiação ao Republicanos para disputar governo de São Paulo\"> Tarcísio acerta filiação ao Republicanos para disputar governo de São Paulo </h3> <p title=\"Pré-candidato, Ministro da Infraestrutura conversava com o PL, partido do presidente do Jair Bolsonaro, mas acabou por fechar acordo para se filiar ao Republicanos\"> Pré-candidato, Ministro da Infraestrutura conversava com o PL, partido do presidente do Jair Bolsonaro, mas acabou por fechar acordo para se filiar ao Republicanos </p> </a> </div> <hr class=\"line-divider bottom\" /></section> </div> </section> </div></section> <link rel=\"preload\" href=\"https://statics.estadao.com.br/s2016/portal/eleicoes2020/js/eleicoes2020.min.js?v=27-11-2020\" as=\"script\"><script type=\"text/javascript\" src=\"https://statics.estadao.com.br/s2016/portal/eleicoes2020/js/eleicoes2020.min.js?v=27-11-2020\"></script> <script type=\"text/javascript\"> var oReload = new Reload(true, 300); </script> <div id=\\'oop-3\\' class=\\'publicidade dfp\\' data-force=\\'1\\' data-screenmap=\\'out_of_page\\' data-target=\\'{\"formato\":\"oop\",\"page_url\":\"politica.estadao.com.br,eleicoes,2020,candidatos\",\"pg_tipo\":\"eleicoes\",\"tags\":false}\\' data-status=\\'init\\' ></div><script src=\"//www.estadao.com.br/estadao/js/modules/navegg.js\" async></script><section class=\"col-md-12 col-sm-12 col-xs-12 center-xs x140\"> <div class=\"box\"> <section class=\"blue-studio -hidden\"> <div class=\"container\"> <div class=\"meta\"> <h2 class=\"title-one\">Estadão Blue Studio Express</h2> <p class=\"sub-title\">Conteúdo criado em parceria com pequenas e médias empresas. <a href=\"https://bluestudioexpress.estadao.com.br/\" title=\"Saiba mais.\">Saiba mais.</a></p> </div> <div class=\"row\"> <div class=\"col-xs-12 col-sm-6 col-md-3 -hidden -col-1\"> <div id=\"medialab1\" class=\"media-lab-item\"></div> <script> var showBlueStudio = function (col) { var container = document.querySelector(\\'.blue-studio.-hidden\\'); if (container && container.classList) container.classList.remove(\\'-hidden\\'); var colElement = document.querySelector(\\'.-hidden.-col-\\' + col); if (colElement && colElement.classList) colElement.classList.remove(\\'-hidden\\'); }; DFP.cmd.push(() => { DFP.renderHtml({ targets: { formato: \\'medialab1\\' }, slot: \"/118650305/posicao_pme_interna\", selector: document.getElementById(\\'medialab1\\'), screenmap: \\'fluid\\', notEmptyCallback: () => showBlueStudio(1) }); }); </script> </div> <div class=\"col-xs-12 col-sm-6 col-md-3 -hidden -col-2\"> <div id=\"medialab2\" class=\"media-lab-item\"></div> <script> DFP.cmd.push(() => { DFP.renderHtml({ targets: { formato: \\'medialab2\\' }, slot: \"/118650305/posicao_pme_interna\", selector: document.getElementById(\\'medialab2\\'), screenmap: \\'fluid\\', notEmptyCallback: () => showBlueStudio(2) }); }); </script> </div> <div class=\"col-xs-12 col-sm-6 col-md-3 -hidden -col-3\"> <div id=\"medialab3\" class=\"media-lab-item\"></div> <script> DFP.cmd.push(() => { DFP.renderHtml({ targets: { formato: \\'medialab3\\' }, slot: \"/118650305/posicao_pme_interna\", selector: document.getElementById(\\'medialab3\\'), screenmap: \\'fluid\\', notEmptyCallback: () => showBlueStudio(3) }); }); </script> </div> <div class=\"col-xs-12 col-sm-6 col-md-3 -hidden -col-4\"> <div id=\"medialab4\" class=\"media-lab-item\"></div> <script> DFP.cmd.push(() => { DFP.renderHtml({ targets: { formato: \\'medialab4\\' }, slot: \"/118650305/posicao_pme_interna\", selector: document.getElementById(\\'medialab4\\'), screenmap: \\'fluid\\', notEmptyCallback: () => showBlueStudio(4) }); }); </script> </div> </div> </div></section><style>.blue-studio{margin-top:35px}.blue-studio.-hidden,.blue-studio .-hidden{visibility:hidden;opacity:0;height:1px}.blue-studio.-hidden{margin-top:0}.blue-studio .publicidade{display:block}.blue-studio .publicidade::before{display:none !important}.blue-studio .publicidade.__notempty[data-status^=\"complete\"],.blue-studio .publicidade.__notempty.complete{margin:0;padding:0}@media (max-width:767px){.blue-studio .wrap-content>.meta,.blue-studio .container>.meta{position:relative;top:5px}}.blue-studio .container{box-sizing:border-box;max-width:1172px;padding-left:1em;padding-right:1em}.blue-studio .title-one{font-family:\\'EstadoHeadline-Bold\\',\\'EstadoHeadlineBold\\',Georgia,serif;font-size:26px;line-height:1.15;text-align:left;color:#2575E8;float:none}.blue-studio .title-one:before{content:\"\";width:69px;height:4px;background-color:#2575E8;margin-bottom:7px;display:block}.blue-studio .linha-fina{font-family:\\'Lato-Regular\\',\\'LatoRegular\\',Georgia,sans-serif;color:#444}.blue-studio .sub-title{font-family:\\'Lato-Regular\\',\\'LatoRegular\\',Georgia,sans-serif;font-size:14px;line-height:1.29;color:#474747;text-align:left}.blue-studio .sub-title a{color:#2575E8;text-decoration:underline}.blue-studio .sub-title a:visited,.blue-studio .sub-title a:active,.blue-studio .sub-title a:focus{color:inherit}.blue-studio .col-xs-12{margin-top:25px;margin-bottom:5px}@media (min-width:768px){.blue-studio .col-xs-12{margin-top:20px;margin-bottom:0}}.blue-studio .media-lab-item{padding:10px 0;border-radius:5px;box-shadow:0 2px 10px 0 rgba(0,0,0,0.12)}</style> </div></section><footer> <section class=\"footer-container expedient\"> <div class=\"row\"> <section class=\"col-md-12 col-sm-12 col-xs-12\"> <div class=\"row\"> <section class=\"col-md-3 col-sm-3 col-xs-12 menu-list menu-institucional\"> <div class=\"box\"> <p>Institucional</p> <ul> <li> <a href=\"http://www.estadao.com.br/ext/codigoetica/codigo_de_etica_miolo.pdf\" title=\"Código de ética\">Código de ética</a> </li> <li> <a href=\"http://www.estadao.com.br/ext/codigoetica/politica_anti_corrupcao.pdf\" title=\"Politica anticorrupção\">Politica anticorrupção</a> </li> <li> <a href=\"http://www.estadao.com.br/tudo-sobre/focas\" title=\"Curso de jornalismo\">Curso de jornalismo</a> </li> <li> <a href=\"http://www.estadao.com.br/relatorio-da-administracao/\" title=\"Demonstrações Contábeis\">Demonstrações Contábeis</a> </li> <li> <a href=\"http://www.estadao.com.br/termo-de-uso/\" title=\"Termo de uso\">Termo de uso</a> </li> </ul> </div> </section> <section class=\"col-md-3 col-sm-3 col-xs-12 menu-list menu-atendimento\"> <div class=\"box\"> <p>Atendimento</p> <ul> <li> <a href=\"http://www.estadao.com.br/correcoes\" title=\"Correções\">Correções</a> </li> <li> <a href=\"http://www.assinante.estadao.com.br/\" target=\"_blank\" rel=\"noopener noreferrer\" title=\"Portal do assinante\">Portal do assinante</a> </li> <li> <a href=\"http://www.estadao.com.br/fale-conosco/\" title=\"Fale conosco\">Fale conosco</a> </li> <li> <a href=\"https://jobs.kenoby.com/estadao\" target=\"_blank\" rel=\"noopener noreferrer\" title=\"Trabalhe conosco\">Trabalhe conosco</a> </li> </ul> </div> </section> <section class=\"col-md-3 col-sm-3 col-xs-12 menu-list menu-conexão estadão\"> <div class=\"box\"> <p>Conexão Estadão</p> <ul> <li> <a href=\"http://broadcast.com.br\" target=\"_blank\" rel=\"noopener noreferrer\" title=\"Broadcast\">Broadcast</a> </li> <li> <a href=\"http://www.broadcastpolitico.com.br/\" target=\"_blank\" rel=\"noopener noreferrer\" title=\"Broadcast político\">Broadcast político</a> </li> <li> <a href=\"http://www.estadao.com.br/aplicativos/\" title=\"Aplicativos\">Aplicativos</a> </li> </ul> </div> </section> <section class=\"col-md-3 col-sm-3 col-xs-6 edicao-digital\"> <div class=\"box\"> <p>Hoje</p> <figure> <a href=\"https://acesso.estadao.com.br/login/estadao-jornal-digital\" class=\"digital\"> <img class=\"elazy\" src=\"\" data-src-desktop=\"https://img.estadao.com.br/fotos/crop/162x269/fotos3/162x269/Capa_Estadao_Facebook_26_03_2022.jpg\"> </a> </figure> </div> </section> </div> </section> </div> </section> <nav class=\"another-links center-xs\"> <ul> <li> <a href=\"http://acervo.estadao.com.br/\" title=\"Acervo\">Acervo</a> </li> <li> <a href=\"http://pme.estadao.com.br/\" title=\"PME\">PME</a> </li> <li> <a href=\"http://www.estadao.com.br/jornal-do-carro/\" title=\"Jornal do Carro\">Jornal do Carro</a> </li> <li> <a href=\"http://paladar.estadao.com.br/\" title=\"Paladar\">Paladar</a> </li> <li> <a href=\"http://link.estadao.com.br/\" title=\"Link\">Link</a> </li> <li> <a href=\"http://www.ilocal.com.br/\" title=\"iLocal\">iLocal</a> </li> <li> <a href=\"http://broadcast.com.br\" target=\"_blank\" title=\"Agência Estado\">Agência Estado</a> </li> <li> <a href=\"http://www.territorioeldorado.limao.com.br/\" title=\"Rádio Eldorado\">Rádio Eldorado</a> </li> <li> <a href=\"http://radio.estadao.com.br/\" title=\"Rádio Estadão\">Rádio Estadão</a> </li> <li> <a href=\"http://planetadigital.estadao.com.br/\" target=\"_blank\" title=\"Planeta Digital\">Planeta Digital</a> </li> <li> <a href=\"https://www.movingimoveis.com.br/\" target=\"_blank\" title=\"Moving Imóveis\">Moving Imóveis</a> </li> </ul> </nav> <section class=\"footer-container copyright\"> <div class=\"row\"> <section class=\"col-md-12 col-sm-12 col-xs-12\"> <div class=\"box\"> <a href=\"http://www.estadao.com.br/\" class=\"logo\" ></a> <p>Copyright © 1995 - 2022 Grupo Estado</p> <ul> <li class=\"ico-facebook-square\"> <a href=\"https://www.facebook.com/estadao\" target=\"_blank\" title=\"Estadão no Facebook\" > <span>Facebook</span> </a> </li> <li class=\"ico-twitter-square\"> <a href=\"https://twitter.com/estadao/\" target=\"_blank\" title=\"Estadão no Twitter\" > <span>Twitter</span> </a> </li> <li class=\"ico-instagram-square\"> <a href=\"https://www.instagram.com/estadao/\" target=\"_blank\" title=\"Estadão no Instagram\"> <span>Instagram</span> </a> </li> <li class=\"ico-pinterest-square\"> <a href=\"https://br.pinterest.com/estadao/\" target=\"_blank\" title=\"Estadão no Pinterest\" > <span>Pinterest</span> </a> </li> </ul> </div> </section> </div> </section></footer> <script> document.addEventListener(\\'DOMContentLoaded\\', function () { if (document.querySelector(\\'[data-event]\\')) { [].forEach.call(document.querySelectorAll(\\'[data-event]\\'), function (itemEvent) { itemEvent.addEventListener(\\'click\\', function (e) { try { var item = e.target.closest(\\'[data-event]\\'); var event = item.getAttribute(\\'data-event\\').split(\\',\\'); if (typeof event === \"object\" && Object.keys(event).length === 3) { console.log(\\'Disparado com sucesso: \\' + event); window.dp6GenericEvent(event[0], event[1], event[2]); } } catch (error) { }; }); }); }; });</script> <div class=\"ie-overlay\"><div class=\"ie-alert\"><p>O Estadão deixou de dar suporte ao Internet Explorer 9 ou anterior. <a href=\"https://www.whatsmybrowser.org/\" target=\"_blank\" rel=\"noopener noreferrer\">Clique aqui</a> e saiba mais.</p></div></div> </body></html>'"
            ]
          },
          "execution_count": 8,
          "metadata": {},
          "output_type": "execute_result"
        }
      ],
      "source": [
        "# Para ver o conteúdo do texto execute o código abaixo\n",
        "r.text"
      ]
    },
    {
      "cell_type": "markdown",
      "id": "0e3c9c25",
      "metadata": {
        "id": "0e3c9c25"
      },
      "source": [
        "Perceba que veio todo o conteúdo do HTML. Porém dessa forma é difícil de trabalhar. Então o próximo passo é criar um objeto BeautifulSoup para tratar e encontrar os elementos da página."
      ]
    },
    {
      "cell_type": "code",
      "execution_count": null,
      "id": "8bf0e6d3",
      "metadata": {
        "id": "8bf0e6d3"
      },
      "outputs": [],
      "source": [
        "# Vamos então criar objeto soup que vai receber o texto do requests e passar o parametro html.parser\n",
        "soup = BeautifulSoup(r.text, 'html.parser')"
      ]
    },
    {
      "cell_type": "code",
      "execution_count": null,
      "id": "f79d8b94",
      "metadata": {
        "id": "f79d8b94",
        "outputId": "06186491-3e63-46a0-e6bf-266754dab5a8"
      },
      "outputs": [
        {
          "data": {
            "text/plain": [
              "bs4.BeautifulSoup"
            ]
          },
          "execution_count": 10,
          "metadata": {},
          "output_type": "execute_result"
        }
      ],
      "source": [
        "type(soup) # Vamos ver o tipo do objeto criado"
      ]
    },
    {
      "cell_type": "markdown",
      "id": "60bb51b4",
      "metadata": {
        "id": "60bb51b4"
      },
      "source": [
        "Veja que o objeto criado é do tipo bs4.BeautifulSoup com ele vai ser possível fazer uma varredura no HTML e assim, extrair seu conteúdo.\n",
        "O próximo passo é analisar o conteúdo da página. E buscar a Tag que contém as informações dos candidatos. Para essa tarefa utilizar o navegador google Chrome. Com a página aberta no navegador, clique com o botão direito do mouse em cima da imagem do candidato em seguida clique em inspecionar."
      ]
    },
    {
      "cell_type": "code",
      "execution_count": null,
      "id": "235008bf",
      "metadata": {
        "id": "235008bf"
      },
      "outputs": [],
      "source": [
        "# Vamos utilizar o método examina os descendentes de uma tag e recupera todos os descendentes que correspondem aos seus elementos\n",
        "# Nesse caso vamos procurar a tag Div e pela class col-xs-12 -only\n",
        "candidatos = soup.find_all(\"div\", attrs={\"class\": \"col-xs-12 -only\"})"
      ]
    },
    {
      "cell_type": "markdown",
      "id": "4ceef7e9",
      "metadata": {
        "id": "4ceef7e9"
      },
      "source": [
        "O método traz uma lista do tipo BeautifulSoup de tags para cada candidato dessa forma podemos exibir os itens dentro da lista"
      ]
    },
    {
      "cell_type": "code",
      "execution_count": null,
      "id": "921e251a",
      "metadata": {
        "id": "921e251a",
        "outputId": "919cad54-d973-4b59-9dcd-af4611fccda5"
      },
      "outputs": [
        {
          "data": {
            "text/plain": [
              "bs4.element.ResultSet"
            ]
          },
          "execution_count": 12,
          "metadata": {},
          "output_type": "execute_result"
        }
      ],
      "source": [
        "type(candidatos)"
      ]
    },
    {
      "cell_type": "code",
      "execution_count": null,
      "id": "abfccca4",
      "metadata": {
        "id": "abfccca4",
        "outputId": "26524bcc-3634-4be6-98b0-e33d2c31c284"
      },
      "outputs": [
        {
          "data": {
            "text/plain": [
              "[<div class=\"col-xs-12 -only\"> <a href=\"https://politica.estadao.com.br/eleicoes/2020/candidatos/sp/sao-paulo/prefeito/andrea-matarazzo,55\" title=\"andrea matarazzo\"> <div class=\"mold-cand\"> <div class=\"cand-mask\"> <img alt=\"andrea matarazzo\" class=\"elazy\" data-src=\"https://img.estadao.com.br/fotos/politica/eleicoes-2020/SP/FSP250000661535_div.jpg\" onerror=\"this.onerror=null;this.src='https://statics.estadao.com.br/s2016/portal/eleicoes2020/img/img_placeholder.png';\"/> </div> <div class=\"cand-desc\"> <h3 class=\"cand-name\">andrea matarazzo</h3> <span class=\"cand-partido\">PSD</span> </div> </div> </a> </div>,\n",
              " <div class=\"col-xs-12 -only\"> <a href=\"https://politica.estadao.com.br/eleicoes/2020/candidatos/sp/sao-paulo/prefeito/antonio-carlos,29\" title=\"antônio carlos\"> <div class=\"mold-cand\"> <div class=\"cand-mask\"> <img alt=\"antônio carlos\" class=\"elazy\" data-src=\"https://img.estadao.com.br/fotos/politica/eleicoes-2020/SP/FSP250001172314_div.jpg\" onerror=\"this.onerror=null;this.src='https://statics.estadao.com.br/s2016/portal/eleicoes2020/img/img_placeholder.png';\"/> </div> <div class=\"cand-desc\"> <h3 class=\"cand-name\">antônio carlos</h3> <span class=\"cand-partido\">PCO</span> </div> </div> </a> </div>,\n",
              " <div class=\"col-xs-12 -only\"> <a href=\"https://politica.estadao.com.br/eleicoes/2020/candidatos/sp/sao-paulo/prefeito/arthur-do-val-mamae-falei,51\" title=\"arthur do val mamãe falei\"> <div class=\"mold-cand\"> <div class=\"cand-mask\"> <img alt=\"arthur do val mamãe falei\" class=\"elazy\" data-src=\"https://img.estadao.com.br/fotos/politica/eleicoes-2020/SP/FSP250000641390_div.jpg\" onerror=\"this.onerror=null;this.src='https://statics.estadao.com.br/s2016/portal/eleicoes2020/img/img_placeholder.png';\"/> </div> <div class=\"cand-desc\"> <h3 class=\"cand-name\">arthur do val mamãe falei</h3> <span class=\"cand-partido\">PATRIOTA</span> </div> </div> </a> </div>]"
            ]
          },
          "execution_count": 13,
          "metadata": {},
          "output_type": "execute_result"
        }
      ],
      "source": [
        "# Vamos listar os itens que estão na lista de candidatos\n",
        "candidatos[:3] # traz os primeiros elementos da lista"
      ]
    },
    {
      "cell_type": "markdown",
      "id": "35a354a6",
      "metadata": {
        "id": "35a354a6"
      },
      "source": [
        "Perceba que cada candidato é separado por uma \"vírgula\" assim podemos identificar os elementos dentro das tags. Vamos nesse momento iniciar o tratamento dos dados. Vamos iniciar então a extração dos dados.\n",
        "\n",
        "Dentro de cada item da lista possuem várias tags. Por exemplo: div, a, span, img. Nossa tarefa é identificar qual tag esta cada dado e indicar o nome do candidato podemos extrair das tags a, img"
      ]
    },
    {
      "cell_type": "code",
      "execution_count": null,
      "id": "7265eada",
      "metadata": {
        "id": "7265eada",
        "outputId": "2b16e494-1ebc-4cc3-902f-68e33cccbf98"
      },
      "outputs": [
        {
          "name": "stdout",
          "output_type": "stream",
          "text": [
            "Extração do nome do candidato utlizando a TAG \"img\":  antônio carlos\n",
            "Extração do nome do candidato utlizando a TAG \"a\":  antônio carlos\n"
          ]
        }
      ],
      "source": [
        "# Extração do nome candidato utilizando a TAG \"img\"\n",
        "nome_candidato = candidatos[1].img[\"alt\"] # Traz o primeiro elemento da lista\n",
        "# Extração do nome candidato utilizando a TAG \"a\"\n",
        "nome_candidato2 = candidatos[1].a[\"title\"]\n",
        "print('Extração do nome do candidato utlizando a TAG \"img\": ', nome_candidato)\n",
        "print('Extração do nome do candidato utlizando a TAG \"a\": ', nome_candidato2)"
      ]
    },
    {
      "cell_type": "markdown",
      "id": "4c4f46f1",
      "metadata": {
        "id": "4c4f46f1"
      },
      "source": [
        "Agora vamos fazer a coleta para os outros atributos: partido, estado, cidade, link_candidato"
      ]
    },
    {
      "cell_type": "code",
      "execution_count": null,
      "id": "4793f81e",
      "metadata": {
        "id": "4793f81e",
        "outputId": "5011f0c1-2ac3-4670-9b6e-38151929329c"
      },
      "outputs": [
        {
          "name": "stdout",
          "output_type": "stream",
          "text": [
            "PCO\n"
          ]
        }
      ],
      "source": [
        "# Buscando o partido do candidato\n",
        "partido = candidatos[1].span.text\n",
        "print(partido)"
      ]
    },
    {
      "cell_type": "markdown",
      "id": "4bc6ef0c",
      "metadata": {
        "id": "4bc6ef0c"
      },
      "source": [
        "As informações de estado e cidade estão presentes dentro da TAG \"a\". A TAG \"a\" é um link de acesso, então vamos utilizar uma expressão regular para separar e encontrar os dados dentro do link.\n",
        "\n",
        "Para isso vamos importar a biblioteca re."
      ]
    },
    {
      "cell_type": "code",
      "execution_count": null,
      "id": "d63f8cb7",
      "metadata": {
        "id": "d63f8cb7"
      },
      "outputs": [],
      "source": [
        "import re"
      ]
    },
    {
      "cell_type": "markdown",
      "id": "0cc164c5",
      "metadata": {
        "id": "0cc164c5"
      },
      "source": [
        "Vamos ver como está a construção do link contido na página."
      ]
    },
    {
      "cell_type": "code",
      "execution_count": null,
      "id": "f590b979",
      "metadata": {
        "id": "f590b979",
        "outputId": "b3c86d79-fe97-4c90-c20a-d714d0e264e5"
      },
      "outputs": [
        {
          "name": "stdout",
          "output_type": "stream",
          "text": [
            "https://politica.estadao.com.br/eleicoes/2020/candidatos/sp/sao-paulo/prefeito/antonio-carlos,29\n"
          ]
        }
      ],
      "source": [
        "print(candidatos[1].a[\"href\"])"
      ]
    },
    {
      "cell_type": "markdown",
      "id": "dae02cd1",
      "metadata": {
        "id": "dae02cd1"
      },
      "source": [
        "Perceba que as informações de estado e cidade estão separados por \"/\". Então vamos executar o comando split para separar as palavras dentro de um vetor"
      ]
    },
    {
      "cell_type": "code",
      "execution_count": null,
      "id": "46404422",
      "metadata": {
        "id": "46404422",
        "outputId": "30534d76-cfc1-4013-fd11-93f6e1fde6f1"
      },
      "outputs": [
        {
          "name": "stdout",
          "output_type": "stream",
          "text": [
            "['https:', '', 'politica.estadao.com.br', 'eleicoes', '2020', 'candidatos', 'sp', 'sao-paulo', 'prefeito', 'antonio-carlos,29']\n"
          ]
        }
      ],
      "source": [
        "print(re.split('/', candidatos[1].a[\"href\"]))"
      ]
    },
    {
      "cell_type": "markdown",
      "id": "2d200347",
      "metadata": {
        "id": "2d200347"
      },
      "source": [
        "Vejam que cada palavra foi separada dentro de um vetor. O vetor pode ser acessado informando a sua posição. Neste caso, a posição 6 e 7 indicam o estado e a cidade do candidato."
      ]
    },
    {
      "cell_type": "code",
      "execution_count": null,
      "id": "a5b89e94",
      "metadata": {
        "id": "a5b89e94",
        "outputId": "0a24cdb9-eb09-4e68-df5b-2cb020fbee98"
      },
      "outputs": [
        {
          "name": "stdout",
          "output_type": "stream",
          "text": [
            "Estado do candidato:  sp\n",
            "Cidade do candidato:  sao-paulo\n"
          ]
        }
      ],
      "source": [
        "print(\"Estado do candidato: \", re.split('/', candidatos[1].a[\"href\"])[6])\n",
        "print(\"Cidade do candidato: \", re.split('/', candidatos[1].a[\"href\"])[7])"
      ]
    },
    {
      "cell_type": "code",
      "execution_count": null,
      "id": "624825ea",
      "metadata": {
        "id": "624825ea"
      },
      "outputs": [],
      "source": [
        "# Agora vamos atribuir para as variáveis\n",
        "estado = re.split('/', candidatos[1].a[\"href\"])[6]\n",
        "cidade = re.split('/', candidatos[1].a[\"href\"])[7]\n",
        "link = candidatos[1].a[\"href\"]"
      ]
    },
    {
      "cell_type": "code",
      "execution_count": null,
      "id": "a392f920",
      "metadata": {
        "id": "a392f920",
        "outputId": "00f1d3ba-2f8e-4636-e414-07202d37361f"
      },
      "outputs": [
        {
          "name": "stdout",
          "output_type": "stream",
          "text": [
            "sp sao-paulo https://politica.estadao.com.br/eleicoes/2020/candidatos/sp/sao-paulo/prefeito/antonio-carlos,29\n"
          ]
        }
      ],
      "source": [
        "print(estado, cidade, link)"
      ]
    },
    {
      "cell_type": "markdown",
      "id": "0f4dca65",
      "metadata": {
        "id": "0f4dca65"
      },
      "source": [
        "Ótimo! Agora que temos todos os dados que queremos, vamos criar uma estrutura que percorra toda a lista de candidatos e coletando os dados. Ao final teremos uma lista contendo todos os dados dos candidatos.\n",
        "\n",
        "Vamos criar um for para percorrer toda a lista e adicionar os elementos que queremos."
      ]
    },
    {
      "cell_type": "code",
      "execution_count": null,
      "id": "993e7d9a",
      "metadata": {
        "id": "993e7d9a"
      },
      "outputs": [],
      "source": [
        "lista_candidatos = []\n",
        "# buscar o nome do candidato\n",
        "for candidato in candidatos:\n",
        "    dados_candidato = []\n",
        "    dados_candidato.append(candidato.img[\"alt\"]) # nome do candidato\n",
        "    dados_candidato.append(candidato.span.text) # partido\n",
        "    dados_candidato.append(re.split('/', candidato.a[\"href\"])[6]) # estado\n",
        "    dados_candidato.append(re.split('/', candidato.a[\"href\"])[7]) # cidade\n",
        "    dados_candidato.append(candidato.a[\"href\"]) # link\n",
        "    lista_candidatos.append(dados_candidato)"
      ]
    },
    {
      "cell_type": "code",
      "execution_count": null,
      "id": "a34ddb00",
      "metadata": {
        "id": "a34ddb00",
        "outputId": "9374318c-f378-4824-9420-7605bdbceabc"
      },
      "outputs": [
        {
          "data": {
            "text/plain": [
              "[['andrea matarazzo',\n",
              "  'PSD',\n",
              "  'sp',\n",
              "  'sao-paulo',\n",
              "  'https://politica.estadao.com.br/eleicoes/2020/candidatos/sp/sao-paulo/prefeito/andrea-matarazzo,55'],\n",
              " ['antônio carlos',\n",
              "  'PCO',\n",
              "  'sp',\n",
              "  'sao-paulo',\n",
              "  'https://politica.estadao.com.br/eleicoes/2020/candidatos/sp/sao-paulo/prefeito/antonio-carlos,29']]"
            ]
          },
          "execution_count": 39,
          "metadata": {},
          "output_type": "execute_result"
        }
      ],
      "source": [
        "lista_candidatos[:2]"
      ]
    },
    {
      "cell_type": "markdown",
      "id": "34b608d1",
      "metadata": {
        "id": "34b608d1"
      },
      "source": [
        "Com os dados coletados e adicionados na lista de candidatos, vamos agora criar um Dataframe. Para isso vamos utlizar a biblioteca do pandas."
      ]
    },
    {
      "cell_type": "code",
      "execution_count": null,
      "id": "45f3baa5",
      "metadata": {
        "id": "45f3baa5"
      },
      "outputs": [],
      "source": [
        "import pandas as pd"
      ]
    },
    {
      "cell_type": "code",
      "execution_count": null,
      "id": "5318e856",
      "metadata": {
        "id": "5318e856"
      },
      "outputs": [],
      "source": [
        "# Criando um data frame passando a lista de candidatos e inserindo as colunas\n",
        "df_candidatos = pd.DataFrame(lista_candidatos, columns = ['nome_candidato', 'partido', 'estado', 'cidade', 'link'])"
      ]
    },
    {
      "cell_type": "code",
      "execution_count": null,
      "id": "91d11eab",
      "metadata": {
        "id": "91d11eab",
        "outputId": "826537a8-430f-46bb-fe10-874ef2b04392"
      },
      "outputs": [
        {
          "data": {
            "text/html": [
              "<div>\n",
              "<style scoped>\n",
              "    .dataframe tbody tr th:only-of-type {\n",
              "        vertical-align: middle;\n",
              "    }\n",
              "\n",
              "    .dataframe tbody tr th {\n",
              "        vertical-align: top;\n",
              "    }\n",
              "\n",
              "    .dataframe thead th {\n",
              "        text-align: right;\n",
              "    }\n",
              "</style>\n",
              "<table border=\"1\" class=\"dataframe\">\n",
              "  <thead>\n",
              "    <tr style=\"text-align: right;\">\n",
              "      <th></th>\n",
              "      <th>nome_candidato</th>\n",
              "      <th>partido</th>\n",
              "      <th>estado</th>\n",
              "      <th>cidade</th>\n",
              "      <th>link</th>\n",
              "    </tr>\n",
              "  </thead>\n",
              "  <tbody>\n",
              "    <tr>\n",
              "      <th>0</th>\n",
              "      <td>andrea matarazzo</td>\n",
              "      <td>PSD</td>\n",
              "      <td>sp</td>\n",
              "      <td>sao-paulo</td>\n",
              "      <td>https://politica.estadao.com.br/eleicoes/2020/...</td>\n",
              "    </tr>\n",
              "    <tr>\n",
              "      <th>1</th>\n",
              "      <td>antônio carlos</td>\n",
              "      <td>PCO</td>\n",
              "      <td>sp</td>\n",
              "      <td>sao-paulo</td>\n",
              "      <td>https://politica.estadao.com.br/eleicoes/2020/...</td>\n",
              "    </tr>\n",
              "    <tr>\n",
              "      <th>2</th>\n",
              "      <td>arthur do val mamãe falei</td>\n",
              "      <td>PATRIOTA</td>\n",
              "      <td>sp</td>\n",
              "      <td>sao-paulo</td>\n",
              "      <td>https://politica.estadao.com.br/eleicoes/2020/...</td>\n",
              "    </tr>\n",
              "    <tr>\n",
              "      <th>3</th>\n",
              "      <td>bruno covas</td>\n",
              "      <td>PSDB</td>\n",
              "      <td>sp</td>\n",
              "      <td>sao-paulo</td>\n",
              "      <td>https://politica.estadao.com.br/eleicoes/2020/...</td>\n",
              "    </tr>\n",
              "  </tbody>\n",
              "</table>\n",
              "</div>"
            ],
            "text/plain": [
              "              nome_candidato   partido estado     cidade  \\\n",
              "0           andrea matarazzo       PSD     sp  sao-paulo   \n",
              "1             antônio carlos       PCO     sp  sao-paulo   \n",
              "2  arthur do val mamãe falei  PATRIOTA     sp  sao-paulo   \n",
              "3                bruno covas      PSDB     sp  sao-paulo   \n",
              "\n",
              "                                                link  \n",
              "0  https://politica.estadao.com.br/eleicoes/2020/...  \n",
              "1  https://politica.estadao.com.br/eleicoes/2020/...  \n",
              "2  https://politica.estadao.com.br/eleicoes/2020/...  \n",
              "3  https://politica.estadao.com.br/eleicoes/2020/...  "
            ]
          },
          "execution_count": 42,
          "metadata": {},
          "output_type": "execute_result"
        }
      ],
      "source": [
        "df_candidatos[:4]"
      ]
    },
    {
      "cell_type": "markdown",
      "id": "b1096677",
      "metadata": {
        "id": "b1096677"
      },
      "source": [
        "# Explorando e tratando os dados coletados\n",
        "Pronto! Agora estamos com os dados carregados no nosso DataFrame. Vamos então explorar e tratar um pouco os dados?"
      ]
    },
    {
      "cell_type": "code",
      "execution_count": null,
      "id": "89f613dd",
      "metadata": {
        "id": "89f613dd",
        "outputId": "cfb800a5-8334-4ba6-c371-35ff3953aace"
      },
      "outputs": [
        {
          "data": {
            "text/plain": [
              "mg    16\n",
              "sp    14\n",
              "rj    14\n",
              "Name: estado, dtype: int64"
            ]
          },
          "execution_count": 43,
          "metadata": {},
          "output_type": "execute_result"
        }
      ],
      "source": [
        "# contar quantos candidatos temos por estado\n",
        "df_candidatos['estado'].value_counts()"
      ]
    },
    {
      "cell_type": "code",
      "execution_count": null,
      "id": "6c26a142",
      "metadata": {
        "id": "6c26a142",
        "outputId": "6201b881-7195-4f1b-9394-3e04eba4efb8"
      },
      "outputs": [
        {
          "data": {
            "text/plain": [
              "belo-horizonte    16\n",
              "sao-paulo         14\n",
              "rio-de-janeiro    14\n",
              "Name: cidade, dtype: int64"
            ]
          },
          "execution_count": 44,
          "metadata": {},
          "output_type": "execute_result"
        }
      ],
      "source": [
        "# contar quantos candidatos temos por estado\n",
        "df_candidatos['cidade'].value_counts()"
      ]
    },
    {
      "cell_type": "code",
      "execution_count": null,
      "id": "592f369c",
      "metadata": {
        "id": "592f369c",
        "outputId": "a646ac6b-de5f-4d15-839e-43513a05098b"
      },
      "outputs": [
        {
          "data": {
            "text/plain": [
              "PCO              3\n",
              "REPUBLICANOS     3\n",
              "PSOL             3\n",
              "PT               3\n",
              "PSTU             3\n",
              "PRTB             3\n",
              "NOVO             3\n",
              "PSD              2\n",
              "PMB              2\n",
              "PROS             2\n",
              "PC do B          2\n",
              "REDE             2\n",
              "PSL              2\n",
              "PSDB             2\n",
              "PATRIOTA         2\n",
              "PSB              1\n",
              "PDT              1\n",
              "DEM              1\n",
              "PSC              1\n",
              "MDB              1\n",
              "CIDADANIA        1\n",
              "SOLIDARIEDADE    1\n",
              "Name: partido, dtype: int64"
            ]
          },
          "execution_count": 45,
          "metadata": {},
          "output_type": "execute_result"
        }
      ],
      "source": [
        "# contar quantos candidatos temos por partido\n",
        "df_candidatos['partido'].value_counts()"
      ]
    },
    {
      "cell_type": "markdown",
      "id": "cccf2b63",
      "metadata": {
        "id": "cccf2b63"
      },
      "source": [
        "# Realizando tratamento de texto"
      ]
    },
    {
      "cell_type": "code",
      "execution_count": null,
      "id": "b70ef6a2",
      "metadata": {
        "id": "b70ef6a2",
        "outputId": "731b4d5b-23e3-4a11-83e3-12b3dd5518bc"
      },
      "outputs": [
        {
          "data": {
            "text/html": [
              "<div>\n",
              "<style scoped>\n",
              "    .dataframe tbody tr th:only-of-type {\n",
              "        vertical-align: middle;\n",
              "    }\n",
              "\n",
              "    .dataframe tbody tr th {\n",
              "        vertical-align: top;\n",
              "    }\n",
              "\n",
              "    .dataframe thead th {\n",
              "        text-align: right;\n",
              "    }\n",
              "</style>\n",
              "<table border=\"1\" class=\"dataframe\">\n",
              "  <thead>\n",
              "    <tr style=\"text-align: right;\">\n",
              "      <th></th>\n",
              "      <th>nome_candidato</th>\n",
              "      <th>partido</th>\n",
              "      <th>estado</th>\n",
              "      <th>cidade</th>\n",
              "      <th>link</th>\n",
              "    </tr>\n",
              "  </thead>\n",
              "  <tbody>\n",
              "    <tr>\n",
              "      <th>0</th>\n",
              "      <td>andrea matarazzo</td>\n",
              "      <td>PSD</td>\n",
              "      <td>sp</td>\n",
              "      <td>sao-paulo</td>\n",
              "      <td>https://politica.estadao.com.br/eleicoes/2020/...</td>\n",
              "    </tr>\n",
              "    <tr>\n",
              "      <th>1</th>\n",
              "      <td>antônio carlos</td>\n",
              "      <td>PCO</td>\n",
              "      <td>sp</td>\n",
              "      <td>sao-paulo</td>\n",
              "      <td>https://politica.estadao.com.br/eleicoes/2020/...</td>\n",
              "    </tr>\n",
              "    <tr>\n",
              "      <th>2</th>\n",
              "      <td>arthur do val mamãe falei</td>\n",
              "      <td>PATRIOTA</td>\n",
              "      <td>sp</td>\n",
              "      <td>sao-paulo</td>\n",
              "      <td>https://politica.estadao.com.br/eleicoes/2020/...</td>\n",
              "    </tr>\n",
              "    <tr>\n",
              "      <th>3</th>\n",
              "      <td>bruno covas</td>\n",
              "      <td>PSDB</td>\n",
              "      <td>sp</td>\n",
              "      <td>sao-paulo</td>\n",
              "      <td>https://politica.estadao.com.br/eleicoes/2020/...</td>\n",
              "    </tr>\n",
              "    <tr>\n",
              "      <th>4</th>\n",
              "      <td>celso russomanno</td>\n",
              "      <td>REPUBLICANOS</td>\n",
              "      <td>sp</td>\n",
              "      <td>sao-paulo</td>\n",
              "      <td>https://politica.estadao.com.br/eleicoes/2020/...</td>\n",
              "    </tr>\n",
              "    <tr>\n",
              "      <th>5</th>\n",
              "      <td>guilherme boulos</td>\n",
              "      <td>PSOL</td>\n",
              "      <td>sp</td>\n",
              "      <td>sao-paulo</td>\n",
              "      <td>https://politica.estadao.com.br/eleicoes/2020/...</td>\n",
              "    </tr>\n",
              "  </tbody>\n",
              "</table>\n",
              "</div>"
            ],
            "text/plain": [
              "              nome_candidato       partido estado     cidade  \\\n",
              "0           andrea matarazzo           PSD     sp  sao-paulo   \n",
              "1             antônio carlos           PCO     sp  sao-paulo   \n",
              "2  arthur do val mamãe falei      PATRIOTA     sp  sao-paulo   \n",
              "3                bruno covas          PSDB     sp  sao-paulo   \n",
              "4           celso russomanno  REPUBLICANOS     sp  sao-paulo   \n",
              "5           guilherme boulos          PSOL     sp  sao-paulo   \n",
              "\n",
              "                                                link  \n",
              "0  https://politica.estadao.com.br/eleicoes/2020/...  \n",
              "1  https://politica.estadao.com.br/eleicoes/2020/...  \n",
              "2  https://politica.estadao.com.br/eleicoes/2020/...  \n",
              "3  https://politica.estadao.com.br/eleicoes/2020/...  \n",
              "4  https://politica.estadao.com.br/eleicoes/2020/...  \n",
              "5  https://politica.estadao.com.br/eleicoes/2020/...  "
            ]
          },
          "execution_count": 47,
          "metadata": {},
          "output_type": "execute_result"
        }
      ],
      "source": [
        "df_candidatos[:6]"
      ]
    },
    {
      "cell_type": "markdown",
      "id": "ea923fea",
      "metadata": {
        "id": "ea923fea"
      },
      "source": [
        "Perceba que no DataFrame contém dados em letras minúsculas e a coluna de cidade os nomes estão separados com um hífem. Vamos então tratar esses dados substituindo o hífem por um espaço e alterando os nomes para maiúsculas."
      ]
    },
    {
      "cell_type": "code",
      "execution_count": null,
      "id": "f2ccdcfe",
      "metadata": {
        "id": "f2ccdcfe",
        "outputId": "67ff6f8b-4fb7-4d19-db57-0a22393c4b17"
      },
      "outputs": [
        {
          "data": {
            "text/plain": [
              "0    SAO PAULO\n",
              "1    SAO PAULO\n",
              "Name: cidade, dtype: object"
            ]
          },
          "execution_count": 48,
          "metadata": {},
          "output_type": "execute_result"
        }
      ],
      "source": [
        "df_candidatos[:2].cidade.str.replace('-', ' ').str.upper()"
      ]
    },
    {
      "cell_type": "markdown",
      "id": "aff68a51",
      "metadata": {
        "id": "aff68a51"
      },
      "source": [
        "Podemos ainda fazer a correção da palavra São Paulo. Vamos alterar inserindo o til \"~\""
      ]
    },
    {
      "cell_type": "code",
      "execution_count": null,
      "id": "b84bf59b",
      "metadata": {
        "id": "b84bf59b",
        "outputId": "7bf5dff6-8c6e-463c-bc8e-24d4bf5daa19"
      },
      "outputs": [
        {
          "data": {
            "text/plain": [
              "0    SÃO PAULO\n",
              "1    SÃO PAULO\n",
              "Name: cidade, dtype: object"
            ]
          },
          "execution_count": 49,
          "metadata": {},
          "output_type": "execute_result"
        }
      ],
      "source": [
        "df_candidatos[:2]['cidade'].str.upper().str.replace('-', ' ').str.replace(\"SAO\", \"SÃO\")"
      ]
    },
    {
      "cell_type": "markdown",
      "id": "b43351b4",
      "metadata": {
        "id": "b43351b4"
      },
      "source": [
        "Agora temos os tratamentos. Porém temos que atribuir essas mudanças ao próprio DataFrame na coluna cidade criada. Obs: Não se esqueçam de retirar o delimitador da lista [:2]"
      ]
    },
    {
      "cell_type": "code",
      "execution_count": null,
      "id": "79982ca8",
      "metadata": {
        "id": "79982ca8",
        "outputId": "73b27545-e69d-460e-993d-93088cdbc40c"
      },
      "outputs": [
        {
          "data": {
            "text/html": [
              "<div>\n",
              "<style scoped>\n",
              "    .dataframe tbody tr th:only-of-type {\n",
              "        vertical-align: middle;\n",
              "    }\n",
              "\n",
              "    .dataframe tbody tr th {\n",
              "        vertical-align: top;\n",
              "    }\n",
              "\n",
              "    .dataframe thead th {\n",
              "        text-align: right;\n",
              "    }\n",
              "</style>\n",
              "<table border=\"1\" class=\"dataframe\">\n",
              "  <thead>\n",
              "    <tr style=\"text-align: right;\">\n",
              "      <th></th>\n",
              "      <th>nome_candidato</th>\n",
              "      <th>partido</th>\n",
              "      <th>estado</th>\n",
              "      <th>cidade</th>\n",
              "      <th>link</th>\n",
              "    </tr>\n",
              "  </thead>\n",
              "  <tbody>\n",
              "    <tr>\n",
              "      <th>0</th>\n",
              "      <td>andrea matarazzo</td>\n",
              "      <td>PSD</td>\n",
              "      <td>sp</td>\n",
              "      <td>SÃO PAULO</td>\n",
              "      <td>https://politica.estadao.com.br/eleicoes/2020/...</td>\n",
              "    </tr>\n",
              "    <tr>\n",
              "      <th>1</th>\n",
              "      <td>antônio carlos</td>\n",
              "      <td>PCO</td>\n",
              "      <td>sp</td>\n",
              "      <td>SÃO PAULO</td>\n",
              "      <td>https://politica.estadao.com.br/eleicoes/2020/...</td>\n",
              "    </tr>\n",
              "    <tr>\n",
              "      <th>2</th>\n",
              "      <td>arthur do val mamãe falei</td>\n",
              "      <td>PATRIOTA</td>\n",
              "      <td>sp</td>\n",
              "      <td>SÃO PAULO</td>\n",
              "      <td>https://politica.estadao.com.br/eleicoes/2020/...</td>\n",
              "    </tr>\n",
              "    <tr>\n",
              "      <th>3</th>\n",
              "      <td>bruno covas</td>\n",
              "      <td>PSDB</td>\n",
              "      <td>sp</td>\n",
              "      <td>SÃO PAULO</td>\n",
              "      <td>https://politica.estadao.com.br/eleicoes/2020/...</td>\n",
              "    </tr>\n",
              "    <tr>\n",
              "      <th>4</th>\n",
              "      <td>celso russomanno</td>\n",
              "      <td>REPUBLICANOS</td>\n",
              "      <td>sp</td>\n",
              "      <td>SÃO PAULO</td>\n",
              "      <td>https://politica.estadao.com.br/eleicoes/2020/...</td>\n",
              "    </tr>\n",
              "    <tr>\n",
              "      <th>5</th>\n",
              "      <td>guilherme boulos</td>\n",
              "      <td>PSOL</td>\n",
              "      <td>sp</td>\n",
              "      <td>SÃO PAULO</td>\n",
              "      <td>https://politica.estadao.com.br/eleicoes/2020/...</td>\n",
              "    </tr>\n",
              "    <tr>\n",
              "      <th>6</th>\n",
              "      <td>jilmar tatto</td>\n",
              "      <td>PT</td>\n",
              "      <td>sp</td>\n",
              "      <td>SÃO PAULO</td>\n",
              "      <td>https://politica.estadao.com.br/eleicoes/2020/...</td>\n",
              "    </tr>\n",
              "    <tr>\n",
              "      <th>7</th>\n",
              "      <td>joice hasselmann</td>\n",
              "      <td>PSL</td>\n",
              "      <td>sp</td>\n",
              "      <td>SÃO PAULO</td>\n",
              "      <td>https://politica.estadao.com.br/eleicoes/2020/...</td>\n",
              "    </tr>\n",
              "    <tr>\n",
              "      <th>8</th>\n",
              "      <td>levy fidelix</td>\n",
              "      <td>PRTB</td>\n",
              "      <td>sp</td>\n",
              "      <td>SÃO PAULO</td>\n",
              "      <td>https://politica.estadao.com.br/eleicoes/2020/...</td>\n",
              "    </tr>\n",
              "    <tr>\n",
              "      <th>9</th>\n",
              "      <td>marina helou</td>\n",
              "      <td>REDE</td>\n",
              "      <td>sp</td>\n",
              "      <td>SÃO PAULO</td>\n",
              "      <td>https://politica.estadao.com.br/eleicoes/2020/...</td>\n",
              "    </tr>\n",
              "    <tr>\n",
              "      <th>10</th>\n",
              "      <td>márcio frança</td>\n",
              "      <td>PSB</td>\n",
              "      <td>sp</td>\n",
              "      <td>SÃO PAULO</td>\n",
              "      <td>https://politica.estadao.com.br/eleicoes/2020/...</td>\n",
              "    </tr>\n",
              "    <tr>\n",
              "      <th>11</th>\n",
              "      <td>orlando silva</td>\n",
              "      <td>PC do B</td>\n",
              "      <td>sp</td>\n",
              "      <td>SÃO PAULO</td>\n",
              "      <td>https://politica.estadao.com.br/eleicoes/2020/...</td>\n",
              "    </tr>\n",
              "    <tr>\n",
              "      <th>12</th>\n",
              "      <td>sabará</td>\n",
              "      <td>NOVO</td>\n",
              "      <td>sp</td>\n",
              "      <td>SÃO PAULO</td>\n",
              "      <td>https://politica.estadao.com.br/eleicoes/2020/...</td>\n",
              "    </tr>\n",
              "    <tr>\n",
              "      <th>13</th>\n",
              "      <td>vera</td>\n",
              "      <td>PSTU</td>\n",
              "      <td>sp</td>\n",
              "      <td>SÃO PAULO</td>\n",
              "      <td>https://politica.estadao.com.br/eleicoes/2020/...</td>\n",
              "    </tr>\n",
              "    <tr>\n",
              "      <th>14</th>\n",
              "      <td>bandeira de mello</td>\n",
              "      <td>REDE</td>\n",
              "      <td>rj</td>\n",
              "      <td>RIO DE JANEIRO</td>\n",
              "      <td>https://politica.estadao.com.br/eleicoes/2020/...</td>\n",
              "    </tr>\n",
              "    <tr>\n",
              "      <th>15</th>\n",
              "      <td>benedita da silva</td>\n",
              "      <td>PT</td>\n",
              "      <td>rj</td>\n",
              "      <td>RIO DE JANEIRO</td>\n",
              "      <td>https://politica.estadao.com.br/eleicoes/2020/...</td>\n",
              "    </tr>\n",
              "    <tr>\n",
              "      <th>16</th>\n",
              "      <td>clarissa garotinho</td>\n",
              "      <td>PROS</td>\n",
              "      <td>rj</td>\n",
              "      <td>RIO DE JANEIRO</td>\n",
              "      <td>https://politica.estadao.com.br/eleicoes/2020/...</td>\n",
              "    </tr>\n",
              "    <tr>\n",
              "      <th>17</th>\n",
              "      <td>crivella</td>\n",
              "      <td>REPUBLICANOS</td>\n",
              "      <td>rj</td>\n",
              "      <td>RIO DE JANEIRO</td>\n",
              "      <td>https://politica.estadao.com.br/eleicoes/2020/...</td>\n",
              "    </tr>\n",
              "    <tr>\n",
              "      <th>18</th>\n",
              "      <td>cyro garcia</td>\n",
              "      <td>PSTU</td>\n",
              "      <td>rj</td>\n",
              "      <td>RIO DE JANEIRO</td>\n",
              "      <td>https://politica.estadao.com.br/eleicoes/2020/...</td>\n",
              "    </tr>\n",
              "    <tr>\n",
              "      <th>19</th>\n",
              "      <td>delegada martha rocha</td>\n",
              "      <td>PDT</td>\n",
              "      <td>rj</td>\n",
              "      <td>RIO DE JANEIRO</td>\n",
              "      <td>https://politica.estadao.com.br/eleicoes/2020/...</td>\n",
              "    </tr>\n",
              "    <tr>\n",
              "      <th>20</th>\n",
              "      <td>eduardo paes</td>\n",
              "      <td>DEM</td>\n",
              "      <td>rj</td>\n",
              "      <td>RIO DE JANEIRO</td>\n",
              "      <td>https://politica.estadao.com.br/eleicoes/2020/...</td>\n",
              "    </tr>\n",
              "    <tr>\n",
              "      <th>21</th>\n",
              "      <td>fred luz</td>\n",
              "      <td>NOVO</td>\n",
              "      <td>rj</td>\n",
              "      <td>RIO DE JANEIRO</td>\n",
              "      <td>https://politica.estadao.com.br/eleicoes/2020/...</td>\n",
              "    </tr>\n",
              "    <tr>\n",
              "      <th>22</th>\n",
              "      <td>glória heloiza</td>\n",
              "      <td>PSC</td>\n",
              "      <td>rj</td>\n",
              "      <td>RIO DE JANEIRO</td>\n",
              "      <td>https://politica.estadao.com.br/eleicoes/2020/...</td>\n",
              "    </tr>\n",
              "    <tr>\n",
              "      <th>23</th>\n",
              "      <td>henrique simonard</td>\n",
              "      <td>PCO</td>\n",
              "      <td>rj</td>\n",
              "      <td>RIO DE JANEIRO</td>\n",
              "      <td>https://politica.estadao.com.br/eleicoes/2020/...</td>\n",
              "    </tr>\n",
              "    <tr>\n",
              "      <th>24</th>\n",
              "      <td>luiz lima</td>\n",
              "      <td>PSL</td>\n",
              "      <td>rj</td>\n",
              "      <td>RIO DE JANEIRO</td>\n",
              "      <td>https://politica.estadao.com.br/eleicoes/2020/...</td>\n",
              "    </tr>\n",
              "    <tr>\n",
              "      <th>25</th>\n",
              "      <td>paulo messina</td>\n",
              "      <td>MDB</td>\n",
              "      <td>rj</td>\n",
              "      <td>RIO DE JANEIRO</td>\n",
              "      <td>https://politica.estadao.com.br/eleicoes/2020/...</td>\n",
              "    </tr>\n",
              "    <tr>\n",
              "      <th>26</th>\n",
              "      <td>renata souza</td>\n",
              "      <td>PSOL</td>\n",
              "      <td>rj</td>\n",
              "      <td>RIO DE JANEIRO</td>\n",
              "      <td>https://politica.estadao.com.br/eleicoes/2020/...</td>\n",
              "    </tr>\n",
              "    <tr>\n",
              "      <th>27</th>\n",
              "      <td>suêd haidar</td>\n",
              "      <td>PMB</td>\n",
              "      <td>rj</td>\n",
              "      <td>RIO DE JANEIRO</td>\n",
              "      <td>https://politica.estadao.com.br/eleicoes/2020/...</td>\n",
              "    </tr>\n",
              "    <tr>\n",
              "      <th>28</th>\n",
              "      <td>bruno engler</td>\n",
              "      <td>PRTB</td>\n",
              "      <td>mg</td>\n",
              "      <td>BELO HORIZONTE</td>\n",
              "      <td>https://politica.estadao.com.br/eleicoes/2020/...</td>\n",
              "    </tr>\n",
              "    <tr>\n",
              "      <th>29</th>\n",
              "      <td>bruno engler</td>\n",
              "      <td>PRTB</td>\n",
              "      <td>mg</td>\n",
              "      <td>BELO HORIZONTE</td>\n",
              "      <td>https://politica.estadao.com.br/eleicoes/2020/...</td>\n",
              "    </tr>\n",
              "    <tr>\n",
              "      <th>30</th>\n",
              "      <td>cabo xavier</td>\n",
              "      <td>PMB</td>\n",
              "      <td>mg</td>\n",
              "      <td>BELO HORIZONTE</td>\n",
              "      <td>https://politica.estadao.com.br/eleicoes/2020/...</td>\n",
              "    </tr>\n",
              "    <tr>\n",
              "      <th>31</th>\n",
              "      <td>fabiano cazeca</td>\n",
              "      <td>PROS</td>\n",
              "      <td>mg</td>\n",
              "      <td>BELO HORIZONTE</td>\n",
              "      <td>https://politica.estadao.com.br/eleicoes/2020/...</td>\n",
              "    </tr>\n",
              "    <tr>\n",
              "      <th>32</th>\n",
              "      <td>joão vitor xavier</td>\n",
              "      <td>CIDADANIA</td>\n",
              "      <td>mg</td>\n",
              "      <td>BELO HORIZONTE</td>\n",
              "      <td>https://politica.estadao.com.br/eleicoes/2020/...</td>\n",
              "    </tr>\n",
              "    <tr>\n",
              "      <th>33</th>\n",
              "      <td>kalil</td>\n",
              "      <td>PSD</td>\n",
              "      <td>mg</td>\n",
              "      <td>BELO HORIZONTE</td>\n",
              "      <td>https://politica.estadao.com.br/eleicoes/2020/...</td>\n",
              "    </tr>\n",
              "    <tr>\n",
              "      <th>34</th>\n",
              "      <td>lafayette andrada</td>\n",
              "      <td>REPUBLICANOS</td>\n",
              "      <td>mg</td>\n",
              "      <td>BELO HORIZONTE</td>\n",
              "      <td>https://politica.estadao.com.br/eleicoes/2020/...</td>\n",
              "    </tr>\n",
              "    <tr>\n",
              "      <th>35</th>\n",
              "      <td>luisa barreto</td>\n",
              "      <td>PSDB</td>\n",
              "      <td>mg</td>\n",
              "      <td>BELO HORIZONTE</td>\n",
              "      <td>https://politica.estadao.com.br/eleicoes/2020/...</td>\n",
              "    </tr>\n",
              "    <tr>\n",
              "      <th>36</th>\n",
              "      <td>marcelo souza e silva</td>\n",
              "      <td>PATRIOTA</td>\n",
              "      <td>mg</td>\n",
              "      <td>BELO HORIZONTE</td>\n",
              "      <td>https://politica.estadao.com.br/eleicoes/2020/...</td>\n",
              "    </tr>\n",
              "    <tr>\n",
              "      <th>37</th>\n",
              "      <td>marilia domingues</td>\n",
              "      <td>PCO</td>\n",
              "      <td>mg</td>\n",
              "      <td>BELO HORIZONTE</td>\n",
              "      <td>https://politica.estadao.com.br/eleicoes/2020/...</td>\n",
              "    </tr>\n",
              "    <tr>\n",
              "      <th>38</th>\n",
              "      <td>nilmário miranda</td>\n",
              "      <td>PT</td>\n",
              "      <td>mg</td>\n",
              "      <td>BELO HORIZONTE</td>\n",
              "      <td>https://politica.estadao.com.br/eleicoes/2020/...</td>\n",
              "    </tr>\n",
              "    <tr>\n",
              "      <th>39</th>\n",
              "      <td>professor wendel mesquita</td>\n",
              "      <td>SOLIDARIEDADE</td>\n",
              "      <td>mg</td>\n",
              "      <td>BELO HORIZONTE</td>\n",
              "      <td>https://politica.estadao.com.br/eleicoes/2020/...</td>\n",
              "    </tr>\n",
              "    <tr>\n",
              "      <th>40</th>\n",
              "      <td>rodrigo paiva</td>\n",
              "      <td>NOVO</td>\n",
              "      <td>mg</td>\n",
              "      <td>BELO HORIZONTE</td>\n",
              "      <td>https://politica.estadao.com.br/eleicoes/2020/...</td>\n",
              "    </tr>\n",
              "    <tr>\n",
              "      <th>41</th>\n",
              "      <td>wadson ribeiro</td>\n",
              "      <td>PC do B</td>\n",
              "      <td>mg</td>\n",
              "      <td>BELO HORIZONTE</td>\n",
              "      <td>https://politica.estadao.com.br/eleicoes/2020/...</td>\n",
              "    </tr>\n",
              "    <tr>\n",
              "      <th>42</th>\n",
              "      <td>wanderson rocha</td>\n",
              "      <td>PSTU</td>\n",
              "      <td>mg</td>\n",
              "      <td>BELO HORIZONTE</td>\n",
              "      <td>https://politica.estadao.com.br/eleicoes/2020/...</td>\n",
              "    </tr>\n",
              "    <tr>\n",
              "      <th>43</th>\n",
              "      <td>áurea carolina</td>\n",
              "      <td>PSOL</td>\n",
              "      <td>mg</td>\n",
              "      <td>BELO HORIZONTE</td>\n",
              "      <td>https://politica.estadao.com.br/eleicoes/2020/...</td>\n",
              "    </tr>\n",
              "  </tbody>\n",
              "</table>\n",
              "</div>"
            ],
            "text/plain": [
              "               nome_candidato        partido estado          cidade  \\\n",
              "0            andrea matarazzo            PSD     sp       SÃO PAULO   \n",
              "1              antônio carlos            PCO     sp       SÃO PAULO   \n",
              "2   arthur do val mamãe falei       PATRIOTA     sp       SÃO PAULO   \n",
              "3                 bruno covas           PSDB     sp       SÃO PAULO   \n",
              "4            celso russomanno   REPUBLICANOS     sp       SÃO PAULO   \n",
              "5            guilherme boulos           PSOL     sp       SÃO PAULO   \n",
              "6                jilmar tatto             PT     sp       SÃO PAULO   \n",
              "7            joice hasselmann            PSL     sp       SÃO PAULO   \n",
              "8                levy fidelix           PRTB     sp       SÃO PAULO   \n",
              "9                marina helou           REDE     sp       SÃO PAULO   \n",
              "10              márcio frança            PSB     sp       SÃO PAULO   \n",
              "11              orlando silva        PC do B     sp       SÃO PAULO   \n",
              "12                     sabará           NOVO     sp       SÃO PAULO   \n",
              "13                       vera           PSTU     sp       SÃO PAULO   \n",
              "14          bandeira de mello           REDE     rj  RIO DE JANEIRO   \n",
              "15          benedita da silva             PT     rj  RIO DE JANEIRO   \n",
              "16         clarissa garotinho           PROS     rj  RIO DE JANEIRO   \n",
              "17                   crivella   REPUBLICANOS     rj  RIO DE JANEIRO   \n",
              "18                cyro garcia           PSTU     rj  RIO DE JANEIRO   \n",
              "19      delegada martha rocha            PDT     rj  RIO DE JANEIRO   \n",
              "20               eduardo paes            DEM     rj  RIO DE JANEIRO   \n",
              "21                   fred luz           NOVO     rj  RIO DE JANEIRO   \n",
              "22             glória heloiza            PSC     rj  RIO DE JANEIRO   \n",
              "23          henrique simonard            PCO     rj  RIO DE JANEIRO   \n",
              "24                  luiz lima            PSL     rj  RIO DE JANEIRO   \n",
              "25              paulo messina            MDB     rj  RIO DE JANEIRO   \n",
              "26               renata souza           PSOL     rj  RIO DE JANEIRO   \n",
              "27                suêd haidar            PMB     rj  RIO DE JANEIRO   \n",
              "28               bruno engler           PRTB     mg  BELO HORIZONTE   \n",
              "29               bruno engler           PRTB     mg  BELO HORIZONTE   \n",
              "30                cabo xavier            PMB     mg  BELO HORIZONTE   \n",
              "31             fabiano cazeca           PROS     mg  BELO HORIZONTE   \n",
              "32          joão vitor xavier      CIDADANIA     mg  BELO HORIZONTE   \n",
              "33                      kalil            PSD     mg  BELO HORIZONTE   \n",
              "34          lafayette andrada   REPUBLICANOS     mg  BELO HORIZONTE   \n",
              "35              luisa barreto           PSDB     mg  BELO HORIZONTE   \n",
              "36      marcelo souza e silva       PATRIOTA     mg  BELO HORIZONTE   \n",
              "37          marilia domingues            PCO     mg  BELO HORIZONTE   \n",
              "38           nilmário miranda             PT     mg  BELO HORIZONTE   \n",
              "39  professor wendel mesquita  SOLIDARIEDADE     mg  BELO HORIZONTE   \n",
              "40              rodrigo paiva           NOVO     mg  BELO HORIZONTE   \n",
              "41             wadson ribeiro        PC do B     mg  BELO HORIZONTE   \n",
              "42            wanderson rocha           PSTU     mg  BELO HORIZONTE   \n",
              "43             áurea carolina           PSOL     mg  BELO HORIZONTE   \n",
              "\n",
              "                                                 link  \n",
              "0   https://politica.estadao.com.br/eleicoes/2020/...  \n",
              "1   https://politica.estadao.com.br/eleicoes/2020/...  \n",
              "2   https://politica.estadao.com.br/eleicoes/2020/...  \n",
              "3   https://politica.estadao.com.br/eleicoes/2020/...  \n",
              "4   https://politica.estadao.com.br/eleicoes/2020/...  \n",
              "5   https://politica.estadao.com.br/eleicoes/2020/...  \n",
              "6   https://politica.estadao.com.br/eleicoes/2020/...  \n",
              "7   https://politica.estadao.com.br/eleicoes/2020/...  \n",
              "8   https://politica.estadao.com.br/eleicoes/2020/...  \n",
              "9   https://politica.estadao.com.br/eleicoes/2020/...  \n",
              "10  https://politica.estadao.com.br/eleicoes/2020/...  \n",
              "11  https://politica.estadao.com.br/eleicoes/2020/...  \n",
              "12  https://politica.estadao.com.br/eleicoes/2020/...  \n",
              "13  https://politica.estadao.com.br/eleicoes/2020/...  \n",
              "14  https://politica.estadao.com.br/eleicoes/2020/...  \n",
              "15  https://politica.estadao.com.br/eleicoes/2020/...  \n",
              "16  https://politica.estadao.com.br/eleicoes/2020/...  \n",
              "17  https://politica.estadao.com.br/eleicoes/2020/...  \n",
              "18  https://politica.estadao.com.br/eleicoes/2020/...  \n",
              "19  https://politica.estadao.com.br/eleicoes/2020/...  \n",
              "20  https://politica.estadao.com.br/eleicoes/2020/...  \n",
              "21  https://politica.estadao.com.br/eleicoes/2020/...  \n",
              "22  https://politica.estadao.com.br/eleicoes/2020/...  \n",
              "23  https://politica.estadao.com.br/eleicoes/2020/...  \n",
              "24  https://politica.estadao.com.br/eleicoes/2020/...  \n",
              "25  https://politica.estadao.com.br/eleicoes/2020/...  \n",
              "26  https://politica.estadao.com.br/eleicoes/2020/...  \n",
              "27  https://politica.estadao.com.br/eleicoes/2020/...  \n",
              "28  https://politica.estadao.com.br/eleicoes/2020/...  \n",
              "29  https://politica.estadao.com.br/eleicoes/2020/...  \n",
              "30  https://politica.estadao.com.br/eleicoes/2020/...  \n",
              "31  https://politica.estadao.com.br/eleicoes/2020/...  \n",
              "32  https://politica.estadao.com.br/eleicoes/2020/...  \n",
              "33  https://politica.estadao.com.br/eleicoes/2020/...  \n",
              "34  https://politica.estadao.com.br/eleicoes/2020/...  \n",
              "35  https://politica.estadao.com.br/eleicoes/2020/...  \n",
              "36  https://politica.estadao.com.br/eleicoes/2020/...  \n",
              "37  https://politica.estadao.com.br/eleicoes/2020/...  \n",
              "38  https://politica.estadao.com.br/eleicoes/2020/...  \n",
              "39  https://politica.estadao.com.br/eleicoes/2020/...  \n",
              "40  https://politica.estadao.com.br/eleicoes/2020/...  \n",
              "41  https://politica.estadao.com.br/eleicoes/2020/...  \n",
              "42  https://politica.estadao.com.br/eleicoes/2020/...  \n",
              "43  https://politica.estadao.com.br/eleicoes/2020/...  "
            ]
          },
          "execution_count": 50,
          "metadata": {},
          "output_type": "execute_result"
        }
      ],
      "source": [
        "df_candidatos['cidade'] = df_candidatos['cidade'].str.upper().str.replace('-', ' ').str.replace(\"SAO\", \"SÃO\")\n",
        "\n",
        "# Visualizando DataFrame\n",
        "df_candidatos"
      ]
    },
    {
      "cell_type": "markdown",
      "id": "8b168c41",
      "metadata": {
        "id": "8b168c41"
      },
      "source": [
        "Vamos colocar em maiúsculo também as colunas nome_candidado e estado"
      ]
    },
    {
      "cell_type": "code",
      "execution_count": null,
      "id": "85953cff",
      "metadata": {
        "id": "85953cff",
        "outputId": "12a7bbda-ff0d-4035-b538-f3db52316a6b"
      },
      "outputs": [
        {
          "data": {
            "text/html": [
              "<div>\n",
              "<style scoped>\n",
              "    .dataframe tbody tr th:only-of-type {\n",
              "        vertical-align: middle;\n",
              "    }\n",
              "\n",
              "    .dataframe tbody tr th {\n",
              "        vertical-align: top;\n",
              "    }\n",
              "\n",
              "    .dataframe thead th {\n",
              "        text-align: right;\n",
              "    }\n",
              "</style>\n",
              "<table border=\"1\" class=\"dataframe\">\n",
              "  <thead>\n",
              "    <tr style=\"text-align: right;\">\n",
              "      <th></th>\n",
              "      <th>nome_candidato</th>\n",
              "      <th>partido</th>\n",
              "      <th>estado</th>\n",
              "      <th>cidade</th>\n",
              "      <th>link</th>\n",
              "    </tr>\n",
              "  </thead>\n",
              "  <tbody>\n",
              "    <tr>\n",
              "      <th>0</th>\n",
              "      <td>ANDREA MATARAZZO</td>\n",
              "      <td>PSD</td>\n",
              "      <td>SP</td>\n",
              "      <td>SÃO PAULO</td>\n",
              "      <td>https://politica.estadao.com.br/eleicoes/2020/...</td>\n",
              "    </tr>\n",
              "    <tr>\n",
              "      <th>1</th>\n",
              "      <td>ANTÔNIO CARLOS</td>\n",
              "      <td>PCO</td>\n",
              "      <td>SP</td>\n",
              "      <td>SÃO PAULO</td>\n",
              "      <td>https://politica.estadao.com.br/eleicoes/2020/...</td>\n",
              "    </tr>\n",
              "    <tr>\n",
              "      <th>2</th>\n",
              "      <td>ARTHUR DO VAL MAMÃE FALEI</td>\n",
              "      <td>PATRIOTA</td>\n",
              "      <td>SP</td>\n",
              "      <td>SÃO PAULO</td>\n",
              "      <td>https://politica.estadao.com.br/eleicoes/2020/...</td>\n",
              "    </tr>\n",
              "  </tbody>\n",
              "</table>\n",
              "</div>"
            ],
            "text/plain": [
              "              nome_candidato   partido estado     cidade  \\\n",
              "0           ANDREA MATARAZZO       PSD     SP  SÃO PAULO   \n",
              "1             ANTÔNIO CARLOS       PCO     SP  SÃO PAULO   \n",
              "2  ARTHUR DO VAL MAMÃE FALEI  PATRIOTA     SP  SÃO PAULO   \n",
              "\n",
              "                                                link  \n",
              "0  https://politica.estadao.com.br/eleicoes/2020/...  \n",
              "1  https://politica.estadao.com.br/eleicoes/2020/...  \n",
              "2  https://politica.estadao.com.br/eleicoes/2020/...  "
            ]
          },
          "execution_count": 51,
          "metadata": {},
          "output_type": "execute_result"
        }
      ],
      "source": [
        "df_candidatos.nome_candidato = df_candidatos.nome_candidato.str.upper()\n",
        "df_candidatos.estado = df_candidatos.estado.str.upper()\n",
        "\n",
        "# Visualiza DataFrame\n",
        "df_candidatos[:3]"
      ]
    },
    {
      "cell_type": "markdown",
      "id": "bb8e96ea",
      "metadata": {
        "id": "bb8e96ea"
      },
      "source": [
        "# Verificando coleta de dados"
      ]
    },
    {
      "cell_type": "code",
      "execution_count": null,
      "id": "b7f36abe",
      "metadata": {
        "id": "b7f36abe",
        "outputId": "192a8673-8e6f-4e84-a310-834971c6d077"
      },
      "outputs": [
        {
          "data": {
            "text/html": [
              "<div>\n",
              "<style scoped>\n",
              "    .dataframe tbody tr th:only-of-type {\n",
              "        vertical-align: middle;\n",
              "    }\n",
              "\n",
              "    .dataframe tbody tr th {\n",
              "        vertical-align: top;\n",
              "    }\n",
              "\n",
              "    .dataframe thead th {\n",
              "        text-align: right;\n",
              "    }\n",
              "</style>\n",
              "<table border=\"1\" class=\"dataframe\">\n",
              "  <thead>\n",
              "    <tr style=\"text-align: right;\">\n",
              "      <th></th>\n",
              "      <th>nome_candidato</th>\n",
              "      <th>partido</th>\n",
              "      <th>estado</th>\n",
              "      <th>cidade</th>\n",
              "      <th>link</th>\n",
              "    </tr>\n",
              "  </thead>\n",
              "  <tbody>\n",
              "    <tr>\n",
              "      <th>0</th>\n",
              "      <td>ANDREA MATARAZZO</td>\n",
              "      <td>PSD</td>\n",
              "      <td>SP</td>\n",
              "      <td>SÃO PAULO</td>\n",
              "      <td>https://politica.estadao.com.br/eleicoes/2020/...</td>\n",
              "    </tr>\n",
              "    <tr>\n",
              "      <th>1</th>\n",
              "      <td>ANTÔNIO CARLOS</td>\n",
              "      <td>PCO</td>\n",
              "      <td>SP</td>\n",
              "      <td>SÃO PAULO</td>\n",
              "      <td>https://politica.estadao.com.br/eleicoes/2020/...</td>\n",
              "    </tr>\n",
              "    <tr>\n",
              "      <th>2</th>\n",
              "      <td>ARTHUR DO VAL MAMÃE FALEI</td>\n",
              "      <td>PATRIOTA</td>\n",
              "      <td>SP</td>\n",
              "      <td>SÃO PAULO</td>\n",
              "      <td>https://politica.estadao.com.br/eleicoes/2020/...</td>\n",
              "    </tr>\n",
              "    <tr>\n",
              "      <th>3</th>\n",
              "      <td>BRUNO COVAS</td>\n",
              "      <td>PSDB</td>\n",
              "      <td>SP</td>\n",
              "      <td>SÃO PAULO</td>\n",
              "      <td>https://politica.estadao.com.br/eleicoes/2020/...</td>\n",
              "    </tr>\n",
              "    <tr>\n",
              "      <th>4</th>\n",
              "      <td>CELSO RUSSOMANNO</td>\n",
              "      <td>REPUBLICANOS</td>\n",
              "      <td>SP</td>\n",
              "      <td>SÃO PAULO</td>\n",
              "      <td>https://politica.estadao.com.br/eleicoes/2020/...</td>\n",
              "    </tr>\n",
              "    <tr>\n",
              "      <th>5</th>\n",
              "      <td>GUILHERME BOULOS</td>\n",
              "      <td>PSOL</td>\n",
              "      <td>SP</td>\n",
              "      <td>SÃO PAULO</td>\n",
              "      <td>https://politica.estadao.com.br/eleicoes/2020/...</td>\n",
              "    </tr>\n",
              "    <tr>\n",
              "      <th>6</th>\n",
              "      <td>JILMAR TATTO</td>\n",
              "      <td>PT</td>\n",
              "      <td>SP</td>\n",
              "      <td>SÃO PAULO</td>\n",
              "      <td>https://politica.estadao.com.br/eleicoes/2020/...</td>\n",
              "    </tr>\n",
              "    <tr>\n",
              "      <th>7</th>\n",
              "      <td>JOICE HASSELMANN</td>\n",
              "      <td>PSL</td>\n",
              "      <td>SP</td>\n",
              "      <td>SÃO PAULO</td>\n",
              "      <td>https://politica.estadao.com.br/eleicoes/2020/...</td>\n",
              "    </tr>\n",
              "    <tr>\n",
              "      <th>8</th>\n",
              "      <td>LEVY FIDELIX</td>\n",
              "      <td>PRTB</td>\n",
              "      <td>SP</td>\n",
              "      <td>SÃO PAULO</td>\n",
              "      <td>https://politica.estadao.com.br/eleicoes/2020/...</td>\n",
              "    </tr>\n",
              "    <tr>\n",
              "      <th>9</th>\n",
              "      <td>MARINA HELOU</td>\n",
              "      <td>REDE</td>\n",
              "      <td>SP</td>\n",
              "      <td>SÃO PAULO</td>\n",
              "      <td>https://politica.estadao.com.br/eleicoes/2020/...</td>\n",
              "    </tr>\n",
              "    <tr>\n",
              "      <th>10</th>\n",
              "      <td>MÁRCIO FRANÇA</td>\n",
              "      <td>PSB</td>\n",
              "      <td>SP</td>\n",
              "      <td>SÃO PAULO</td>\n",
              "      <td>https://politica.estadao.com.br/eleicoes/2020/...</td>\n",
              "    </tr>\n",
              "    <tr>\n",
              "      <th>11</th>\n",
              "      <td>ORLANDO SILVA</td>\n",
              "      <td>PC do B</td>\n",
              "      <td>SP</td>\n",
              "      <td>SÃO PAULO</td>\n",
              "      <td>https://politica.estadao.com.br/eleicoes/2020/...</td>\n",
              "    </tr>\n",
              "    <tr>\n",
              "      <th>12</th>\n",
              "      <td>SABARÁ</td>\n",
              "      <td>NOVO</td>\n",
              "      <td>SP</td>\n",
              "      <td>SÃO PAULO</td>\n",
              "      <td>https://politica.estadao.com.br/eleicoes/2020/...</td>\n",
              "    </tr>\n",
              "    <tr>\n",
              "      <th>13</th>\n",
              "      <td>VERA</td>\n",
              "      <td>PSTU</td>\n",
              "      <td>SP</td>\n",
              "      <td>SÃO PAULO</td>\n",
              "      <td>https://politica.estadao.com.br/eleicoes/2020/...</td>\n",
              "    </tr>\n",
              "    <tr>\n",
              "      <th>14</th>\n",
              "      <td>BANDEIRA DE MELLO</td>\n",
              "      <td>REDE</td>\n",
              "      <td>RJ</td>\n",
              "      <td>RIO DE JANEIRO</td>\n",
              "      <td>https://politica.estadao.com.br/eleicoes/2020/...</td>\n",
              "    </tr>\n",
              "    <tr>\n",
              "      <th>15</th>\n",
              "      <td>BENEDITA DA SILVA</td>\n",
              "      <td>PT</td>\n",
              "      <td>RJ</td>\n",
              "      <td>RIO DE JANEIRO</td>\n",
              "      <td>https://politica.estadao.com.br/eleicoes/2020/...</td>\n",
              "    </tr>\n",
              "    <tr>\n",
              "      <th>16</th>\n",
              "      <td>CLARISSA GAROTINHO</td>\n",
              "      <td>PROS</td>\n",
              "      <td>RJ</td>\n",
              "      <td>RIO DE JANEIRO</td>\n",
              "      <td>https://politica.estadao.com.br/eleicoes/2020/...</td>\n",
              "    </tr>\n",
              "    <tr>\n",
              "      <th>17</th>\n",
              "      <td>CRIVELLA</td>\n",
              "      <td>REPUBLICANOS</td>\n",
              "      <td>RJ</td>\n",
              "      <td>RIO DE JANEIRO</td>\n",
              "      <td>https://politica.estadao.com.br/eleicoes/2020/...</td>\n",
              "    </tr>\n",
              "    <tr>\n",
              "      <th>18</th>\n",
              "      <td>CYRO GARCIA</td>\n",
              "      <td>PSTU</td>\n",
              "      <td>RJ</td>\n",
              "      <td>RIO DE JANEIRO</td>\n",
              "      <td>https://politica.estadao.com.br/eleicoes/2020/...</td>\n",
              "    </tr>\n",
              "    <tr>\n",
              "      <th>19</th>\n",
              "      <td>DELEGADA MARTHA ROCHA</td>\n",
              "      <td>PDT</td>\n",
              "      <td>RJ</td>\n",
              "      <td>RIO DE JANEIRO</td>\n",
              "      <td>https://politica.estadao.com.br/eleicoes/2020/...</td>\n",
              "    </tr>\n",
              "    <tr>\n",
              "      <th>20</th>\n",
              "      <td>EDUARDO PAES</td>\n",
              "      <td>DEM</td>\n",
              "      <td>RJ</td>\n",
              "      <td>RIO DE JANEIRO</td>\n",
              "      <td>https://politica.estadao.com.br/eleicoes/2020/...</td>\n",
              "    </tr>\n",
              "    <tr>\n",
              "      <th>21</th>\n",
              "      <td>FRED LUZ</td>\n",
              "      <td>NOVO</td>\n",
              "      <td>RJ</td>\n",
              "      <td>RIO DE JANEIRO</td>\n",
              "      <td>https://politica.estadao.com.br/eleicoes/2020/...</td>\n",
              "    </tr>\n",
              "    <tr>\n",
              "      <th>22</th>\n",
              "      <td>GLÓRIA HELOIZA</td>\n",
              "      <td>PSC</td>\n",
              "      <td>RJ</td>\n",
              "      <td>RIO DE JANEIRO</td>\n",
              "      <td>https://politica.estadao.com.br/eleicoes/2020/...</td>\n",
              "    </tr>\n",
              "    <tr>\n",
              "      <th>23</th>\n",
              "      <td>HENRIQUE SIMONARD</td>\n",
              "      <td>PCO</td>\n",
              "      <td>RJ</td>\n",
              "      <td>RIO DE JANEIRO</td>\n",
              "      <td>https://politica.estadao.com.br/eleicoes/2020/...</td>\n",
              "    </tr>\n",
              "    <tr>\n",
              "      <th>24</th>\n",
              "      <td>LUIZ LIMA</td>\n",
              "      <td>PSL</td>\n",
              "      <td>RJ</td>\n",
              "      <td>RIO DE JANEIRO</td>\n",
              "      <td>https://politica.estadao.com.br/eleicoes/2020/...</td>\n",
              "    </tr>\n",
              "    <tr>\n",
              "      <th>25</th>\n",
              "      <td>PAULO MESSINA</td>\n",
              "      <td>MDB</td>\n",
              "      <td>RJ</td>\n",
              "      <td>RIO DE JANEIRO</td>\n",
              "      <td>https://politica.estadao.com.br/eleicoes/2020/...</td>\n",
              "    </tr>\n",
              "    <tr>\n",
              "      <th>26</th>\n",
              "      <td>RENATA SOUZA</td>\n",
              "      <td>PSOL</td>\n",
              "      <td>RJ</td>\n",
              "      <td>RIO DE JANEIRO</td>\n",
              "      <td>https://politica.estadao.com.br/eleicoes/2020/...</td>\n",
              "    </tr>\n",
              "    <tr>\n",
              "      <th>27</th>\n",
              "      <td>SUÊD HAIDAR</td>\n",
              "      <td>PMB</td>\n",
              "      <td>RJ</td>\n",
              "      <td>RIO DE JANEIRO</td>\n",
              "      <td>https://politica.estadao.com.br/eleicoes/2020/...</td>\n",
              "    </tr>\n",
              "    <tr>\n",
              "      <th>28</th>\n",
              "      <td>BRUNO ENGLER</td>\n",
              "      <td>PRTB</td>\n",
              "      <td>MG</td>\n",
              "      <td>BELO HORIZONTE</td>\n",
              "      <td>https://politica.estadao.com.br/eleicoes/2020/...</td>\n",
              "    </tr>\n",
              "    <tr>\n",
              "      <th>29</th>\n",
              "      <td>BRUNO ENGLER</td>\n",
              "      <td>PRTB</td>\n",
              "      <td>MG</td>\n",
              "      <td>BELO HORIZONTE</td>\n",
              "      <td>https://politica.estadao.com.br/eleicoes/2020/...</td>\n",
              "    </tr>\n",
              "    <tr>\n",
              "      <th>30</th>\n",
              "      <td>CABO XAVIER</td>\n",
              "      <td>PMB</td>\n",
              "      <td>MG</td>\n",
              "      <td>BELO HORIZONTE</td>\n",
              "      <td>https://politica.estadao.com.br/eleicoes/2020/...</td>\n",
              "    </tr>\n",
              "    <tr>\n",
              "      <th>31</th>\n",
              "      <td>FABIANO CAZECA</td>\n",
              "      <td>PROS</td>\n",
              "      <td>MG</td>\n",
              "      <td>BELO HORIZONTE</td>\n",
              "      <td>https://politica.estadao.com.br/eleicoes/2020/...</td>\n",
              "    </tr>\n",
              "    <tr>\n",
              "      <th>32</th>\n",
              "      <td>JOÃO VITOR XAVIER</td>\n",
              "      <td>CIDADANIA</td>\n",
              "      <td>MG</td>\n",
              "      <td>BELO HORIZONTE</td>\n",
              "      <td>https://politica.estadao.com.br/eleicoes/2020/...</td>\n",
              "    </tr>\n",
              "    <tr>\n",
              "      <th>33</th>\n",
              "      <td>KALIL</td>\n",
              "      <td>PSD</td>\n",
              "      <td>MG</td>\n",
              "      <td>BELO HORIZONTE</td>\n",
              "      <td>https://politica.estadao.com.br/eleicoes/2020/...</td>\n",
              "    </tr>\n",
              "    <tr>\n",
              "      <th>34</th>\n",
              "      <td>LAFAYETTE ANDRADA</td>\n",
              "      <td>REPUBLICANOS</td>\n",
              "      <td>MG</td>\n",
              "      <td>BELO HORIZONTE</td>\n",
              "      <td>https://politica.estadao.com.br/eleicoes/2020/...</td>\n",
              "    </tr>\n",
              "    <tr>\n",
              "      <th>35</th>\n",
              "      <td>LUISA BARRETO</td>\n",
              "      <td>PSDB</td>\n",
              "      <td>MG</td>\n",
              "      <td>BELO HORIZONTE</td>\n",
              "      <td>https://politica.estadao.com.br/eleicoes/2020/...</td>\n",
              "    </tr>\n",
              "    <tr>\n",
              "      <th>36</th>\n",
              "      <td>MARCELO SOUZA E SILVA</td>\n",
              "      <td>PATRIOTA</td>\n",
              "      <td>MG</td>\n",
              "      <td>BELO HORIZONTE</td>\n",
              "      <td>https://politica.estadao.com.br/eleicoes/2020/...</td>\n",
              "    </tr>\n",
              "    <tr>\n",
              "      <th>37</th>\n",
              "      <td>MARILIA DOMINGUES</td>\n",
              "      <td>PCO</td>\n",
              "      <td>MG</td>\n",
              "      <td>BELO HORIZONTE</td>\n",
              "      <td>https://politica.estadao.com.br/eleicoes/2020/...</td>\n",
              "    </tr>\n",
              "    <tr>\n",
              "      <th>38</th>\n",
              "      <td>NILMÁRIO MIRANDA</td>\n",
              "      <td>PT</td>\n",
              "      <td>MG</td>\n",
              "      <td>BELO HORIZONTE</td>\n",
              "      <td>https://politica.estadao.com.br/eleicoes/2020/...</td>\n",
              "    </tr>\n",
              "    <tr>\n",
              "      <th>39</th>\n",
              "      <td>PROFESSOR WENDEL MESQUITA</td>\n",
              "      <td>SOLIDARIEDADE</td>\n",
              "      <td>MG</td>\n",
              "      <td>BELO HORIZONTE</td>\n",
              "      <td>https://politica.estadao.com.br/eleicoes/2020/...</td>\n",
              "    </tr>\n",
              "    <tr>\n",
              "      <th>40</th>\n",
              "      <td>RODRIGO PAIVA</td>\n",
              "      <td>NOVO</td>\n",
              "      <td>MG</td>\n",
              "      <td>BELO HORIZONTE</td>\n",
              "      <td>https://politica.estadao.com.br/eleicoes/2020/...</td>\n",
              "    </tr>\n",
              "    <tr>\n",
              "      <th>41</th>\n",
              "      <td>WADSON RIBEIRO</td>\n",
              "      <td>PC do B</td>\n",
              "      <td>MG</td>\n",
              "      <td>BELO HORIZONTE</td>\n",
              "      <td>https://politica.estadao.com.br/eleicoes/2020/...</td>\n",
              "    </tr>\n",
              "    <tr>\n",
              "      <th>42</th>\n",
              "      <td>WANDERSON ROCHA</td>\n",
              "      <td>PSTU</td>\n",
              "      <td>MG</td>\n",
              "      <td>BELO HORIZONTE</td>\n",
              "      <td>https://politica.estadao.com.br/eleicoes/2020/...</td>\n",
              "    </tr>\n",
              "    <tr>\n",
              "      <th>43</th>\n",
              "      <td>ÁUREA CAROLINA</td>\n",
              "      <td>PSOL</td>\n",
              "      <td>MG</td>\n",
              "      <td>BELO HORIZONTE</td>\n",
              "      <td>https://politica.estadao.com.br/eleicoes/2020/...</td>\n",
              "    </tr>\n",
              "  </tbody>\n",
              "</table>\n",
              "</div>"
            ],
            "text/plain": [
              "               nome_candidato        partido estado          cidade  \\\n",
              "0            ANDREA MATARAZZO            PSD     SP       SÃO PAULO   \n",
              "1              ANTÔNIO CARLOS            PCO     SP       SÃO PAULO   \n",
              "2   ARTHUR DO VAL MAMÃE FALEI       PATRIOTA     SP       SÃO PAULO   \n",
              "3                 BRUNO COVAS           PSDB     SP       SÃO PAULO   \n",
              "4            CELSO RUSSOMANNO   REPUBLICANOS     SP       SÃO PAULO   \n",
              "5            GUILHERME BOULOS           PSOL     SP       SÃO PAULO   \n",
              "6                JILMAR TATTO             PT     SP       SÃO PAULO   \n",
              "7            JOICE HASSELMANN            PSL     SP       SÃO PAULO   \n",
              "8                LEVY FIDELIX           PRTB     SP       SÃO PAULO   \n",
              "9                MARINA HELOU           REDE     SP       SÃO PAULO   \n",
              "10              MÁRCIO FRANÇA            PSB     SP       SÃO PAULO   \n",
              "11              ORLANDO SILVA        PC do B     SP       SÃO PAULO   \n",
              "12                     SABARÁ           NOVO     SP       SÃO PAULO   \n",
              "13                       VERA           PSTU     SP       SÃO PAULO   \n",
              "14          BANDEIRA DE MELLO           REDE     RJ  RIO DE JANEIRO   \n",
              "15          BENEDITA DA SILVA             PT     RJ  RIO DE JANEIRO   \n",
              "16         CLARISSA GAROTINHO           PROS     RJ  RIO DE JANEIRO   \n",
              "17                   CRIVELLA   REPUBLICANOS     RJ  RIO DE JANEIRO   \n",
              "18                CYRO GARCIA           PSTU     RJ  RIO DE JANEIRO   \n",
              "19      DELEGADA MARTHA ROCHA            PDT     RJ  RIO DE JANEIRO   \n",
              "20               EDUARDO PAES            DEM     RJ  RIO DE JANEIRO   \n",
              "21                   FRED LUZ           NOVO     RJ  RIO DE JANEIRO   \n",
              "22             GLÓRIA HELOIZA            PSC     RJ  RIO DE JANEIRO   \n",
              "23          HENRIQUE SIMONARD            PCO     RJ  RIO DE JANEIRO   \n",
              "24                  LUIZ LIMA            PSL     RJ  RIO DE JANEIRO   \n",
              "25              PAULO MESSINA            MDB     RJ  RIO DE JANEIRO   \n",
              "26               RENATA SOUZA           PSOL     RJ  RIO DE JANEIRO   \n",
              "27                SUÊD HAIDAR            PMB     RJ  RIO DE JANEIRO   \n",
              "28               BRUNO ENGLER           PRTB     MG  BELO HORIZONTE   \n",
              "29               BRUNO ENGLER           PRTB     MG  BELO HORIZONTE   \n",
              "30                CABO XAVIER            PMB     MG  BELO HORIZONTE   \n",
              "31             FABIANO CAZECA           PROS     MG  BELO HORIZONTE   \n",
              "32          JOÃO VITOR XAVIER      CIDADANIA     MG  BELO HORIZONTE   \n",
              "33                      KALIL            PSD     MG  BELO HORIZONTE   \n",
              "34          LAFAYETTE ANDRADA   REPUBLICANOS     MG  BELO HORIZONTE   \n",
              "35              LUISA BARRETO           PSDB     MG  BELO HORIZONTE   \n",
              "36      MARCELO SOUZA E SILVA       PATRIOTA     MG  BELO HORIZONTE   \n",
              "37          MARILIA DOMINGUES            PCO     MG  BELO HORIZONTE   \n",
              "38           NILMÁRIO MIRANDA             PT     MG  BELO HORIZONTE   \n",
              "39  PROFESSOR WENDEL MESQUITA  SOLIDARIEDADE     MG  BELO HORIZONTE   \n",
              "40              RODRIGO PAIVA           NOVO     MG  BELO HORIZONTE   \n",
              "41             WADSON RIBEIRO        PC do B     MG  BELO HORIZONTE   \n",
              "42            WANDERSON ROCHA           PSTU     MG  BELO HORIZONTE   \n",
              "43             ÁUREA CAROLINA           PSOL     MG  BELO HORIZONTE   \n",
              "\n",
              "                                                 link  \n",
              "0   https://politica.estadao.com.br/eleicoes/2020/...  \n",
              "1   https://politica.estadao.com.br/eleicoes/2020/...  \n",
              "2   https://politica.estadao.com.br/eleicoes/2020/...  \n",
              "3   https://politica.estadao.com.br/eleicoes/2020/...  \n",
              "4   https://politica.estadao.com.br/eleicoes/2020/...  \n",
              "5   https://politica.estadao.com.br/eleicoes/2020/...  \n",
              "6   https://politica.estadao.com.br/eleicoes/2020/...  \n",
              "7   https://politica.estadao.com.br/eleicoes/2020/...  \n",
              "8   https://politica.estadao.com.br/eleicoes/2020/...  \n",
              "9   https://politica.estadao.com.br/eleicoes/2020/...  \n",
              "10  https://politica.estadao.com.br/eleicoes/2020/...  \n",
              "11  https://politica.estadao.com.br/eleicoes/2020/...  \n",
              "12  https://politica.estadao.com.br/eleicoes/2020/...  \n",
              "13  https://politica.estadao.com.br/eleicoes/2020/...  \n",
              "14  https://politica.estadao.com.br/eleicoes/2020/...  \n",
              "15  https://politica.estadao.com.br/eleicoes/2020/...  \n",
              "16  https://politica.estadao.com.br/eleicoes/2020/...  \n",
              "17  https://politica.estadao.com.br/eleicoes/2020/...  \n",
              "18  https://politica.estadao.com.br/eleicoes/2020/...  \n",
              "19  https://politica.estadao.com.br/eleicoes/2020/...  \n",
              "20  https://politica.estadao.com.br/eleicoes/2020/...  \n",
              "21  https://politica.estadao.com.br/eleicoes/2020/...  \n",
              "22  https://politica.estadao.com.br/eleicoes/2020/...  \n",
              "23  https://politica.estadao.com.br/eleicoes/2020/...  \n",
              "24  https://politica.estadao.com.br/eleicoes/2020/...  \n",
              "25  https://politica.estadao.com.br/eleicoes/2020/...  \n",
              "26  https://politica.estadao.com.br/eleicoes/2020/...  \n",
              "27  https://politica.estadao.com.br/eleicoes/2020/...  \n",
              "28  https://politica.estadao.com.br/eleicoes/2020/...  \n",
              "29  https://politica.estadao.com.br/eleicoes/2020/...  \n",
              "30  https://politica.estadao.com.br/eleicoes/2020/...  \n",
              "31  https://politica.estadao.com.br/eleicoes/2020/...  \n",
              "32  https://politica.estadao.com.br/eleicoes/2020/...  \n",
              "33  https://politica.estadao.com.br/eleicoes/2020/...  \n",
              "34  https://politica.estadao.com.br/eleicoes/2020/...  \n",
              "35  https://politica.estadao.com.br/eleicoes/2020/...  \n",
              "36  https://politica.estadao.com.br/eleicoes/2020/...  \n",
              "37  https://politica.estadao.com.br/eleicoes/2020/...  \n",
              "38  https://politica.estadao.com.br/eleicoes/2020/...  \n",
              "39  https://politica.estadao.com.br/eleicoes/2020/...  \n",
              "40  https://politica.estadao.com.br/eleicoes/2020/...  \n",
              "41  https://politica.estadao.com.br/eleicoes/2020/...  \n",
              "42  https://politica.estadao.com.br/eleicoes/2020/...  \n",
              "43  https://politica.estadao.com.br/eleicoes/2020/...  "
            ]
          },
          "execution_count": 52,
          "metadata": {},
          "output_type": "execute_result"
        }
      ],
      "source": [
        "df_candidatos"
      ]
    },
    {
      "cell_type": "code",
      "execution_count": null,
      "id": "fdd88d83",
      "metadata": {
        "id": "fdd88d83"
      },
      "outputs": [],
      "source": [
        ""
      ]
    }
  ],
  "metadata": {
    "kernelspec": {
      "display_name": "coleta_dados",
      "language": "python",
      "name": "coleta_dados"
    },
    "language_info": {
      "codemirror_mode": {
        "name": "ipython",
        "version": 3
      },
      "file_extension": ".py",
      "mimetype": "text/x-python",
      "name": "python",
      "nbconvert_exporter": "python",
      "pygments_lexer": "ipython3",
      "version": "3.9.1"
    },
    "colab": {
      "name": "coleta_dados_web_bs.ipynb",
      "provenance": [],
      "include_colab_link": true
    }
  },
  "nbformat": 4,
  "nbformat_minor": 5
}