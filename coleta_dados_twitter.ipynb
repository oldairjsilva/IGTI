{
  "cells": [
    {
      "cell_type": "markdown",
      "metadata": {
        "id": "view-in-github",
        "colab_type": "text"
      },
      "source": [
        "<a href=\"https://colab.research.google.com/github/oldairjsilva/IGTI/blob/main/coleta_dados_twitter.ipynb\" target=\"_parent\"><img src=\"https://colab.research.google.com/assets/colab-badge.svg\" alt=\"Open In Colab\"/></a>"
      ]
    },
    {
      "cell_type": "markdown",
      "id": "b1e9dbf7",
      "metadata": {
        "id": "b1e9dbf7"
      },
      "source": [
        "# Instalando biblioteca do Twitter"
      ]
    },
    {
      "cell_type": "code",
      "execution_count": null,
      "id": "992e69a7",
      "metadata": {
        "id": "992e69a7",
        "outputId": "6a732ecb-2bd8-4002-f0b4-b57a5dedeac5"
      },
      "outputs": [
        {
          "name": "stdout",
          "output_type": "stream",
          "text": [
            "Collecting tweepy\n",
            "  Downloading tweepy-4.8.0-py2.py3-none-any.whl (77 kB)\n",
            "     ---------------------------------------- 77.4/77.4 KB 2.2 MB/s eta 0:00:00\n",
            "Collecting oauthlib<4,>=3.2.0\n",
            "  Downloading oauthlib-3.2.0-py3-none-any.whl (151 kB)\n",
            "     -------------------------------------- 151.5/151.5 KB 4.6 MB/s eta 0:00:00\n",
            "Requirement already satisfied: requests<3,>=2.27.0 in c:\\projetos\\env\\coleta_dados\\lib\\site-packages (from tweepy) (2.27.1)\n",
            "Collecting requests-oauthlib<2,>=1.2.0\n",
            "  Downloading requests_oauthlib-1.3.1-py2.py3-none-any.whl (23 kB)\n",
            "Requirement already satisfied: certifi>=2017.4.17 in c:\\projetos\\env\\coleta_dados\\lib\\site-packages (from requests<3,>=2.27.0->tweepy) (2021.10.8)\n",
            "Requirement already satisfied: charset-normalizer~=2.0.0 in c:\\projetos\\env\\coleta_dados\\lib\\site-packages (from requests<3,>=2.27.0->tweepy) (2.0.12)\n",
            "Requirement already satisfied: urllib3<1.27,>=1.21.1 in c:\\projetos\\env\\coleta_dados\\lib\\site-packages (from requests<3,>=2.27.0->tweepy) (1.26.9)\n",
            "Requirement already satisfied: idna<4,>=2.5 in c:\\projetos\\env\\coleta_dados\\lib\\site-packages (from requests<3,>=2.27.0->tweepy) (3.3)\n",
            "Installing collected packages: oauthlib, requests-oauthlib, tweepy\n",
            "Successfully installed oauthlib-3.2.0 requests-oauthlib-1.3.1 tweepy-4.8.0\n"
          ]
        }
      ],
      "source": [
        "!pip install tweepy"
      ]
    },
    {
      "cell_type": "markdown",
      "id": "51ab7128",
      "metadata": {
        "id": "51ab7128"
      },
      "source": [
        "### Documentação da biblioteca Tweepy\n",
        "https://docs.tweepy.org/en/latest/getting_started.html"
      ]
    },
    {
      "cell_type": "code",
      "execution_count": null,
      "id": "bd017931",
      "metadata": {
        "id": "bd017931"
      },
      "outputs": [],
      "source": [
        "import tweepy as tw\n",
        "import pandas as pd"
      ]
    },
    {
      "cell_type": "markdown",
      "id": "6737bd32",
      "metadata": {
        "id": "6737bd32"
      },
      "source": [
        "## Chaves de acesso fornecidas pelo Twitter"
      ]
    },
    {
      "cell_type": "markdown",
      "id": "ac840fa7",
      "metadata": {
        "id": "ac840fa7"
      },
      "source": [
        "### Abrir documento que contém as informações de acesso"
      ]
    },
    {
      "cell_type": "code",
      "execution_count": null,
      "id": "e0e31a9d",
      "metadata": {
        "id": "e0e31a9d"
      },
      "outputs": [],
      "source": [
        "with open (\"twitter_token.txt\", \"r\") as file:\n",
        "    consumer_key = file.readline().strip('\\n') # elimina o caracter \\n que é uma quebra de linha\n",
        "    consumer_secret = file.readline().strip('\\n')\n",
        "    token = file.readline().strip('\\n')\n",
        "    access_token = file.readline().strip('\\n')\n",
        "    access_token_secret = file.readline().strip('\\n')"
      ]
    },
    {
      "cell_type": "markdown",
      "id": "04847234",
      "metadata": {
        "id": "04847234"
      },
      "source": [
        "### Realizando autentificação na API do Twitter"
      ]
    },
    {
      "cell_type": "code",
      "execution_count": null,
      "id": "90255bb8",
      "metadata": {
        "id": "90255bb8"
      },
      "outputs": [],
      "source": [
        "auth = tw.OAutHandler(consumer_key, consumer_secret)\n",
        "auth.set_access_token(access_token, access_token_secret)\n",
        "\n",
        "api = tw.API(auth) # Cria a conexão de acesso com o twitter\n",
        "\n",
        "public_tweets = api.home_timeline() # Pega todos os primeiros twittes da timeline"
      ]
    },
    {
      "cell_type": "markdown",
      "id": "22b1b920",
      "metadata": {
        "id": "22b1b920"
      },
      "source": [
        "### Visualizando os tweets públicos da time line "
      ]
    },
    {
      "cell_type": "code",
      "execution_count": null,
      "id": "29caa735",
      "metadata": {
        "id": "29caa735"
      },
      "outputs": [],
      "source": [
        "for tweet in public_tweets: # mostra os principais tweets da time line\n",
        "    print(tweet.text)"
      ]
    },
    {
      "cell_type": "markdown",
      "id": "dca17095",
      "metadata": {
        "id": "dca17095"
      },
      "source": [
        "### Extraindo tweets baseado em tema\n",
        "Para buscar os twwets vamos utilizar a função cursor da biblioteca tweepy. Para saber como utlizar o cursor podemos abrir a documentação da biblioteca. https://docs.tweepy.org/en/v3.5.0/cursor_tutorial.html"
      ]
    },
    {
      "cell_type": "code",
      "execution_count": null,
      "id": "2e769343",
      "metadata": {
        "id": "2e769343"
      },
      "outputs": [],
      "source": [
        "busca_palavras = \"#vacina\" # Cria uma variável que é atribuída as palavras que queremos extrair"
      ]
    },
    {
      "cell_type": "code",
      "execution_count": null,
      "id": "fdc8809f",
      "metadata": {
        "collapsed": true,
        "id": "fdc8809f",
        "outputId": "7d251c60-91a2-4f62-f260-ee361bfecdb5"
      },
      "outputs": [
        {
          "ename": "NameError",
          "evalue": "name 'api' is not defined",
          "output_type": "error",
          "traceback": [
            "\u001b[1;31m---------------------------------------------------------------------------\u001b[0m",
            "\u001b[1;31mNameError\u001b[0m                                 Traceback (most recent call last)",
            "Input \u001b[1;32mIn [4]\u001b[0m, in \u001b[0;36m<cell line: 2>\u001b[1;34m()\u001b[0m\n\u001b[0;32m      1\u001b[0m \u001b[38;5;66;03m# busca os tweets relacionado a(s) palavra(s) procuradas\u001b[39;00m\n\u001b[1;32m----> 2\u001b[0m tweets \u001b[38;5;241m=\u001b[39m tw\u001b[38;5;241m.\u001b[39mCursor(\u001b[43mapi\u001b[49m\u001b[38;5;241m.\u001b[39msearch, \u001b[38;5;66;03m# metodo da API para buscar tweets\u001b[39;00m\n\u001b[0;32m      3\u001b[0m                   q \u001b[38;5;241m=\u001b[39m busca_palavras)\u001b[38;5;241m.\u001b[39mitems(\u001b[38;5;241m50\u001b[39m)\n",
            "\u001b[1;31mNameError\u001b[0m: name 'api' is not defined"
          ]
        }
      ],
      "source": [
        "# busca os tweets relacionado a(s) palavra(s) procuradas\n",
        "tweets = tw.Cursor(api.search, # metodo da API para buscar tweets\n",
        "                  q = busca_palavras).items(50) # especifica o número de tweets retornados"
      ]
    },
    {
      "cell_type": "markdown",
      "id": "05a4e773",
      "metadata": {
        "id": "05a4e773"
      },
      "source": [
        "### Verificando atributos disponibilização em um tweet"
      ]
    },
    {
      "cell_type": "code",
      "execution_count": null,
      "id": "f0e2f55b",
      "metadata": {
        "id": "f0e2f55b"
      },
      "outputs": [],
      "source": [
        "for tweet in tweets:\n",
        "    print(tweet.user.name, tweet.text) # traz o texto contidos nos tweets"
      ]
    },
    {
      "cell_type": "markdown",
      "id": "170d8244",
      "metadata": {
        "id": "170d8244"
      },
      "source": [
        "### Verificando atributos chaves contidas dentro de um tweet"
      ]
    },
    {
      "cell_type": "code",
      "execution_count": null,
      "id": "5155d2c5",
      "metadata": {
        "collapsed": true,
        "id": "5155d2c5",
        "outputId": "08f2045c-99d3-46d4-9475-194d80d350aa"
      },
      "outputs": [
        {
          "ename": "NameError",
          "evalue": "name 'tweet' is not defined",
          "output_type": "error",
          "traceback": [
            "\u001b[1;31m---------------------------------------------------------------------------\u001b[0m",
            "\u001b[1;31mNameError\u001b[0m                                 Traceback (most recent call last)",
            "Input \u001b[1;32mIn [5]\u001b[0m, in \u001b[0;36m<cell line: 1>\u001b[1;34m()\u001b[0m\n\u001b[1;32m----> 1\u001b[0m \u001b[43mtweet\u001b[49m\u001b[38;5;241m.\u001b[39mjson\n",
            "\u001b[1;31mNameError\u001b[0m: name 'tweet' is not defined"
          ]
        }
      ],
      "source": [
        "tweet.json"
      ]
    },
    {
      "cell_type": "markdown",
      "id": "eed0b7c6",
      "metadata": {
        "id": "eed0b7c6"
      },
      "source": [
        "### Visualizando tweets coletados\n",
        "Cada tweet possui uma série de atributos. Por exemplo:\n",
        "1. created_at: Data de publicação\n",
        "2. name: Contém o nome da pessoa\n",
        "3. description: Contém a descrição do usuário\n",
        "4. location: Local onde foi postado o tweet\n",
        "5. text: Texto que a pessoa postou"
      ]
    },
    {
      "cell_type": "code",
      "execution_count": null,
      "id": "13526a56",
      "metadata": {
        "id": "13526a56"
      },
      "outputs": [],
      "source": [
        "# Para facilitar a visualização\n",
        "vars(tweet).keys() # retornar todas as chaves dentro de tweets"
      ]
    },
    {
      "cell_type": "code",
      "execution_count": null,
      "id": "f1308b29",
      "metadata": {
        "id": "f1308b29"
      },
      "outputs": [],
      "source": [
        "vars(tweet.user).keys() # retorna todas as chaves dentro do atributo user"
      ]
    },
    {
      "cell_type": "code",
      "execution_count": null,
      "id": "2d3c0924",
      "metadata": {
        "id": "2d3c0924"
      },
      "outputs": [],
      "source": [
        "print(tweet.user.name, '-', tweet.user.location)"
      ]
    },
    {
      "cell_type": "markdown",
      "id": "1a253723",
      "metadata": {
        "id": "1a253723"
      },
      "source": [
        "### Retirando tweets repetidos\n",
        "Para retirar os tweets repetidos, vamos adicionar na string de busca o comando \"-filter:retweets\" para informar que não queremos informações de retweets"
      ]
    },
    {
      "cell_type": "code",
      "execution_count": null,
      "id": "6dbf9de0",
      "metadata": {
        "id": "6dbf9de0"
      },
      "outputs": [],
      "source": [
        "busca_palavras = \"#vacina\" + \"-filter:retweets\" # Cria uma variável que é atribuída as palavras que queremos extrair"
      ]
    },
    {
      "cell_type": "code",
      "execution_count": null,
      "id": "cb2233f7",
      "metadata": {
        "id": "cb2233f7"
      },
      "outputs": [],
      "source": [
        "# busca os tweets relacionado a(s) palavra(s) procuradas\n",
        "tweets = tw.Cursor(api.search, # metodo da API para buscar tweets\n",
        "                  q = busca_palavras).items(50) # especifica o número de tweets retornados"
      ]
    },
    {
      "cell_type": "code",
      "execution_count": null,
      "id": "01711f6d",
      "metadata": {
        "id": "01711f6d"
      },
      "outputs": [],
      "source": [
        "for tweet in tweets:\n",
        "    print(tweet.created_at, '\\n', tweet.user.name, '\\n', tweet.text, '\\n') # traz o texto contidos nos tweets"
      ]
    },
    {
      "cell_type": "markdown",
      "id": "986e6de1",
      "metadata": {
        "id": "986e6de1"
      },
      "source": [
        "### Observação importante\n",
        "O cursor é um método dinamico. Dessa forma, todas as vezes que o método é executado novos resultados são retornados. Isso acontece porque os tweets são postados a todo minuto. Ou seja, a busca é em tempo real.\n",
        "\n",
        "O próximo passo é criar uma estrutura de armazenamento para salvar os tweets que estamos coletando."
      ]
    },
    {
      "cell_type": "code",
      "execution_count": null,
      "id": "27e47a62",
      "metadata": {
        "id": "27e47a62"
      },
      "outputs": [],
      "source": [
        "vars(tweet.user).keys()"
      ]
    },
    {
      "cell_type": "markdown",
      "id": "8b522dd4",
      "metadata": {
        "id": "8b522dd4"
      },
      "source": [
        "### Criando lista de armazenamento\n",
        "Vamos criar uma lista vazia e adicionando os dados coletados dos tweets."
      ]
    },
    {
      "cell_type": "code",
      "execution_count": null,
      "id": "54ffe4bb",
      "metadata": {
        "id": "54ffe4bb"
      },
      "outputs": [],
      "source": [
        "# busca os tweets relacionado a(s) palavra(s) procuradas\n",
        "tweets = tw.Cursor(api.search, # metodo da API para buscar tweets\n",
        "                  q = busca_palavras).items(50) # especifica o número de tweets retornados"
      ]
    },
    {
      "cell_type": "code",
      "execution_count": null,
      "id": "78cb46d3",
      "metadata": {
        "id": "78cb46d3"
      },
      "outputs": [],
      "source": [
        "lista_tweets = []\n",
        "for tweet in tweets:\n",
        "    dados_tweet = []\n",
        "    dados_tweet.append(tweet.created_at)\n",
        "    dados_tweet.append(tweet.user.name)\n",
        "    dados_tweet.append(tweet.user.description)\n",
        "    dados_tweet.append(tweet.user.location)\n",
        "    dados_tweet.append(tweet.text)\n",
        "    \n",
        "    lista_tweets.append(dados_tweet)"
      ]
    },
    {
      "cell_type": "code",
      "execution_count": null,
      "id": "a4444e8b",
      "metadata": {
        "id": "a4444e8b"
      },
      "outputs": [],
      "source": [
        "lista_tweets[:3]"
      ]
    },
    {
      "cell_type": "markdown",
      "id": "33a825e0",
      "metadata": {
        "id": "33a825e0"
      },
      "source": [
        "### Criando um dataframe para armazenamento da lista\n",
        "Vamos criar um dataframe passando a lista dos tweets"
      ]
    },
    {
      "cell_type": "code",
      "execution_count": null,
      "id": "f276214c",
      "metadata": {
        "id": "f276214c"
      },
      "outputs": [],
      "source": [
        "df_tweets = pd.DataFrame(lista_tweets, columns = ['data', 'nome', 'descricao', 'localidade', 'post'])"
      ]
    },
    {
      "cell_type": "code",
      "execution_count": null,
      "id": "3ac03292",
      "metadata": {
        "id": "3ac03292"
      },
      "outputs": [],
      "source": [
        "df_tweets"
      ]
    }
  ],
  "metadata": {
    "kernelspec": {
      "display_name": "coleta_dados",
      "language": "python",
      "name": "coleta_dados"
    },
    "language_info": {
      "codemirror_mode": {
        "name": "ipython",
        "version": 3
      },
      "file_extension": ".py",
      "mimetype": "text/x-python",
      "name": "python",
      "nbconvert_exporter": "python",
      "pygments_lexer": "ipython3",
      "version": "3.9.1"
    },
    "colab": {
      "name": "coleta_dados_twitter.ipynb",
      "provenance": [],
      "include_colab_link": true
    }
  },
  "nbformat": 4,
  "nbformat_minor": 5
}