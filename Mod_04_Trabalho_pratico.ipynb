{
 "cells": [
  {
   "cell_type": "code",
   "execution_count": 1,
   "id": "cc410417-5cd2-44aa-88bf-1f85ccf29c48",
   "metadata": {},
   "outputs": [],
   "source": [
    "# Importar bibliotecas necessárias\n",
    "import pandas as pd\n",
    "import numpy as np\n",
    "import os"
   ]
  },
  {
   "cell_type": "code",
   "execution_count": 2,
   "id": "b00da877-adc0-44d8-a3af-264d8726de6e",
   "metadata": {},
   "outputs": [],
   "source": [
    "enem = pd.read_csv(\n",
    "    './2020/DADOS/MICRODADOS_ENEM_2020.csv',\n",
    "    sep = ';',\n",
    "    decimal = '.',\n",
    "    encoding='latin'\n",
    ")"
   ]
  },
  {
   "cell_type": "code",
   "execution_count": null,
   "id": "bf302c7f-8cc6-4317-8485-35909da55bbf",
   "metadata": {},
   "outputs": [],
   "source": [
    "enem.head()"
   ]
  },
  {
   "cell_type": "markdown",
   "id": "b70009cd-d670-40d7-bfe8-3f1f268ff1ec",
   "metadata": {},
   "source": [
    "Pergunta 1 - Qual é a média da nota em matemática dos alunos que estudaram numa escola em Minas Gerais?"
   ]
  },
  {
   "cell_type": "code",
   "execution_count": 5,
   "id": "8c20163b-d3d7-4678-85e7-278d55174f74",
   "metadata": {},
   "outputs": [
    {
     "data": {
      "text/plain": [
       "579.6812230047448"
      ]
     },
     "execution_count": 5,
     "metadata": {},
     "output_type": "execute_result"
    }
   ],
   "source": [
    "enem.loc[\n",
    "    enem.SG_UF_ESC == 'MG',\n",
    "    'NU_NOTA_MT'\n",
    "].mean()"
   ]
  },
  {
   "cell_type": "markdown",
   "id": "62aa4035-9984-4a94-bda6-261e90776622",
   "metadata": {},
   "source": [
    "Pergunta 2 - Qual é a média da nota em Linguagens e Códigos dos alunos que estudaram numa escola em Minas Gerais?"
   ]
  },
  {
   "cell_type": "code",
   "execution_count": 6,
   "id": "13b32c68-eed8-4530-b4b3-37e927f23d3c",
   "metadata": {},
   "outputs": [
    {
     "data": {
      "text/plain": [
       "553.0102913021102"
      ]
     },
     "execution_count": 6,
     "metadata": {},
     "output_type": "execute_result"
    }
   ],
   "source": [
    "enem.loc[\n",
    "    enem.SG_UF_ESC == 'MG',\n",
    "    'NU_NOTA_LC'\n",
    "].mean()"
   ]
  },
  {
   "cell_type": "markdown",
   "id": "3edfaf68-edf2-4b5d-bb2b-a990504dc59e",
   "metadata": {},
   "source": [
    "PERGUNTA 3 - Qual é a média da nota em Ciências Humanas dos alunos do sexo FEMININO que estudaram numa escola em Minas Gerais?"
   ]
  },
  {
   "cell_type": "code",
   "execution_count": 8,
   "id": "0fae34b6-9965-4c17-bc13-189f8317dd14",
   "metadata": {},
   "outputs": [
    {
     "data": {
      "text/plain": [
       "541.3084611723356"
      ]
     },
     "execution_count": 8,
     "metadata": {},
     "output_type": "execute_result"
    }
   ],
   "source": [
    "enem.loc[\n",
    "    (enem.SG_UF_ESC == 'MG') &\n",
    "    (enem.TP_SEXO == 'F'),\n",
    "    'NU_NOTA_CH'\n",
    "].mean()"
   ]
  },
  {
   "cell_type": "markdown",
   "id": "ec21f7ce-7489-4813-b399-161e4c77310d",
   "metadata": {},
   "source": [
    "PERGUNTA 4 - Qual é a média da nota em Ciências Humanas dos alunos do sexo MASCULINO que estudaram numa escola em Minas Gerais?"
   ]
  },
  {
   "cell_type": "code",
   "execution_count": 9,
   "id": "42f48454-946c-45ed-9da5-d64ce5facc6e",
   "metadata": {},
   "outputs": [
    {
     "data": {
      "text/plain": [
       "559.5546844135076"
      ]
     },
     "execution_count": 9,
     "metadata": {},
     "output_type": "execute_result"
    }
   ],
   "source": [
    "enem.loc[\n",
    "    (enem.SG_UF_ESC == 'MG') &\n",
    "    (enem.TP_SEXO == 'M'),\n",
    "    'NU_NOTA_CH'\n",
    "].mean()"
   ]
  },
  {
   "cell_type": "markdown",
   "id": "d32467a5-70f5-464e-b6d5-ff559a3fef00",
   "metadata": {},
   "source": [
    "PERGUNTA 5 - Qual é a média da nota em Matemática dos alunos do sexo FEMININO que estudaram numa escola na cidade de Montes Claros?"
   ]
  },
  {
   "cell_type": "code",
   "execution_count": 16,
   "id": "b04632b3-b656-45e4-94b3-192cb14ecd53",
   "metadata": {},
   "outputs": [
    {
     "data": {
      "text/plain": [
       "562.988836104513"
      ]
     },
     "execution_count": 16,
     "metadata": {},
     "output_type": "execute_result"
    }
   ],
   "source": [
    "enem.loc[\n",
    "    (enem.NO_MUNICIPIO_ESC == 'Montes Claros') &\n",
    "    (enem.TP_SEXO == 'F'),\n",
    "    'NU_NOTA_MT'\n",
    "].mean()"
   ]
  },
  {
   "cell_type": "markdown",
   "id": "aab7571d-2d93-460b-b386-1b5f683ba5cf",
   "metadata": {},
   "source": [
    "PERGUNTA 6 - Qual é a média da nota em Matemática dos alunos que estudaram numa escola no município de Sabará e que possuem TV por assinatura na residência?"
   ]
  },
  {
   "cell_type": "code",
   "execution_count": 19,
   "id": "1be50901-153c-445c-8160-588f1fec2fb1",
   "metadata": {},
   "outputs": [
    {
     "data": {
      "text/plain": [
       "580.102985074627"
      ]
     },
     "execution_count": 19,
     "metadata": {},
     "output_type": "execute_result"
    }
   ],
   "source": [
    "enem.loc[\n",
    "    (enem.NO_MUNICIPIO_ESC == 'Sabará') &\n",
    "    (enem.Q021 == 'B'),\n",
    "    'NU_NOTA_MT'\n",
    "].mean()"
   ]
  },
  {
   "cell_type": "markdown",
   "id": "2e513902-5ead-4918-bb82-d55dd65aed00",
   "metadata": {},
   "source": [
    "PERGUNTA 7 - Qual é a média da nota em Ciências Humanas dos alunos que estudaram numa escola em Minas Gerais e que possuem dois fornos micro-ondas em casa?"
   ]
  },
  {
   "cell_type": "code",
   "execution_count": 22,
   "id": "85e83240-7921-4c84-960b-ea4e6751f119",
   "metadata": {},
   "outputs": [
    {
     "data": {
      "text/plain": [
       "601.4825757575757"
      ]
     },
     "execution_count": 22,
     "metadata": {},
     "output_type": "execute_result"
    }
   ],
   "source": [
    "enem.loc[\n",
    "    (enem.SG_UF_ESC == 'MG') &\n",
    "    (enem.Q016 == 'C'),\n",
    "    'NU_NOTA_CH'\n",
    "].mean()"
   ]
  },
  {
   "cell_type": "markdown",
   "id": "c4455c3f-e490-43ff-b97b-eeeccd4c5101",
   "metadata": {},
   "source": [
    "PERGUNTA 8 - Qual é a nota média em Matemática dos alunos que estudaram numa escola em Minas Gerais e cuja mãe completou a pós-graduação?"
   ]
  },
  {
   "cell_type": "code",
   "execution_count": 23,
   "id": "451d0888-18ac-424e-a6ae-e7e988b68f04",
   "metadata": {},
   "outputs": [
    {
     "data": {
      "text/plain": [
       "642.2451844866204"
      ]
     },
     "execution_count": 23,
     "metadata": {},
     "output_type": "execute_result"
    }
   ],
   "source": [
    "enem.loc[\n",
    "    (enem.SG_UF_ESC == 'MG') &\n",
    "    (enem.Q002 == 'G'),\n",
    "    'NU_NOTA_MT'\n",
    "].mean()"
   ]
  },
  {
   "cell_type": "markdown",
   "id": "4ebee93c-9b8e-4c83-8517-b13f4cf4e704",
   "metadata": {},
   "source": [
    "PERGUNTA 9 - Qual é a nota média em Matemática dos alunos que estudaram numa escola em Belo Horizonte ou em Conselheiro Lafaiete?"
   ]
  },
  {
   "cell_type": "code",
   "execution_count": 25,
   "id": "6091c41b-db37-41c5-9807-4e81efdd9256",
   "metadata": {},
   "outputs": [
    {
     "data": {
      "text/plain": [
       "621.0282524049474"
      ]
     },
     "execution_count": 25,
     "metadata": {},
     "output_type": "execute_result"
    }
   ],
   "source": [
    "enem.loc[\n",
    "    (enem.NO_MUNICIPIO_ESC == 'Belo Horizonte') |\n",
    "    (enem.NO_MUNICIPIO_ESC == 'Conselheiro Lafaiete'),\n",
    "    'NU_NOTA_MT'\n",
    "].mean()"
   ]
  },
  {
   "cell_type": "markdown",
   "id": "090af7ce-cdf4-4ef2-a0da-c23091a05f55",
   "metadata": {},
   "source": [
    "PERGUNTA 10 - Qual é a nota média em Ciências Humanas dos alunos que estudaram numa escola em Minas Gerais e que moram sozinhos?"
   ]
  },
  {
   "cell_type": "code",
   "execution_count": 26,
   "id": "3d80bf51-ecc7-4b3a-9a3f-5eb23661f24e",
   "metadata": {},
   "outputs": [
    {
     "data": {
      "text/plain": [
       "537.0544303797469"
      ]
     },
     "execution_count": 26,
     "metadata": {},
     "output_type": "execute_result"
    }
   ],
   "source": [
    "enem.loc[\n",
    "    (enem.SG_UF_ESC == 'MG') &\n",
    "    (enem.Q005 == 1),\n",
    "    'NU_NOTA_CH'\n",
    "].mean()"
   ]
  },
  {
   "cell_type": "markdown",
   "id": "8e07336a-6142-464d-b085-e4ccc2230d99",
   "metadata": {},
   "source": [
    "PERGUNTA 11 - Qual é a nota média em Ciências Humanas dos alunos que estudaram numa escola em Minas Gerais, cujo pai completou pós-graduação e possuem renda familiar entre R$ 8.360,01 e R$ 9.405,00?"
   ]
  },
  {
   "cell_type": "code",
   "execution_count": 27,
   "id": "0880b7c8-0e3c-4a2f-b580-751c561d12d0",
   "metadata": {},
   "outputs": [
    {
     "data": {
      "text/plain": [
       "623.9422535211268"
      ]
     },
     "execution_count": 27,
     "metadata": {},
     "output_type": "execute_result"
    }
   ],
   "source": [
    "enem.loc[\n",
    "    (enem.SG_UF_ESC == 'MG') &\n",
    "    (enem.Q001 == 'G') & \n",
    "    (enem.Q006 == 'L'),\n",
    "    'NU_NOTA_CH'\n",
    "].mean()"
   ]
  },
  {
   "cell_type": "markdown",
   "id": "daa907c8-c070-454b-aacd-471da0ab95a9",
   "metadata": {},
   "source": [
    "PERGUNTA 12 - Qual é a nota média em Matemática dos alunos do sexo Feminino que estudaram numa escola em Lavras e escolheram “Espanhol” como língua estrangeira?"
   ]
  },
  {
   "cell_type": "code",
   "execution_count": 30,
   "id": "75f60630-af24-41f3-82cd-64f4353bfbad",
   "metadata": {},
   "outputs": [
    {
     "data": {
      "text/plain": [
       "513.3833333333333"
      ]
     },
     "execution_count": 30,
     "metadata": {},
     "output_type": "execute_result"
    }
   ],
   "source": [
    "enem.loc[\n",
    "    (enem.NO_MUNICIPIO_ESC == 'Lavras') &\n",
    "    (enem.TP_SEXO == 'F') &\n",
    "    (enem.TP_LINGUA == 1),\n",
    "    'NU_NOTA_MT'\n",
    "].mean()"
   ]
  },
  {
   "cell_type": "markdown",
   "id": "aceb332e-d52a-4391-a312-682af709121d",
   "metadata": {},
   "source": [
    "PERGUNTA 13 - Qual é a nota média em Matemática dos alunos do sexo Masculino que estudaram numa escola em Ouro Preto?"
   ]
  },
  {
   "cell_type": "code",
   "execution_count": 31,
   "id": "b3428bd7-949e-4c19-8a77-c219c8354eba",
   "metadata": {},
   "outputs": [
    {
     "data": {
      "text/plain": [
       "615.5823529411764"
      ]
     },
     "execution_count": 31,
     "metadata": {},
     "output_type": "execute_result"
    }
   ],
   "source": [
    "enem.loc[\n",
    "    (enem.NO_MUNICIPIO_ESC == 'Ouro Preto') &\n",
    "    (enem.TP_SEXO == 'M'),\n",
    "    'NU_NOTA_MT'\n",
    "].mean()"
   ]
  },
  {
   "cell_type": "markdown",
   "id": "5fdb45ae-64ce-4422-afb2-1f387eeb1e86",
   "metadata": {},
   "source": [
    "PERGUNTA 14 - Qual é a nota média em Ciências Humanas dos alunos que estudaram numa escola em Minas Gerais e possuem entre 26 e 30 anos?"
   ]
  },
  {
   "cell_type": "code",
   "execution_count": 36,
   "id": "f6e88592-b16a-4a78-a7ae-7ff90856fa5e",
   "metadata": {},
   "outputs": [
    {
     "data": {
      "text/plain": [
       "473.477922077922"
      ]
     },
     "execution_count": 36,
     "metadata": {},
     "output_type": "execute_result"
    }
   ],
   "source": [
    "enem.loc[\n",
    "    (enem.SG_UF_ESC == 'MG') &\n",
    "    (enem.TP_FAIXA_ETARIA == 11),\n",
    "    'NU_NOTA_CH'\n",
    "].mean()"
   ]
  },
  {
   "cell_type": "markdown",
   "id": "fe49977d-5c09-4c01-b1a8-05514466f057",
   "metadata": {},
   "source": [
    "PERGUNTA 15 - Qual é a nota média em Matemática dos alunos do sexo FEMININO, que estudaram numa escola em Belo Horizonte, Sabará, Nova Lima ou Betim e estudaram em uma escola privada?"
   ]
  },
  {
   "cell_type": "code",
   "execution_count": 44,
   "id": "1a6ba4aa-4373-4874-bc7a-7b162516251e",
   "metadata": {},
   "outputs": [
    {
     "data": {
      "text/plain": [
       "679.1369481765835"
      ]
     },
     "execution_count": 44,
     "metadata": {},
     "output_type": "execute_result"
    }
   ],
   "source": [
    "enem.loc[\n",
    "    ((enem.NO_MUNICIPIO_ESC == 'Belo Horizonte') |\n",
    "    (enem.NO_MUNICIPIO_ESC == 'Sabará') |\n",
    "    (enem.NO_MUNICIPIO_ESC == 'Nova Lima') |\n",
    "    (enem.NO_MUNICIPIO_ESC == 'Betim')) &\n",
    "    (enem.TP_ESCOLA == 3) &\n",
    "    (enem.TP_SEXO == 'F'),\n",
    "    'NU_NOTA_MT'\n",
    "].mean()"
   ]
  },
  {
   "cell_type": "code",
   "execution_count": null,
   "id": "0e4001ad-5e24-481d-82b1-478bf2b0451d",
   "metadata": {},
   "outputs": [],
   "source": []
  },
  {
   "cell_type": "code",
   "execution_count": null,
   "id": "1bfa5cbc-911f-4744-a5b2-520f1d3a4591",
   "metadata": {},
   "outputs": [],
   "source": []
  }
 ],
 "metadata": {
  "kernelspec": {
   "display_name": "Python 3 (ipykernel)",
   "language": "python",
   "name": "python3"
  },
  "language_info": {
   "codemirror_mode": {
    "name": "ipython",
    "version": 3
   },
   "file_extension": ".py",
   "mimetype": "text/x-python",
   "name": "python",
   "nbconvert_exporter": "python",
   "pygments_lexer": "ipython3",
   "version": "3.9.1"
  }
 },
 "nbformat": 4,
 "nbformat_minor": 5
}
