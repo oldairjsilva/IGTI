{
  "cells": [
    {
      "cell_type": "markdown",
      "metadata": {
        "id": "view-in-github",
        "colab_type": "text"
      },
      "source": [
        "<a href=\"https://colab.research.google.com/github/oldairjsilva/IGTI/blob/main/coleta_dados_chess.ipynb\" target=\"_parent\"><img src=\"https://colab.research.google.com/assets/colab-badge.svg\" alt=\"Open In Colab\"/></a>"
      ]
    },
    {
      "cell_type": "markdown",
      "id": "4d776930",
      "metadata": {
        "id": "4d776930"
      },
      "source": [
        "# Coleta de dados Utilizando API\n",
        "Hoje vamos iniciar uma coleta de dados utilizando a API do Jogo de Xadrez (Chess.com)\n",
        "\n",
        "Documentação da API\n",
        "\n",
        "https://www.chess.com/news/view/published-data-api"
      ]
    },
    {
      "cell_type": "markdown",
      "id": "c172097a",
      "metadata": {
        "id": "c172097a"
      },
      "source": [
        "### Importando as bibliotecas"
      ]
    },
    {
      "cell_type": "code",
      "execution_count": null,
      "id": "54c962af",
      "metadata": {
        "id": "54c962af"
      },
      "outputs": [],
      "source": [
        "import requests\n",
        "import json"
      ]
    },
    {
      "cell_type": "markdown",
      "id": "b5f1e276",
      "metadata": {
        "id": "b5f1e276"
      },
      "source": [
        "### Acessando API e trazendo informação de um player"
      ]
    },
    {
      "cell_type": "code",
      "execution_count": null,
      "id": "7f318bb6",
      "metadata": {
        "id": "7f318bb6"
      },
      "outputs": [],
      "source": [
        "response = requests.get('https://api.chess.com/pub/player/MagnusCarisen')"
      ]
    },
    {
      "cell_type": "markdown",
      "id": "bb451eeb",
      "metadata": {
        "id": "bb451eeb"
      },
      "source": [
        "### Verifica conexão"
      ]
    },
    {
      "cell_type": "code",
      "execution_count": null,
      "id": "c0a13273",
      "metadata": {
        "id": "c0a13273",
        "outputId": "0806c217-f1fd-4231-80af-e5be59269ca3"
      },
      "outputs": [
        {
          "data": {
            "text/plain": [
              "<Response [200]>"
            ]
          },
          "execution_count": 3,
          "metadata": {},
          "output_type": "execute_result"
        }
      ],
      "source": [
        "response"
      ]
    },
    {
      "cell_type": "markdown",
      "id": "862dfca9",
      "metadata": {
        "id": "862dfca9"
      },
      "source": [
        "### Verifica conhecendo estrutura dos dados da API"
      ]
    },
    {
      "cell_type": "code",
      "execution_count": null,
      "id": "0f6b6d80",
      "metadata": {
        "id": "0f6b6d80"
      },
      "outputs": [],
      "source": [
        "content = response.json()"
      ]
    },
    {
      "cell_type": "code",
      "execution_count": null,
      "id": "8b1b92a5",
      "metadata": {
        "id": "8b1b92a5",
        "outputId": "e381f8f3-6f73-45a3-95c9-1e083d8bab58"
      },
      "outputs": [
        {
          "data": {
            "text/plain": [
              "{'player_id': 9242324,\n",
              " '@id': 'https://api.chess.com/pub/player/magnuscarisen',\n",
              " 'url': 'https://www.chess.com/member/magnuscarIsen',\n",
              " 'username': 'magnuscarisen',\n",
              " 'followers': 0,\n",
              " 'country': 'https://api.chess.com/pub/country/BE',\n",
              " 'last_online': 1352465421,\n",
              " 'joined': 1350155037,\n",
              " 'status': 'basic',\n",
              " 'is_streamer': False}"
            ]
          },
          "execution_count": 5,
          "metadata": {},
          "output_type": "execute_result"
        }
      ],
      "source": [
        "content"
      ]
    },
    {
      "cell_type": "markdown",
      "id": "5ece5aa0",
      "metadata": {
        "id": "5ece5aa0"
      },
      "source": [
        "### Informações do player\n",
        "Aqui nos temos informação de:\n",
        "1. nome\n",
        "2. user name\n",
        "3. Título do jogador\n",
        "4. followers: pessoas que os seguem\n",
        "5. country: País de origem do player\n",
        "6. location: localização do player\n",
        "\n",
        "... entre outros"
      ]
    },
    {
      "cell_type": "markdown",
      "id": "18c81f67",
      "metadata": {
        "id": "18c81f67"
      },
      "source": [
        "### Coletando estatísticas do jogador (stats)\n",
        "Descrição: obtenha classificações, vitórias / derrotas e outras estatísticas sobre o jogo, as táticas, as lições e a pontuação do Puzzle Rush de um jogador."
      ]
    },
    {
      "cell_type": "code",
      "execution_count": null,
      "id": "b534b4c6",
      "metadata": {
        "id": "b534b4c6"
      },
      "outputs": [],
      "source": [
        "url = 'https://api.chess.com/pub/player/MagnusCarisen/stats'"
      ]
    },
    {
      "cell_type": "code",
      "execution_count": null,
      "id": "caf400cf",
      "metadata": {
        "id": "caf400cf"
      },
      "outputs": [],
      "source": [
        "response = requests.get(url)"
      ]
    },
    {
      "cell_type": "code",
      "execution_count": null,
      "id": "c63e6f14",
      "metadata": {
        "id": "c63e6f14",
        "outputId": "91df3465-d2ff-4232-f8b2-938ea52641ba"
      },
      "outputs": [
        {
          "data": {
            "text/plain": [
              "<Response [200]>"
            ]
          },
          "execution_count": 8,
          "metadata": {},
          "output_type": "execute_result"
        }
      ],
      "source": [
        "response # verificar conectividade com o site"
      ]
    },
    {
      "cell_type": "code",
      "execution_count": null,
      "id": "09248837",
      "metadata": {
        "id": "09248837",
        "outputId": "c4b73be0-f9e3-4019-81f4-b072c97ac085"
      },
      "outputs": [
        {
          "data": {
            "text/plain": [
              "{'chess_bullet': {'last': {'rating': 1530, 'date': 1350482613, 'rd': 85},\n",
              "  'best': {'rating': 1512,\n",
              "   'date': 1350162173,\n",
              "   'game': 'https://www.chess.com/game/live/378797027'},\n",
              "  'record': {'win': 14, 'loss': 10, 'draw': 0}},\n",
              " 'chess_blitz': {'last': {'rating': 1292, 'date': 1350155619, 'rd': 251},\n",
              "  'best': {'rating': 1335,\n",
              "   'date': 1350155227,\n",
              "   'game': 'https://www.chess.com/game/live/378242346'},\n",
              "  'record': {'win': 1, 'loss': 0, 'draw': 1}},\n",
              " 'fide': 0,\n",
              " 'tactics': {},\n",
              " 'lessons': {},\n",
              " 'puzzle_rush': {}}"
            ]
          },
          "execution_count": 9,
          "metadata": {},
          "output_type": "execute_result"
        }
      ],
      "source": [
        "response.json()"
      ]
    },
    {
      "cell_type": "markdown",
      "id": "4266af4a",
      "metadata": {
        "id": "4266af4a"
      },
      "source": [
        "### Informações sobre modos de jogo\n",
        "Melhor rating\n",
        "\n",
        "chess_rapid"
      ]
    },
    {
      "cell_type": "markdown",
      "id": "a822a68e",
      "metadata": {
        "id": "a822a68e"
      },
      "source": [
        "### Jogos que participou"
      ]
    },
    {
      "cell_type": "code",
      "execution_count": null,
      "id": "20387a04",
      "metadata": {
        "id": "20387a04"
      },
      "outputs": [],
      "source": [
        "url = 'https://api.chess.com/pub/player/MagnusCarisen/games/2021/02'"
      ]
    },
    {
      "cell_type": "code",
      "execution_count": null,
      "id": "01002cca",
      "metadata": {
        "id": "01002cca"
      },
      "outputs": [],
      "source": [
        "response = requests.get(url)"
      ]
    },
    {
      "cell_type": "code",
      "execution_count": null,
      "id": "bc7a37c2",
      "metadata": {
        "id": "bc7a37c2",
        "outputId": "6f0f1c38-bb49-420a-d644-5b7a6552bad4"
      },
      "outputs": [
        {
          "data": {
            "text/plain": [
              "<Response [200]>"
            ]
          },
          "execution_count": 34,
          "metadata": {},
          "output_type": "execute_result"
        }
      ],
      "source": [
        "response # verificar conectividade com o site"
      ]
    },
    {
      "cell_type": "code",
      "execution_count": null,
      "id": "9ffd713e",
      "metadata": {
        "id": "9ffd713e"
      },
      "outputs": [],
      "source": [
        "response_json = response.json()"
      ]
    },
    {
      "cell_type": "code",
      "execution_count": null,
      "id": "00491a0a",
      "metadata": {
        "id": "00491a0a",
        "outputId": "ee5a82dd-cf00-4352-aa28-a80df04bc778"
      },
      "outputs": [
        {
          "data": {
            "text/plain": [
              "[]"
            ]
          },
          "execution_count": 36,
          "metadata": {},
          "output_type": "execute_result"
        }
      ],
      "source": [
        "response_json['games']"
      ]
    },
    {
      "cell_type": "code",
      "execution_count": null,
      "id": "64724660",
      "metadata": {
        "id": "64724660",
        "outputId": "04489baa-68d2-475b-af3c-748a08b7c439"
      },
      "outputs": [
        {
          "data": {
            "text/plain": [
              "dict_keys(['games'])"
            ]
          },
          "execution_count": 37,
          "metadata": {},
          "output_type": "execute_result"
        }
      ],
      "source": [
        "response_json.keys()"
      ]
    },
    {
      "cell_type": "markdown",
      "id": "2e15da76",
      "metadata": {
        "id": "2e15da76"
      },
      "source": [
        "### Mostra informação do primeiro jogo realizado"
      ]
    },
    {
      "cell_type": "code",
      "execution_count": null,
      "id": "73ffdd24",
      "metadata": {
        "id": "73ffdd24",
        "outputId": "8d48dced-019c-4fe6-8b3b-ee646704cd6e"
      },
      "outputs": [
        {
          "ename": "IndexError",
          "evalue": "list index out of range",
          "output_type": "error",
          "traceback": [
            "\u001b[1;31m---------------------------------------------------------------------------\u001b[0m",
            "\u001b[1;31mIndexError\u001b[0m                                Traceback (most recent call last)",
            "Input \u001b[1;32mIn [38]\u001b[0m, in \u001b[0;36m<cell line: 1>\u001b[1;34m()\u001b[0m\n\u001b[1;32m----> 1\u001b[0m \u001b[38;5;28mprint\u001b[39m(\u001b[43mresponse_json\u001b[49m\u001b[43m[\u001b[49m\u001b[38;5;124;43m'\u001b[39;49m\u001b[38;5;124;43mgames\u001b[39;49m\u001b[38;5;124;43m'\u001b[39;49m\u001b[43m]\u001b[49m\u001b[43m[\u001b[49m\u001b[38;5;241;43m0\u001b[39;49m\u001b[43m]\u001b[49m[\u001b[38;5;124m'\u001b[39m\u001b[38;5;124mpgn\u001b[39m\u001b[38;5;124m'\u001b[39m])\n",
            "\u001b[1;31mIndexError\u001b[0m: list index out of range"
          ]
        }
      ],
      "source": [
        "print(response_json['games'][0]['pgn'])"
      ]
    },
    {
      "cell_type": "markdown",
      "id": "c9a6e1fa",
      "metadata": {
        "id": "c9a6e1fa"
      },
      "source": [
        "### Coleta lista com todos os jogadores Grande Mestre do Xadrez\n",
        "Vamos coletar a lista com todos os jogadores que possuem o título de Grande Mestre"
      ]
    },
    {
      "cell_type": "code",
      "execution_count": null,
      "id": "bfce1ed7",
      "metadata": {
        "id": "bfce1ed7"
      },
      "outputs": [],
      "source": [
        "url = 'https://api.chess.com/pub/titled/GM' # url que contém informações sobre todos os Players"
      ]
    },
    {
      "cell_type": "code",
      "execution_count": null,
      "id": "151196cb",
      "metadata": {
        "id": "151196cb"
      },
      "outputs": [],
      "source": [
        "response = requests.get(url)"
      ]
    },
    {
      "cell_type": "markdown",
      "id": "b4e44968",
      "metadata": {
        "id": "b4e44968"
      },
      "source": [
        "### Retorna a lista com todos os players GM"
      ]
    },
    {
      "cell_type": "code",
      "execution_count": null,
      "id": "b6fbe83b",
      "metadata": {
        "id": "b6fbe83b",
        "outputId": "20c5ab18-bcb5-4de5-88e2-48df6558f8c9"
      },
      "outputs": [
        {
          "data": {
            "text/plain": [
              "{'players': ['123lt',\n",
              "  '124chess',\n",
              "  '1977ivan',\n",
              "  '1stsecond',\n",
              "  '4thd-alpeacefulmoon',\n",
              "  '64aramis64',\n",
              "  '64arthos64',\n",
              "  '64atilla64',\n",
              "  '64dartagnan64',\n",
              "  '64genghis64',\n",
              "  '64leonidas64',\n",
              "  '64porthos64',\n",
              "  '64pyrrhus64',\n",
              "  '731291',\n",
              "  'a-adly',\n",
              "  'a-fier',\n",
              "  'abasovn',\n",
              "  'abhidabhi',\n",
              "  'abhijeetgupta',\n",
              "  'abhijeetgupta1016',\n",
              "  'abhijeetonyoutube',\n",
              "  'abhyak',\n",
              "  'absentzest',\n",
              "  'abykhovsky',\n",
              "  'actorxu',\n",
              "  'adaro',\n",
              "  'adham_fawzy',\n",
              "  'adiosabu',\n",
              "  'afgano29',\n",
              "  'aggy67',\n",
              "  'agser',\n",
              "  'airgun1',\n",
              "  'aivanov-ne',\n",
              "  'akobian-sea',\n",
              "  'akobian-stl',\n",
              "  'akshatchandra',\n",
              "  'akshayraj_kore',\n",
              "  'alefedorov',\n",
              "  'aleksa74',\n",
              "  'aleksandrovaleksei',\n",
              "  'aleksey_sorokin',\n",
              "  'alexander-evdokimov',\n",
              "  'alexanderl',\n",
              "  'alexander_donchenko',\n",
              "  'alexander_moskalenko',\n",
              "  'alexander_zubov',\n",
              "  'alexandr_predke',\n",
              "  'alexchess1062',\n",
              "  'alexchess1984',\n",
              "  'alexcolovic',\n",
              "  'alexeishirov',\n",
              "  'alexhuzman',\n",
              "  'alexonischuk',\n",
              "  'alexrustemov',\n",
              "  'alexsur1981',\n",
              "  'alexvangog',\n",
              "  'alexyermo',\n",
              "  'alex_goloshchapov',\n",
              "  'alex_stripunsky',\n",
              "  'algeriano22',\n",
              "  'allanstig',\n",
              "  'almo64',\n",
              "  'alphaodin',\n",
              "  'aman',\n",
              "  'amintabatabaei',\n",
              "  'amir-zaibi',\n",
              "  'amirbagheri78',\n",
              "  'amirreza_p',\n",
              "  'anaconda1983',\n",
              "  'anand',\n",
              "  'andabata',\n",
              "  'andrbaryshpolets',\n",
              "  'andreikka',\n",
              "  'andrei_belozerov',\n",
              "  'andrejs_sokolov',\n",
              "  'andreystukopin',\n",
              "  'andyrodri',\n",
              "  'angelogm',\n",
              "  'anishgiri',\n",
              "  'anishonyoutube',\n",
              "  'anka-sea',\n",
              "  'annawel',\n",
              "  'anna_muzychuk',\n",
              "  'anonymous1762',\n",
              "  'anthonywirig',\n",
              "  'antipov_mikhail_al',\n",
              "  'antonshomoev',\n",
              "  'antonsmirnov',\n",
              "  'anton_demchenko',\n",
              "  'anuar_is',\n",
              "  'anurag328',\n",
              "  'aoitsukibluemoon',\n",
              "  'aquarium76',\n",
              "  'aradej',\n",
              "  'arambai',\n",
              "  'arcymisie',\n",
              "  'arencibia',\n",
              "  'argyllprince',\n",
              "  'ariancito1',\n",
              "  'arjunerigaisi2003',\n",
              "  'arkonada50',\n",
              "  'arm-akiba',\n",
              "  'armenianlion',\n",
              "  'arnaudovp',\n",
              "  'arseniy_nesterov',\n",
              "  'artem_ilyin',\n",
              "  'arthurkogan',\n",
              "  'art_vandelay1980',\n",
              "  'arvika',\n",
              "  'aryamabreu',\n",
              "  'aryangholami',\n",
              "  'aryantari',\n",
              "  'aryashitake',\n",
              "  'asadlivugar',\n",
              "  'aspired',\n",
              "  'assezde36',\n",
              "  'astralpulse',\n",
              "  'atalik',\n",
              "  'atomrod',\n",
              "  'attack2mateu',\n",
              "  'attackgm',\n",
              "  'attilaczebe',\n",
              "  'augustomatraga',\n",
              "  'avantage_ru',\n",
              "  'averagerecord',\n",
              "  'avetik_chessmood',\n",
              "  'avitalbor',\n",
              "  'avolodin',\n",
              "  'axves',\n",
              "  'aygehovit1992',\n",
              "  'azerichess',\n",
              "  'azerichessss',\n",
              "  'azeryahu',\n",
              "  'azgm',\n",
              "  'azikom',\n",
              "  'azzaro25',\n",
              "  'b-man',\n",
              "  'b-unit',\n",
              "  'baag',\n",
              "  'babegroot',\n",
              "  'baby_legs',\n",
              "  'bacallao2019',\n",
              "  'bacyanide',\n",
              "  'baipi2010',\n",
              "  'baki83',\n",
              "  'bakki78',\n",
              "  'baku_boulevard',\n",
              "  'bancsoo',\n",
              "  'bankrotten',\n",
              "  'barcelona_guy',\n",
              "  'barcenilla-arz',\n",
              "  'bartoszsocko',\n",
              "  'barys1974',\n",
              "  'barzed',\n",
              "  'batica1984',\n",
              "  'batolovic',\n",
              "  'bazarov04',\n",
              "  'beca95',\n",
              "  'becerra-mia',\n",
              "  'beebucks',\n",
              "  'belabadea21',\n",
              "  'benjamin-nj',\n",
              "  'bentsfriend',\n",
              "  'berny643',\n",
              "  'besmall',\n",
              "  'bestcoacheverr',\n",
              "  'bfinegold-stl',\n",
              "  'bhat-sf',\n",
              "  'bigfish1995',\n",
              "  'bilelou',\n",
              "  'bilguunsu',\n",
              "  'billiekimbah',\n",
              "  'bilodeaua',\n",
              "  'blagid',\n",
              "  'blefer66',\n",
              "  'blindfoldkrikor',\n",
              "  'blindginger',\n",
              "  'blindlast7samurai',\n",
              "  'blindtakes',\n",
              "  'blueshark23',\n",
              "  'bluewizzard',\n",
              "  'bmw326',\n",
              "  'bobanbogosavljevic',\n",
              "  'bobbyhall222',\n",
              "  'bocah_sakit',\n",
              "  'bocharovd',\n",
              "  'bogdandeac',\n",
              "  'bonamente',\n",
              "  'bonca64',\n",
              "  'bonuspater18',\n",
              "  'boo786',\n",
              "  'boorrj',\n",
              "  'borisk62',\n",
              "  'bosiocic',\n",
              "  'brainwolf',\n",
              "  'brandonjacobson',\n",
              "  'brightthunder',\n",
              "  'brt6209',\n",
              "  'bryansmith',\n",
              "  'bubacik',\n",
              "  'bubi6',\n",
              "  'buffy7',\n",
              "  'bui2512',\n",
              "  'burbur555',\n",
              "  'bustedpack',\n",
              "  'bykhovsky-stl',\n",
              "  'byniolus',\n",
              "  'c-25',\n",
              "  'caefellion',\n",
              "  'caissa12',\n",
              "  'captainjames',\n",
              "  'carlosalbornoz',\n",
              "  'cassoulet',\n",
              "  'cayse',\n",
              "  'ccgrandmaster',\n",
              "  'cemilcan',\n",
              "  'ceraunophilmera',\n",
              "  'cerdasbrs',\n",
              "  'chabanon',\n",
              "  'chadaevnikolay',\n",
              "  'champ2005',\n",
              "  'charbonneau-ny',\n",
              "  'charlatante',\n",
              "  'checkmate_107',\n",
              "  'checky2015',\n",
              "  'checom',\n",
              "  'chefshouse',\n",
              "  'chepaschess',\n",
              "  'chernobay_artem',\n",
              "  'chessasuke',\n",
              "  'chessawp',\n",
              "  'chessbrah',\n",
              "  'chessdjw',\n",
              "  'chessdude',\n",
              "  'chesseducation4u',\n",
              "  'chessfatbear',\n",
              "  'chessfreak35',\n",
              "  'chessialist',\n",
              "  'chessking518',\n",
              "  'chessmastaflash88',\n",
              "  'chessmisic',\n",
              "  'chessmood',\n",
              "  'chessnerdstv',\n",
              "  'chessonado',\n",
              "  'chessonthemat007',\n",
              "  'chesspanda123',\n",
              "  'chessqueen',\n",
              "  'chessskool',\n",
              "  'chesstrainer2042',\n",
              "  'chesstraining77',\n",
              "  'chesswarrior7197',\n",
              "  'chessweebs',\n",
              "  'chesswolf1210',\n",
              "  'chesswy',\n",
              "  'chipsbeer',\n",
              "  'chirila-dal',\n",
              "  'chito89',\n",
              "  'chopper1905',\n",
              "  'chowman64',\n",
              "  'cipy77',\n",
              "  'citychess_said',\n",
              "  'classyel',\n",
              "  'clevercrab',\n",
              "  'coach_davido',\n",
              "  'cody1983',\n",
              "  'colchonero64',\n",
              "  'coldplace',\n",
              "  'colerranmorad',\n",
              "  'conquering',\n",
              "  'contora',\n",
              "  'copperbrain',\n",
              "  'courgete',\n",
              "  'crackcubano',\n",
              "  'crazy',\n",
              "  'crazyboy26',\n",
              "  'crescentmoon2411',\n",
              "  'cristhiancruzsanchez',\n",
              "  'cruel_yaro',\n",
              "  'cruise999',\n",
              "  'ctionescu',\n",
              "  'cubitas',\n",
              "  'cuencajugon',\n",
              "  'cyrilmarcelin',\n",
              "  'daanbrandenburg',\n",
              "  'daat',\n",
              "  'daggigretarsson',\n",
              "  'daika91',\n",
              "  'dalmatinac101',\n",
              "  'dancingheaven16',\n",
              "  'danieldardha2005',\n",
              "  'danielking',\n",
              "  'danielnaroditsky',\n",
              "  'daniel_fridman',\n",
              "  'danir29',\n",
              "  'danyuffa',\n",
              "  'darcylima',\n",
              "  'daro94',\n",
              "  'datfifaplaya',\n",
              "  'davidarenas1224',\n",
              "  'davidbaramidze',\n",
              "  'davidmarkosyan',\n",
              "  'david_arutinian',\n",
              "  'david_klein',\n",
              "  'davorinkuljasevic',\n",
              "  'davor_rogic',\n",
              "  'dbojkov',\n",
              "  'ddevreugt',\n",
              "  'deadeye10',\n",
              "  'dearmike',\n",
              "  'debashisdebs',\n",
              "  'deep306',\n",
              "  'defenceboy',\n",
              "  'defenceontitan',\n",
              "  'delhigm',\n",
              "  'denis_makhnyov',\n",
              "  'desconocido04',\n",
              "  'detskisad',\n",
              "  'deviatkinandrey',\n",
              "  'devikbronstein',\n",
              "  'devonlaratt',\n",
              "  'dforcen',\n",
              "  'dhoine',\n",
              "  'diamant-stl',\n",
              "  'dibyendu_barua',\n",
              "  'didici',\n",
              "  'dinopopuslic',\n",
              "  'dinozavr69',\n",
              "  'diokletian',\n",
              "  'diwi89',\n",
              "  'djakovenko',\n",
              "  'djojua',\n",
              "  'dj_haubi',\n",
              "  'dlugy',\n",
              "  'dmitrymaximov',\n",
              "  'dogsofwar',\n",
              "  'dorian2017',\n",
              "  'dostis',\n",
              "  'dr-bassem',\n",
              "  'dr-cro',\n",
              "  'draganbarlov',\n",
              "  'dragansolak',\n",
              "  'dragonflow',\n",
              "  'drags95',\n",
              "  'drawdenied-twitch',\n",
              "  'drblinditsky',\n",
              "  'drenchev',\n",
              "  'dretch',\n",
              "  'dropstonedp',\n",
              "  'drtancredi',\n",
              "  'drvelja',\n",
              "  'drvitman',\n",
              "  'drycounty',\n",
              "  'dr_mortimer',\n",
              "  'duanlian',\n",
              "  'dudedoel',\n",
              "  'duhless',\n",
              "  'dulemaster',\n",
              "  'dulemudule',\n",
              "  'dumbo32',\n",
              "  'durarbayli',\n",
              "  'dusanacns',\n",
              "  'dyadya81',\n",
              "  'dynamikus',\n",
              "  'e-grivas',\n",
              "  'earlgreynow',\n",
              "  'egorgeroev',\n",
              "  'ehsan_ghaemmaghami',\n",
              "  'el-marmalade',\n",
              "  'eldax64',\n",
              "  'eldur16',\n",
              "  'elefante33',\n",
              "  'elefante38',\n",
              "  'elegance_riks',\n",
              "  'elgasanov',\n",
              "  'elhelvetico',\n",
              "  'eljanov',\n",
              "  'elliotstabler',\n",
              "  'elprofesorsergio',\n",
              "  'elshan1985',\n",
              "  'eltajsafarli',\n",
              "  'eltaj_safarli',\n",
              "  'emilanka',\n",
              "  'emiliocordova',\n",
              "  'emperor87',\n",
              "  'enajer77',\n",
              "  'enki007',\n",
              "  'erenburg-phi',\n",
              "  'erichansen',\n",
              "  'erikblomqvist',\n",
              "  'ermito2020',\n",
              "  'erwinlami',\n",
              "  'etoilegeniale',\n",
              "  'etserga',\n",
              "  'eugeneperelshteyn',\n",
              "  'evandro_barbosa',\n",
              "  'evgchess5',\n",
              "  'evgeniy_88',\n",
              "  'evgeny81',\n",
              "  'evgenypigusov',\n",
              "  'evgenyromanov',\n",
              "  'evgenysharapov',\n",
              "  'evgenyt',\n",
              "  'excellent1st',\n",
              "  'exoticprincess',\n",
              "  'experience_chess',\n",
              "  'fabianocaruana',\n",
              "  'fablibi',\n",
              "  'fairchess_on_youtube',\n",
              "  'fandorine',\n",
              "  'faqade',\n",
              "  'farout1364',\n",
              "  'farrukh_amonatov',\n",
              "  'fartobus',\n",
              "  'fatupss',\n",
              "  'faustregel',\n",
              "  'fcchelsea14',\n",
              "  'federtiu',\n",
              "  'fedoseevvladimir',\n",
              "  'felixblohberger',\n",
              "  'feliztigriz',\n",
              "  'feuerwehrmannsam',\n",
              "  'fighterman91',\n",
              "  'filippov_anton',\n",
              "  'firegrizzly',\n",
              "  'firehand33',\n",
              "  'fireheart92',\n",
              "  'firouzja2003',\n",
              "  'fishbein-nj',\n",
              "  'fivetrick',\n",
              "  'floatypotato',\n",
              "  'florianhandke',\n",
              "  'flycont',\n",
              "  'fodorpoti',\n",
              "  'foewa98',\n",
              "  'formerprodigy',\n",
              "  'fosti19',\n",
              "  'francyim',\n",
              "  'frankieyale',\n",
              "  'frolyanov_d',\n",
              "  'frostnova',\n",
              "  'ftacnikl',\n",
              "  'ftorodent',\n",
              "  'fyall777',\n",
              "  'g3god',\n",
              "  'gabix_94',\n",
              "  'gabrielian_artur',\n",
              "  'gabuzyan_chessmood',\n",
              "  'gaguna',\n",
              "  'gaizca',\n",
              "  'gajuchess',\n",
              "  'gakashchess',\n",
              "  'garcho08',\n",
              "  'gareev-sea',\n",
              "  'garrykasparov',\n",
              "  'gasconchess-youtube',\n",
              "  'gavrikov',\n",
              "  'gelashvili-ny',\n",
              "  'geller_jakov',\n",
              "  'geminiboy',\n",
              "  'gen-gutman',\n",
              "  'genghis_k',\n",
              "  'genna1943',\n",
              "  'georgegiorgadze',\n",
              "  'georgescu_tiberiu',\n",
              "  'georgmeier',\n",
              "  'german-2826',\n",
              "  'gevorg_harutjunyan',\n",
              "  'ggg',\n",
              "  'gguseinov',\n",
              "  'ghandeevam2003',\n",
              "  'ghertneck',\n",
              "  'giantslayer83',\n",
              "  'gigantell0',\n",
              "  'gigaquparadze',\n",
              "  'gilmil',\n",
              "  'ginger_gm',\n",
              "  'giorgim-bal',\n",
              "  'givesalltheflow',\n",
              "  'glek_igor',\n",
              "  'gliglu',\n",
              "  'gm-andreyorlov',\n",
              "  'gmakobianstl',\n",
              "  'gmalex1971',\n",
              "  'gmalmeida',\n",
              "  'gmalsayed',\n",
              "  'gmantic',\n",
              "  'gmartin_petrov',\n",
              "  'gmarunchess',\n",
              "  'gmashley',\n",
              "  'gmasterkiller',\n",
              "  'gmaxel23',\n",
              "  'gmazapata',\n",
              "  'gmbarbosachess',\n",
              "  'gmbartek',\n",
              "  'gmbellicose',\n",
              "  'gmbenjaminbok',\n",
              "  'gmbenjaminfinegold',\n",
              "  'gmcarlosaobregon',\n",
              "  'gmcheparinov',\n",
              "  'gmchessrob',\n",
              "  'gmcorrales',\n",
              "  'gmcristhian',\n",
              "  'gmcyborek',\n",
              "  'gmdrh',\n",
              "  'gmedmundo',\n",
              "  'gmg',\n",
              "  'gmgamil',\n",
              "  'gmharikrishna',\n",
              "  'gmhellers',\n",
              "  'gmhess',\n",
              "  'gmhikaruontwitch',\n",
              "  'gmianrogers',\n",
              "  'gmizeta',\n",
              "  'gmjacobaagaard',\n",
              "  'gmjankovic',\n",
              "  'gmjlh',\n",
              "  'gmjoel',\n",
              "  'gmjoey1',\n",
              "  'gmjuliogranda',\n",
              "  'gmkomarov',\n",
              "  'gmkrikor',\n",
              "  'gmlazarobruzon',\n",
              "  'gmmarcelkanarek',\n",
              "  'gmmarcindziuba',\n",
              "  'gmmatamoros',\n",
              "  'gmmelik',\n",
              "  'gmmickeyadams',\n",
              "  'gmmikhailkazakov',\n",
              "  'gmmitkov',\n",
              "  'gmmoranda',\n",
              "  'gmmoskalenko',\n",
              "  'gmnakamuracyborg',\n",
              "  'gmneiksans',\n",
              "  'gmneiksans-bots',\n",
              "  'gmnickpert',\n",
              "  'gmoratovsky',\n",
              "  'gmpacman',\n",
              "  'gmpanno',\n",
              "  'gmpeter008',\n",
              "  'gmpontuscarlsson',\n",
              "  'gmrafpig',\n",
              "  'gmreniergonzalez',\n",
              "  'gmsakk',\n",
              "  'gmsergiobarrientos',\n",
              "  'gmsrinath',\n",
              "  'gmstefanova',\n",
              "  'gmszabo',\n",
              "  'gmtalks_youtube',\n",
              "  'gmtamaz',\n",
              "  'gmtazbir',\n",
              "  'gmtodorov',\n",
              "  'gmtopmoves',\n",
              "  'gmvaleduser',\n",
              "  'gmvallejo',\n",
              "  'gmvar',\n",
              "  'gmvladimir_petkov',\n",
              "  'gmvladko',\n",
              "  'gmvolokitin',\n",
              "  'gmwso',\n",
              "  'gmyarick',\n",
              "  'gmyaz',\n",
              "  'gmzaven',\n",
              "  'gm_aag',\n",
              "  'gm_andrei_murariu',\n",
              "  'gm_barcenilla',\n",
              "  'gm_batchuluun',\n",
              "  'gm_buhmann',\n",
              "  'gm_crest',\n",
              "  'gm_d85',\n",
              "  'gm_darwinlaylo',\n",
              "  'gm_dmitrij',\n",
              "  'gm_donatello',\n",
              "  'gm_gonzalezgarcia',\n",
              "  'gm_huschenbeth',\n",
              "  'gm_igor_smirnov',\n",
              "  'gm_levan_pantsulaia',\n",
              "  'gm_mouse_sleep',\n",
              "  'gm_petrovich',\n",
              "  'gm_rashid',\n",
              "  'gm_robertomogranzini',\n",
              "  'gm_shahin',\n",
              "  'gm_splinter',\n",
              "  'gnowreopard',\n",
              "  'goanchesstrio',\n",
              "  'godspeed',\n",
              "  'godzilla099',\n",
              "  'gogieff',\n",
              "  'goingkronos',\n",
              "  'gonzalez-mia',\n",
              "  'gopalgn64',\n",
              "  'gorato',\n",
              "  'gordima',\n",
              "  'goryachkina',\n",
              "  'grafdemontekritz',\n",
              "  'grandelicious',\n",
              "  'grandmaster1369',\n",
              "  'grigorgrigorov',\n",
              "  'grischuk',\n",
              "  'groovykettle',\n",
              "  'grukjr',\n",
              "  'grzechu96',\n",
              "  'gserper',\n",
              "  'guachiney',\n",
              "  'guenplen',\n",
              "  'guesschess_game',\n",
              "  'gukeshdommaraju',\n",
              "  'gulko-nj',\n",
              "  'gundavaa89',\n",
              "  'gurevichmikhail',\n",
              "  'gusanchutik',\n",
              "  'gutovandrey',\n",
              "  'hamisandwich',\n",
              "  'hamonde',\n",
              "  'handszar',\n",
              "  'hansontwitch',\n",
              "  'hanzo_hasashi1',\n",
              "  'harry_rakkel',\n",
              "  'harsha_bharathakoti',\n",
              "  'harutjunyan-gevorg',\n",
              "  'harutyuniantigrank',\n",
              "  'hasangatin_ramil',\n",
              "  'hedinn',\n",
              "  'heliopsis',\n",
              "  'hellmasterpiece',\n",
              "  'hercules64',\n",
              "  'hesham-a',\n",
              "  'hess-con',\n",
              "  'higescha',\n",
              "  'hikaru',\n",
              "  'hikarunakamura',\n",
              "  'hissha',\n",
              "  'hitaman',\n",
              "  'hoacin',\n",
              "  'hoangpeony',\n",
              "  'hoffentlichreichts',\n",
              "  'hoffmana26',\n",
              "  'holdenhc',\n",
              "  'holt-dal',\n",
              "  'homayoontofighi',\n",
              "  'honestgirl',\n",
              "  'horizonevent',\n",
              "  'hotshot008',\n",
              "  'hovik_hayrapetyan',\n",
              "  'howitzer14',\n",
              "  'hrant_chessmood',\n",
              "  'hristosbanikas',\n",
              "  'huanghou',\n",
              "  'hugooakland',\n",
              "  'hugospangenberg',\n",
              "  'humpy1987',\n",
              "  'hunga',\n",
              "  'hungaski-man',\n",
              "  'hustlestandard',\n",
              "  'hyxiom',\n",
              "  'ibrayevnb',\n",
              "  'iceboy88',\n",
              "  'ichamo',\n",
              "  'idontknowchess75',\n",
              "  'igmjeroenpiket',\n",
              "  'igorkovalenko',\n",
              "  'igor_lysyj',\n",
              "  'igrok3069',\n",
              "  'iljazaragatski',\n",
              "  'iljushin_alexey',\n",
              "  'illingworth',\n",
              "  'immatt64',\n",
              "  'imre91',\n",
              "  'incognito_knight',\n",
              "  'incrediblebubacik',\n",
              "  'indian-elephant',\n",
              "  'indianelephant5',\n",
              "  'indianlad',\n",
              "  'infernal_xam',\n",
              "  'injazzstyle',\n",
              "  'inopov',\n",
              "  'inspektor_rex',\n",
              "  'irochka83',\n",
              "  'iskusnyh',\n",
              "  'itachiuchiha999',\n",
              "  'iturrizaga',\n",
              "  'iuri_shkuro',\n",
              "  'iwanyu',\n",
              "  'izoria-man',\n",
              "  'izoria123',\n",
              "  'i_enchev',\n",
              "  'jacobrafael',\n",
              "  'jaguar_92',\n",
              "  'janosik',\n",
              "  'jansmeets',\n",
              "  'janwerle',\n",
              "  'jatakk',\n",
              "  'jayg9',\n",
              "  'jcibarra',\n",
              "  'jefferyx',\n",
              "  'jessekraai',\n",
              "  'jesspinkman',\n",
              "  'jfriedel',\n",
              "  'jguerramzllo',\n",
              "  'jhellsten',\n",
              "  'jim2600',\n",
              "  'jimlahey',\n",
              "  'jjosu',\n",
              "  'jlucasvf',\n",
              "  'jmb2010',\n",
              "  'jncool68',\n",
              "  'joellautier',\n",
              "  'johansalomon',\n",
              "  'jonathantisdall',\n",
              "  'jon_speelman',\n",
              "  'joppie2',\n",
              "  'josemourinho2020',\n",
              "  'joshdaruca',\n",
              "  'joshuachick',\n",
              "  'josmito',\n",
              "  'josmito80',\n",
              "  'jospem',\n",
              "  'jpsmo',\n",
              "  'jrlok',\n",
              "  'jsprepz',\n",
              "  'jt',\n",
              "  'juancglez',\n",
              "  'juarinovich',\n",
              "  'juditpolgar',\n",
              "  'julio_becerra',\n",
              "  'jumbo',\n",
              "  'june57',\n",
              "  'justantan',\n",
              "  'justanything',\n",
              "  'justatrickstar',\n",
              "  'juwen',\n",
              "  'jvferreira',\n",
              "  'kacheishvili-ny',\n",
              "  'kaffeehaus1851',\n",
              "  'kaidanov',\n",
              "  'kaka666',\n",
              "  'kamilek84',\n",
              "  'kampkatten',\n",
              "  'kantorgergely',\n",
              "  'kaphrep',\n",
              "  'karavanela',\n",
              "  'kargan90',\n",
              "  'karl_2000',\n",
              "  'kastanieda_georgui',\n",
              "  'katerynalagno',\n",
              "  'kaydentroffchess',\n",
              "  'keene',\n",
              "  'keitharkell',\n",
              "  'kekelidze-con',\n",
              "  'kempsy',\n",
              "  'ketigrant',\n",
              "  'kevin_goh',\n",
              "  'keyzer-soze',\n",
              "  'khachiyan-la',\n",
              "  'khamrakulov_djurabek',\n",
              "  'khatanbaatarbazar',\n",
              "  'khaz_modan',\n",
              "  'kiborg1987',\n",
              "  'kiborg95',\n",
              "  'killer-kostya',\n",
              "  'kingloek',\n",
              "  'kingloek12345',\n",
              "  'kingofconvenience',\n",
              "  'kingpusher',\n",
              "  'kintoho',\n",
              "  'kira170',\n",
              "  'kiril1965',\n",
              "  'kirillshevchenko',\n",
              "  'klan1',\n",
              "  'klippfiskkjerringa',\n",
              "  'knightmare82',\n",
              "  'knvb',\n",
              "  'kobalia',\n",
              "  'koksik_13',\n",
              "  'koktebel22',\n",
              "  'komodochess',\n",
              "  'konavets',\n",
              "  'kondylev',\n",
              "  'koningsbaars',\n",
              "  'konservator69',\n",
              "  'kosanovicgoran',\n",
              "  'kosya4ok',\n",
              "  'koutsalogo',\n",
              "  'kouzari',\n",
              "  'kovkov',\n",
              "  'kpio91',\n",
              "  'kraai-sf',\n",
              "  'krakozia',\n",
              "  'krasimir_rusev',\n",
              "  'krikor-mekhitarian',\n",
              "  'kromax33',\n",
              "  'kruhor',\n",
              "  'krush-ny',\n",
              "  'krzyzan94',\n",
              "  'kuchma777',\n",
              "  'kuli4ik',\n",
              "  'kuybokarovtemur',\n",
              "  'kuzubovyuriy',\n",
              "  'k_a_s_t_o_r',\n",
              "  'k_grigoryan',\n",
              "  'l3on4rdo',\n",
              "  'lachesisq',\n",
              "  'ladheezwousharounm',\n",
              "  'lapitch',\n",
              "  'laskerisalive',\n",
              "  'last7samurai',\n",
              "  'lastgladiator1',\n",
              "  'lastreetcmamaison',\n",
              "  'lazy_river',\n",
              "  'lcfox',\n",
              "  'leeroy275',\n",
              "  'lenderman-ny',\n",
              "  'leon009',\n",
              "  'lestofante90',\n",
              "  'lestri',\n",
              "  'levgutman',\n",
              "  'levi70',\n",
              "  'levonaronian',\n",
              "  'liemle',\n",
              "  'like962',\n",
              "  'likemachine',\n",
              "  'lili_ani',\n",
              "  'lilleper1',\n",
              "  'lionking4321',\n",
              "  'littlepeasant',\n",
              "  'liviudieternisipeanu',\n",
              "  'lkaufman-bal',\n",
              "  'lmcshane',\n",
              "  'locotito77',\n",
              "  'london_chess_club',\n",
              "  'lonelyqueen0',\n",
              "  'lonelyzeng',\n",
              "  'lordbalrog',\n",
              "  'lordillidan',\n",
              "  'lovac58',\n",
              "  'loverespectchess',\n",
              "  'lovevae',\n",
              "  'lpsupi',\n",
              "  'lucerne82',\n",
              "  'luckismyskill',\n",
              "  'luckyluka04',\n",
              "  'luckytiger',\n",
              "  'luiseqp',\n",
              "  'luisibarrach',\n",
              "  'lukas_111111',\n",
              "  'lukianoo',\n",
              "  'lupulescuc',\n",
              "  'lupul_cenusiu',\n",
              "  'lvaik',\n",
              "  'lyndonlistzmendonca',\n",
              "  'lyonbeast',\n",
              "  'maartensolleveld',\n",
              "  'machupichu10',\n",
              "  'maciek_92',\n",
              "  'macmolner',\n",
              "  'maestrog',\n",
              "  'maestroza',\n",
              "  'maghalashvili',\n",
              "  'magicmaster17',\n",
              "  'magnuscarlsen',\n",
              "  'maksat-94',\n",
              "  'malev212',\n",
              "  'mamedyarov_play',\n",
              "  'mamedyarov_twitch',\n",
              "  'mamey78',\n",
              "  'mammadyarov',\n",
              "  'man-chuk',\n",
              "  'mandoran',\n",
              "  'marcan2b',\n",
              "  'marcnd',\n",
              "  'marctarnold',\n",
              "  'mardakerxxx',\n",
              "  'mareanguis',\n",
              "  'margency',\n",
              "  'margiriskaunas',\n",
              "  'margvelashvili-dal',\n",
              "  'marianpetrov',\n",
              "  'mariyagm',\n",
              "  'markowskitomasz',\n",
              "  'markparagua',\n",
              "  'markusragger',\n",
              "  'martinez1985',\n",
              "  'masmos97',\n",
              "  'mastroskaki',\n",
              "  'masya1984',\n",
              "  'matenkatz',\n",
              "  'mathiaswomacka',\n",
              "  'matibar',\n",
              "  'matsenkosergey',\n",
              "  'matthias_wahls',\n",
              "  'mauriceashley',\n",
              "  'mauricioflores',\n",
              "  'maximdlugy',\n",
              "  'maximnovik',\n",
              "  'maxvavulin',\n",
              "  'maxwell1986',\n",
              "  'mayachiburdanidze',\n",
              "  'maybe00',\n",
              "  'mazetovic',\n",
              "  'medvegy',\n",
              "  'megazz',\n",
              "  'megazz66',\n",
              "  'mesgen',\n",
              "  'messiboca',\n",
              "  'mgeli',\n",
              "  'mhebden',\n",
              "  'michaelq2d5',\n",
              "  'michaelroiz',\n",
              "  'michelangelo',\n",
              "  'micheliavelli',\n",
              "  'mickey632702',\n",
              "  'micki-taryan',\n",
              "  'miguelito',\n",
              "  'mihailmarin',\n",
              "  'mihaisuba',\n",
              "  'mikaelyanarman1996',\n",
              "  'mikhail646464',\n",
              "  'mikhail_antipov',\n",
              "  'mikhail_golubev',\n",
              "  'mikheil_kekelidze',\n",
              "  'mikolka1985',\n",
              "  'milanovicdan',\n",
              "  'milanzajic',\n",
              "  'milos021',\n",
              "  'milosji',\n",
              "  'mirceaparligras',\n",
              "  'mirman90',\n",
              "  'miromiljkovic',\n",
              "  'mironius',\n",
              "  'miron_sher',\n",
              "  'misapap',\n",
              "  'mishanick',\n",
              "  'mishikomchedlishvili',\n",
              "  'misi_95',\n",
              "  'mitrabhaa',\n",
              "  'mkanarek',\n",
              "  'mnikolov',\n",
              "  'molner-arz',\n",
              "  'molton',\n",
              "  'monmoransy',\n",
              "  'mornar1951',\n",
              "  'moro182',\n",
              "  'morteza_mahjoob',\n",
              "  'moskvaa',\n",
              "  'mossedivertenti',\n",
              "  'movebymove',\n",
              "  'mpcandelario',\n",
              "  'mrbean',\n",
              "  'mrkvoz',\n",
              "  'mrmotley',\n",
              "  'mrsavic77',\n",
              "  'mrtattaglia',\n",
              "  'mrvenky',\n",
              "  'mr_dynamic',\n",
              "  'msb2',\n",
              "  'msolleveld',\n",
              "  'mugzyyy',\n",
              "  'muisback26',\n",
              "  'mumbaimover64',\n",
              "  'muradore',\n",
              "  'murtas73',\n",
              "  'myfitnesspal',\n",
              "  'm_godena',\n",
              "  'n4700000',\n",
              "  'naaas1',\n",
              "  'naarciisoo',\n",
              "  'naroditsky-sf',\n",
              "  'nat74',\n",
              "  'nemegejas',\n",
              "  'nemequittepas',\n",
              "  'nemofishy',\n",
              "  'nesterovsky',\n",
              "  'neurisdr',\n",
              "  'newbornnow',\n",
              "  'newtie4',\n",
              "  'newzorro',\n",
              "  'nguyenduchoa',\n",
              "  'nguyenxi',\n",
              "  'ni-hua',\n",
              "  'niaz1966',\n",
              "  'nidjatmamedov',\n",
              "  'nigeld',\n",
              "  'nigelshort',\n",
              "  'nihalsarin',\n",
              "  'nijat_a',\n",
              "  'nikame',\n",
              "  'nikolakis2014',\n",
              "  'nikotheodorou',\n",
              "  'niktlt',\n",
              "  'nitzan_steinberg',\n",
              "  'njal28',\n",
              "  'nnepenthes',\n",
              "  'norival',\n",
              "  'nothedgehog',\n",
              "  'notyetfinish',\n",
              "  'noukii',\n",
              "  'nouma78',\n",
              "  'novendrapriasmoro',\n",
              "  'nowayjosey',\n",
              "  'nrvisakh',\n",
              "  'ntdvan12',\n",
              "  ...]}"
            ]
          },
          "execution_count": 41,
          "metadata": {},
          "output_type": "execute_result"
        }
      ],
      "source": [
        "response.json()"
      ]
    },
    {
      "cell_type": "code",
      "execution_count": null,
      "id": "f7bc2d13",
      "metadata": {
        "id": "f7bc2d13"
      },
      "outputs": [],
      "source": [
        "lista_jogadores = response.json()"
      ]
    },
    {
      "cell_type": "markdown",
      "id": "d2603065",
      "metadata": {
        "id": "d2603065"
      },
      "source": [
        "### Visualiza a quantidade de jogadores na lista\n"
      ]
    },
    {
      "cell_type": "code",
      "execution_count": null,
      "id": "ff9f47f4",
      "metadata": {
        "id": "ff9f47f4",
        "outputId": "904a3bdb-6414-4cb4-d04f-4d9793ef45f1"
      },
      "outputs": [
        {
          "data": {
            "text/plain": [
              "1413"
            ]
          },
          "execution_count": 43,
          "metadata": {},
          "output_type": "execute_result"
        }
      ],
      "source": [
        "len(lista_jogadores['players'])"
      ]
    },
    {
      "cell_type": "markdown",
      "id": "4abdc997",
      "metadata": {
        "id": "4abdc997"
      },
      "source": [
        "### Função para coletar as informações dos jogadores GM"
      ]
    },
    {
      "cell_type": "code",
      "execution_count": null,
      "id": "f9923387",
      "metadata": {
        "id": "f9923387"
      },
      "outputs": [],
      "source": [
        "def busca_usuario(usuario):\n",
        "    url = f'https://api.chess.com/pub/player/{usuario}'\n",
        "    response = requests.get(url)\n",
        "    if response.ok:\n",
        "        return response.json()"
      ]
    },
    {
      "cell_type": "markdown",
      "id": "882d9d16",
      "metadata": {
        "id": "882d9d16"
      },
      "source": [
        "### Verifica o tempo de resposta de uma solicitação"
      ]
    },
    {
      "cell_type": "code",
      "execution_count": null,
      "id": "b7a4bac1",
      "metadata": {
        "id": "b7a4bac1",
        "outputId": "26de2bdc-ee6f-470a-8203-7a702424810a"
      },
      "outputs": [
        {
          "name": "stdout",
          "output_type": "stream",
          "text": [
            "CPU times: total: 0 ns\n",
            "Wall time: 284 ms\n"
          ]
        },
        {
          "data": {
            "text/plain": [
              "{'avatar': 'https://images.chesscomfiles.com/uploads/v1/user/29499974.39041f89.200x200o.f6478a5ae8e2.jpeg',\n",
              " 'player_id': 29499974,\n",
              " '@id': 'https://api.chess.com/pub/player/124chess',\n",
              " 'url': 'https://www.chess.com/member/124chess',\n",
              " 'name': 'Дмитрий Хегай',\n",
              " 'username': '124chess',\n",
              " 'title': 'GM',\n",
              " 'followers': 87,\n",
              " 'country': 'https://api.chess.com/pub/country/RU',\n",
              " 'location': 'Красноярск',\n",
              " 'last_online': 1648139089,\n",
              " 'joined': 1471316272,\n",
              " 'status': 'premium',\n",
              " 'is_streamer': False}"
            ]
          },
          "execution_count": 45,
          "metadata": {},
          "output_type": "execute_result"
        }
      ],
      "source": [
        "%%time\n",
        "busca_usuario(lista_jogadores['players'][1])"
      ]
    },
    {
      "cell_type": "markdown",
      "id": "a35110e6",
      "metadata": {
        "id": "a35110e6"
      },
      "source": [
        "### Criando estrutura de coleta para coletar os dados\n",
        "A coleta dos dados vai ser baseada na identificação do jogador"
      ]
    },
    {
      "cell_type": "markdown",
      "id": "f70df529",
      "metadata": {
        "id": "f70df529"
      },
      "source": [
        "#### Coletando todos os jogadores"
      ]
    },
    {
      "cell_type": "code",
      "execution_count": null,
      "id": "06d45fa8",
      "metadata": {
        "id": "06d45fa8",
        "outputId": "dba15e1b-b406-41f9-c2e6-94022fae6d36"
      },
      "outputs": [
        {
          "name": "stdout",
          "output_type": "stream",
          "text": [
            "Coleta realizada com sucesso para o jogador: 123lt\n",
            "Coleta realizada com sucesso para o jogador: 124chess\n",
            "Coleta realizada com sucesso para o jogador: 1977ivan\n"
          ]
        }
      ],
      "source": [
        "lista_usuario = []\n",
        "for usuario in lista_jogadores['players'][:3]:\n",
        "    dados_usuario = busca_usuario(usuario)\n",
        "    print(f'Coleta realizada com sucesso para o jogador: {usuario}')\n",
        "    lista_usuario.append(dados_usuario)"
      ]
    },
    {
      "cell_type": "markdown",
      "id": "49297192",
      "metadata": {
        "id": "49297192"
      },
      "source": [
        "### Visualizando a lista de jogadores"
      ]
    },
    {
      "cell_type": "code",
      "execution_count": null,
      "id": "3fdfc641",
      "metadata": {
        "id": "3fdfc641",
        "outputId": "e2fa95d3-1f73-4f51-8463-60af52b794bb"
      },
      "outputs": [
        {
          "data": {
            "text/plain": [
              "['123lt', '124chess', '1977ivan']"
            ]
          },
          "execution_count": 48,
          "metadata": {},
          "output_type": "execute_result"
        }
      ],
      "source": [
        "lista_jogadores['players'][:3]"
      ]
    },
    {
      "cell_type": "code",
      "execution_count": null,
      "id": "5ee297c5",
      "metadata": {
        "id": "5ee297c5"
      },
      "outputs": [],
      "source": [
        "import pandas as pd"
      ]
    },
    {
      "cell_type": "code",
      "execution_count": null,
      "id": "073029aa",
      "metadata": {
        "id": "073029aa",
        "outputId": "77cb1bcb-74be-4ab2-8be0-c551b7c06ad0"
      },
      "outputs": [
        {
          "data": {
            "text/html": [
              "<div>\n",
              "<style scoped>\n",
              "    .dataframe tbody tr th:only-of-type {\n",
              "        vertical-align: middle;\n",
              "    }\n",
              "\n",
              "    .dataframe tbody tr th {\n",
              "        vertical-align: top;\n",
              "    }\n",
              "\n",
              "    .dataframe thead th {\n",
              "        text-align: right;\n",
              "    }\n",
              "</style>\n",
              "<table border=\"1\" class=\"dataframe\">\n",
              "  <thead>\n",
              "    <tr style=\"text-align: right;\">\n",
              "      <th></th>\n",
              "      <th>avatar</th>\n",
              "      <th>player_id</th>\n",
              "      <th>@id</th>\n",
              "      <th>url</th>\n",
              "      <th>name</th>\n",
              "      <th>username</th>\n",
              "      <th>title</th>\n",
              "      <th>followers</th>\n",
              "      <th>country</th>\n",
              "      <th>last_online</th>\n",
              "      <th>joined</th>\n",
              "      <th>status</th>\n",
              "      <th>is_streamer</th>\n",
              "      <th>location</th>\n",
              "    </tr>\n",
              "  </thead>\n",
              "  <tbody>\n",
              "    <tr>\n",
              "      <th>0</th>\n",
              "      <td>https://images.chesscomfiles.com/uploads/v1/us...</td>\n",
              "      <td>18800602</td>\n",
              "      <td>https://api.chess.com/pub/player/123lt</td>\n",
              "      <td>https://www.chess.com/member/123lt</td>\n",
              "      <td>Tingjie Lei</td>\n",
              "      <td>123lt</td>\n",
              "      <td>GM</td>\n",
              "      <td>91</td>\n",
              "      <td>https://api.chess.com/pub/country/CN</td>\n",
              "      <td>1648196587</td>\n",
              "      <td>1410059361</td>\n",
              "      <td>premium</td>\n",
              "      <td>False</td>\n",
              "      <td>NaN</td>\n",
              "    </tr>\n",
              "    <tr>\n",
              "      <th>1</th>\n",
              "      <td>https://images.chesscomfiles.com/uploads/v1/us...</td>\n",
              "      <td>29499974</td>\n",
              "      <td>https://api.chess.com/pub/player/124chess</td>\n",
              "      <td>https://www.chess.com/member/124chess</td>\n",
              "      <td>Дмитрий Хегай</td>\n",
              "      <td>124chess</td>\n",
              "      <td>GM</td>\n",
              "      <td>87</td>\n",
              "      <td>https://api.chess.com/pub/country/RU</td>\n",
              "      <td>1648139089</td>\n",
              "      <td>1471316272</td>\n",
              "      <td>premium</td>\n",
              "      <td>False</td>\n",
              "      <td>Красноярск</td>\n",
              "    </tr>\n",
              "    <tr>\n",
              "      <th>2</th>\n",
              "      <td>https://images.chesscomfiles.com/uploads/v1/us...</td>\n",
              "      <td>30610578</td>\n",
              "      <td>https://api.chess.com/pub/player/1977ivan</td>\n",
              "      <td>https://www.chess.com/member/1977Ivan</td>\n",
              "      <td>Ivan Ivanisevic</td>\n",
              "      <td>1977ivan</td>\n",
              "      <td>GM</td>\n",
              "      <td>141</td>\n",
              "      <td>https://api.chess.com/pub/country/RS</td>\n",
              "      <td>1647969703</td>\n",
              "      <td>1477565847</td>\n",
              "      <td>premium</td>\n",
              "      <td>False</td>\n",
              "      <td>Belgrade</td>\n",
              "    </tr>\n",
              "  </tbody>\n",
              "</table>\n",
              "</div>"
            ],
            "text/plain": [
              "                                              avatar  player_id  \\\n",
              "0  https://images.chesscomfiles.com/uploads/v1/us...   18800602   \n",
              "1  https://images.chesscomfiles.com/uploads/v1/us...   29499974   \n",
              "2  https://images.chesscomfiles.com/uploads/v1/us...   30610578   \n",
              "\n",
              "                                         @id  \\\n",
              "0     https://api.chess.com/pub/player/123lt   \n",
              "1  https://api.chess.com/pub/player/124chess   \n",
              "2  https://api.chess.com/pub/player/1977ivan   \n",
              "\n",
              "                                     url             name  username title  \\\n",
              "0     https://www.chess.com/member/123lt      Tingjie Lei     123lt    GM   \n",
              "1  https://www.chess.com/member/124chess    Дмитрий Хегай  124chess    GM   \n",
              "2  https://www.chess.com/member/1977Ivan  Ivan Ivanisevic  1977ivan    GM   \n",
              "\n",
              "   followers                               country  last_online      joined  \\\n",
              "0         91  https://api.chess.com/pub/country/CN   1648196587  1410059361   \n",
              "1         87  https://api.chess.com/pub/country/RU   1648139089  1471316272   \n",
              "2        141  https://api.chess.com/pub/country/RS   1647969703  1477565847   \n",
              "\n",
              "    status  is_streamer    location  \n",
              "0  premium        False         NaN  \n",
              "1  premium        False  Красноярск  \n",
              "2  premium        False    Belgrade  "
            ]
          },
          "execution_count": 50,
          "metadata": {},
          "output_type": "execute_result"
        }
      ],
      "source": [
        "df_jogadores = pd.DataFrame(lista_usuario)\n",
        "df_jogadores"
      ]
    },
    {
      "cell_type": "code",
      "execution_count": null,
      "id": "42491704",
      "metadata": {
        "id": "42491704"
      },
      "outputs": [],
      "source": [
        ""
      ]
    }
  ],
  "metadata": {
    "kernelspec": {
      "display_name": "coleta_dados",
      "language": "python",
      "name": "coleta_dados"
    },
    "language_info": {
      "codemirror_mode": {
        "name": "ipython",
        "version": 3
      },
      "file_extension": ".py",
      "mimetype": "text/x-python",
      "name": "python",
      "nbconvert_exporter": "python",
      "pygments_lexer": "ipython3",
      "version": "3.9.1"
    },
    "colab": {
      "name": "coleta_dados_chess.ipynb",
      "provenance": [],
      "include_colab_link": true
    }
  },
  "nbformat": 4,
  "nbformat_minor": 5
}