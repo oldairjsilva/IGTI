{
  "cells": [
    {
      "cell_type": "markdown",
      "metadata": {
        "id": "view-in-github",
        "colab_type": "text"
      },
      "source": [
        "<a href=\"https://colab.research.google.com/github/oldairjsilva/IGTI/blob/main/coleta_dados_web_selenium.ipynb\" target=\"_parent\"><img src=\"https://colab.research.google.com/assets/colab-badge.svg\" alt=\"Open In Colab\"/></a>"
      ]
    },
    {
      "cell_type": "markdown",
      "id": "3e358edc",
      "metadata": {
        "id": "3e358edc"
      },
      "source": [
        "# Preparando Ambiente\n",
        "Precisamos instalar a versão 3.141.0 selenium em nossa virtualenv"
      ]
    },
    {
      "cell_type": "code",
      "execution_count": null,
      "id": "989ef328",
      "metadata": {
        "id": "989ef328",
        "outputId": "0c91c5bf-5919-49c1-8df1-07b49b10b6da"
      },
      "outputs": [
        {
          "name": "stdout",
          "output_type": "stream",
          "text": [
            "Requirement already satisfied: selenium==3.141.0 in c:\\projetos\\env\\coleta_dados\\lib\\site-packages (3.141.0)\n",
            "Requirement already satisfied: urllib3 in c:\\projetos\\env\\coleta_dados\\lib\\site-packages (from selenium==3.141.0) (1.26.9)\n"
          ]
        }
      ],
      "source": [
        "!pip install selenium==3.141.0"
      ]
    },
    {
      "cell_type": "code",
      "execution_count": null,
      "id": "8e459784",
      "metadata": {
        "id": "8e459784",
        "outputId": "60ffd04e-3cab-4842-9718-91ac2d4f9958"
      },
      "outputs": [
        {
          "name": "stdout",
          "output_type": "stream",
          "text": [
            "Versão utilizada 3.141.0\n"
          ]
        }
      ],
      "source": [
        "import selenium\n",
        "\n",
        "print(\"Versão utilizada\", selenium.__version__)"
      ]
    },
    {
      "cell_type": "code",
      "execution_count": null,
      "id": "27275a0d",
      "metadata": {
        "id": "27275a0d"
      },
      "outputs": [],
      "source": [
        "# importando o webdriver\n",
        "from selenium import webdriver"
      ]
    },
    {
      "cell_type": "markdown",
      "id": "40985b36",
      "metadata": {
        "id": "40985b36"
      },
      "source": [
        "# Atribuindo Valores anotados a variáveis"
      ]
    },
    {
      "cell_type": "code",
      "execution_count": null,
      "id": "2bfabf33",
      "metadata": {
        "id": "2bfabf33"
      },
      "outputs": [],
      "source": [
        "# Dados Site\n",
        "\n",
        "site = 'https://veiculos.fipe.org.br/'\n",
        "\n",
        "# Tipo consulta\n",
        "xpath_tipo_consulta = '//*[@id=\"front\"]/div[1]/div[1]/ul/li[1]/a'\n",
        "\n",
        "# Caixas de seleção\n",
        "id_marca_carro = 'selectMarcacarro_chosen'\n",
        "id_modelo_carro = 'selectAnoModelocarro_chosen'\n",
        "id_ano_carro = 'selectAnocarro_chosen'\n",
        "id_tabela_referencia = 'selectTabelaReferenciacarro_chosen'\n",
        "\n",
        "# Botoes\n",
        "id_botao_limpar = 'buttonLimparPesquisarcarro'\n",
        "id_botao_pesquisa = 'buttonPesquisarcarro'\n",
        "\n",
        "# Resultado da pesquisa\n",
        "id_resultado_filtros = 'resultadoConsultacarroFiltros'\n",
        "\n",
        "# Informacoes do carro\n",
        "ano_veiculo = '2013'\n",
        "modelo_veiculo = 'Palio ATTRA./ITÁLIA 1.4 EVO F.Flex 8V 5p'\n",
        "marca_veiculo = 'Fiat'\n",
        "\n",
        "# Caminho arquivo web driver\n",
        "WEBDRIVER = 'C:\\\\Projetos\\\\Driver Selenium\\\\chromedriver.exe'"
      ]
    },
    {
      "cell_type": "markdown",
      "id": "6086fe49",
      "metadata": {
        "id": "6086fe49"
      },
      "source": [
        "## Input de informações"
      ]
    },
    {
      "cell_type": "code",
      "execution_count": null,
      "id": "0fd25ecd",
      "metadata": {
        "id": "0fd25ecd"
      },
      "outputs": [],
      "source": [
        "def x_path_input(id_elemento):\n",
        "    return '//*[@id=\"{}\"]/div/div/input'.format(id_elemento)"
      ]
    },
    {
      "cell_type": "markdown",
      "id": "9b9318a0",
      "metadata": {
        "id": "9b9318a0"
      },
      "source": [
        "## Tempo de resposta do navegador:\n",
        "Como estamos simulando a ação de um usuário a com o selenium precisamos esperar que as informações sejam redenrizadas no navegador, por esse motivo, a cada execução precisamos esperar que o html seja atualizado."
      ]
    },
    {
      "cell_type": "code",
      "execution_count": null,
      "id": "4c82c9fe",
      "metadata": {
        "id": "4c82c9fe"
      },
      "outputs": [],
      "source": [
        "# Metodo de esperar \n",
        "import random\n",
        "import time\n",
        "\n",
        "def esperar(segundos = None):\n",
        "    \"\"\"Caso nenhum valor seja atribuído, será atribuído um tempo randomico entre 2 e 8 \n",
        "    (Feito desta forma para simular a ação de um usuário\"\"\"\n",
        "    if not segundos:\n",
        "        segundos = random.randrange(2, 8)\n",
        "    time.sleep(segundos)"
      ]
    },
    {
      "cell_type": "code",
      "execution_count": null,
      "id": "5be67037",
      "metadata": {
        "id": "5be67037"
      },
      "outputs": [],
      "source": [
        "# Abrindo o navegador, utilizando o drive do chrome\n",
        "driver = webdriver.Chrome(WEBDRIVER)\n",
        "driver.get(site)\n",
        "esperar(15) # espera 15 segundos para executar outra interação"
      ]
    },
    {
      "cell_type": "code",
      "execution_count": null,
      "id": "2d7c31ed",
      "metadata": {
        "id": "2d7c31ed"
      },
      "outputs": [],
      "source": [
        "# Vamos clicar no tipo de consulta escolhido\n",
        "# Metodo find_element_by_xpath encontra um elemento atraves do xpath\n",
        "tipo_consulta = driver.find_element_by_xpath(xpath_tipo_consulta)\n",
        "tipo_consulta.click()"
      ]
    },
    {
      "cell_type": "markdown",
      "id": "37450af0",
      "metadata": {
        "id": "37450af0"
      },
      "source": [
        "### Agora vamos inserir o período de referência"
      ]
    },
    {
      "cell_type": "code",
      "execution_count": null,
      "id": "5dad4df0",
      "metadata": {
        "id": "5dad4df0"
      },
      "outputs": [],
      "source": [
        "# Metodo find_element_by_id encontra um elemento atraves do id\n",
        "pesquisa = driver.find_element_by_id(id_tabela_referencia)\n",
        "pesquisa.click()"
      ]
    },
    {
      "cell_type": "code",
      "execution_count": null,
      "id": "b0d57f9f",
      "metadata": {
        "id": "b0d57f9f"
      },
      "outputs": [],
      "source": [
        "# retornamos o elemento de input e buscamos ele\n",
        "xpath = x_path_input(id_tabela_referencia)\n",
        "caixa = driver.find_element_by_xpath(xpath)"
      ]
    },
    {
      "cell_type": "code",
      "execution_count": null,
      "id": "84db0d29",
      "metadata": {
        "id": "84db0d29"
      },
      "outputs": [],
      "source": [
        "from selenium.webdriver.common.keys import Keys\n",
        "\n",
        "# Utilizamos o metodo send_key para inserir o valor desejado\n",
        "# Importamos o metodo keys para simular as ações down e return do teclado\n",
        "caixa.send_keys('fevereiro/2022' + Keys.DOWN + Keys.RETURN)"
      ]
    },
    {
      "cell_type": "markdown",
      "id": "32ce0191",
      "metadata": {
        "id": "32ce0191"
      },
      "source": [
        "### Criando preencher de item\n",
        "Como este procedimento será repetido em todas as caixas de seleção, podemos criar uma função"
      ]
    },
    {
      "cell_type": "code",
      "execution_count": null,
      "id": "9c945c63",
      "metadata": {
        "id": "9c945c63"
      },
      "outputs": [],
      "source": [
        "def preenche_item(id_elemento, texto_pesquisa):\n",
        "    pesquisa = driver.find_element_by_id(id_elemento)\n",
        "    pesquisa.click()\n",
        "    xpath = x_path_input(id_elemento)\n",
        "    caixa = driver.find_element_by_xpath(xpath)\n",
        "    caixa.send_keys(texto_pesquisa + Keys.DOWN + Keys.RETURN)\n",
        "    pesquisa.is_selecteds = False # retirar seleção\n",
        "    caixa.is_selecteds = False # retirar seleção"
      ]
    },
    {
      "cell_type": "code",
      "execution_count": null,
      "id": "9d2f811b",
      "metadata": {
        "id": "9d2f811b"
      },
      "outputs": [],
      "source": [
        "# Resumindo\n",
        "esperar()\n",
        "preenche_item(id_tabela_referencia, 'fevereiro/2022')"
      ]
    },
    {
      "cell_type": "code",
      "execution_count": null,
      "id": "4484a3fe",
      "metadata": {
        "id": "4484a3fe"
      },
      "outputs": [],
      "source": [
        "# Preencher marca\n",
        "esperar()\n",
        "preenche_item(id_marca_carro, marca_veiculo)"
      ]
    },
    {
      "cell_type": "code",
      "execution_count": null,
      "id": "858e7469",
      "metadata": {
        "id": "858e7469"
      },
      "outputs": [],
      "source": [
        "# Preencher modelo\n",
        "esperar()\n",
        "preenche_item(id_modelo_carro, modelo_veiculo)"
      ]
    },
    {
      "cell_type": "code",
      "execution_count": null,
      "id": "33869c2f",
      "metadata": {
        "id": "33869c2f"
      },
      "outputs": [],
      "source": [
        "# Preencher ano\n",
        "esperar()\n",
        "preenche_item(id_ano_carro, ano_veiculo)"
      ]
    },
    {
      "cell_type": "code",
      "execution_count": null,
      "id": "8245d08b",
      "metadata": {
        "id": "8245d08b"
      },
      "outputs": [],
      "source": [
        "# Clicando em pesquisar\n",
        "esperar()\n",
        "buscar = driver.find_element_by_id(id_botao_pesquisa)\n",
        "buscar.click()"
      ]
    },
    {
      "cell_type": "code",
      "execution_count": null,
      "id": "26f23119",
      "metadata": {
        "id": "26f23119",
        "outputId": "ecd07ea4-244d-4d57-d85a-4cac3b015364"
      },
      "outputs": [
        {
          "data": {
            "text/plain": [
              "<tbody>\n",
              "<tr>\n",
              "<td class=\"noborder\"><p>Mês de referência:</p></td>\n",
              "<td><p>fevereiro de 2022 </p></td>\n",
              "</tr>\n",
              "<tr>\n",
              "<td class=\"noborder\"><p>Código Fipe:</p></td>\n",
              "<td><p>001314-5</p></td>\n",
              "</tr>\n",
              "<tr>\n",
              "<td class=\"noborder\"><p>Marca:</p></td>\n",
              "<td><p>Fiat</p></td>\n",
              "</tr>\n",
              "<tr>\n",
              "<td class=\"noborder\"><p>Modelo:</p></td>\n",
              "<td><p>Palio ATTRA./ITÁLIA 1.4 EVO F.Flex 8V 5p</p></td>\n",
              "</tr>\n",
              "<tr>\n",
              "<td class=\"noborder\"><p>Ano Modelo:</p></td>\n",
              "<td><p>2013 Gasolina</p></td>\n",
              "</tr>\n",
              "<tr>\n",
              "<td class=\"noborder\"><p>Autenticação</p></td>\n",
              "<td><p>rgy5qt8drlnc</p></td>\n",
              "</tr>\n",
              "<tr>\n",
              "<td class=\"noborder\"><p>Data da consulta</p></td>\n",
              "<td><p>domingo, 27 de março de 2022 15:54</p></td>\n",
              "</tr>\n",
              "<tr class=\"last\">\n",
              "<td class=\"noborder\"><p>Preço Médio</p></td>\n",
              "<td><p>R$ 34.767,00</p></td>\n",
              "</tr>\n",
              "</tbody>"
            ]
          },
          "execution_count": 173,
          "metadata": {},
          "output_type": "execute_result"
        }
      ],
      "source": [
        "from bs4 import BeautifulSoup\n",
        "\n",
        "# copiando resultados \n",
        "\n",
        "table = driver.find_element_by_id(id_resultado_filtros)\n",
        "html = table.get_attribute('innerHTML')\n",
        "parser = BeautifulSoup(html, 'html.parser')\n",
        "table = parser.select_one('tbody')\n",
        "table"
      ]
    },
    {
      "cell_type": "markdown",
      "id": "dba8a21e",
      "metadata": {
        "id": "dba8a21e"
      },
      "source": [
        "#### Observe que os valores que procuramos estão entre as tags td e p\n",
        "Montaremos uma expressão regular para buscar esses elementos"
      ]
    },
    {
      "cell_type": "code",
      "execution_count": null,
      "id": "d6d83c99",
      "metadata": {
        "id": "d6d83c99"
      },
      "outputs": [],
      "source": [
        "import re\n",
        "\"\"\"\n",
        "Caracteres inicial de busca\n",
        "<td><p>\n",
        "\n",
        "Caracteres finais de busca\n",
        "</p></td>\n",
        "\n",
        "# Por fim solicitamos qualquer elemento entre esses dois grupos de caracteres\n",
        "\"\"\"\n",
        "\n",
        "regex_dados = re.compile('(<td><p>)(.*?)(</p></td>)')"
      ]
    },
    {
      "cell_type": "code",
      "execution_count": null,
      "id": "eb18b799",
      "metadata": {
        "id": "eb18b799",
        "outputId": "80d45d53-c30a-4a47-ece9-0f25bf93ef1b"
      },
      "outputs": [
        {
          "data": {
            "text/plain": [
              "[('<td><p>', 'fevereiro de 2022 ', '</p></td>'),\n",
              " ('<td><p>', '001314-5', '</p></td>'),\n",
              " ('<td><p>', 'Fiat', '</p></td>'),\n",
              " ('<td><p>', 'Palio ATTRA./ITÁLIA 1.4 EVO F.Flex 8V 5p', '</p></td>'),\n",
              " ('<td><p>', '2013 Gasolina', '</p></td>'),\n",
              " ('<td><p>', 'rgy5qt8drlnc', '</p></td>'),\n",
              " ('<td><p>', 'domingo, 27 de março de 2022 15:54', '</p></td>'),\n",
              " ('<td><p>', 'R$ 34.767,00', '</p></td>')]"
            ]
          },
          "execution_count": 175,
          "metadata": {},
          "output_type": "execute_result"
        }
      ],
      "source": [
        "# Agora informamos onde queremos buscar os dados\n",
        "dados = regex_dados.findall(str(table))\n",
        "dados"
      ]
    },
    {
      "cell_type": "code",
      "execution_count": null,
      "id": "8afdad2a",
      "metadata": {
        "id": "8afdad2a",
        "outputId": "f06d061a-9dc8-4881-d5b6-2119eea136c5"
      },
      "outputs": [
        {
          "data": {
            "text/plain": [
              "['fevereiro de 2022 ',\n",
              " '001314-5',\n",
              " 'Fiat',\n",
              " 'Palio ATTRA./ITÁLIA 1.4 EVO F.Flex 8V 5p',\n",
              " '2013 Gasolina',\n",
              " 'rgy5qt8drlnc',\n",
              " 'domingo, 27 de março de 2022 15:54',\n",
              " 'R$ 34.767,00']"
            ]
          },
          "execution_count": 176,
          "metadata": {},
          "output_type": "execute_result"
        }
      ],
      "source": [
        "# Tornando mais legível\n",
        "for i, dado in enumerate(dados):\n",
        "    dados[i] = dado[1]\n",
        "dados"
      ]
    },
    {
      "cell_type": "code",
      "execution_count": null,
      "id": "378a9da2",
      "metadata": {
        "id": "378a9da2"
      },
      "outputs": [],
      "source": [
        "# Criando funcao lista dado\n",
        "def lista_dado(dados):\n",
        "    for i, dado in enumerate(dados):\n",
        "        dados[i] = dado[1]\n",
        "    return dados"
      ]
    },
    {
      "cell_type": "code",
      "execution_count": null,
      "id": "c32f4242",
      "metadata": {
        "id": "c32f4242",
        "outputId": "e0d2f5e7-4586-41fc-8ff4-c86a50bdaff6"
      },
      "outputs": [
        {
          "data": {
            "text/plain": [
              "['Mês de referência:',\n",
              " 'Código Fipe:',\n",
              " 'Marca:',\n",
              " 'Modelo:',\n",
              " 'Ano Modelo:',\n",
              " 'Autenticação',\n",
              " 'Data da consulta',\n",
              " 'Preço Médio']"
            ]
          },
          "execution_count": 178,
          "metadata": {},
          "output_type": "execute_result"
        }
      ],
      "source": [
        "# Buscando título\n",
        "regex_titulo = re.compile('(td class=\"noborder\"><p>)(.*)(</p>)')\n",
        "titulo = regex_titulo.findall(str(table))\n",
        "titulo = lista_dado(titulo)\n",
        "titulo"
      ]
    },
    {
      "cell_type": "code",
      "execution_count": null,
      "id": "8b65ac48",
      "metadata": {
        "id": "8b65ac48"
      },
      "outputs": [],
      "source": [
        "# Limpar pesquisa e fechar navegador\n",
        "esperar()\n",
        "buscar = driver.find_element_by_id(id_botao_limpar)\n",
        "buscar.click()"
      ]
    },
    {
      "cell_type": "markdown",
      "id": "1eb9a8d0",
      "metadata": {
        "id": "1eb9a8d0"
      },
      "source": [
        "### Tarefa concluída, porém...\n",
        "Concluímos nosso código, porém como podemos buscar um grupo maior de informações?"
      ]
    },
    {
      "cell_type": "code",
      "execution_count": null,
      "id": "898e1f51",
      "metadata": {
        "id": "898e1f51"
      },
      "outputs": [],
      "source": [
        "# Buscando informações da caixa de seleção\n",
        "referencia_ano = driver.find_element_by_id(id_tabela_referencia)\n",
        "referencia_ano.click()"
      ]
    },
    {
      "cell_type": "code",
      "execution_count": null,
      "id": "905c5750",
      "metadata": {
        "id": "905c5750"
      },
      "outputs": [],
      "source": [
        "# Extrai todos os dados da tabela de seleção\n",
        "html_referencia = referencia_ano.get_attribute('innerHTML')"
      ]
    },
    {
      "cell_type": "code",
      "execution_count": null,
      "id": "e945999d",
      "metadata": {
        "id": "e945999d",
        "outputId": "8469ccec-b7be-4bb5-bd67-12f3afbefcb7"
      },
      "outputs": [
        {
          "data": {
            "text/plain": [
              "[('\" style=\"\">', 'março/2022', ' </li>'),\n",
              " ('\" style=\"\">', 'fevereiro/2022', ' </li>'),\n",
              " ('\" style=\"\">', 'janeiro/2022', ' </li>'),\n",
              " ('\" style=\"\">', 'dezembro/2021', ' </li>'),\n",
              " ('\" style=\"\">', 'novembro/2021', ' </li>'),\n",
              " ('\" style=\"\">', 'outubro/2021', ' </li>'),\n",
              " ('\" style=\"\">', 'setembro/2021', ' </li>'),\n",
              " ('\" style=\"\">', 'agosto/2021', ' </li>'),\n",
              " ('\" style=\"\">', 'julho/2021', ' </li>'),\n",
              " ('\" style=\"\">', 'junho/2021', ' </li>'),\n",
              " ('\" style=\"\">', 'maio/2021', ' </li>'),\n",
              " ('\" style=\"\">', 'abril/2021', ' </li>'),\n",
              " ('\" style=\"\">', 'março/2021', ' </li>'),\n",
              " ('\" style=\"\">', 'fevereiro/2021', ' </li>'),\n",
              " ('\" style=\"\">', 'janeiro/2021', ' </li>'),\n",
              " ('\" style=\"\">', 'dezembro/2020', ' </li>'),\n",
              " ('\" style=\"\">', 'novembro/2020', ' </li>'),\n",
              " ('\" style=\"\">', 'outubro/2020', ' </li>'),\n",
              " ('\" style=\"\">', 'setembro/2020', ' </li>'),\n",
              " ('\" style=\"\">', 'agosto/2020', ' </li>'),\n",
              " ('\" style=\"\">', 'julho/2020', ' </li>'),\n",
              " ('\" style=\"\">', 'junho/2020', ' </li>'),\n",
              " ('\" style=\"\">', 'maio/2020', ' </li>'),\n",
              " ('\" style=\"\">', 'abril/2020', ' </li>'),\n",
              " ('\" style=\"\">', 'março/2020', ' </li>'),\n",
              " ('\" style=\"\">', 'fevereiro/2020', ' </li>'),\n",
              " ('\" style=\"\">', 'janeiro/2020', ' </li>'),\n",
              " ('\" style=\"\">', 'dezembro/2019', ' </li>'),\n",
              " ('\" style=\"\">', 'novembro/2019', ' </li>'),\n",
              " ('\" style=\"\">', 'outubro/2019', ' </li>'),\n",
              " ('\" style=\"\">', 'setembro/2019', ' </li>'),\n",
              " ('\" style=\"\">', 'agosto/2019', ' </li>'),\n",
              " ('\" style=\"\">', 'julho/2019', ' </li>'),\n",
              " ('\" style=\"\">', 'junho/2019', ' </li>'),\n",
              " ('\" style=\"\">', 'maio/2019', ' </li>'),\n",
              " ('\" style=\"\">', 'abril/2019', ' </li>'),\n",
              " ('\" style=\"\">', 'março/2019', ' </li>'),\n",
              " ('\" style=\"\">', 'fevereiro/2019', ' </li>'),\n",
              " ('\" style=\"\">', 'janeiro/2019', ' </li>'),\n",
              " ('\" style=\"\">', 'dezembro/2018', ' </li>'),\n",
              " ('\" style=\"\">', 'novembro/2018', ' </li>'),\n",
              " ('\" style=\"\">', 'outubro/2018', ' </li>'),\n",
              " ('\" style=\"\">', 'setembro/2018', ' </li>'),\n",
              " ('\" style=\"\">', 'agosto/2018', ' </li>'),\n",
              " ('\" style=\"\">', 'julho/2018', ' </li>'),\n",
              " ('\" style=\"\">', 'junho/2018', ' </li>'),\n",
              " ('\" style=\"\">', 'maio/2018', ' </li>'),\n",
              " ('\" style=\"\">', 'abril/2018', ' </li>'),\n",
              " ('\" style=\"\">', 'março/2018', ' </li>'),\n",
              " ('\" style=\"\">', 'fevereiro/2018', ' </li>'),\n",
              " ('\" style=\"\">', 'janeiro/2018', ' </li>'),\n",
              " ('\" style=\"\">', 'dezembro/2017', ' </li>'),\n",
              " ('\" style=\"\">', 'novembro/2017', ' </li>'),\n",
              " ('\" style=\"\">', 'outubro/2017', ' </li>'),\n",
              " ('\" style=\"\">', 'setembro/2017', ' </li>'),\n",
              " ('\" style=\"\">', 'agosto/2017', ' </li>'),\n",
              " ('\" style=\"\">', 'julho/2017', ' </li>'),\n",
              " ('\" style=\"\">', 'junho/2017', ' </li>'),\n",
              " ('\" style=\"\">', 'maio/2017', ' </li>'),\n",
              " ('\" style=\"\">', 'abril/2017', ' </li>'),\n",
              " ('\" style=\"\">', 'março/2017', ' </li>'),\n",
              " ('\" style=\"\">', 'fevereiro/2017', ' </li>'),\n",
              " ('\" style=\"\">', 'janeiro/2017', ' </li>'),\n",
              " ('\" style=\"\">', 'dezembro/2016', ' </li>'),\n",
              " ('\" style=\"\">', 'novembro/2016', ' </li>'),\n",
              " ('\" style=\"\">', 'outubro/2016', ' </li>'),\n",
              " ('\" style=\"\">', 'setembro/2016', ' </li>'),\n",
              " ('\" style=\"\">', 'agosto/2016', ' </li>'),\n",
              " ('\" style=\"\">', 'julho/2016', ' </li>'),\n",
              " ('\" style=\"\">', 'junho/2016', ' </li>'),\n",
              " ('\" style=\"\">', 'maio/2016', ' </li>'),\n",
              " ('\" style=\"\">', 'abril/2016', ' </li>'),\n",
              " ('\" style=\"\">', 'março/2016', ' </li>'),\n",
              " ('\" style=\"\">', 'fevereiro/2016', ' </li>'),\n",
              " ('\" style=\"\">', 'janeiro/2016', ' </li>'),\n",
              " ('\" style=\"\">', 'dezembro/2015', ' </li>'),\n",
              " ('\" style=\"\">', 'novembro/2015', ' </li>'),\n",
              " ('\" style=\"\">', 'outubro/2015', ' </li>'),\n",
              " ('\" style=\"\">', 'setembro/2015', ' </li>'),\n",
              " ('\" style=\"\">', 'agosto/2015', ' </li>'),\n",
              " ('\" style=\"\">', 'julho/2015', ' </li>'),\n",
              " ('\" style=\"\">', 'junho/2015', ' </li>'),\n",
              " ('\" style=\"\">', 'maio/2015', ' </li>'),\n",
              " ('\" style=\"\">', 'abril/2015', ' </li>'),\n",
              " ('\" style=\"\">', 'março/2015', ' </li>'),\n",
              " ('\" style=\"\">', 'fevereiro/2015', ' </li>'),\n",
              " ('\" style=\"\">', 'janeiro/2015', ' </li>'),\n",
              " ('\" style=\"\">', 'dezembro/2014', ' </li>'),\n",
              " ('\" style=\"\">', 'novembro/2014', ' </li>'),\n",
              " ('\" style=\"\">', 'outubro/2014', ' </li>'),\n",
              " ('\" style=\"\">', 'setembro/2014', ' </li>'),\n",
              " ('\" style=\"\">', 'agosto/2014', ' </li>'),\n",
              " ('\" style=\"\">', 'julho/2014', ' </li>'),\n",
              " ('\" style=\"\">', 'junho/2014', ' </li>'),\n",
              " ('\" style=\"\">', 'maio/2014', ' </li>'),\n",
              " ('\" style=\"\">', 'abril/2014', ' </li>'),\n",
              " ('\" style=\"\">', 'março/2014', ' </li>'),\n",
              " ('\" style=\"\">', 'fevereiro/2014', ' </li>'),\n",
              " ('\" style=\"\">', 'janeiro/2014', ' </li>'),\n",
              " ('\" style=\"\">', 'dezembro/2013', ' </li>'),\n",
              " ('\" style=\"\">', 'novembro/2013', ' </li>'),\n",
              " ('\" style=\"\">', 'outubro/2013', ' </li>'),\n",
              " ('\" style=\"\">', 'setembro/2013', ' </li>'),\n",
              " ('\" style=\"\">', 'agosto/2013', ' </li>'),\n",
              " ('\" style=\"\">', 'julho/2013', ' </li>'),\n",
              " ('\" style=\"\">', 'junho/2013', ' </li>'),\n",
              " ('\" style=\"\">', 'maio/2013', ' </li>'),\n",
              " ('\" style=\"\">', 'abril/2013', ' </li>'),\n",
              " ('\" style=\"\">', 'março/2013', ' </li>'),\n",
              " ('\" style=\"\">', 'fevereiro/2013', ' </li>'),\n",
              " ('\" style=\"\">', 'janeiro/2013', ' </li>'),\n",
              " ('\" style=\"\">', 'dezembro/2012', ' </li>'),\n",
              " ('\" style=\"\">', 'novembro/2012', ' </li>'),\n",
              " ('\" style=\"\">', 'outubro/2012', ' </li>'),\n",
              " ('\" style=\"\">', 'setembro/2012', ' </li>'),\n",
              " ('\" style=\"\">', 'agosto/2012', ' </li>'),\n",
              " ('\" style=\"\">', 'julho/2012', ' </li>'),\n",
              " ('\" style=\"\">', 'junho/2012', ' </li>'),\n",
              " ('\" style=\"\">', 'maio/2012', ' </li>'),\n",
              " ('\" style=\"\">', 'abril/2012', ' </li>'),\n",
              " ('\" style=\"\">', 'março/2012', ' </li>'),\n",
              " ('\" style=\"\">', 'fevereiro/2012', ' </li>'),\n",
              " ('\" style=\"\">', 'janeiro/2012', ' </li>'),\n",
              " ('\" style=\"\">', 'dezembro/2011', ' </li>'),\n",
              " ('\" style=\"\">', 'novembro/2011', ' </li>'),\n",
              " ('\" style=\"\">', 'outubro/2011', ' </li>'),\n",
              " ('\" style=\"\">', 'setembro/2011', ' </li>'),\n",
              " ('\" style=\"\">', 'agosto/2011', ' </li>'),\n",
              " ('\" style=\"\">', 'julho/2011', ' </li>'),\n",
              " ('\" style=\"\">', 'junho/2011', ' </li>'),\n",
              " ('\" style=\"\">', 'maio/2011', ' </li>'),\n",
              " ('\" style=\"\">', 'abril/2011', ' </li>'),\n",
              " ('\" style=\"\">', 'março/2011', ' </li>'),\n",
              " ('\" style=\"\">', 'fevereiro/2011', ' </li>'),\n",
              " ('\" style=\"\">', 'janeiro/2011', ' </li>'),\n",
              " ('\" style=\"\">', 'dezembro/2010', ' </li>'),\n",
              " ('\" style=\"\">', 'novembro/2010', ' </li>'),\n",
              " ('\" style=\"\">', 'outubro/2010', ' </li>'),\n",
              " ('\" style=\"\">', 'setembro/2010', ' </li>'),\n",
              " ('\" style=\"\">', 'agosto/2010', ' </li>'),\n",
              " ('\" style=\"\">', 'julho/2010', ' </li>'),\n",
              " ('\" style=\"\">', 'junho/2010', ' </li>'),\n",
              " ('\" style=\"\">', 'maio/2010', ' </li>'),\n",
              " ('\" style=\"\">', 'abril/2010', ' </li>'),\n",
              " ('\" style=\"\">', 'março/2010', ' </li>'),\n",
              " ('\" style=\"\">', 'fevereiro/2010', ' </li>'),\n",
              " ('\" style=\"\">', 'janeiro/2010', ' </li>'),\n",
              " ('\" style=\"\">', 'dezembro/2009', ' </li>'),\n",
              " ('\" style=\"\">', 'novembro/2009', ' </li>'),\n",
              " ('\" style=\"\">', 'outubro/2009', ' </li>'),\n",
              " ('\" style=\"\">', 'setembro/2009', ' </li>'),\n",
              " ('\" style=\"\">', 'agosto/2009', ' </li>'),\n",
              " ('\" style=\"\">', 'julho/2009', ' </li>'),\n",
              " ('\" style=\"\">', 'junho/2009', ' </li>'),\n",
              " ('\" style=\"\">', 'maio/2009', ' </li>'),\n",
              " ('\" style=\"\">', 'abril/2009', ' </li>'),\n",
              " ('\" style=\"\">', 'março/2009', ' </li>'),\n",
              " ('\" style=\"\">', 'fevereiro/2009', ' </li>'),\n",
              " ('\" style=\"\">', 'janeiro/2009', ' </li>'),\n",
              " ('\" style=\"\">', 'dezembro/2008', ' </li>'),\n",
              " ('\" style=\"\">', 'novembro/2008', ' </li>'),\n",
              " ('\" style=\"\">', 'outubro/2008', ' </li>'),\n",
              " ('\" style=\"\">', 'setembro/2008', ' </li>'),\n",
              " ('\" style=\"\">', 'agosto/2008', ' </li>'),\n",
              " ('\" style=\"\">', 'julho/2008', ' </li>'),\n",
              " ('\" style=\"\">', 'junho/2008', ' </li>'),\n",
              " ('\" style=\"\">', 'maio/2008', ' </li>'),\n",
              " ('\" style=\"\">', 'abril/2008', ' </li>'),\n",
              " ('\" style=\"\">', 'março/2008', ' </li>'),\n",
              " ('\" style=\"\">', 'fevereiro/2008', ' </li>'),\n",
              " ('\" style=\"\">', 'janeiro/2008', ' </li>'),\n",
              " ('\" style=\"\">', 'dezembro/2007', ' </li>'),\n",
              " ('\" style=\"\">', 'novembro/2007', ' </li>'),\n",
              " ('\" style=\"\">', 'outubro/2007', ' </li>'),\n",
              " ('\" style=\"\">', 'setembro/2007', ' </li>'),\n",
              " ('\" style=\"\">', 'agosto/2007', ' </li>'),\n",
              " ('\" style=\"\">', 'julho/2007', ' </li>'),\n",
              " ('\" style=\"\">', 'junho/2007', ' </li>'),\n",
              " ('\" style=\"\">', 'maio/2007', ' </li>'),\n",
              " ('\" style=\"\">', 'abril/2007', ' </li>'),\n",
              " ('\" style=\"\">', 'março/2007', ' </li>'),\n",
              " ('\" style=\"\">', 'fevereiro/2007', ' </li>'),\n",
              " ('\" style=\"\">', 'janeiro/2007', ' </li>'),\n",
              " ('\" style=\"\">', 'dezembro/2006', ' </li>'),\n",
              " ('\" style=\"\">', 'novembro/2006', ' </li>'),\n",
              " ('\" style=\"\">', 'outubro/2006', ' </li>'),\n",
              " ('\" style=\"\">', 'setembro/2006', ' </li>'),\n",
              " ('\" style=\"\">', 'agosto/2006', ' </li>'),\n",
              " ('\" style=\"\">', 'julho/2006', ' </li>'),\n",
              " ('\" style=\"\">', 'junho/2006', ' </li>'),\n",
              " ('\" style=\"\">', 'maio/2006', ' </li>'),\n",
              " ('\" style=\"\">', 'abril/2006', ' </li>'),\n",
              " ('\" style=\"\">', 'março/2006', ' </li>'),\n",
              " ('\" style=\"\">', 'fevereiro/2006', ' </li>'),\n",
              " ('\" style=\"\">', 'janeiro/2006', ' </li>'),\n",
              " ('\" style=\"\">', 'dezembro/2005', ' </li>'),\n",
              " ('\" style=\"\">', 'novembro/2005', ' </li>'),\n",
              " ('\" style=\"\">', 'outubro/2005', ' </li>'),\n",
              " ('\" style=\"\">', 'setembro/2005', ' </li>'),\n",
              " ('\" style=\"\">', 'agosto/2005', ' </li>'),\n",
              " ('\" style=\"\">', 'julho/2005', ' </li>'),\n",
              " ('\" style=\"\">', 'junho/2005', ' </li>'),\n",
              " ('\" style=\"\">', 'maio/2005', ' </li>'),\n",
              " ('\" style=\"\">', 'abril/2005', ' </li>'),\n",
              " ('\" style=\"\">', 'março/2005', ' </li>'),\n",
              " ('\" style=\"\">', 'fevereiro/2005', ' </li>'),\n",
              " ('\" style=\"\">', 'janeiro/2005', ' </li>'),\n",
              " ('\" style=\"\">', 'dezembro/2004', ' </li>'),\n",
              " ('\" style=\"\">', 'novembro/2004', ' </li>'),\n",
              " ('\" style=\"\">', 'outubro/2004', ' </li>'),\n",
              " ('\" style=\"\">', 'setembro/2004', ' </li>'),\n",
              " ('\" style=\"\">', 'agosto/2004', ' </li>'),\n",
              " ('\" style=\"\">', 'julho/2004', ' </li>'),\n",
              " ('\" style=\"\">', 'junho/2004', ' </li>'),\n",
              " ('\" style=\"\">', 'maio/2004', ' </li>'),\n",
              " ('\" style=\"\">', 'abril/2004', ' </li>'),\n",
              " ('\" style=\"\">', 'março/2004', ' </li>'),\n",
              " ('\" style=\"\">', 'fevereiro/2004', ' </li>'),\n",
              " ('\" style=\"\">', 'janeiro/2004', ' </li>'),\n",
              " ('\" style=\"\">', 'dezembro/2003', ' </li>'),\n",
              " ('\" style=\"\">', 'novembro/2003', ' </li>'),\n",
              " ('\" style=\"\">', 'outubro/2003', ' </li>'),\n",
              " ('\" style=\"\">', 'setembro/2003', ' </li>'),\n",
              " ('\" style=\"\">', 'agosto/2003', ' </li>'),\n",
              " ('\" style=\"\">', 'julho/2003', ' </li>'),\n",
              " ('\" style=\"\">', 'junho/2003', ' </li>'),\n",
              " ('\" style=\"\">', 'maio/2003', ' </li>'),\n",
              " ('\" style=\"\">', 'abril/2003', ' </li>'),\n",
              " ('\" style=\"\">', 'março/2003', ' </li>'),\n",
              " ('\" style=\"\">', 'fevereiro/2003', ' </li>'),\n",
              " ('\" style=\"\">', 'janeiro/2003', ' </li>'),\n",
              " ('\" style=\"\">', 'dezembro/2002', ' </li>'),\n",
              " ('\" style=\"\">', 'novembro/2002', ' </li>'),\n",
              " ('\" style=\"\">', 'outubro/2002', ' </li>'),\n",
              " ('\" style=\"\">', 'setembro/2002', ' </li>'),\n",
              " ('\" style=\"\">', 'agosto/2002', ' </li>'),\n",
              " ('\" style=\"\">', 'julho/2002', ' </li>'),\n",
              " ('\" style=\"\">', 'junho/2002', ' </li>'),\n",
              " ('\" style=\"\">', 'maio/2002', ' </li>'),\n",
              " ('\" style=\"\">', 'abril/2002', ' </li>'),\n",
              " ('\" style=\"\">', 'março/2002', ' </li>'),\n",
              " ('\" style=\"\">', 'fevereiro/2002', ' </li>'),\n",
              " ('\" style=\"\">', 'janeiro/2002', ' </li>'),\n",
              " ('\" style=\"\">', 'dezembro/2001', ' </li>'),\n",
              " ('\" style=\"\">', 'novembro/2001', ' </li>'),\n",
              " ('\" style=\"\">', 'outubro/2001', ' </li>'),\n",
              " ('\" style=\"\">', 'setembro/2001', ' </li>'),\n",
              " ('\" style=\"\">', 'agosto/2001', ' </li>'),\n",
              " ('\" style=\"\">', 'julho/2001', ' </li>'),\n",
              " ('\" style=\"\">', 'junho/2001', ' </li>'),\n",
              " ('\" style=\"\">', 'maio/2001', ' </li>'),\n",
              " ('\" style=\"\">', 'abril/2001', ' </li>'),\n",
              " ('\" style=\"\">', 'março/2001', ' </li>'),\n",
              " ('\" style=\"\">', 'fevereiro/2001', ' </li>'),\n",
              " ('\" style=\"\">', 'janeiro/2001', ' </li>')]"
            ]
          },
          "execution_count": 182,
          "metadata": {},
          "output_type": "execute_result"
        }
      ],
      "source": [
        "re_anos = re.compile(r'(\" style=\"\">)(.*?)( </li>)')\n",
        "lista_periodos = re_anos.findall(str(html_referencia))\n",
        "lista_periodos"
      ]
    },
    {
      "cell_type": "code",
      "execution_count": null,
      "id": "990dc47e",
      "metadata": {
        "id": "990dc47e",
        "outputId": "c40982a1-c275-4882-84b8-b1a39b36b9f4"
      },
      "outputs": [
        {
          "data": {
            "text/plain": [
              "{'periodo': 'março/2022', 'mes': 'março', 'ano': '2022'}"
            ]
          },
          "execution_count": 183,
          "metadata": {},
          "output_type": "execute_result"
        }
      ],
      "source": [
        "# Criando um dicionário de períodos\n",
        "periodos = []\n",
        "for periodo in lista_periodos:\n",
        "    periodo = periodo[1]\n",
        "    mes, ano = periodo.split('/')\n",
        "    periodos.append({'periodo' : periodo, 'mes' : mes, 'ano' : ano})\n",
        "periodos[0]"
      ]
    },
    {
      "cell_type": "code",
      "execution_count": null,
      "id": "76bfb89b",
      "metadata": {
        "id": "76bfb89b"
      },
      "outputs": [],
      "source": [
        "# Criando função de click\n",
        "def click_item_id(id_item):\n",
        "    item = driver.find_element_by_id(id_item)\n",
        "    item.click()\n",
        "    item.is_selecteds = False"
      ]
    },
    {
      "cell_type": "code",
      "execution_count": null,
      "id": "3a73325d",
      "metadata": {
        "id": "3a73325d",
        "outputId": "e55a979d-180e-4211-a346-c922a5c815d4"
      },
      "outputs": [
        {
          "name": "stdout",
          "output_type": "stream",
          "text": [
            "março/2022\n",
            "fevereiro/2022\n",
            "janeiro/2022\n",
            "dezembro/2021\n",
            "novembro/2021\n",
            "outubro/2021\n",
            "setembro/2021\n",
            "agosto/2021\n",
            "julho/2021\n",
            "junho/2021\n",
            "maio/2021\n",
            "abril/2021\n",
            "março/2021\n",
            "fevereiro/2021\n",
            "janeiro/2021\n",
            "dezembro/2020\n",
            "novembro/2020\n",
            "outubro/2020\n",
            "setembro/2020\n",
            "agosto/2020\n",
            "julho/2020\n",
            "junho/2020\n",
            "maio/2020\n",
            "abril/2020\n",
            "março/2020\n",
            "fevereiro/2020\n",
            "janeiro/2020\n"
          ]
        }
      ],
      "source": [
        "# Juntando tudo\n",
        "lista_table = []\n",
        "for periodo in periodos:\n",
        "    if int(periodo['ano']) >= 2020:\n",
        "        periodo_referencia = periodo['periodo']\n",
        "        print(periodo_referencia)\n",
        "        esperar()\n",
        "        click_item_id(id_tabela_referencia)\n",
        "        esperar()\n",
        "        preenche_item(id_tabela_referencia, periodo_referencia)\n",
        "        esperar()\n",
        "        preenche_item(id_marca_carro, marca_veiculo)\n",
        "        esperar()\n",
        "        preenche_item(id_modelo_carro, modelo_veiculo)\n",
        "        esperar()\n",
        "        preenche_item(id_ano_carro, ano_veiculo)\n",
        "        esperar()\n",
        "        click_item_id(id_botao_pesquisa)\n",
        "        esperar()\n",
        "        table = driver.find_element_by_id(id_resultado_filtros)\n",
        "        html = table.get_attribute('innerHTML')\n",
        "        parser = BeautifulSoup(html, 'html.parser')\n",
        "        table = parser.select_one('tbody')\n",
        "        dados = regex_dados.findall(str(table))\n",
        "        dados = lista_dado(dados)\n",
        "        lista_table.append(dados)\n",
        "        click_item_id(id_botao_limpar)"
      ]
    },
    {
      "cell_type": "code",
      "execution_count": null,
      "id": "971dd16f",
      "metadata": {
        "id": "971dd16f",
        "outputId": "5a2e268c-75f5-44e0-a18b-09faf966cf3e"
      },
      "outputs": [
        {
          "data": {
            "text/plain": [
              "['Mês de referência:',\n",
              " 'Código Fipe:',\n",
              " 'Marca:',\n",
              " 'Modelo:',\n",
              " 'Ano Modelo:',\n",
              " 'Autenticação',\n",
              " 'Data da consulta',\n",
              " 'Preço Médio']"
            ]
          },
          "execution_count": 129,
          "metadata": {},
          "output_type": "execute_result"
        }
      ],
      "source": [
        "regex_titulo = re.compile('(<td class=\"noborder\"><p>)(.*?)(</p>)')\n",
        "titulo = regex_titulo.findall(str(table))\n",
        "titulo = lista_dado(titulo)\n",
        "titulo"
      ]
    },
    {
      "cell_type": "code",
      "execution_count": null,
      "id": "34f13996",
      "metadata": {
        "id": "34f13996"
      },
      "outputs": [],
      "source": [
        "# Lendo dados\n",
        "import pandas as pd\n",
        "\n",
        "df = pd.DataFrame(lista_table, columns = titulo)"
      ]
    },
    {
      "cell_type": "code",
      "execution_count": null,
      "id": "cb608582",
      "metadata": {
        "id": "cb608582",
        "outputId": "b163afd2-4f2e-49ce-ff2d-1c8196de1e75"
      },
      "outputs": [
        {
          "data": {
            "text/html": [
              "<div>\n",
              "<style scoped>\n",
              "    .dataframe tbody tr th:only-of-type {\n",
              "        vertical-align: middle;\n",
              "    }\n",
              "\n",
              "    .dataframe tbody tr th {\n",
              "        vertical-align: top;\n",
              "    }\n",
              "\n",
              "    .dataframe thead th {\n",
              "        text-align: right;\n",
              "    }\n",
              "</style>\n",
              "<table border=\"1\" class=\"dataframe\">\n",
              "  <thead>\n",
              "    <tr style=\"text-align: right;\">\n",
              "      <th></th>\n",
              "      <th>Mês de referência:</th>\n",
              "      <th>Código Fipe:</th>\n",
              "      <th>Marca:</th>\n",
              "      <th>Modelo:</th>\n",
              "      <th>Ano Modelo:</th>\n",
              "      <th>Autenticação</th>\n",
              "      <th>Data da consulta</th>\n",
              "      <th>Preço Médio</th>\n",
              "    </tr>\n",
              "  </thead>\n",
              "  <tbody>\n",
              "    <tr>\n",
              "      <th>0</th>\n",
              "      <td>março de 2022</td>\n",
              "      <td>001314-5</td>\n",
              "      <td>Fiat</td>\n",
              "      <td>Palio ATTRA./ITÁLIA 1.4 EVO F.Flex 8V 5p</td>\n",
              "      <td>2013 Gasolina</td>\n",
              "      <td>rkmpgz8dbvnc</td>\n",
              "      <td>domingo, 27 de março de 2022 15:38</td>\n",
              "      <td>R$ 34.994,00</td>\n",
              "    </tr>\n",
              "    <tr>\n",
              "      <th>1</th>\n",
              "      <td>fevereiro de 2022</td>\n",
              "      <td>001314-5</td>\n",
              "      <td>Fiat</td>\n",
              "      <td>Palio ATTRA./ITÁLIA 1.4 EVO F.Flex 8V 5p</td>\n",
              "      <td>2013 Gasolina</td>\n",
              "      <td>rgy5qt8drlnc</td>\n",
              "      <td>domingo, 27 de março de 2022 15:38</td>\n",
              "      <td>R$ 34.767,00</td>\n",
              "    </tr>\n",
              "    <tr>\n",
              "      <th>2</th>\n",
              "      <td>janeiro de 2022</td>\n",
              "      <td>001314-5</td>\n",
              "      <td>Fiat</td>\n",
              "      <td>Palio ATTRA./ITÁLIA 1.4 EVO F.Flex 8V 5p</td>\n",
              "      <td>2013 Gasolina</td>\n",
              "      <td>rdz3r1ldpvnc</td>\n",
              "      <td>domingo, 27 de março de 2022 15:39</td>\n",
              "      <td>R$ 34.599,00</td>\n",
              "    </tr>\n",
              "  </tbody>\n",
              "</table>\n",
              "</div>"
            ],
            "text/plain": [
              "   Mês de referência: Código Fipe: Marca:  \\\n",
              "0      março de 2022      001314-5   Fiat   \n",
              "1  fevereiro de 2022      001314-5   Fiat   \n",
              "2    janeiro de 2022      001314-5   Fiat   \n",
              "\n",
              "                                    Modelo:    Ano Modelo:  Autenticação  \\\n",
              "0  Palio ATTRA./ITÁLIA 1.4 EVO F.Flex 8V 5p  2013 Gasolina  rkmpgz8dbvnc   \n",
              "1  Palio ATTRA./ITÁLIA 1.4 EVO F.Flex 8V 5p  2013 Gasolina  rgy5qt8drlnc   \n",
              "2  Palio ATTRA./ITÁLIA 1.4 EVO F.Flex 8V 5p  2013 Gasolina  rdz3r1ldpvnc   \n",
              "\n",
              "                     Data da consulta   Preço Médio  \n",
              "0  domingo, 27 de março de 2022 15:38  R$ 34.994,00  \n",
              "1  domingo, 27 de março de 2022 15:38  R$ 34.767,00  \n",
              "2  domingo, 27 de março de 2022 15:39  R$ 34.599,00  "
            ]
          },
          "execution_count": 131,
          "metadata": {},
          "output_type": "execute_result"
        }
      ],
      "source": [
        "df"
      ]
    },
    {
      "cell_type": "code",
      "execution_count": null,
      "id": "691f5e57",
      "metadata": {
        "id": "691f5e57"
      },
      "outputs": [],
      "source": [
        "driver.quit()"
      ]
    },
    {
      "cell_type": "code",
      "execution_count": null,
      "id": "9ef57a9e",
      "metadata": {
        "id": "9ef57a9e"
      },
      "outputs": [],
      "source": [
        "df.to_csv('dados_palio_2013.csv', sep = ';', encoding = 'latin-1')"
      ]
    },
    {
      "cell_type": "code",
      "execution_count": null,
      "id": "b2a0a58a",
      "metadata": {
        "id": "b2a0a58a",
        "outputId": "6bb125cd-fbbd-4117-e47a-ce435e50e75a"
      },
      "outputs": [
        {
          "data": {
            "text/plain": [
              "[{'periodo': 'março/2022', 'mes': 'março', 'ano': '2022'},\n",
              " {'periodo': 'fevereiro/2022', 'mes': 'fevereiro', 'ano': '2022'},\n",
              " {'periodo': 'janeiro/2022', 'mes': 'janeiro', 'ano': '2022'},\n",
              " {'periodo': 'dezembro/2021', 'mes': 'dezembro', 'ano': '2021'},\n",
              " {'periodo': 'novembro/2021', 'mes': 'novembro', 'ano': '2021'},\n",
              " {'periodo': 'outubro/2021', 'mes': 'outubro', 'ano': '2021'},\n",
              " {'periodo': 'setembro/2021', 'mes': 'setembro', 'ano': '2021'},\n",
              " {'periodo': 'agosto/2021', 'mes': 'agosto', 'ano': '2021'},\n",
              " {'periodo': 'julho/2021', 'mes': 'julho', 'ano': '2021'},\n",
              " {'periodo': 'junho/2021', 'mes': 'junho', 'ano': '2021'},\n",
              " {'periodo': 'maio/2021', 'mes': 'maio', 'ano': '2021'},\n",
              " {'periodo': 'abril/2021', 'mes': 'abril', 'ano': '2021'},\n",
              " {'periodo': 'março/2021', 'mes': 'março', 'ano': '2021'},\n",
              " {'periodo': 'fevereiro/2021', 'mes': 'fevereiro', 'ano': '2021'},\n",
              " {'periodo': 'janeiro/2021', 'mes': 'janeiro', 'ano': '2021'},\n",
              " {'periodo': 'dezembro/2020', 'mes': 'dezembro', 'ano': '2020'},\n",
              " {'periodo': 'novembro/2020', 'mes': 'novembro', 'ano': '2020'},\n",
              " {'periodo': 'outubro/2020', 'mes': 'outubro', 'ano': '2020'},\n",
              " {'periodo': 'setembro/2020', 'mes': 'setembro', 'ano': '2020'},\n",
              " {'periodo': 'agosto/2020', 'mes': 'agosto', 'ano': '2020'},\n",
              " {'periodo': 'julho/2020', 'mes': 'julho', 'ano': '2020'},\n",
              " {'periodo': 'junho/2020', 'mes': 'junho', 'ano': '2020'},\n",
              " {'periodo': 'maio/2020', 'mes': 'maio', 'ano': '2020'},\n",
              " {'periodo': 'abril/2020', 'mes': 'abril', 'ano': '2020'},\n",
              " {'periodo': 'março/2020', 'mes': 'março', 'ano': '2020'},\n",
              " {'periodo': 'fevereiro/2020', 'mes': 'fevereiro', 'ano': '2020'},\n",
              " {'periodo': 'janeiro/2020', 'mes': 'janeiro', 'ano': '2020'},\n",
              " {'periodo': 'dezembro/2019', 'mes': 'dezembro', 'ano': '2019'},\n",
              " {'periodo': 'novembro/2019', 'mes': 'novembro', 'ano': '2019'},\n",
              " {'periodo': 'outubro/2019', 'mes': 'outubro', 'ano': '2019'},\n",
              " {'periodo': 'setembro/2019', 'mes': 'setembro', 'ano': '2019'},\n",
              " {'periodo': 'agosto/2019', 'mes': 'agosto', 'ano': '2019'},\n",
              " {'periodo': 'julho/2019', 'mes': 'julho', 'ano': '2019'},\n",
              " {'periodo': 'junho/2019', 'mes': 'junho', 'ano': '2019'},\n",
              " {'periodo': 'maio/2019', 'mes': 'maio', 'ano': '2019'},\n",
              " {'periodo': 'abril/2019', 'mes': 'abril', 'ano': '2019'},\n",
              " {'periodo': 'março/2019', 'mes': 'março', 'ano': '2019'},\n",
              " {'periodo': 'fevereiro/2019', 'mes': 'fevereiro', 'ano': '2019'},\n",
              " {'periodo': 'janeiro/2019', 'mes': 'janeiro', 'ano': '2019'},\n",
              " {'periodo': 'dezembro/2018', 'mes': 'dezembro', 'ano': '2018'},\n",
              " {'periodo': 'novembro/2018', 'mes': 'novembro', 'ano': '2018'},\n",
              " {'periodo': 'outubro/2018', 'mes': 'outubro', 'ano': '2018'},\n",
              " {'periodo': 'setembro/2018', 'mes': 'setembro', 'ano': '2018'},\n",
              " {'periodo': 'agosto/2018', 'mes': 'agosto', 'ano': '2018'},\n",
              " {'periodo': 'julho/2018', 'mes': 'julho', 'ano': '2018'},\n",
              " {'periodo': 'junho/2018', 'mes': 'junho', 'ano': '2018'},\n",
              " {'periodo': 'maio/2018', 'mes': 'maio', 'ano': '2018'},\n",
              " {'periodo': 'abril/2018', 'mes': 'abril', 'ano': '2018'},\n",
              " {'periodo': 'março/2018', 'mes': 'março', 'ano': '2018'},\n",
              " {'periodo': 'fevereiro/2018', 'mes': 'fevereiro', 'ano': '2018'},\n",
              " {'periodo': 'janeiro/2018', 'mes': 'janeiro', 'ano': '2018'},\n",
              " {'periodo': 'dezembro/2017', 'mes': 'dezembro', 'ano': '2017'},\n",
              " {'periodo': 'novembro/2017', 'mes': 'novembro', 'ano': '2017'},\n",
              " {'periodo': 'outubro/2017', 'mes': 'outubro', 'ano': '2017'},\n",
              " {'periodo': 'setembro/2017', 'mes': 'setembro', 'ano': '2017'},\n",
              " {'periodo': 'agosto/2017', 'mes': 'agosto', 'ano': '2017'},\n",
              " {'periodo': 'julho/2017', 'mes': 'julho', 'ano': '2017'},\n",
              " {'periodo': 'junho/2017', 'mes': 'junho', 'ano': '2017'},\n",
              " {'periodo': 'maio/2017', 'mes': 'maio', 'ano': '2017'},\n",
              " {'periodo': 'abril/2017', 'mes': 'abril', 'ano': '2017'},\n",
              " {'periodo': 'março/2017', 'mes': 'março', 'ano': '2017'},\n",
              " {'periodo': 'fevereiro/2017', 'mes': 'fevereiro', 'ano': '2017'},\n",
              " {'periodo': 'janeiro/2017', 'mes': 'janeiro', 'ano': '2017'},\n",
              " {'periodo': 'dezembro/2016', 'mes': 'dezembro', 'ano': '2016'},\n",
              " {'periodo': 'novembro/2016', 'mes': 'novembro', 'ano': '2016'},\n",
              " {'periodo': 'outubro/2016', 'mes': 'outubro', 'ano': '2016'},\n",
              " {'periodo': 'setembro/2016', 'mes': 'setembro', 'ano': '2016'},\n",
              " {'periodo': 'agosto/2016', 'mes': 'agosto', 'ano': '2016'},\n",
              " {'periodo': 'julho/2016', 'mes': 'julho', 'ano': '2016'},\n",
              " {'periodo': 'junho/2016', 'mes': 'junho', 'ano': '2016'},\n",
              " {'periodo': 'maio/2016', 'mes': 'maio', 'ano': '2016'},\n",
              " {'periodo': 'abril/2016', 'mes': 'abril', 'ano': '2016'},\n",
              " {'periodo': 'março/2016', 'mes': 'março', 'ano': '2016'},\n",
              " {'periodo': 'fevereiro/2016', 'mes': 'fevereiro', 'ano': '2016'},\n",
              " {'periodo': 'janeiro/2016', 'mes': 'janeiro', 'ano': '2016'},\n",
              " {'periodo': 'dezembro/2015', 'mes': 'dezembro', 'ano': '2015'},\n",
              " {'periodo': 'novembro/2015', 'mes': 'novembro', 'ano': '2015'},\n",
              " {'periodo': 'outubro/2015', 'mes': 'outubro', 'ano': '2015'},\n",
              " {'periodo': 'setembro/2015', 'mes': 'setembro', 'ano': '2015'},\n",
              " {'periodo': 'agosto/2015', 'mes': 'agosto', 'ano': '2015'},\n",
              " {'periodo': 'julho/2015', 'mes': 'julho', 'ano': '2015'},\n",
              " {'periodo': 'junho/2015', 'mes': 'junho', 'ano': '2015'},\n",
              " {'periodo': 'maio/2015', 'mes': 'maio', 'ano': '2015'},\n",
              " {'periodo': 'abril/2015', 'mes': 'abril', 'ano': '2015'},\n",
              " {'periodo': 'março/2015', 'mes': 'março', 'ano': '2015'},\n",
              " {'periodo': 'fevereiro/2015', 'mes': 'fevereiro', 'ano': '2015'},\n",
              " {'periodo': 'janeiro/2015', 'mes': 'janeiro', 'ano': '2015'},\n",
              " {'periodo': 'dezembro/2014', 'mes': 'dezembro', 'ano': '2014'},\n",
              " {'periodo': 'novembro/2014', 'mes': 'novembro', 'ano': '2014'},\n",
              " {'periodo': 'outubro/2014', 'mes': 'outubro', 'ano': '2014'},\n",
              " {'periodo': 'setembro/2014', 'mes': 'setembro', 'ano': '2014'},\n",
              " {'periodo': 'agosto/2014', 'mes': 'agosto', 'ano': '2014'},\n",
              " {'periodo': 'julho/2014', 'mes': 'julho', 'ano': '2014'},\n",
              " {'periodo': 'junho/2014', 'mes': 'junho', 'ano': '2014'},\n",
              " {'periodo': 'maio/2014', 'mes': 'maio', 'ano': '2014'},\n",
              " {'periodo': 'abril/2014', 'mes': 'abril', 'ano': '2014'},\n",
              " {'periodo': 'março/2014', 'mes': 'março', 'ano': '2014'},\n",
              " {'periodo': 'fevereiro/2014', 'mes': 'fevereiro', 'ano': '2014'},\n",
              " {'periodo': 'janeiro/2014', 'mes': 'janeiro', 'ano': '2014'},\n",
              " {'periodo': 'dezembro/2013', 'mes': 'dezembro', 'ano': '2013'},\n",
              " {'periodo': 'novembro/2013', 'mes': 'novembro', 'ano': '2013'},\n",
              " {'periodo': 'outubro/2013', 'mes': 'outubro', 'ano': '2013'},\n",
              " {'periodo': 'setembro/2013', 'mes': 'setembro', 'ano': '2013'},\n",
              " {'periodo': 'agosto/2013', 'mes': 'agosto', 'ano': '2013'},\n",
              " {'periodo': 'julho/2013', 'mes': 'julho', 'ano': '2013'},\n",
              " {'periodo': 'junho/2013', 'mes': 'junho', 'ano': '2013'},\n",
              " {'periodo': 'maio/2013', 'mes': 'maio', 'ano': '2013'},\n",
              " {'periodo': 'abril/2013', 'mes': 'abril', 'ano': '2013'},\n",
              " {'periodo': 'março/2013', 'mes': 'março', 'ano': '2013'},\n",
              " {'periodo': 'fevereiro/2013', 'mes': 'fevereiro', 'ano': '2013'},\n",
              " {'periodo': 'janeiro/2013', 'mes': 'janeiro', 'ano': '2013'},\n",
              " {'periodo': 'dezembro/2012', 'mes': 'dezembro', 'ano': '2012'},\n",
              " {'periodo': 'novembro/2012', 'mes': 'novembro', 'ano': '2012'},\n",
              " {'periodo': 'outubro/2012', 'mes': 'outubro', 'ano': '2012'},\n",
              " {'periodo': 'setembro/2012', 'mes': 'setembro', 'ano': '2012'},\n",
              " {'periodo': 'agosto/2012', 'mes': 'agosto', 'ano': '2012'},\n",
              " {'periodo': 'julho/2012', 'mes': 'julho', 'ano': '2012'},\n",
              " {'periodo': 'junho/2012', 'mes': 'junho', 'ano': '2012'},\n",
              " {'periodo': 'maio/2012', 'mes': 'maio', 'ano': '2012'},\n",
              " {'periodo': 'abril/2012', 'mes': 'abril', 'ano': '2012'},\n",
              " {'periodo': 'março/2012', 'mes': 'março', 'ano': '2012'},\n",
              " {'periodo': 'fevereiro/2012', 'mes': 'fevereiro', 'ano': '2012'},\n",
              " {'periodo': 'janeiro/2012', 'mes': 'janeiro', 'ano': '2012'},\n",
              " {'periodo': 'dezembro/2011', 'mes': 'dezembro', 'ano': '2011'},\n",
              " {'periodo': 'novembro/2011', 'mes': 'novembro', 'ano': '2011'},\n",
              " {'periodo': 'outubro/2011', 'mes': 'outubro', 'ano': '2011'},\n",
              " {'periodo': 'setembro/2011', 'mes': 'setembro', 'ano': '2011'},\n",
              " {'periodo': 'agosto/2011', 'mes': 'agosto', 'ano': '2011'},\n",
              " {'periodo': 'julho/2011', 'mes': 'julho', 'ano': '2011'},\n",
              " {'periodo': 'junho/2011', 'mes': 'junho', 'ano': '2011'},\n",
              " {'periodo': 'maio/2011', 'mes': 'maio', 'ano': '2011'},\n",
              " {'periodo': 'abril/2011', 'mes': 'abril', 'ano': '2011'},\n",
              " {'periodo': 'março/2011', 'mes': 'março', 'ano': '2011'},\n",
              " {'periodo': 'fevereiro/2011', 'mes': 'fevereiro', 'ano': '2011'},\n",
              " {'periodo': 'janeiro/2011', 'mes': 'janeiro', 'ano': '2011'},\n",
              " {'periodo': 'dezembro/2010', 'mes': 'dezembro', 'ano': '2010'},\n",
              " {'periodo': 'novembro/2010', 'mes': 'novembro', 'ano': '2010'},\n",
              " {'periodo': 'outubro/2010', 'mes': 'outubro', 'ano': '2010'},\n",
              " {'periodo': 'setembro/2010', 'mes': 'setembro', 'ano': '2010'},\n",
              " {'periodo': 'agosto/2010', 'mes': 'agosto', 'ano': '2010'},\n",
              " {'periodo': 'julho/2010', 'mes': 'julho', 'ano': '2010'},\n",
              " {'periodo': 'junho/2010', 'mes': 'junho', 'ano': '2010'},\n",
              " {'periodo': 'maio/2010', 'mes': 'maio', 'ano': '2010'},\n",
              " {'periodo': 'abril/2010', 'mes': 'abril', 'ano': '2010'},\n",
              " {'periodo': 'março/2010', 'mes': 'março', 'ano': '2010'},\n",
              " {'periodo': 'fevereiro/2010', 'mes': 'fevereiro', 'ano': '2010'},\n",
              " {'periodo': 'janeiro/2010', 'mes': 'janeiro', 'ano': '2010'},\n",
              " {'periodo': 'dezembro/2009', 'mes': 'dezembro', 'ano': '2009'},\n",
              " {'periodo': 'novembro/2009', 'mes': 'novembro', 'ano': '2009'},\n",
              " {'periodo': 'outubro/2009', 'mes': 'outubro', 'ano': '2009'},\n",
              " {'periodo': 'setembro/2009', 'mes': 'setembro', 'ano': '2009'},\n",
              " {'periodo': 'agosto/2009', 'mes': 'agosto', 'ano': '2009'},\n",
              " {'periodo': 'julho/2009', 'mes': 'julho', 'ano': '2009'},\n",
              " {'periodo': 'junho/2009', 'mes': 'junho', 'ano': '2009'},\n",
              " {'periodo': 'maio/2009', 'mes': 'maio', 'ano': '2009'},\n",
              " {'periodo': 'abril/2009', 'mes': 'abril', 'ano': '2009'},\n",
              " {'periodo': 'março/2009', 'mes': 'março', 'ano': '2009'},\n",
              " {'periodo': 'fevereiro/2009', 'mes': 'fevereiro', 'ano': '2009'},\n",
              " {'periodo': 'janeiro/2009', 'mes': 'janeiro', 'ano': '2009'},\n",
              " {'periodo': 'dezembro/2008', 'mes': 'dezembro', 'ano': '2008'},\n",
              " {'periodo': 'novembro/2008', 'mes': 'novembro', 'ano': '2008'},\n",
              " {'periodo': 'outubro/2008', 'mes': 'outubro', 'ano': '2008'},\n",
              " {'periodo': 'setembro/2008', 'mes': 'setembro', 'ano': '2008'},\n",
              " {'periodo': 'agosto/2008', 'mes': 'agosto', 'ano': '2008'},\n",
              " {'periodo': 'julho/2008', 'mes': 'julho', 'ano': '2008'},\n",
              " {'periodo': 'junho/2008', 'mes': 'junho', 'ano': '2008'},\n",
              " {'periodo': 'maio/2008', 'mes': 'maio', 'ano': '2008'},\n",
              " {'periodo': 'abril/2008', 'mes': 'abril', 'ano': '2008'},\n",
              " {'periodo': 'março/2008', 'mes': 'março', 'ano': '2008'},\n",
              " {'periodo': 'fevereiro/2008', 'mes': 'fevereiro', 'ano': '2008'},\n",
              " {'periodo': 'janeiro/2008', 'mes': 'janeiro', 'ano': '2008'},\n",
              " {'periodo': 'dezembro/2007', 'mes': 'dezembro', 'ano': '2007'},\n",
              " {'periodo': 'novembro/2007', 'mes': 'novembro', 'ano': '2007'},\n",
              " {'periodo': 'outubro/2007', 'mes': 'outubro', 'ano': '2007'},\n",
              " {'periodo': 'setembro/2007', 'mes': 'setembro', 'ano': '2007'},\n",
              " {'periodo': 'agosto/2007', 'mes': 'agosto', 'ano': '2007'},\n",
              " {'periodo': 'julho/2007', 'mes': 'julho', 'ano': '2007'},\n",
              " {'periodo': 'junho/2007', 'mes': 'junho', 'ano': '2007'},\n",
              " {'periodo': 'maio/2007', 'mes': 'maio', 'ano': '2007'},\n",
              " {'periodo': 'abril/2007', 'mes': 'abril', 'ano': '2007'},\n",
              " {'periodo': 'março/2007', 'mes': 'março', 'ano': '2007'},\n",
              " {'periodo': 'fevereiro/2007', 'mes': 'fevereiro', 'ano': '2007'},\n",
              " {'periodo': 'janeiro/2007', 'mes': 'janeiro', 'ano': '2007'},\n",
              " {'periodo': 'dezembro/2006', 'mes': 'dezembro', 'ano': '2006'},\n",
              " {'periodo': 'novembro/2006', 'mes': 'novembro', 'ano': '2006'},\n",
              " {'periodo': 'outubro/2006', 'mes': 'outubro', 'ano': '2006'},\n",
              " {'periodo': 'setembro/2006', 'mes': 'setembro', 'ano': '2006'},\n",
              " {'periodo': 'agosto/2006', 'mes': 'agosto', 'ano': '2006'},\n",
              " {'periodo': 'julho/2006', 'mes': 'julho', 'ano': '2006'},\n",
              " {'periodo': 'junho/2006', 'mes': 'junho', 'ano': '2006'},\n",
              " {'periodo': 'maio/2006', 'mes': 'maio', 'ano': '2006'},\n",
              " {'periodo': 'abril/2006', 'mes': 'abril', 'ano': '2006'},\n",
              " {'periodo': 'março/2006', 'mes': 'março', 'ano': '2006'},\n",
              " {'periodo': 'fevereiro/2006', 'mes': 'fevereiro', 'ano': '2006'},\n",
              " {'periodo': 'janeiro/2006', 'mes': 'janeiro', 'ano': '2006'},\n",
              " {'periodo': 'dezembro/2005', 'mes': 'dezembro', 'ano': '2005'},\n",
              " {'periodo': 'novembro/2005', 'mes': 'novembro', 'ano': '2005'},\n",
              " {'periodo': 'outubro/2005', 'mes': 'outubro', 'ano': '2005'},\n",
              " {'periodo': 'setembro/2005', 'mes': 'setembro', 'ano': '2005'},\n",
              " {'periodo': 'agosto/2005', 'mes': 'agosto', 'ano': '2005'},\n",
              " {'periodo': 'julho/2005', 'mes': 'julho', 'ano': '2005'},\n",
              " {'periodo': 'junho/2005', 'mes': 'junho', 'ano': '2005'},\n",
              " {'periodo': 'maio/2005', 'mes': 'maio', 'ano': '2005'},\n",
              " {'periodo': 'abril/2005', 'mes': 'abril', 'ano': '2005'},\n",
              " {'periodo': 'março/2005', 'mes': 'março', 'ano': '2005'},\n",
              " {'periodo': 'fevereiro/2005', 'mes': 'fevereiro', 'ano': '2005'},\n",
              " {'periodo': 'janeiro/2005', 'mes': 'janeiro', 'ano': '2005'},\n",
              " {'periodo': 'dezembro/2004', 'mes': 'dezembro', 'ano': '2004'},\n",
              " {'periodo': 'novembro/2004', 'mes': 'novembro', 'ano': '2004'},\n",
              " {'periodo': 'outubro/2004', 'mes': 'outubro', 'ano': '2004'},\n",
              " {'periodo': 'setembro/2004', 'mes': 'setembro', 'ano': '2004'},\n",
              " {'periodo': 'agosto/2004', 'mes': 'agosto', 'ano': '2004'},\n",
              " {'periodo': 'julho/2004', 'mes': 'julho', 'ano': '2004'},\n",
              " {'periodo': 'junho/2004', 'mes': 'junho', 'ano': '2004'},\n",
              " {'periodo': 'maio/2004', 'mes': 'maio', 'ano': '2004'},\n",
              " {'periodo': 'abril/2004', 'mes': 'abril', 'ano': '2004'},\n",
              " {'periodo': 'março/2004', 'mes': 'março', 'ano': '2004'},\n",
              " {'periodo': 'fevereiro/2004', 'mes': 'fevereiro', 'ano': '2004'},\n",
              " {'periodo': 'janeiro/2004', 'mes': 'janeiro', 'ano': '2004'},\n",
              " {'periodo': 'dezembro/2003', 'mes': 'dezembro', 'ano': '2003'},\n",
              " {'periodo': 'novembro/2003', 'mes': 'novembro', 'ano': '2003'},\n",
              " {'periodo': 'outubro/2003', 'mes': 'outubro', 'ano': '2003'},\n",
              " {'periodo': 'setembro/2003', 'mes': 'setembro', 'ano': '2003'},\n",
              " {'periodo': 'agosto/2003', 'mes': 'agosto', 'ano': '2003'},\n",
              " {'periodo': 'julho/2003', 'mes': 'julho', 'ano': '2003'},\n",
              " {'periodo': 'junho/2003', 'mes': 'junho', 'ano': '2003'},\n",
              " {'periodo': 'maio/2003', 'mes': 'maio', 'ano': '2003'},\n",
              " {'periodo': 'abril/2003', 'mes': 'abril', 'ano': '2003'},\n",
              " {'periodo': 'março/2003', 'mes': 'março', 'ano': '2003'},\n",
              " {'periodo': 'fevereiro/2003', 'mes': 'fevereiro', 'ano': '2003'},\n",
              " {'periodo': 'janeiro/2003', 'mes': 'janeiro', 'ano': '2003'},\n",
              " {'periodo': 'dezembro/2002', 'mes': 'dezembro', 'ano': '2002'},\n",
              " {'periodo': 'novembro/2002', 'mes': 'novembro', 'ano': '2002'},\n",
              " {'periodo': 'outubro/2002', 'mes': 'outubro', 'ano': '2002'},\n",
              " {'periodo': 'setembro/2002', 'mes': 'setembro', 'ano': '2002'},\n",
              " {'periodo': 'agosto/2002', 'mes': 'agosto', 'ano': '2002'},\n",
              " {'periodo': 'julho/2002', 'mes': 'julho', 'ano': '2002'},\n",
              " {'periodo': 'junho/2002', 'mes': 'junho', 'ano': '2002'},\n",
              " {'periodo': 'maio/2002', 'mes': 'maio', 'ano': '2002'},\n",
              " {'periodo': 'abril/2002', 'mes': 'abril', 'ano': '2002'},\n",
              " {'periodo': 'março/2002', 'mes': 'março', 'ano': '2002'},\n",
              " {'periodo': 'fevereiro/2002', 'mes': 'fevereiro', 'ano': '2002'},\n",
              " {'periodo': 'janeiro/2002', 'mes': 'janeiro', 'ano': '2002'},\n",
              " {'periodo': 'dezembro/2001', 'mes': 'dezembro', 'ano': '2001'},\n",
              " {'periodo': 'novembro/2001', 'mes': 'novembro', 'ano': '2001'},\n",
              " {'periodo': 'outubro/2001', 'mes': 'outubro', 'ano': '2001'},\n",
              " {'periodo': 'setembro/2001', 'mes': 'setembro', 'ano': '2001'},\n",
              " {'periodo': 'agosto/2001', 'mes': 'agosto', 'ano': '2001'},\n",
              " {'periodo': 'julho/2001', 'mes': 'julho', 'ano': '2001'},\n",
              " {'periodo': 'junho/2001', 'mes': 'junho', 'ano': '2001'},\n",
              " {'periodo': 'maio/2001', 'mes': 'maio', 'ano': '2001'},\n",
              " {'periodo': 'abril/2001', 'mes': 'abril', 'ano': '2001'},\n",
              " {'periodo': 'março/2001', 'mes': 'março', 'ano': '2001'},\n",
              " {'periodo': 'fevereiro/2001', 'mes': 'fevereiro', 'ano': '2001'},\n",
              " {'periodo': 'janeiro/2001', 'mes': 'janeiro', 'ano': '2001'}]"
            ]
          },
          "execution_count": 132,
          "metadata": {},
          "output_type": "execute_result"
        }
      ],
      "source": [
        "periodos"
      ]
    },
    {
      "cell_type": "code",
      "execution_count": null,
      "id": "3a17cc91",
      "metadata": {
        "id": "3a17cc91"
      },
      "outputs": [],
      "source": [
        ""
      ]
    }
  ],
  "metadata": {
    "kernelspec": {
      "display_name": "coleta_dados",
      "language": "python",
      "name": "coleta_dados"
    },
    "language_info": {
      "codemirror_mode": {
        "name": "ipython",
        "version": 3
      },
      "file_extension": ".py",
      "mimetype": "text/x-python",
      "name": "python",
      "nbconvert_exporter": "python",
      "pygments_lexer": "ipython3",
      "version": "3.9.1"
    },
    "colab": {
      "name": "coleta_dados_web_selenium.ipynb",
      "provenance": [],
      "include_colab_link": true
    }
  },
  "nbformat": 4,
  "nbformat_minor": 5
}