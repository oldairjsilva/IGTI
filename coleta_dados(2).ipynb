{
  "cells": [
    {
      "cell_type": "markdown",
      "metadata": {
        "id": "view-in-github",
        "colab_type": "text"
      },
      "source": [
        "<a href=\"https://colab.research.google.com/github/oldairjsilva/IGTI/blob/main/coleta_dados(2).ipynb\" target=\"_parent\"><img src=\"https://colab.research.google.com/assets/colab-badge.svg\" alt=\"Open In Colab\"/></a>"
      ]
    },
    {
      "cell_type": "markdown",
      "id": "1e925676",
      "metadata": {
        "id": "1e925676"
      },
      "source": [
        "# Coleta de dados estruturados"
      ]
    },
    {
      "cell_type": "code",
      "execution_count": null,
      "id": "288617bc",
      "metadata": {
        "id": "288617bc"
      },
      "outputs": [],
      "source": [
        "import pandas as pd\n",
        "import os"
      ]
    },
    {
      "cell_type": "markdown",
      "id": "4544394d",
      "metadata": {
        "id": "4544394d"
      },
      "source": [
        "# Importando dados do arquivo\n",
        "O primeiro passo é encontrar o local onde o arquivo a ser trabalhado vai estar armazenado. Após isso, vamos abrí-lo e em seguida vamos adicioná-lo dentro de um dataframe do pandas."
      ]
    },
    {
      "cell_type": "code",
      "execution_count": null,
      "id": "4b7420b5",
      "metadata": {
        "id": "4b7420b5"
      },
      "outputs": [],
      "source": [
        "DIRETORIO = 'C:\\\\Projetos\\\\base_dados\\\\'\n",
        "arquivo = 'country_vaccinations.csv'\n",
        "dados = os.path.join(DIRETORIO, arquivo)"
      ]
    },
    {
      "cell_type": "code",
      "execution_count": null,
      "id": "2e937ca4",
      "metadata": {
        "id": "2e937ca4",
        "outputId": "72afd7ee-550a-4700-8851-5a2bdb84a1db"
      },
      "outputs": [
        {
          "data": {
            "text/plain": [
              "'C:\\\\Projetos\\\\base_dados\\\\country_vaccinations.csv'"
            ]
          },
          "execution_count": 7,
          "metadata": {},
          "output_type": "execute_result"
        }
      ],
      "source": [
        "dados"
      ]
    },
    {
      "cell_type": "code",
      "execution_count": null,
      "id": "425d0a03",
      "metadata": {
        "id": "425d0a03"
      },
      "outputs": [],
      "source": [
        "dataframe = pd.read_csv(dados, sep = ',', encoding = 'latin-1')"
      ]
    },
    {
      "cell_type": "code",
      "execution_count": null,
      "id": "cf3dd7c1",
      "metadata": {
        "id": "cf3dd7c1",
        "outputId": "09b8cadb-f873-407a-ced2-b440d09f7509"
      },
      "outputs": [
        {
          "data": {
            "text/html": [
              "<div>\n",
              "<style scoped>\n",
              "    .dataframe tbody tr th:only-of-type {\n",
              "        vertical-align: middle;\n",
              "    }\n",
              "\n",
              "    .dataframe tbody tr th {\n",
              "        vertical-align: top;\n",
              "    }\n",
              "\n",
              "    .dataframe thead th {\n",
              "        text-align: right;\n",
              "    }\n",
              "</style>\n",
              "<table border=\"1\" class=\"dataframe\">\n",
              "  <thead>\n",
              "    <tr style=\"text-align: right;\">\n",
              "      <th></th>\n",
              "      <th>country</th>\n",
              "      <th>iso_code</th>\n",
              "      <th>date</th>\n",
              "      <th>total_vaccinations</th>\n",
              "      <th>people_vaccinated</th>\n",
              "      <th>people_fully_vaccinated</th>\n",
              "      <th>daily_vaccinations_raw</th>\n",
              "      <th>daily_vaccinations</th>\n",
              "      <th>total_vaccinations_per_hundred</th>\n",
              "      <th>people_vaccinated_per_hundred</th>\n",
              "      <th>people_fully_vaccinated_per_hundred</th>\n",
              "      <th>daily_vaccinations_per_million</th>\n",
              "      <th>vaccines</th>\n",
              "      <th>source_name</th>\n",
              "      <th>source_website</th>\n",
              "    </tr>\n",
              "  </thead>\n",
              "  <tbody>\n",
              "    <tr>\n",
              "      <th>0</th>\n",
              "      <td>Afghanistan</td>\n",
              "      <td>AFG</td>\n",
              "      <td>2021-02-22</td>\n",
              "      <td>0.0</td>\n",
              "      <td>0.0</td>\n",
              "      <td>NaN</td>\n",
              "      <td>NaN</td>\n",
              "      <td>NaN</td>\n",
              "      <td>0.0</td>\n",
              "      <td>0.0</td>\n",
              "      <td>NaN</td>\n",
              "      <td>NaN</td>\n",
              "      <td>Johnson&amp;Johnson, Oxford/AstraZeneca, Pfizer/Bi...</td>\n",
              "      <td>World Health Organization</td>\n",
              "      <td>https://covid19.who.int/</td>\n",
              "    </tr>\n",
              "    <tr>\n",
              "      <th>1</th>\n",
              "      <td>Afghanistan</td>\n",
              "      <td>AFG</td>\n",
              "      <td>2021-02-23</td>\n",
              "      <td>NaN</td>\n",
              "      <td>NaN</td>\n",
              "      <td>NaN</td>\n",
              "      <td>NaN</td>\n",
              "      <td>1367.0</td>\n",
              "      <td>NaN</td>\n",
              "      <td>NaN</td>\n",
              "      <td>NaN</td>\n",
              "      <td>34.0</td>\n",
              "      <td>Johnson&amp;Johnson, Oxford/AstraZeneca, Pfizer/Bi...</td>\n",
              "      <td>World Health Organization</td>\n",
              "      <td>https://covid19.who.int/</td>\n",
              "    </tr>\n",
              "    <tr>\n",
              "      <th>2</th>\n",
              "      <td>Afghanistan</td>\n",
              "      <td>AFG</td>\n",
              "      <td>2021-02-24</td>\n",
              "      <td>NaN</td>\n",
              "      <td>NaN</td>\n",
              "      <td>NaN</td>\n",
              "      <td>NaN</td>\n",
              "      <td>1367.0</td>\n",
              "      <td>NaN</td>\n",
              "      <td>NaN</td>\n",
              "      <td>NaN</td>\n",
              "      <td>34.0</td>\n",
              "      <td>Johnson&amp;Johnson, Oxford/AstraZeneca, Pfizer/Bi...</td>\n",
              "      <td>World Health Organization</td>\n",
              "      <td>https://covid19.who.int/</td>\n",
              "    </tr>\n",
              "    <tr>\n",
              "      <th>3</th>\n",
              "      <td>Afghanistan</td>\n",
              "      <td>AFG</td>\n",
              "      <td>2021-02-25</td>\n",
              "      <td>NaN</td>\n",
              "      <td>NaN</td>\n",
              "      <td>NaN</td>\n",
              "      <td>NaN</td>\n",
              "      <td>1367.0</td>\n",
              "      <td>NaN</td>\n",
              "      <td>NaN</td>\n",
              "      <td>NaN</td>\n",
              "      <td>34.0</td>\n",
              "      <td>Johnson&amp;Johnson, Oxford/AstraZeneca, Pfizer/Bi...</td>\n",
              "      <td>World Health Organization</td>\n",
              "      <td>https://covid19.who.int/</td>\n",
              "    </tr>\n",
              "    <tr>\n",
              "      <th>4</th>\n",
              "      <td>Afghanistan</td>\n",
              "      <td>AFG</td>\n",
              "      <td>2021-02-26</td>\n",
              "      <td>NaN</td>\n",
              "      <td>NaN</td>\n",
              "      <td>NaN</td>\n",
              "      <td>NaN</td>\n",
              "      <td>1367.0</td>\n",
              "      <td>NaN</td>\n",
              "      <td>NaN</td>\n",
              "      <td>NaN</td>\n",
              "      <td>34.0</td>\n",
              "      <td>Johnson&amp;Johnson, Oxford/AstraZeneca, Pfizer/Bi...</td>\n",
              "      <td>World Health Organization</td>\n",
              "      <td>https://covid19.who.int/</td>\n",
              "    </tr>\n",
              "  </tbody>\n",
              "</table>\n",
              "</div>"
            ],
            "text/plain": [
              "       country iso_code        date  total_vaccinations  people_vaccinated  \\\n",
              "0  Afghanistan      AFG  2021-02-22                 0.0                0.0   \n",
              "1  Afghanistan      AFG  2021-02-23                 NaN                NaN   \n",
              "2  Afghanistan      AFG  2021-02-24                 NaN                NaN   \n",
              "3  Afghanistan      AFG  2021-02-25                 NaN                NaN   \n",
              "4  Afghanistan      AFG  2021-02-26                 NaN                NaN   \n",
              "\n",
              "   people_fully_vaccinated  daily_vaccinations_raw  daily_vaccinations  \\\n",
              "0                      NaN                     NaN                 NaN   \n",
              "1                      NaN                     NaN              1367.0   \n",
              "2                      NaN                     NaN              1367.0   \n",
              "3                      NaN                     NaN              1367.0   \n",
              "4                      NaN                     NaN              1367.0   \n",
              "\n",
              "   total_vaccinations_per_hundred  people_vaccinated_per_hundred  \\\n",
              "0                             0.0                            0.0   \n",
              "1                             NaN                            NaN   \n",
              "2                             NaN                            NaN   \n",
              "3                             NaN                            NaN   \n",
              "4                             NaN                            NaN   \n",
              "\n",
              "   people_fully_vaccinated_per_hundred  daily_vaccinations_per_million  \\\n",
              "0                                  NaN                             NaN   \n",
              "1                                  NaN                            34.0   \n",
              "2                                  NaN                            34.0   \n",
              "3                                  NaN                            34.0   \n",
              "4                                  NaN                            34.0   \n",
              "\n",
              "                                            vaccines  \\\n",
              "0  Johnson&Johnson, Oxford/AstraZeneca, Pfizer/Bi...   \n",
              "1  Johnson&Johnson, Oxford/AstraZeneca, Pfizer/Bi...   \n",
              "2  Johnson&Johnson, Oxford/AstraZeneca, Pfizer/Bi...   \n",
              "3  Johnson&Johnson, Oxford/AstraZeneca, Pfizer/Bi...   \n",
              "4  Johnson&Johnson, Oxford/AstraZeneca, Pfizer/Bi...   \n",
              "\n",
              "                 source_name            source_website  \n",
              "0  World Health Organization  https://covid19.who.int/  \n",
              "1  World Health Organization  https://covid19.who.int/  \n",
              "2  World Health Organization  https://covid19.who.int/  \n",
              "3  World Health Organization  https://covid19.who.int/  \n",
              "4  World Health Organization  https://covid19.who.int/  "
            ]
          },
          "execution_count": 9,
          "metadata": {},
          "output_type": "execute_result"
        }
      ],
      "source": [
        "# Exibe os 5 primeiros registros da tabela\n",
        "dataframe.head(5)"
      ]
    },
    {
      "cell_type": "markdown",
      "id": "dd5d6ef4",
      "metadata": {
        "id": "dd5d6ef4"
      },
      "source": [
        "# Analisando os dados\n",
        "## Sobre o datase\n",
        "O dataset utilizado é referente a estatística do número da COVID-19 em todos os países do mundo"
      ]
    },
    {
      "cell_type": "code",
      "execution_count": null,
      "id": "72dd909f",
      "metadata": {
        "id": "72dd909f",
        "outputId": "c3a31566-9ce4-4fd6-9055-da0c21f9f909"
      },
      "outputs": [
        {
          "data": {
            "text/html": [
              "<div>\n",
              "<style scoped>\n",
              "    .dataframe tbody tr th:only-of-type {\n",
              "        vertical-align: middle;\n",
              "    }\n",
              "\n",
              "    .dataframe tbody tr th {\n",
              "        vertical-align: top;\n",
              "    }\n",
              "\n",
              "    .dataframe thead th {\n",
              "        text-align: right;\n",
              "    }\n",
              "</style>\n",
              "<table border=\"1\" class=\"dataframe\">\n",
              "  <thead>\n",
              "    <tr style=\"text-align: right;\">\n",
              "      <th></th>\n",
              "      <th>country</th>\n",
              "      <th>iso_code</th>\n",
              "      <th>date</th>\n",
              "      <th>total_vaccinations</th>\n",
              "      <th>people_vaccinated</th>\n",
              "      <th>people_fully_vaccinated</th>\n",
              "      <th>daily_vaccinations_raw</th>\n",
              "      <th>daily_vaccinations</th>\n",
              "      <th>total_vaccinations_per_hundred</th>\n",
              "      <th>people_vaccinated_per_hundred</th>\n",
              "      <th>people_fully_vaccinated_per_hundred</th>\n",
              "      <th>daily_vaccinations_per_million</th>\n",
              "      <th>vaccines</th>\n",
              "      <th>source_name</th>\n",
              "      <th>source_website</th>\n",
              "    </tr>\n",
              "  </thead>\n",
              "  <tbody>\n",
              "    <tr>\n",
              "      <th>10510</th>\n",
              "      <td>Brazil</td>\n",
              "      <td>BRA</td>\n",
              "      <td>2022-03-07</td>\n",
              "      <td>396537303.0</td>\n",
              "      <td>178366451.0</td>\n",
              "      <td>155930535.0</td>\n",
              "      <td>878331.0</td>\n",
              "      <td>539096.0</td>\n",
              "      <td>185.30</td>\n",
              "      <td>83.35</td>\n",
              "      <td>72.87</td>\n",
              "      <td>2519.0</td>\n",
              "      <td>Johnson&amp;Johnson, Oxford/AstraZeneca, Pfizer/Bi...</td>\n",
              "      <td>State governments via coronavirusbra1.github.io</td>\n",
              "      <td>https://coronavirusbra1.github.io</td>\n",
              "    </tr>\n",
              "    <tr>\n",
              "      <th>10509</th>\n",
              "      <td>Brazil</td>\n",
              "      <td>BRA</td>\n",
              "      <td>2022-03-06</td>\n",
              "      <td>395658972.0</td>\n",
              "      <td>178245534.0</td>\n",
              "      <td>155740455.0</td>\n",
              "      <td>194146.0</td>\n",
              "      <td>526934.0</td>\n",
              "      <td>184.89</td>\n",
              "      <td>83.29</td>\n",
              "      <td>72.78</td>\n",
              "      <td>2462.0</td>\n",
              "      <td>Johnson&amp;Johnson, Oxford/AstraZeneca, Pfizer/Bi...</td>\n",
              "      <td>State governments via coronavirusbra1.github.io</td>\n",
              "      <td>https://coronavirusbra1.github.io</td>\n",
              "    </tr>\n",
              "  </tbody>\n",
              "</table>\n",
              "</div>"
            ],
            "text/plain": [
              "      country iso_code        date  total_vaccinations  people_vaccinated  \\\n",
              "10510  Brazil      BRA  2022-03-07         396537303.0        178366451.0   \n",
              "10509  Brazil      BRA  2022-03-06         395658972.0        178245534.0   \n",
              "\n",
              "       people_fully_vaccinated  daily_vaccinations_raw  daily_vaccinations  \\\n",
              "10510              155930535.0                878331.0            539096.0   \n",
              "10509              155740455.0                194146.0            526934.0   \n",
              "\n",
              "       total_vaccinations_per_hundred  people_vaccinated_per_hundred  \\\n",
              "10510                          185.30                          83.35   \n",
              "10509                          184.89                          83.29   \n",
              "\n",
              "       people_fully_vaccinated_per_hundred  daily_vaccinations_per_million  \\\n",
              "10510                                72.87                          2519.0   \n",
              "10509                                72.78                          2462.0   \n",
              "\n",
              "                                                vaccines  \\\n",
              "10510  Johnson&Johnson, Oxford/AstraZeneca, Pfizer/Bi...   \n",
              "10509  Johnson&Johnson, Oxford/AstraZeneca, Pfizer/Bi...   \n",
              "\n",
              "                                           source_name  \\\n",
              "10510  State governments via coronavirusbra1.github.io   \n",
              "10509  State governments via coronavirusbra1.github.io   \n",
              "\n",
              "                          source_website  \n",
              "10510  https://coronavirusbra1.github.io  \n",
              "10509  https://coronavirusbra1.github.io  "
            ]
          },
          "execution_count": 10,
          "metadata": {},
          "output_type": "execute_result"
        }
      ],
      "source": [
        "# Verificando dados referente ao Brasil por dia.\n",
        "dataframe.query('country == \"Brazil\" ').sort_values('date', ascending = False)[:2]"
      ]
    },
    {
      "cell_type": "code",
      "execution_count": null,
      "id": "13dcd1c7",
      "metadata": {
        "id": "13dcd1c7",
        "outputId": "0c730365-4098-43f0-969e-a617bd333f62"
      },
      "outputs": [
        {
          "data": {
            "text/plain": [
              "223"
            ]
          },
          "execution_count": 11,
          "metadata": {},
          "output_type": "execute_result"
        }
      ],
      "source": [
        "# verificando o número de países distintos na base\n",
        "dataframe['country'].nunique()"
      ]
    },
    {
      "cell_type": "markdown",
      "id": "86d98eb1",
      "metadata": {
        "id": "86d98eb1"
      },
      "source": [
        "# 1. Qual o país com maior número de pessoas imunizadas?\n",
        "Para que a análise seja realizada de forma correta é necessário analisar profundamente os dados. Nessa etapa, precisamos fazer vários testes afim de conhecer melhor os dados. Perceba que o dataset traz informações por data de coleta. Dessa forma, temos que filtrar o último registro baseado na data.\n",
        "\n",
        "Será que essa análise é correta?\n",
        "\n",
        "Vamos analisar!"
      ]
    },
    {
      "cell_type": "code",
      "execution_count": null,
      "id": "c42804ae",
      "metadata": {
        "id": "c42804ae",
        "outputId": "49e5fa0b-bce3-4024-ec24-7744d837f14f"
      },
      "outputs": [
        {
          "data": {
            "text/plain": [
              "'2022-03-07'"
            ]
          },
          "execution_count": 12,
          "metadata": {},
          "output_type": "execute_result"
        }
      ],
      "source": [
        "# identificando a data mais recente da coleta\n",
        "ultima_data = dataframe['date'].max()\n",
        "ultima_data"
      ]
    },
    {
      "cell_type": "code",
      "execution_count": null,
      "id": "71d1abb2",
      "metadata": {
        "id": "71d1abb2"
      },
      "outputs": [],
      "source": [
        "# filtrando a ultima data\n",
        "ultima_data = dataframe[dataframe.date == ultima_data]"
      ]
    },
    {
      "cell_type": "code",
      "execution_count": null,
      "id": "b627b32b",
      "metadata": {
        "id": "b627b32b",
        "outputId": "5ec87cf4-aa78-4eef-f2de-38d3401db9b3"
      },
      "outputs": [
        {
          "data": {
            "text/plain": [
              "(62, 15)"
            ]
          },
          "execution_count": 14,
          "metadata": {},
          "output_type": "execute_result"
        }
      ],
      "source": [
        "# o comando shape mostra a quantidade de linhas e colunas de um dataset\n",
        "ultima_data.shape"
      ]
    },
    {
      "cell_type": "markdown",
      "id": "41c5158a",
      "metadata": {
        "id": "41c5158a"
      },
      "source": [
        "# Atenção\n",
        "Perceba que o dataset filtrado pela última data retornou(62,15) ou seja 62 linhas e 15 colunas. Isso não esta certo! Pois verificamos que temos 223 países no dataset original."
      ]
    },
    {
      "cell_type": "code",
      "execution_count": null,
      "id": "1e1c5839",
      "metadata": {
        "id": "1e1c5839",
        "outputId": "13b82d5a-493b-4449-fee5-e0eb40a21c45"
      },
      "outputs": [
        {
          "data": {
            "text/plain": [
              "country\n",
              "Lebanon                            2022-03-07\n",
              "Indonesia                          2022-03-07\n",
              "Laos                               2022-03-07\n",
              "Kyrgyzstan                         2022-03-07\n",
              "Kosovo                             2022-03-07\n",
              "                                      ...    \n",
              "Pitcairn                           2021-09-07\n",
              "Bonaire Sint Eustatius and Saba    2021-09-01\n",
              "Turkmenistan                       2021-08-29\n",
              "Saint Helena                       2021-05-05\n",
              "Falkland Islands                   2021-04-14\n",
              "Name: date, Length: 223, dtype: object"
            ]
          },
          "execution_count": 16,
          "metadata": {},
          "output_type": "execute_result"
        }
      ],
      "source": [
        "dataframe.groupby('country')['date'].max().sort_values(ascending=False)"
      ]
    },
    {
      "cell_type": "code",
      "execution_count": null,
      "id": "7d26f097",
      "metadata": {
        "id": "7d26f097",
        "outputId": "d3e1a84f-1308-4144-b31b-a361707050f7"
      },
      "outputs": [
        {
          "data": {
            "text/plain": [
              "country\n",
              "China               3.165486e+09\n",
              "India               1.789317e+09\n",
              "United States       5.553323e+08\n",
              "Brazil              3.965373e+08\n",
              "Indonesia           3.536987e+08\n",
              "                        ...     \n",
              "Falkland Islands    4.407000e+03\n",
              "Montserrat          4.089000e+03\n",
              "Niue                2.628000e+03\n",
              "Tokelau             1.936000e+03\n",
              "Pitcairn            9.400000e+01\n",
              "Name: total_vaccinations, Length: 223, dtype: float64"
            ]
          },
          "execution_count": 17,
          "metadata": {},
          "output_type": "execute_result"
        }
      ],
      "source": [
        "dataframe.groupby('country')['total_vaccinations'].max().sort_values(ascending=False)"
      ]
    },
    {
      "cell_type": "code",
      "execution_count": null,
      "id": "2e471b8b",
      "metadata": {
        "id": "2e471b8b",
        "outputId": "aeeb252b-0240-4a6c-8848-d24259c9e059"
      },
      "outputs": [
        {
          "data": {
            "text/plain": [
              "country\n",
              "China               3.165486e+09\n",
              "India               1.789317e+09\n",
              "United States       5.553323e+08\n",
              "Brazil              3.965373e+08\n",
              "Indonesia           3.536987e+08\n",
              "                        ...     \n",
              "Falkland Islands    4.407000e+03\n",
              "Montserrat          4.089000e+03\n",
              "Niue                2.628000e+03\n",
              "Tokelau             1.936000e+03\n",
              "Pitcairn            9.400000e+01\n",
              "Name: total_vaccinations, Length: 223, dtype: float64"
            ]
          },
          "execution_count": 18,
          "metadata": {},
          "output_type": "execute_result"
        }
      ],
      "source": [
        "imunizados_por_pais = dataframe.groupby('country')['total_vaccinations'].max().sort_values(ascending=False)\n",
        "imunizados_por_pais"
      ]
    },
    {
      "cell_type": "code",
      "execution_count": null,
      "id": "b5fe7849",
      "metadata": {
        "id": "b5fe7849",
        "outputId": "79a60ca4-1d68-4643-a3d8-a539d5dfc998"
      },
      "outputs": [
        {
          "data": {
            "text/plain": [
              "pandas.core.series.Series"
            ]
          },
          "execution_count": 19,
          "metadata": {},
          "output_type": "execute_result"
        }
      ],
      "source": [
        "type(imunizados_por_pais)"
      ]
    },
    {
      "cell_type": "code",
      "execution_count": null,
      "id": "e5024ae8",
      "metadata": {
        "id": "e5024ae8",
        "outputId": "ea2f380e-591e-4d39-be87-884dcdeb0234"
      },
      "outputs": [
        {
          "data": {
            "text/html": [
              "<div>\n",
              "<style scoped>\n",
              "    .dataframe tbody tr th:only-of-type {\n",
              "        vertical-align: middle;\n",
              "    }\n",
              "\n",
              "    .dataframe tbody tr th {\n",
              "        vertical-align: top;\n",
              "    }\n",
              "\n",
              "    .dataframe thead th {\n",
              "        text-align: right;\n",
              "    }\n",
              "</style>\n",
              "<table border=\"1\" class=\"dataframe\">\n",
              "  <thead>\n",
              "    <tr style=\"text-align: right;\">\n",
              "      <th></th>\n",
              "      <th>country</th>\n",
              "      <th>total_vaccinations</th>\n",
              "    </tr>\n",
              "  </thead>\n",
              "  <tbody>\n",
              "    <tr>\n",
              "      <th>0</th>\n",
              "      <td>China</td>\n",
              "      <td>3.165486e+09</td>\n",
              "    </tr>\n",
              "    <tr>\n",
              "      <th>1</th>\n",
              "      <td>India</td>\n",
              "      <td>1.789317e+09</td>\n",
              "    </tr>\n",
              "    <tr>\n",
              "      <th>2</th>\n",
              "      <td>United States</td>\n",
              "      <td>5.553323e+08</td>\n",
              "    </tr>\n",
              "    <tr>\n",
              "      <th>3</th>\n",
              "      <td>Brazil</td>\n",
              "      <td>3.965373e+08</td>\n",
              "    </tr>\n",
              "    <tr>\n",
              "      <th>4</th>\n",
              "      <td>Indonesia</td>\n",
              "      <td>3.536987e+08</td>\n",
              "    </tr>\n",
              "    <tr>\n",
              "      <th>...</th>\n",
              "      <td>...</td>\n",
              "      <td>...</td>\n",
              "    </tr>\n",
              "    <tr>\n",
              "      <th>218</th>\n",
              "      <td>Falkland Islands</td>\n",
              "      <td>4.407000e+03</td>\n",
              "    </tr>\n",
              "    <tr>\n",
              "      <th>219</th>\n",
              "      <td>Montserrat</td>\n",
              "      <td>4.089000e+03</td>\n",
              "    </tr>\n",
              "    <tr>\n",
              "      <th>220</th>\n",
              "      <td>Niue</td>\n",
              "      <td>2.628000e+03</td>\n",
              "    </tr>\n",
              "    <tr>\n",
              "      <th>221</th>\n",
              "      <td>Tokelau</td>\n",
              "      <td>1.936000e+03</td>\n",
              "    </tr>\n",
              "    <tr>\n",
              "      <th>222</th>\n",
              "      <td>Pitcairn</td>\n",
              "      <td>9.400000e+01</td>\n",
              "    </tr>\n",
              "  </tbody>\n",
              "</table>\n",
              "<p>223 rows × 2 columns</p>\n",
              "</div>"
            ],
            "text/plain": [
              "              country  total_vaccinations\n",
              "0               China        3.165486e+09\n",
              "1               India        1.789317e+09\n",
              "2       United States        5.553323e+08\n",
              "3              Brazil        3.965373e+08\n",
              "4           Indonesia        3.536987e+08\n",
              "..                ...                 ...\n",
              "218  Falkland Islands        4.407000e+03\n",
              "219        Montserrat        4.089000e+03\n",
              "220              Niue        2.628000e+03\n",
              "221           Tokelau        1.936000e+03\n",
              "222          Pitcairn        9.400000e+01\n",
              "\n",
              "[223 rows x 2 columns]"
            ]
          },
          "execution_count": 20,
          "metadata": {},
          "output_type": "execute_result"
        }
      ],
      "source": [
        "imunizados = imunizados_por_pais.to_frame().reset_index()\n",
        "imunizados"
      ]
    },
    {
      "cell_type": "code",
      "execution_count": null,
      "id": "db8f07a6",
      "metadata": {
        "id": "db8f07a6",
        "outputId": "57e330e1-0acc-4817-a785-7269a0cea684"
      },
      "outputs": [
        {
          "data": {
            "text/html": [
              "<div>\n",
              "<style scoped>\n",
              "    .dataframe tbody tr th:only-of-type {\n",
              "        vertical-align: middle;\n",
              "    }\n",
              "\n",
              "    .dataframe tbody tr th {\n",
              "        vertical-align: top;\n",
              "    }\n",
              "\n",
              "    .dataframe thead th {\n",
              "        text-align: right;\n",
              "    }\n",
              "</style>\n",
              "<table border=\"1\" class=\"dataframe\">\n",
              "  <thead>\n",
              "    <tr style=\"text-align: right;\">\n",
              "      <th></th>\n",
              "      <th>country</th>\n",
              "      <th>total_vaccinations</th>\n",
              "    </tr>\n",
              "  </thead>\n",
              "  <tbody>\n",
              "    <tr>\n",
              "      <th>0</th>\n",
              "      <td>China</td>\n",
              "      <td>3.165486e+09</td>\n",
              "    </tr>\n",
              "    <tr>\n",
              "      <th>1</th>\n",
              "      <td>India</td>\n",
              "      <td>1.789317e+09</td>\n",
              "    </tr>\n",
              "    <tr>\n",
              "      <th>2</th>\n",
              "      <td>United States</td>\n",
              "      <td>5.553323e+08</td>\n",
              "    </tr>\n",
              "    <tr>\n",
              "      <th>3</th>\n",
              "      <td>Brazil</td>\n",
              "      <td>3.965373e+08</td>\n",
              "    </tr>\n",
              "    <tr>\n",
              "      <th>4</th>\n",
              "      <td>Indonesia</td>\n",
              "      <td>3.536987e+08</td>\n",
              "    </tr>\n",
              "    <tr>\n",
              "      <th>5</th>\n",
              "      <td>Japan</td>\n",
              "      <td>2.349256e+08</td>\n",
              "    </tr>\n",
              "    <tr>\n",
              "      <th>6</th>\n",
              "      <td>Pakistan</td>\n",
              "      <td>2.174446e+08</td>\n",
              "    </tr>\n",
              "    <tr>\n",
              "      <th>7</th>\n",
              "      <td>Bangladesh</td>\n",
              "      <td>2.172666e+08</td>\n",
              "    </tr>\n",
              "    <tr>\n",
              "      <th>8</th>\n",
              "      <td>Vietnam</td>\n",
              "      <td>1.979104e+08</td>\n",
              "    </tr>\n",
              "    <tr>\n",
              "      <th>9</th>\n",
              "      <td>Mexico</td>\n",
              "      <td>1.835098e+08</td>\n",
              "    </tr>\n",
              "  </tbody>\n",
              "</table>\n",
              "</div>"
            ],
            "text/plain": [
              "         country  total_vaccinations\n",
              "0          China        3.165486e+09\n",
              "1          India        1.789317e+09\n",
              "2  United States        5.553323e+08\n",
              "3         Brazil        3.965373e+08\n",
              "4      Indonesia        3.536987e+08\n",
              "5          Japan        2.349256e+08\n",
              "6       Pakistan        2.174446e+08\n",
              "7     Bangladesh        2.172666e+08\n",
              "8        Vietnam        1.979104e+08\n",
              "9         Mexico        1.835098e+08"
            ]
          },
          "execution_count": 21,
          "metadata": {},
          "output_type": "execute_result"
        }
      ],
      "source": [
        "imunizados.sort_values('total_vaccinations', ascending=False).head(10)"
      ]
    },
    {
      "cell_type": "markdown",
      "id": "acdc4322",
      "metadata": {
        "id": "acdc4322"
      },
      "source": [
        "# 2. Qual vacina é a mais utilizada no mundo?"
      ]
    },
    {
      "cell_type": "code",
      "execution_count": null,
      "id": "b06a88af",
      "metadata": {
        "id": "b06a88af",
        "outputId": "267d6c4c-92ba-4eba-d02b-7e5264b430b8"
      },
      "outputs": [
        {
          "data": {
            "text/html": [
              "<div>\n",
              "<style scoped>\n",
              "    .dataframe tbody tr th:only-of-type {\n",
              "        vertical-align: middle;\n",
              "    }\n",
              "\n",
              "    .dataframe tbody tr th {\n",
              "        vertical-align: top;\n",
              "    }\n",
              "\n",
              "    .dataframe thead th {\n",
              "        text-align: right;\n",
              "    }\n",
              "</style>\n",
              "<table border=\"1\" class=\"dataframe\">\n",
              "  <thead>\n",
              "    <tr style=\"text-align: right;\">\n",
              "      <th></th>\n",
              "      <th>country</th>\n",
              "      <th>date</th>\n",
              "      <th>vaccines</th>\n",
              "    </tr>\n",
              "  </thead>\n",
              "  <tbody>\n",
              "    <tr>\n",
              "      <th>0</th>\n",
              "      <td>Afghanistan</td>\n",
              "      <td>2021-02-22</td>\n",
              "      <td>Johnson&amp;Johnson, Oxford/AstraZeneca, Pfizer/Bi...</td>\n",
              "    </tr>\n",
              "    <tr>\n",
              "      <th>1</th>\n",
              "      <td>Afghanistan</td>\n",
              "      <td>2021-02-23</td>\n",
              "      <td>Johnson&amp;Johnson, Oxford/AstraZeneca, Pfizer/Bi...</td>\n",
              "    </tr>\n",
              "    <tr>\n",
              "      <th>2</th>\n",
              "      <td>Afghanistan</td>\n",
              "      <td>2021-02-24</td>\n",
              "      <td>Johnson&amp;Johnson, Oxford/AstraZeneca, Pfizer/Bi...</td>\n",
              "    </tr>\n",
              "    <tr>\n",
              "      <th>3</th>\n",
              "      <td>Afghanistan</td>\n",
              "      <td>2021-02-25</td>\n",
              "      <td>Johnson&amp;Johnson, Oxford/AstraZeneca, Pfizer/Bi...</td>\n",
              "    </tr>\n",
              "    <tr>\n",
              "      <th>4</th>\n",
              "      <td>Afghanistan</td>\n",
              "      <td>2021-02-26</td>\n",
              "      <td>Johnson&amp;Johnson, Oxford/AstraZeneca, Pfizer/Bi...</td>\n",
              "    </tr>\n",
              "    <tr>\n",
              "      <th>...</th>\n",
              "      <td>...</td>\n",
              "      <td>...</td>\n",
              "      <td>...</td>\n",
              "    </tr>\n",
              "    <tr>\n",
              "      <th>81971</th>\n",
              "      <td>Zimbabwe</td>\n",
              "      <td>2022-03-03</td>\n",
              "      <td>Oxford/AstraZeneca, Sinopharm/Beijing, Sinovac...</td>\n",
              "    </tr>\n",
              "    <tr>\n",
              "      <th>81972</th>\n",
              "      <td>Zimbabwe</td>\n",
              "      <td>2022-03-04</td>\n",
              "      <td>Oxford/AstraZeneca, Sinopharm/Beijing, Sinovac...</td>\n",
              "    </tr>\n",
              "    <tr>\n",
              "      <th>81973</th>\n",
              "      <td>Zimbabwe</td>\n",
              "      <td>2022-03-05</td>\n",
              "      <td>Oxford/AstraZeneca, Sinopharm/Beijing, Sinovac...</td>\n",
              "    </tr>\n",
              "    <tr>\n",
              "      <th>81974</th>\n",
              "      <td>Zimbabwe</td>\n",
              "      <td>2022-03-06</td>\n",
              "      <td>Oxford/AstraZeneca, Sinopharm/Beijing, Sinovac...</td>\n",
              "    </tr>\n",
              "    <tr>\n",
              "      <th>81975</th>\n",
              "      <td>Zimbabwe</td>\n",
              "      <td>2022-03-07</td>\n",
              "      <td>Oxford/AstraZeneca, Sinopharm/Beijing, Sinovac...</td>\n",
              "    </tr>\n",
              "  </tbody>\n",
              "</table>\n",
              "<p>81976 rows × 3 columns</p>\n",
              "</div>"
            ],
            "text/plain": [
              "           country        date  \\\n",
              "0      Afghanistan  2021-02-22   \n",
              "1      Afghanistan  2021-02-23   \n",
              "2      Afghanistan  2021-02-24   \n",
              "3      Afghanistan  2021-02-25   \n",
              "4      Afghanistan  2021-02-26   \n",
              "...            ...         ...   \n",
              "81971     Zimbabwe  2022-03-03   \n",
              "81972     Zimbabwe  2022-03-04   \n",
              "81973     Zimbabwe  2022-03-05   \n",
              "81974     Zimbabwe  2022-03-06   \n",
              "81975     Zimbabwe  2022-03-07   \n",
              "\n",
              "                                                vaccines  \n",
              "0      Johnson&Johnson, Oxford/AstraZeneca, Pfizer/Bi...  \n",
              "1      Johnson&Johnson, Oxford/AstraZeneca, Pfizer/Bi...  \n",
              "2      Johnson&Johnson, Oxford/AstraZeneca, Pfizer/Bi...  \n",
              "3      Johnson&Johnson, Oxford/AstraZeneca, Pfizer/Bi...  \n",
              "4      Johnson&Johnson, Oxford/AstraZeneca, Pfizer/Bi...  \n",
              "...                                                  ...  \n",
              "81971  Oxford/AstraZeneca, Sinopharm/Beijing, Sinovac...  \n",
              "81972  Oxford/AstraZeneca, Sinopharm/Beijing, Sinovac...  \n",
              "81973  Oxford/AstraZeneca, Sinopharm/Beijing, Sinovac...  \n",
              "81974  Oxford/AstraZeneca, Sinopharm/Beijing, Sinovac...  \n",
              "81975  Oxford/AstraZeneca, Sinopharm/Beijing, Sinovac...  \n",
              "\n",
              "[81976 rows x 3 columns]"
            ]
          },
          "execution_count": 23,
          "metadata": {},
          "output_type": "execute_result"
        }
      ],
      "source": [
        "vacina_por_pais = dataframe[['country', 'date', 'vaccines']]\n",
        "vacina_por_pais"
      ]
    },
    {
      "cell_type": "markdown",
      "id": "70289973",
      "metadata": {
        "id": "70289973"
      },
      "source": [
        "Ótimo! Agora vamos agrupar as vacinas e contar o país apenas uma vez. Se no dataset tiver um país utilizando duas vacinas, ele vai ser contado duas vezes"
      ]
    },
    {
      "cell_type": "code",
      "execution_count": null,
      "id": "56e9a356",
      "metadata": {
        "scrolled": false,
        "id": "56e9a356",
        "outputId": "d7cbbf45-e547-4d58-c1b0-eb5f88a91935"
      },
      "outputs": [
        {
          "data": {
            "text/plain": [
              "vaccines\n",
              "Oxford/AstraZeneca                                                                         20\n",
              "Johnson&Johnson, Moderna, Oxford/AstraZeneca, Pfizer/BioNTech                              18\n",
              "Moderna, Oxford/AstraZeneca, Pfizer/BioNTech                                               16\n",
              "Oxford/AstraZeneca, Pfizer/BioNTech                                                        11\n",
              "Moderna, Pfizer/BioNTech                                                                    8\n",
              "                                                                                           ..\n",
              "Johnson&Johnson, Pfizer/BioNTech, Sinopharm/Beijing                                         1\n",
              "Medigen, Moderna, Oxford/AstraZeneca, Pfizer/BioNTech                                       1\n",
              "Moderna, Oxford/AstraZeneca, Pfizer/BioNTech, Sinopharm/Beijing, Sputnik V                  1\n",
              "Moderna, Oxford/AstraZeneca, Pfizer/BioNTech, Sinovac, Sputnik Light, Sputnik V, ZF2001     1\n",
              "Sputnik V                                                                                   1\n",
              "Name: country, Length: 80, dtype: int64"
            ]
          },
          "execution_count": 24,
          "metadata": {},
          "output_type": "execute_result"
        }
      ],
      "source": [
        "vacina_por_pais.groupby('vaccines')['country'].nunique().sort_values(ascending=False)"
      ]
    },
    {
      "cell_type": "code",
      "execution_count": null,
      "id": "1b5da7ab",
      "metadata": {
        "id": "1b5da7ab"
      },
      "outputs": [],
      "source": [
        "vacinas_pais = dataframe.groupby('country')['vaccines'].unique()\n",
        "vacinas_pais = vacinas_pais.to_frame().reset_index()"
      ]
    },
    {
      "cell_type": "markdown",
      "id": "6fda4bff",
      "metadata": {
        "id": "6fda4bff"
      },
      "source": [
        "Temos a relação entre as vacinas mais utilizadas no mundo. Percebam que a vacina Pfizer/BioNTech contém 26 paises fazendo o seu uso."
      ]
    },
    {
      "cell_type": "markdown",
      "id": "873afa10",
      "metadata": {
        "id": "873afa10"
      },
      "source": [
        "# 3. Qual o país possui o maior número de vacinados por dia?"
      ]
    },
    {
      "cell_type": "markdown",
      "id": "44d89021",
      "metadata": {
        "id": "44d89021"
      },
      "source": [
        "Para obter essa resposta temos que analisar a variável daily_vaccinations"
      ]
    },
    {
      "cell_type": "code",
      "execution_count": null,
      "id": "4a2e276f",
      "metadata": {
        "id": "4a2e276f",
        "outputId": "a0c9344e-a2e0-42d2-dfc7-319658c6b871"
      },
      "outputs": [
        {
          "data": {
            "text/plain": [
              "country\n",
              "China            22424286.0\n",
              "India            10037995.0\n",
              "Bangladesh        3758404.0\n",
              "United States     3503102.0\n",
              "Pakistan          2175773.0\n",
              "                    ...    \n",
              "Saint Helena          165.0\n",
              "Niue                   87.0\n",
              "Montserrat             53.0\n",
              "Tokelau                23.0\n",
              "Pitcairn                1.0\n",
              "Name: daily_vaccinations, Length: 223, dtype: float64"
            ]
          },
          "execution_count": 27,
          "metadata": {},
          "output_type": "execute_result"
        }
      ],
      "source": [
        "dataframe.groupby('country')['daily_vaccinations'].max().sort_values(ascending=False)"
      ]
    },
    {
      "cell_type": "markdown",
      "id": "93c3d42f",
      "metadata": {
        "id": "93c3d42f"
      },
      "source": [
        "# 4. Qual a média de vacinação por país?"
      ]
    },
    {
      "cell_type": "code",
      "execution_count": null,
      "id": "ac2071a7",
      "metadata": {
        "id": "ac2071a7",
        "outputId": "b21f7d51-cd06-4838-e0c7-1eaec18265aa"
      },
      "outputs": [
        {
          "data": {
            "text/html": [
              "<div>\n",
              "<style scoped>\n",
              "    .dataframe tbody tr th:only-of-type {\n",
              "        vertical-align: middle;\n",
              "    }\n",
              "\n",
              "    .dataframe tbody tr th {\n",
              "        vertical-align: top;\n",
              "    }\n",
              "\n",
              "    .dataframe thead th {\n",
              "        text-align: right;\n",
              "    }\n",
              "</style>\n",
              "<table border=\"1\" class=\"dataframe\">\n",
              "  <thead>\n",
              "    <tr style=\"text-align: right;\">\n",
              "      <th></th>\n",
              "      <th>country</th>\n",
              "      <th>daily_vaccinations</th>\n",
              "    </tr>\n",
              "  </thead>\n",
              "  <tbody>\n",
              "    <tr>\n",
              "      <th>0</th>\n",
              "      <td>China</td>\n",
              "      <td>7.047940e+06</td>\n",
              "    </tr>\n",
              "    <tr>\n",
              "      <th>1</th>\n",
              "      <td>India</td>\n",
              "      <td>4.288387e+06</td>\n",
              "    </tr>\n",
              "    <tr>\n",
              "      <th>2</th>\n",
              "      <td>United States</td>\n",
              "      <td>1.236654e+06</td>\n",
              "    </tr>\n",
              "    <tr>\n",
              "      <th>3</th>\n",
              "      <td>Brazil</td>\n",
              "      <td>9.536354e+05</td>\n",
              "    </tr>\n",
              "    <tr>\n",
              "      <th>4</th>\n",
              "      <td>Indonesia</td>\n",
              "      <td>8.356795e+05</td>\n",
              "    </tr>\n",
              "    <tr>\n",
              "      <th>...</th>\n",
              "      <td>...</td>\n",
              "      <td>...</td>\n",
              "    </tr>\n",
              "    <tr>\n",
              "      <th>218</th>\n",
              "      <td>Wallis and Futuna</td>\n",
              "      <td>3.606433e+01</td>\n",
              "    </tr>\n",
              "    <tr>\n",
              "      <th>219</th>\n",
              "      <td>Niue</td>\n",
              "      <td>1.816026e+01</td>\n",
              "    </tr>\n",
              "    <tr>\n",
              "      <th>220</th>\n",
              "      <td>Tokelau</td>\n",
              "      <td>1.739823e+01</td>\n",
              "    </tr>\n",
              "    <tr>\n",
              "      <th>221</th>\n",
              "      <td>Montserrat</td>\n",
              "      <td>1.099215e+01</td>\n",
              "    </tr>\n",
              "    <tr>\n",
              "      <th>222</th>\n",
              "      <td>Pitcairn</td>\n",
              "      <td>5.119048e-01</td>\n",
              "    </tr>\n",
              "  </tbody>\n",
              "</table>\n",
              "<p>223 rows × 2 columns</p>\n",
              "</div>"
            ],
            "text/plain": [
              "               country  daily_vaccinations\n",
              "0                China        7.047940e+06\n",
              "1                India        4.288387e+06\n",
              "2        United States        1.236654e+06\n",
              "3               Brazil        9.536354e+05\n",
              "4            Indonesia        8.356795e+05\n",
              "..                 ...                 ...\n",
              "218  Wallis and Futuna        3.606433e+01\n",
              "219               Niue        1.816026e+01\n",
              "220            Tokelau        1.739823e+01\n",
              "221         Montserrat        1.099215e+01\n",
              "222           Pitcairn        5.119048e-01\n",
              "\n",
              "[223 rows x 2 columns]"
            ]
          },
          "execution_count": 28,
          "metadata": {},
          "output_type": "execute_result"
        }
      ],
      "source": [
        "media_pais = dataframe.groupby('country')['daily_vaccinations'].mean().sort_values(ascending=False)\n",
        "media_pais = media_pais.to_frame().reset_index()\n",
        "media_pais"
      ]
    },
    {
      "cell_type": "markdown",
      "id": "da7d8400",
      "metadata": {
        "id": "da7d8400"
      },
      "source": [
        "Pronto. Todas as perguntas respondidas\n",
        "\n",
        "Um dos trabalhos de um cientista de dados é extrair, limpar e tratar e gerar novos dados.\n",
        "\n",
        "Geramos alguns dataframes das perguntas que criamos\n",
        "\n",
        "1. Imunizados\n",
        "2. vacinas_por_pais\n",
        "3. media_pais\n",
        "\n",
        "Agora vamos criar uma nova base de dados utilizando os dados que tratamos anteriormente"
      ]
    },
    {
      "cell_type": "code",
      "execution_count": null,
      "id": "4c74f75a",
      "metadata": {
        "id": "4c74f75a"
      },
      "outputs": [],
      "source": [
        "# Renomeando novas colunas das datas\n",
        "# Vamos iniciar alterando o nome de algumas colunas\n",
        "\n",
        "media_pais = media_pais.rename(columns={'country': 'pais', 'daily_vaccinations': 'media_vacinacao'})"
      ]
    },
    {
      "cell_type": "code",
      "execution_count": null,
      "id": "8c7a516c",
      "metadata": {
        "id": "8c7a516c",
        "outputId": "d64cf089-c2cd-4bbd-c874-20616154cff7"
      },
      "outputs": [
        {
          "data": {
            "text/html": [
              "<div>\n",
              "<style scoped>\n",
              "    .dataframe tbody tr th:only-of-type {\n",
              "        vertical-align: middle;\n",
              "    }\n",
              "\n",
              "    .dataframe tbody tr th {\n",
              "        vertical-align: top;\n",
              "    }\n",
              "\n",
              "    .dataframe thead th {\n",
              "        text-align: right;\n",
              "    }\n",
              "</style>\n",
              "<table border=\"1\" class=\"dataframe\">\n",
              "  <thead>\n",
              "    <tr style=\"text-align: right;\">\n",
              "      <th></th>\n",
              "      <th>pais</th>\n",
              "      <th>media_vacinacao</th>\n",
              "    </tr>\n",
              "  </thead>\n",
              "  <tbody>\n",
              "    <tr>\n",
              "      <th>0</th>\n",
              "      <td>China</td>\n",
              "      <td>7.047940e+06</td>\n",
              "    </tr>\n",
              "    <tr>\n",
              "      <th>1</th>\n",
              "      <td>India</td>\n",
              "      <td>4.288387e+06</td>\n",
              "    </tr>\n",
              "    <tr>\n",
              "      <th>2</th>\n",
              "      <td>United States</td>\n",
              "      <td>1.236654e+06</td>\n",
              "    </tr>\n",
              "    <tr>\n",
              "      <th>3</th>\n",
              "      <td>Brazil</td>\n",
              "      <td>9.536354e+05</td>\n",
              "    </tr>\n",
              "    <tr>\n",
              "      <th>4</th>\n",
              "      <td>Indonesia</td>\n",
              "      <td>8.356795e+05</td>\n",
              "    </tr>\n",
              "    <tr>\n",
              "      <th>...</th>\n",
              "      <td>...</td>\n",
              "      <td>...</td>\n",
              "    </tr>\n",
              "    <tr>\n",
              "      <th>218</th>\n",
              "      <td>Wallis and Futuna</td>\n",
              "      <td>3.606433e+01</td>\n",
              "    </tr>\n",
              "    <tr>\n",
              "      <th>219</th>\n",
              "      <td>Niue</td>\n",
              "      <td>1.816026e+01</td>\n",
              "    </tr>\n",
              "    <tr>\n",
              "      <th>220</th>\n",
              "      <td>Tokelau</td>\n",
              "      <td>1.739823e+01</td>\n",
              "    </tr>\n",
              "    <tr>\n",
              "      <th>221</th>\n",
              "      <td>Montserrat</td>\n",
              "      <td>1.099215e+01</td>\n",
              "    </tr>\n",
              "    <tr>\n",
              "      <th>222</th>\n",
              "      <td>Pitcairn</td>\n",
              "      <td>5.119048e-01</td>\n",
              "    </tr>\n",
              "  </tbody>\n",
              "</table>\n",
              "<p>223 rows × 2 columns</p>\n",
              "</div>"
            ],
            "text/plain": [
              "                  pais  media_vacinacao\n",
              "0                China     7.047940e+06\n",
              "1                India     4.288387e+06\n",
              "2        United States     1.236654e+06\n",
              "3               Brazil     9.536354e+05\n",
              "4            Indonesia     8.356795e+05\n",
              "..                 ...              ...\n",
              "218  Wallis and Futuna     3.606433e+01\n",
              "219               Niue     1.816026e+01\n",
              "220            Tokelau     1.739823e+01\n",
              "221         Montserrat     1.099215e+01\n",
              "222           Pitcairn     5.119048e-01\n",
              "\n",
              "[223 rows x 2 columns]"
            ]
          },
          "execution_count": 30,
          "metadata": {},
          "output_type": "execute_result"
        }
      ],
      "source": [
        "media_pais"
      ]
    },
    {
      "cell_type": "code",
      "execution_count": null,
      "id": "953e308f",
      "metadata": {
        "id": "953e308f",
        "outputId": "5a87bd9d-a19c-4975-cc9b-dedc74f4ed7b"
      },
      "outputs": [
        {
          "data": {
            "text/html": [
              "<div>\n",
              "<style scoped>\n",
              "    .dataframe tbody tr th:only-of-type {\n",
              "        vertical-align: middle;\n",
              "    }\n",
              "\n",
              "    .dataframe tbody tr th {\n",
              "        vertical-align: top;\n",
              "    }\n",
              "\n",
              "    .dataframe thead th {\n",
              "        text-align: right;\n",
              "    }\n",
              "</style>\n",
              "<table border=\"1\" class=\"dataframe\">\n",
              "  <thead>\n",
              "    <tr style=\"text-align: right;\">\n",
              "      <th></th>\n",
              "      <th>pais</th>\n",
              "      <th>vacina_utilizada</th>\n",
              "    </tr>\n",
              "  </thead>\n",
              "  <tbody>\n",
              "    <tr>\n",
              "      <th>0</th>\n",
              "      <td>Afghanistan</td>\n",
              "      <td>[Johnson&amp;Johnson, Oxford/AstraZeneca, Pfizer/B...</td>\n",
              "    </tr>\n",
              "    <tr>\n",
              "      <th>1</th>\n",
              "      <td>Albania</td>\n",
              "      <td>[Oxford/AstraZeneca, Pfizer/BioNTech, Sinovac,...</td>\n",
              "    </tr>\n",
              "    <tr>\n",
              "      <th>2</th>\n",
              "      <td>Algeria</td>\n",
              "      <td>[Oxford/AstraZeneca, Sinopharm/Beijing, Sinova...</td>\n",
              "    </tr>\n",
              "    <tr>\n",
              "      <th>3</th>\n",
              "      <td>Andorra</td>\n",
              "      <td>[Moderna, Oxford/AstraZeneca, Pfizer/BioNTech]</td>\n",
              "    </tr>\n",
              "    <tr>\n",
              "      <th>4</th>\n",
              "      <td>Angola</td>\n",
              "      <td>[Oxford/AstraZeneca]</td>\n",
              "    </tr>\n",
              "  </tbody>\n",
              "</table>\n",
              "</div>"
            ],
            "text/plain": [
              "          pais                                   vacina_utilizada\n",
              "0  Afghanistan  [Johnson&Johnson, Oxford/AstraZeneca, Pfizer/B...\n",
              "1      Albania  [Oxford/AstraZeneca, Pfizer/BioNTech, Sinovac,...\n",
              "2      Algeria  [Oxford/AstraZeneca, Sinopharm/Beijing, Sinova...\n",
              "3      Andorra     [Moderna, Oxford/AstraZeneca, Pfizer/BioNTech]\n",
              "4       Angola                               [Oxford/AstraZeneca]"
            ]
          },
          "execution_count": 32,
          "metadata": {},
          "output_type": "execute_result"
        }
      ],
      "source": [
        "vacinas_pais = vacinas_pais.rename(columns={'country': 'pais', 'vaccines': 'vacina_utilizada'})\n",
        "vacinas_pais[:5]"
      ]
    },
    {
      "cell_type": "code",
      "execution_count": null,
      "id": "30f12c46",
      "metadata": {
        "id": "30f12c46",
        "outputId": "c5d8674c-6049-4329-9224-6f0686c76805"
      },
      "outputs": [
        {
          "data": {
            "text/html": [
              "<div>\n",
              "<style scoped>\n",
              "    .dataframe tbody tr th:only-of-type {\n",
              "        vertical-align: middle;\n",
              "    }\n",
              "\n",
              "    .dataframe tbody tr th {\n",
              "        vertical-align: top;\n",
              "    }\n",
              "\n",
              "    .dataframe thead th {\n",
              "        text-align: right;\n",
              "    }\n",
              "</style>\n",
              "<table border=\"1\" class=\"dataframe\">\n",
              "  <thead>\n",
              "    <tr style=\"text-align: right;\">\n",
              "      <th></th>\n",
              "      <th>pais</th>\n",
              "      <th>Imunizados</th>\n",
              "    </tr>\n",
              "  </thead>\n",
              "  <tbody>\n",
              "    <tr>\n",
              "      <th>0</th>\n",
              "      <td>China</td>\n",
              "      <td>3.165486e+09</td>\n",
              "    </tr>\n",
              "    <tr>\n",
              "      <th>1</th>\n",
              "      <td>India</td>\n",
              "      <td>1.789317e+09</td>\n",
              "    </tr>\n",
              "    <tr>\n",
              "      <th>2</th>\n",
              "      <td>United States</td>\n",
              "      <td>5.553323e+08</td>\n",
              "    </tr>\n",
              "    <tr>\n",
              "      <th>3</th>\n",
              "      <td>Brazil</td>\n",
              "      <td>3.965373e+08</td>\n",
              "    </tr>\n",
              "    <tr>\n",
              "      <th>4</th>\n",
              "      <td>Indonesia</td>\n",
              "      <td>3.536987e+08</td>\n",
              "    </tr>\n",
              "  </tbody>\n",
              "</table>\n",
              "</div>"
            ],
            "text/plain": [
              "            pais    Imunizados\n",
              "0          China  3.165486e+09\n",
              "1          India  1.789317e+09\n",
              "2  United States  5.553323e+08\n",
              "3         Brazil  3.965373e+08\n",
              "4      Indonesia  3.536987e+08"
            ]
          },
          "execution_count": 33,
          "metadata": {},
          "output_type": "execute_result"
        }
      ],
      "source": [
        "imunizados = imunizados.rename(columns={'country': 'pais', 'total_vaccinations': 'Imunizados'})\n",
        "imunizados[:5]"
      ]
    },
    {
      "cell_type": "markdown",
      "id": "93f93d0a",
      "metadata": {
        "id": "93f93d0a"
      },
      "source": [
        "# Criando um novo dataset\n",
        "Para criar um novo dataset (conjunto de dados), vamos utilizar a função merge. Essa função vai comparar os campos das tabelas que são chaves iguais, como o nome do país e realizar uma junção entre as tabelas. Assim vamos ter todos os dados tratados em uma única tabela."
      ]
    },
    {
      "cell_type": "code",
      "execution_count": null,
      "id": "2c6a15c6",
      "metadata": {
        "id": "2c6a15c6"
      },
      "outputs": [],
      "source": [
        "dados_tratados = pd.merge(imunizados, media_pais, how = 'inner')"
      ]
    },
    {
      "cell_type": "code",
      "execution_count": null,
      "id": "6521baa2",
      "metadata": {
        "id": "6521baa2",
        "outputId": "c9dac21a-0052-4959-d682-acd2e7c12758"
      },
      "outputs": [
        {
          "data": {
            "text/html": [
              "<div>\n",
              "<style scoped>\n",
              "    .dataframe tbody tr th:only-of-type {\n",
              "        vertical-align: middle;\n",
              "    }\n",
              "\n",
              "    .dataframe tbody tr th {\n",
              "        vertical-align: top;\n",
              "    }\n",
              "\n",
              "    .dataframe thead th {\n",
              "        text-align: right;\n",
              "    }\n",
              "</style>\n",
              "<table border=\"1\" class=\"dataframe\">\n",
              "  <thead>\n",
              "    <tr style=\"text-align: right;\">\n",
              "      <th></th>\n",
              "      <th>pais</th>\n",
              "      <th>Imunizados</th>\n",
              "      <th>media_vacinacao</th>\n",
              "      <th>vacina_utilizada</th>\n",
              "    </tr>\n",
              "  </thead>\n",
              "  <tbody>\n",
              "    <tr>\n",
              "      <th>0</th>\n",
              "      <td>China</td>\n",
              "      <td>3.165486e+09</td>\n",
              "      <td>7.047940e+06</td>\n",
              "      <td>[CanSino, Sinopharm/Beijing, Sinopharm/Wuhan, ...</td>\n",
              "    </tr>\n",
              "    <tr>\n",
              "      <th>1</th>\n",
              "      <td>India</td>\n",
              "      <td>1.789317e+09</td>\n",
              "      <td>4.288387e+06</td>\n",
              "      <td>[Covaxin, Oxford/AstraZeneca, Sputnik V]</td>\n",
              "    </tr>\n",
              "    <tr>\n",
              "      <th>2</th>\n",
              "      <td>United States</td>\n",
              "      <td>5.553323e+08</td>\n",
              "      <td>1.236654e+06</td>\n",
              "      <td>[Johnson&amp;Johnson, Moderna, Pfizer/BioNTech]</td>\n",
              "    </tr>\n",
              "    <tr>\n",
              "      <th>3</th>\n",
              "      <td>Brazil</td>\n",
              "      <td>3.965373e+08</td>\n",
              "      <td>9.536354e+05</td>\n",
              "      <td>[Johnson&amp;Johnson, Oxford/AstraZeneca, Pfizer/B...</td>\n",
              "    </tr>\n",
              "    <tr>\n",
              "      <th>4</th>\n",
              "      <td>Indonesia</td>\n",
              "      <td>3.536987e+08</td>\n",
              "      <td>8.356795e+05</td>\n",
              "      <td>[Johnson&amp;Johnson, Moderna, Novavax, Oxford/Ast...</td>\n",
              "    </tr>\n",
              "    <tr>\n",
              "      <th>...</th>\n",
              "      <td>...</td>\n",
              "      <td>...</td>\n",
              "      <td>...</td>\n",
              "      <td>...</td>\n",
              "    </tr>\n",
              "    <tr>\n",
              "      <th>218</th>\n",
              "      <td>Falkland Islands</td>\n",
              "      <td>4.407000e+03</td>\n",
              "      <td>7.474242e+01</td>\n",
              "      <td>[Oxford/AstraZeneca]</td>\n",
              "    </tr>\n",
              "    <tr>\n",
              "      <th>219</th>\n",
              "      <td>Montserrat</td>\n",
              "      <td>4.089000e+03</td>\n",
              "      <td>1.099215e+01</td>\n",
              "      <td>[Oxford/AstraZeneca]</td>\n",
              "    </tr>\n",
              "    <tr>\n",
              "      <th>220</th>\n",
              "      <td>Niue</td>\n",
              "      <td>2.628000e+03</td>\n",
              "      <td>1.816026e+01</td>\n",
              "      <td>[Pfizer/BioNTech]</td>\n",
              "    </tr>\n",
              "    <tr>\n",
              "      <th>221</th>\n",
              "      <td>Tokelau</td>\n",
              "      <td>1.936000e+03</td>\n",
              "      <td>1.739823e+01</td>\n",
              "      <td>[Pfizer/BioNTech]</td>\n",
              "    </tr>\n",
              "    <tr>\n",
              "      <th>222</th>\n",
              "      <td>Pitcairn</td>\n",
              "      <td>9.400000e+01</td>\n",
              "      <td>5.119048e-01</td>\n",
              "      <td>[Oxford/AstraZeneca]</td>\n",
              "    </tr>\n",
              "  </tbody>\n",
              "</table>\n",
              "<p>223 rows × 4 columns</p>\n",
              "</div>"
            ],
            "text/plain": [
              "                 pais    Imunizados  media_vacinacao  \\\n",
              "0               China  3.165486e+09     7.047940e+06   \n",
              "1               India  1.789317e+09     4.288387e+06   \n",
              "2       United States  5.553323e+08     1.236654e+06   \n",
              "3              Brazil  3.965373e+08     9.536354e+05   \n",
              "4           Indonesia  3.536987e+08     8.356795e+05   \n",
              "..                ...           ...              ...   \n",
              "218  Falkland Islands  4.407000e+03     7.474242e+01   \n",
              "219        Montserrat  4.089000e+03     1.099215e+01   \n",
              "220              Niue  2.628000e+03     1.816026e+01   \n",
              "221           Tokelau  1.936000e+03     1.739823e+01   \n",
              "222          Pitcairn  9.400000e+01     5.119048e-01   \n",
              "\n",
              "                                      vacina_utilizada  \n",
              "0    [CanSino, Sinopharm/Beijing, Sinopharm/Wuhan, ...  \n",
              "1             [Covaxin, Oxford/AstraZeneca, Sputnik V]  \n",
              "2          [Johnson&Johnson, Moderna, Pfizer/BioNTech]  \n",
              "3    [Johnson&Johnson, Oxford/AstraZeneca, Pfizer/B...  \n",
              "4    [Johnson&Johnson, Moderna, Novavax, Oxford/Ast...  \n",
              "..                                                 ...  \n",
              "218                               [Oxford/AstraZeneca]  \n",
              "219                               [Oxford/AstraZeneca]  \n",
              "220                                  [Pfizer/BioNTech]  \n",
              "221                                  [Pfizer/BioNTech]  \n",
              "222                               [Oxford/AstraZeneca]  \n",
              "\n",
              "[223 rows x 4 columns]"
            ]
          },
          "execution_count": 35,
          "metadata": {},
          "output_type": "execute_result"
        }
      ],
      "source": [
        "dados_tratados = pd.merge(dados_tratados, vacinas_pais)\n",
        "dados_tratados"
      ]
    },
    {
      "cell_type": "markdown",
      "id": "dd0a594a",
      "metadata": {
        "id": "dd0a594a"
      },
      "source": [
        "Podemos também realizar de forma direta conforme o script abaixo, veja que temos que fazer cada junção de forma separada. Sempre de dentro para fora."
      ]
    },
    {
      "cell_type": "code",
      "execution_count": null,
      "id": "801daa7d",
      "metadata": {
        "id": "801daa7d",
        "outputId": "567644eb-55a0-4b22-96cb-a4868c959d63"
      },
      "outputs": [
        {
          "data": {
            "text/html": [
              "<div>\n",
              "<style scoped>\n",
              "    .dataframe tbody tr th:only-of-type {\n",
              "        vertical-align: middle;\n",
              "    }\n",
              "\n",
              "    .dataframe tbody tr th {\n",
              "        vertical-align: top;\n",
              "    }\n",
              "\n",
              "    .dataframe thead th {\n",
              "        text-align: right;\n",
              "    }\n",
              "</style>\n",
              "<table border=\"1\" class=\"dataframe\">\n",
              "  <thead>\n",
              "    <tr style=\"text-align: right;\">\n",
              "      <th></th>\n",
              "      <th>pais</th>\n",
              "      <th>Imunizados</th>\n",
              "      <th>media_vacinacao</th>\n",
              "      <th>vacina_utilizada</th>\n",
              "    </tr>\n",
              "  </thead>\n",
              "  <tbody>\n",
              "    <tr>\n",
              "      <th>0</th>\n",
              "      <td>China</td>\n",
              "      <td>3.165486e+09</td>\n",
              "      <td>7.047940e+06</td>\n",
              "      <td>[CanSino, Sinopharm/Beijing, Sinopharm/Wuhan, ...</td>\n",
              "    </tr>\n",
              "    <tr>\n",
              "      <th>1</th>\n",
              "      <td>India</td>\n",
              "      <td>1.789317e+09</td>\n",
              "      <td>4.288387e+06</td>\n",
              "      <td>[Covaxin, Oxford/AstraZeneca, Sputnik V]</td>\n",
              "    </tr>\n",
              "    <tr>\n",
              "      <th>2</th>\n",
              "      <td>United States</td>\n",
              "      <td>5.553323e+08</td>\n",
              "      <td>1.236654e+06</td>\n",
              "      <td>[Johnson&amp;Johnson, Moderna, Pfizer/BioNTech]</td>\n",
              "    </tr>\n",
              "    <tr>\n",
              "      <th>3</th>\n",
              "      <td>Brazil</td>\n",
              "      <td>3.965373e+08</td>\n",
              "      <td>9.536354e+05</td>\n",
              "      <td>[Johnson&amp;Johnson, Oxford/AstraZeneca, Pfizer/B...</td>\n",
              "    </tr>\n",
              "    <tr>\n",
              "      <th>4</th>\n",
              "      <td>Indonesia</td>\n",
              "      <td>3.536987e+08</td>\n",
              "      <td>8.356795e+05</td>\n",
              "      <td>[Johnson&amp;Johnson, Moderna, Novavax, Oxford/Ast...</td>\n",
              "    </tr>\n",
              "    <tr>\n",
              "      <th>...</th>\n",
              "      <td>...</td>\n",
              "      <td>...</td>\n",
              "      <td>...</td>\n",
              "      <td>...</td>\n",
              "    </tr>\n",
              "    <tr>\n",
              "      <th>218</th>\n",
              "      <td>Falkland Islands</td>\n",
              "      <td>4.407000e+03</td>\n",
              "      <td>7.474242e+01</td>\n",
              "      <td>[Oxford/AstraZeneca]</td>\n",
              "    </tr>\n",
              "    <tr>\n",
              "      <th>219</th>\n",
              "      <td>Montserrat</td>\n",
              "      <td>4.089000e+03</td>\n",
              "      <td>1.099215e+01</td>\n",
              "      <td>[Oxford/AstraZeneca]</td>\n",
              "    </tr>\n",
              "    <tr>\n",
              "      <th>220</th>\n",
              "      <td>Niue</td>\n",
              "      <td>2.628000e+03</td>\n",
              "      <td>1.816026e+01</td>\n",
              "      <td>[Pfizer/BioNTech]</td>\n",
              "    </tr>\n",
              "    <tr>\n",
              "      <th>221</th>\n",
              "      <td>Tokelau</td>\n",
              "      <td>1.936000e+03</td>\n",
              "      <td>1.739823e+01</td>\n",
              "      <td>[Pfizer/BioNTech]</td>\n",
              "    </tr>\n",
              "    <tr>\n",
              "      <th>222</th>\n",
              "      <td>Pitcairn</td>\n",
              "      <td>9.400000e+01</td>\n",
              "      <td>5.119048e-01</td>\n",
              "      <td>[Oxford/AstraZeneca]</td>\n",
              "    </tr>\n",
              "  </tbody>\n",
              "</table>\n",
              "<p>223 rows × 4 columns</p>\n",
              "</div>"
            ],
            "text/plain": [
              "                 pais    Imunizados  media_vacinacao  \\\n",
              "0               China  3.165486e+09     7.047940e+06   \n",
              "1               India  1.789317e+09     4.288387e+06   \n",
              "2       United States  5.553323e+08     1.236654e+06   \n",
              "3              Brazil  3.965373e+08     9.536354e+05   \n",
              "4           Indonesia  3.536987e+08     8.356795e+05   \n",
              "..                ...           ...              ...   \n",
              "218  Falkland Islands  4.407000e+03     7.474242e+01   \n",
              "219        Montserrat  4.089000e+03     1.099215e+01   \n",
              "220              Niue  2.628000e+03     1.816026e+01   \n",
              "221           Tokelau  1.936000e+03     1.739823e+01   \n",
              "222          Pitcairn  9.400000e+01     5.119048e-01   \n",
              "\n",
              "                                      vacina_utilizada  \n",
              "0    [CanSino, Sinopharm/Beijing, Sinopharm/Wuhan, ...  \n",
              "1             [Covaxin, Oxford/AstraZeneca, Sputnik V]  \n",
              "2          [Johnson&Johnson, Moderna, Pfizer/BioNTech]  \n",
              "3    [Johnson&Johnson, Oxford/AstraZeneca, Pfizer/B...  \n",
              "4    [Johnson&Johnson, Moderna, Novavax, Oxford/Ast...  \n",
              "..                                                 ...  \n",
              "218                               [Oxford/AstraZeneca]  \n",
              "219                               [Oxford/AstraZeneca]  \n",
              "220                                  [Pfizer/BioNTech]  \n",
              "221                                  [Pfizer/BioNTech]  \n",
              "222                               [Oxford/AstraZeneca]  \n",
              "\n",
              "[223 rows x 4 columns]"
            ]
          },
          "execution_count": 36,
          "metadata": {},
          "output_type": "execute_result"
        }
      ],
      "source": [
        "pd.merge(pd.merge(imunizados, media_pais), vacinas_pais)"
      ]
    },
    {
      "cell_type": "markdown",
      "id": "56792a65",
      "metadata": {
        "id": "56792a65"
      },
      "source": [
        "# Exportando dados tratados\n",
        "Pronto! Agora criamos o nosso dataset vamos exportar ele para um arquivo txt."
      ]
    },
    {
      "cell_type": "code",
      "execution_count": null,
      "id": "ba135f2b",
      "metadata": {
        "id": "ba135f2b"
      },
      "outputs": [],
      "source": [
        "dados_tratados.to_csv('estatistica_pais.csv', index = True, sep = ';')"
      ]
    },
    {
      "cell_type": "code",
      "execution_count": null,
      "id": "2e22bc62",
      "metadata": {
        "id": "2e22bc62"
      },
      "outputs": [],
      "source": [
        "dados_tratados.to_json('estatistica.json', orient = 'records')"
      ]
    },
    {
      "cell_type": "code",
      "execution_count": null,
      "id": "371c8bad",
      "metadata": {
        "id": "371c8bad"
      },
      "outputs": [],
      "source": [
        ""
      ]
    }
  ],
  "metadata": {
    "kernelspec": {
      "display_name": "coleta_dados",
      "language": "python",
      "name": "coleta_dados"
    },
    "language_info": {
      "codemirror_mode": {
        "name": "ipython",
        "version": 3
      },
      "file_extension": ".py",
      "mimetype": "text/x-python",
      "name": "python",
      "nbconvert_exporter": "python",
      "pygments_lexer": "ipython3",
      "version": "3.9.1"
    },
    "colab": {
      "name": "coleta_dados(2).ipynb",
      "provenance": [],
      "include_colab_link": true
    }
  },
  "nbformat": 4,
  "nbformat_minor": 5
}