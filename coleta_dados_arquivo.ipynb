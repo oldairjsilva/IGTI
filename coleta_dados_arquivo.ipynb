{
  "cells": [
    {
      "cell_type": "markdown",
      "metadata": {
        "id": "view-in-github",
        "colab_type": "text"
      },
      "source": [
        "<a href=\"https://colab.research.google.com/github/oldairjsilva/IGTI/blob/main/coleta_dados_arquivo.ipynb\" target=\"_parent\"><img src=\"https://colab.research.google.com/assets/colab-badge.svg\" alt=\"Open In Colab\"/></a>"
      ]
    },
    {
      "cell_type": "markdown",
      "id": "b3ca3710",
      "metadata": {
        "id": "b3ca3710"
      },
      "source": [
        "# Coleta de dados estruturados em lista de arquivos"
      ]
    },
    {
      "cell_type": "code",
      "execution_count": null,
      "id": "f04670e3",
      "metadata": {
        "id": "f04670e3"
      },
      "outputs": [],
      "source": [
        "# Vamos importar as bibliotecas que vamos utilizar para essa prática\n",
        "import pandas as pd\n",
        "import os # bibliotecas para funções do sistema operacional"
      ]
    },
    {
      "cell_type": "code",
      "execution_count": null,
      "id": "7c86307d",
      "metadata": {
        "id": "7c86307d"
      },
      "outputs": [],
      "source": [
        "DIRETORIO = 'C:\\\\Projetos\\\\base_dados\\\\base_trabalho_pratico\\\\'"
      ]
    },
    {
      "cell_type": "code",
      "execution_count": null,
      "id": "0769cb45",
      "metadata": {
        "id": "0769cb45"
      },
      "outputs": [],
      "source": [
        "lista_df = [] # cria uma lista\n",
        "lista_path = os.listdir(DIRETORIO)"
      ]
    },
    {
      "cell_type": "code",
      "execution_count": null,
      "id": "7d54c68b",
      "metadata": {
        "id": "7d54c68b",
        "outputId": "b295d952-b8cc-4814-b3f7-e72b4a9bdb34"
      },
      "outputs": [
        {
          "data": {
            "text/plain": [
              "['2020-01-01.csv',\n",
              " '2020-01-02.csv',\n",
              " '2020-01-03.csv',\n",
              " '2020-01-04.csv',\n",
              " '2020-01-05.csv']"
            ]
          },
          "execution_count": 13,
          "metadata": {},
          "output_type": "execute_result"
        }
      ],
      "source": [
        "lista_path[:5]"
      ]
    },
    {
      "cell_type": "markdown",
      "id": "70f0b7ce",
      "metadata": {
        "id": "70f0b7ce"
      },
      "source": [
        "Ótimo! Agora temos todos os nomes dos arquivos que estão dentro do diretório. Agora vamos abrir cada arquivo e coltar os seus dados"
      ]
    },
    {
      "cell_type": "code",
      "execution_count": null,
      "id": "a3723025",
      "metadata": {
        "id": "a3723025"
      },
      "outputs": [],
      "source": [
        "lista_df = [] # cria uma lista vazia\n",
        "for arquivo in lista_path:\n",
        "    local_arquivo = os.path.join(DIRETORIO, arquivo)\n",
        "    df = pd.read_csv(local_arquivo, sep = '|', encoding = 'latin-1')\n",
        "    lista_df.append(df)\n",
        "df_unificado = pd.concat(lista_df) # Atribui os dados coletados em um dataframe"
      ]
    },
    {
      "cell_type": "code",
      "execution_count": null,
      "id": "711d0669",
      "metadata": {
        "id": "711d0669",
        "outputId": "a4b0fab3-117c-4967-8456-a6ade7b3ef4d"
      },
      "outputs": [
        {
          "data": {
            "text/plain": [
              "pandas.core.frame.DataFrame"
            ]
          },
          "execution_count": 18,
          "metadata": {},
          "output_type": "execute_result"
        }
      ],
      "source": [
        "type(df_unificado)"
      ]
    },
    {
      "cell_type": "code",
      "execution_count": null,
      "id": "97353914",
      "metadata": {
        "id": "97353914",
        "outputId": "338f527e-b57b-49f6-806d-b7bd10d137c0"
      },
      "outputs": [
        {
          "data": {
            "text/html": [
              "<div>\n",
              "<style scoped>\n",
              "    .dataframe tbody tr th:only-of-type {\n",
              "        vertical-align: middle;\n",
              "    }\n",
              "\n",
              "    .dataframe tbody tr th {\n",
              "        vertical-align: top;\n",
              "    }\n",
              "\n",
              "    .dataframe thead th {\n",
              "        text-align: right;\n",
              "    }\n",
              "</style>\n",
              "<table border=\"1\" class=\"dataframe\">\n",
              "  <thead>\n",
              "    <tr style=\"text-align: right;\">\n",
              "      <th></th>\n",
              "      <th>cod_pessoa</th>\n",
              "      <th>data_coleta</th>\n",
              "      <th>genero</th>\n",
              "      <th>data_nascimento</th>\n",
              "      <th>animal_estimacao</th>\n",
              "      <th>clima</th>\n",
              "      <th>bebida_favorita</th>\n",
              "      <th>hobbies</th>\n",
              "    </tr>\n",
              "  </thead>\n",
              "  <tbody>\n",
              "    <tr>\n",
              "      <th>0</th>\n",
              "      <td>10141743</td>\n",
              "      <td>2020-01-01</td>\n",
              "      <td>Masculino</td>\n",
              "      <td>1981-04-25</td>\n",
              "      <td>peixe</td>\n",
              "      <td>frio</td>\n",
              "      <td>Cerveja</td>\n",
              "      <td>Praticar esporte</td>\n",
              "    </tr>\n",
              "    <tr>\n",
              "      <th>1</th>\n",
              "      <td>10141860</td>\n",
              "      <td>2020-01-01</td>\n",
              "      <td>Feminino</td>\n",
              "      <td>1966-01-19</td>\n",
              "      <td>peixe</td>\n",
              "      <td>quente</td>\n",
              "      <td>Café</td>\n",
              "      <td>Assistir TV</td>\n",
              "    </tr>\n",
              "    <tr>\n",
              "      <th>2</th>\n",
              "      <td>10142548</td>\n",
              "      <td>2020-01-01</td>\n",
              "      <td>Masculino</td>\n",
              "      <td>1973-08-02</td>\n",
              "      <td>tartaruga</td>\n",
              "      <td>frio</td>\n",
              "      <td>Café</td>\n",
              "      <td>Ler livros</td>\n",
              "    </tr>\n",
              "    <tr>\n",
              "      <th>3</th>\n",
              "      <td>10142591</td>\n",
              "      <td>2020-01-01</td>\n",
              "      <td>Masculino</td>\n",
              "      <td>1997-03-05</td>\n",
              "      <td>gato</td>\n",
              "      <td>moderado</td>\n",
              "      <td>Cerveja</td>\n",
              "      <td>Aprender algo novo</td>\n",
              "    </tr>\n",
              "    <tr>\n",
              "      <th>4</th>\n",
              "      <td>10142654</td>\n",
              "      <td>2020-01-01</td>\n",
              "      <td>Feminino</td>\n",
              "      <td>1969-08-05</td>\n",
              "      <td>tartaruga</td>\n",
              "      <td>moderado</td>\n",
              "      <td>Café</td>\n",
              "      <td>Assistir TV</td>\n",
              "    </tr>\n",
              "    <tr>\n",
              "      <th>0</th>\n",
              "      <td>10141523</td>\n",
              "      <td>2020-01-02</td>\n",
              "      <td>Feminino</td>\n",
              "      <td>1998-09-24</td>\n",
              "      <td>gato</td>\n",
              "      <td>quente</td>\n",
              "      <td>Cerveja</td>\n",
              "      <td>Aprender algo novo</td>\n",
              "    </tr>\n",
              "    <tr>\n",
              "      <th>1</th>\n",
              "      <td>10141996</td>\n",
              "      <td>2020-01-02</td>\n",
              "      <td>Feminino</td>\n",
              "      <td>1973-03-13</td>\n",
              "      <td>tartaruga</td>\n",
              "      <td>quente</td>\n",
              "      <td>refrigerante</td>\n",
              "      <td>Escrever</td>\n",
              "    </tr>\n",
              "    <tr>\n",
              "      <th>2</th>\n",
              "      <td>10142089</td>\n",
              "      <td>2020-01-02</td>\n",
              "      <td>Feminino</td>\n",
              "      <td>1970-03-23</td>\n",
              "      <td>gato</td>\n",
              "      <td>moderado</td>\n",
              "      <td>Água</td>\n",
              "      <td>Pintar quadros</td>\n",
              "    </tr>\n",
              "    <tr>\n",
              "      <th>3</th>\n",
              "      <td>10142145</td>\n",
              "      <td>2020-01-02</td>\n",
              "      <td>Masculino</td>\n",
              "      <td>1998-08-01</td>\n",
              "      <td>peixe</td>\n",
              "      <td>frio</td>\n",
              "      <td>refrigerante</td>\n",
              "      <td>Escrever</td>\n",
              "    </tr>\n",
              "    <tr>\n",
              "      <th>4</th>\n",
              "      <td>10142520</td>\n",
              "      <td>2020-01-02</td>\n",
              "      <td>Masculino</td>\n",
              "      <td>1994-05-09</td>\n",
              "      <td>peixe</td>\n",
              "      <td>moderado</td>\n",
              "      <td>Café</td>\n",
              "      <td>Praticar esporte</td>\n",
              "    </tr>\n",
              "  </tbody>\n",
              "</table>\n",
              "</div>"
            ],
            "text/plain": [
              "   cod_pessoa data_coleta     genero data_nascimento animal_estimacao  \\\n",
              "0    10141743  2020-01-01  Masculino      1981-04-25            peixe   \n",
              "1    10141860  2020-01-01   Feminino      1966-01-19            peixe   \n",
              "2    10142548  2020-01-01  Masculino      1973-08-02        tartaruga   \n",
              "3    10142591  2020-01-01  Masculino      1997-03-05             gato   \n",
              "4    10142654  2020-01-01   Feminino      1969-08-05        tartaruga   \n",
              "0    10141523  2020-01-02   Feminino      1998-09-24             gato   \n",
              "1    10141996  2020-01-02   Feminino      1973-03-13        tartaruga   \n",
              "2    10142089  2020-01-02   Feminino      1970-03-23             gato   \n",
              "3    10142145  2020-01-02  Masculino      1998-08-01            peixe   \n",
              "4    10142520  2020-01-02  Masculino      1994-05-09            peixe   \n",
              "\n",
              "      clima bebida_favorita             hobbies  \n",
              "0      frio         Cerveja    Praticar esporte  \n",
              "1    quente            Café         Assistir TV  \n",
              "2      frio            Café          Ler livros  \n",
              "3  moderado         Cerveja  Aprender algo novo  \n",
              "4  moderado            Café         Assistir TV  \n",
              "0    quente         Cerveja  Aprender algo novo  \n",
              "1    quente    refrigerante            Escrever  \n",
              "2  moderado            Água      Pintar quadros  \n",
              "3      frio    refrigerante            Escrever  \n",
              "4  moderado            Café    Praticar esporte  "
            ]
          },
          "execution_count": 19,
          "metadata": {},
          "output_type": "execute_result"
        }
      ],
      "source": [
        "df_unificado[:10]"
      ]
    },
    {
      "cell_type": "markdown",
      "id": "380f158c",
      "metadata": {
        "id": "380f158c"
      },
      "source": [
        "# Exportando dados para arquivo\n",
        "Agora que já temos todos os arquivos, vamos exportá-los apenas para um arquivo único"
      ]
    },
    {
      "cell_type": "code",
      "execution_count": null,
      "id": "f0d3987d",
      "metadata": {
        "id": "f0d3987d"
      },
      "outputs": [],
      "source": [
        "df_unificado.to_csv(DIRETORIO + 'df_unificado.csv', sep = ';', encoding = 'latin-1', index = False)"
      ]
    },
    {
      "cell_type": "code",
      "execution_count": null,
      "id": "fb8abc34",
      "metadata": {
        "id": "fb8abc34"
      },
      "outputs": [],
      "source": [
        ""
      ]
    }
  ],
  "metadata": {
    "kernelspec": {
      "display_name": "coleta_dados",
      "language": "python",
      "name": "coleta_dados"
    },
    "language_info": {
      "codemirror_mode": {
        "name": "ipython",
        "version": 3
      },
      "file_extension": ".py",
      "mimetype": "text/x-python",
      "name": "python",
      "nbconvert_exporter": "python",
      "pygments_lexer": "ipython3",
      "version": "3.9.1"
    },
    "colab": {
      "name": "coleta_dados_arquivo.ipynb",
      "provenance": [],
      "include_colab_link": true
    }
  },
  "nbformat": 4,
  "nbformat_minor": 5
}