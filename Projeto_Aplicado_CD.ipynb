{
  "nbformat": 4,
  "nbformat_minor": 0,
  "metadata": {
    "colab": {
      "name": "Projeto Aplicado - CD.ipynb",
      "provenance": [],
      "authorship_tag": "ABX9TyOPbWMiVWxN08/210k6p6EC",
      "include_colab_link": true
    },
    "kernelspec": {
      "name": "python3",
      "display_name": "Python 3"
    },
    "language_info": {
      "name": "python"
    }
  },
  "cells": [
    {
      "cell_type": "markdown",
      "metadata": {
        "id": "view-in-github",
        "colab_type": "text"
      },
      "source": [
        "<a href=\"https://colab.research.google.com/github/oldairjsilva/IGTI/blob/main/Projeto_Aplicado_CD.ipynb\" target=\"_parent\"><img src=\"https://colab.research.google.com/assets/colab-badge.svg\" alt=\"Open In Colab\"/></a>"
      ]
    },
    {
      "cell_type": "markdown",
      "source": [
        "\n",
        "## Projeto Aplicado\n",
        "\n",
        "O projeto aplicado tem como desafio coletar os dados financeiros de empresa listada na Bolsa de Valores e comparar com o Valor Intríseco calculado pela fórmula de Graham. \n",
        "O objetivo seria verificar o histórico da margem de segurança entre a diferença entre a cotação diária e valor intrínseco calculado pela fórmula de Graham.\n",
        "\n",
        "#### Base de dados CVM\n",
        "#### http://dados.cvm.gov.br"
      ],
      "metadata": {
        "id": "1hWquOw3X7zf"
      }
    },
    {
      "cell_type": "markdown",
      "source": [
        "#### Configurações iniciais"
      ],
      "metadata": {
        "id": "E303xl_TYwPG"
      }
    },
    {
      "cell_type": "code",
      "source": [
        "!pip install wget\n"
      ],
      "metadata": {
        "colab": {
          "base_uri": "https://localhost:8080/"
        },
        "id": "c_C1I7bkT_jx",
        "outputId": "c679ca6f-9ac0-47bb-8d32-d6a7ce003a2e"
      },
      "execution_count": null,
      "outputs": [
        {
          "output_type": "stream",
          "name": "stdout",
          "text": [
            "Looking in indexes: https://pypi.org/simple, https://us-python.pkg.dev/colab-wheels/public/simple/\n",
            "Collecting wget\n",
            "  Downloading wget-3.2.zip (10 kB)\n",
            "Building wheels for collected packages: wget\n",
            "  Building wheel for wget (setup.py) ... \u001b[?25l\u001b[?25hdone\n",
            "  Created wheel for wget: filename=wget-3.2-py3-none-any.whl size=9675 sha256=c23823e94181b40b1b4ddd3ee9bf091e2cda281a2bb2bcef84836aca3e3239fe\n",
            "  Stored in directory: /root/.cache/pip/wheels/a1/b6/7c/0e63e34eb06634181c63adacca38b79ff8f35c37e3c13e3c02\n",
            "Successfully built wget\n",
            "Installing collected packages: wget\n",
            "Successfully installed wget-3.2\n"
          ]
        }
      ]
    },
    {
      "cell_type": "code",
      "source": [
        "import pandas as pd\n",
        "import wget\n",
        "from zipfile import ZipFile\n",
        "from google.colab.data_table import DataTable\n",
        "import plotly.graph_objects as go\n",
        "import numpy as np\n",
        "from google.colab import drive\n",
        "import os\n",
        "from os import path"
      ],
      "metadata": {
        "id": "bTouXZc6U8Ju"
      },
      "execution_count": null,
      "outputs": []
    },
    {
      "cell_type": "markdown",
      "source": [
        "#### 1. Coletar dados financeiros das empresas na CVM\n",
        "Acessar dados financeiros de empresas listadas da Bolsa de Valores na CVM e criar arquivos históricos"
      ],
      "metadata": {
        "id": "XjVT7cICYlt4"
      }
    },
    {
      "cell_type": "code",
      "source": [
        "# Montar drive para armazenar arquivos\n",
        "drive.mount('/content/gdrive')"
      ],
      "metadata": {
        "colab": {
          "base_uri": "https://localhost:8080/"
        },
        "id": "uix46Z21ylAa",
        "outputId": "95488ee3-9776-4f9d-c0eb-95ea5f93b467"
      },
      "execution_count": null,
      "outputs": [
        {
          "output_type": "stream",
          "name": "stdout",
          "text": [
            "Drive already mounted at /content/gdrive; to attempt to forcibly remount, call drive.mount(\"/content/gdrive\", force_remount=True).\n"
          ]
        }
      ]
    },
    {
      "cell_type": "code",
      "source": [
        "# Coletar dados financeiros das empresas na CVM\n",
        "# Função para baixar arquivos CVM\n",
        "def baixarArquivosCVM(AnoInicio, AnoFim):\n",
        "  url_base = 'http://dados.cvm.gov.br/dados/CIA_ABERTA/DOC/DFP/DADOS/'\n",
        "  arquivos_zip = []\n",
        "  # Criar pasta DADOS no google drive\n",
        "  if path.exists('/content/gdrive/MyDrive/IGTI/ProjetoAplicado/DADOS') == False:\n",
        "    os.mkdir('/content/gdrive/MyDrive/IGTI/ProjetoAplicado/DADOS')\n",
        "\n",
        "  os.chdir('/content/gdrive/MyDrive/IGTI/ProjetoAplicado/DADOS')\n",
        "\n",
        "  # Cria as descrições dos arquivos pelos anos informados\n",
        "  for ano in range(AnoInicio,AnoFim):\n",
        "    arquivos_zip.append(f'dfp_cia_aberta_{ano}.zip')\n",
        "  arquivos_zip\n",
        "\n",
        "  # 1. Baixar arquivos .zip da CVM considerando os anos de início e fim informados\n",
        "  \n",
        "  # Faz o download dos arquivos da CVM\n",
        "  for arq in arquivos_zip:\n",
        "    wget.download(url_base+arq)\n",
        "\n",
        "  # 2. Descompactar os arquivos na pasta CVM\n",
        "  for arq in arquivos_zip:\n",
        "    ZipFile(arq, 'r').extractall('CVM')\n",
        "\n",
        "  # 3. Unificar os arquivos por seus tipos. Ex. BPP/DRE\n",
        "  \n",
        "  # Cria o diretorio para unificar os dados\n",
        "  if path.exists('/content/gdrive/MyDrive/IGTI/ProjetoAplicado/DADOS/UNIFICADOS') == False:\n",
        "    os.mkdir('/content/gdrive/MyDrive/IGTI/ProjetoAplicado/DADOS/UNIFICADOS')  \n",
        "\n",
        "  nomes = ['BPA_con', 'BPA_ind', 'BPP_con', 'BPP_ind', 'DFC_MD_con', 'DFC_MD_ind', 'DFC_MI_con', 'DFC_MI_ind', 'DMPL_con', 'DMPL_ind', 'DRA_con', 'DRA_ind', 'DRE_con', 'DRE_ind', 'DVA_con', 'DVA_ind']\n",
        "  for nome in nomes:\n",
        "    arquivo = pd.DataFrame()\n",
        "\n",
        "    for ano in range(AnoInicio,AnoFim):\n",
        "      arquivo = pd.concat([arquivo, pd.read_csv(f'CVM/dfp_cia_aberta_{nome}_{ano}.csv', sep=';', decimal=',', encoding='ISO-8859-1')])\n",
        "    arquivo.to_csv(f'UNIFICADOS/dfp_cia_aberta_{nome}_{AnoInicio}-{AnoFim}.csv', index = False)\n"
      ],
      "metadata": {
        "id": "CZfkXpFM1_Iv"
      },
      "execution_count": null,
      "outputs": []
    },
    {
      "cell_type": "code",
      "source": [
        "# Executar a função para baixar arquivos CVM\n",
        "baixarArquivosCVM(2010, 2023) "
      ],
      "metadata": {
        "id": "1JLSMYeK1bHN"
      },
      "execution_count": null,
      "outputs": []
    },
    {
      "cell_type": "markdown",
      "source": [
        "#### 2. Acessar dados financeiros para gerar indicadores fundamentalistas e calcular a fórmula de Graham\n"
      ],
      "metadata": {
        "id": "bhNsV06aezCL"
      }
    },
    {
      "cell_type": "code",
      "source": [
        "# Analisar DRE e BPP para calcular indicadores/fórmula de Graham de empresas selecionadas: BCO BRASIL S.A., ENGIE BRASIL ENERGIA S.A. e WEG S.A.\n",
        "# Função para gerar indicadores fundamentalistas\n",
        "def gerarIndicadoresFundamentalistas(Empresa):\n",
        "  # Acesso os arquivos da CVM - DRE e BPP\n",
        "  dre = pd.read_csv('/content/gdrive/MyDrive/IGTI/ProjetoAplicado/DADOS/UNIFICADOS/dfp_cia_aberta_DRE_con_2010-2023.csv')\n",
        "  bpp = pd.read_csv('/content/gdrive/MyDrive/IGTI/ProjetoAplicado/DADOS/UNIFICADOS/dfp_cia_aberta_BPP_con_2010-2023.csv')\n",
        "\n",
        "  # Seleciona o último exercício informado\n",
        "  dre = dre[dre['ORDEM_EXERC'] == \"ÚLTIMO\"]\n",
        "  bpp = bpp[bpp['ORDEM_EXERC'] == \"ÚLTIMO\"]\n",
        "\n",
        "  # Seleciona a empresa a partir do parametro passado\n",
        "  empresaDRE = dre[dre['DENOM_CIA'].isin([Empresa])]\n",
        "  empresaBPP = bpp[bpp['DENOM_CIA'].isin([Empresa])]\n",
        "\n",
        "  # Seleciona as informações de LPA(lucro por ação), Lucro e Patrimonio Liquido a partir das contas contabeis\n",
        "  contaLPA = empresaDRE[empresaDRE['CD_CONTA'] == '3.99.01.01']\n",
        "  contaLucro = empresaDRE[empresaDRE['DS_CONTA'].isin(['Lucro/Prejuízo Consolidado do Período', 'Lucro ou Prejuízo Líquido Consolidado do Período'])]\n",
        "  contaPatrimonioLiquido = empresaBPP[empresaBPP['DS_CONTA'] == 'Patrimônio Líquido Consolidado']\n",
        "\n",
        "  # Seleciona as informações e renomeia a coluna - LPA\n",
        "  contaLPA = contaLPA[['DT_REFER', 'DENOM_CIA', 'VL_CONTA']]\n",
        "  contaLPA.rename({'VL_CONTA':'LPA'}, axis=1, inplace=True)\n",
        "  contaLPA['LPA'] = round(contaLPA['LPA'],2)\n",
        "\n",
        "  # Seleciona as informações e renomeia a coluna - Lucro\n",
        "  contaLucro = contaLucro[['DT_REFER', 'DENOM_CIA', 'VL_CONTA']]\n",
        "  contaLucro.rename({'VL_CONTA':'LUCRO'}, axis=1, inplace=True)\n",
        "  contaLucro['LUCRO'] = contaLucro['LUCRO']*1000\n",
        "\n",
        "  # Seleciona as informações e renomeia a coluna - Patrimonio Liquido\n",
        "  contaPatrimonioLiquido = contaPatrimonioLiquido[['DT_REFER', 'DENOM_CIA', 'VL_CONTA']]\n",
        "  contaPatrimonioLiquido.rename({'VL_CONTA':'PATRIMONIO_LIQUIDO'}, axis=1, inplace=True)\n",
        "  contaPatrimonioLiquido['PATRIMONIO_LIQUIDO'] = contaPatrimonioLiquido['PATRIMONIO_LIQUIDO']*1000\n",
        "\n",
        "  # Cria um data frame unificado de contaLPA, contaLucro e contaPatrimonioLiquido\n",
        "  contaLPA_contaLucro = pd.merge(contaLPA, contaLucro, on = ['DENOM_CIA', 'DT_REFER']).sort_values('DT_REFER')\n",
        "  contaLPA_contaLucro_contaPatrimonioLiquido = pd.merge(contaLPA_contaLucro, contaPatrimonioLiquido, on = ['DENOM_CIA', 'DT_REFER']).sort_values('DT_REFER')\n",
        "\n",
        "  # Calcula a quantidade de ações a partir do lucro dividido por lucro por ação\n",
        "  contaLPA_contaLucro_contaPatrimonioLiquido['QTDE_ACOES'] = contaLPA_contaLucro_contaPatrimonioLiquido['LUCRO']/contaLPA_contaLucro_contaPatrimonioLiquido['LPA']\n",
        "  contaLPA_contaLucro_contaPatrimonioLiquido['QTDE_ACOES'] = contaLPA_contaLucro_contaPatrimonioLiquido['QTDE_ACOES'].values.astype(np.int64)\n",
        "\n",
        "  # Calcula o VPA(valor patrimonial por ação) dividindo o valor do patrimonio liquido pela quantidade de ações\n",
        "  contaLPA_contaLucro_contaPatrimonioLiquido['VPA'] = round(contaLPA_contaLucro_contaPatrimonioLiquido['PATRIMONIO_LIQUIDO']/contaLPA_contaLucro_contaPatrimonioLiquido['QTDE_ACOES'],2)\n",
        "\n",
        "  # Calcula o valor intrinseco da Formula de Graham\n",
        "  contaLPA_contaLucro_contaPatrimonioLiquido['VI_GRAHAM'] = round(np.sqrt(contaLPA_contaLucro_contaPatrimonioLiquido['VPA'] * contaLPA_contaLucro_contaPatrimonioLiquido['LPA'] * 22.5),2)\n",
        "\n",
        "  # Cria o data frame indicadoresFundamentalistas\n",
        "  indicadoresFundamentalistas = contaLPA_contaLucro_contaPatrimonioLiquido\n",
        "\n",
        "  # Cria o index a partir da DT_REFER\n",
        "  indicadoresFundamentalistas.index = pd.to_datetime(indicadoresFundamentalistas['DT_REFER'])\n",
        "\n",
        "  # Remove a coluna DT_REFER depois de criar o indice\n",
        "  del indicadoresFundamentalistas['DT_REFER']\n",
        "\n",
        "  # Retorna o data frame com as informações tratadas\n",
        "  return indicadoresFundamentalistas"
      ],
      "metadata": {
        "id": "Wr2JgWeDQY-b"
      },
      "execution_count": null,
      "outputs": []
    },
    {
      "cell_type": "code",
      "source": [
        "DataTable(gerarIndicadoresFundamentalistas('WEG S.A.'))"
      ],
      "metadata": {
        "id": "uzRk33Vj0uLG"
      },
      "execution_count": null,
      "outputs": []
    },
    {
      "cell_type": "code",
      "source": [
        "DataTable(gerarIndicadoresFundamentalistas('BCO BRASIL S.A.'))"
      ],
      "metadata": {
        "id": "MjzuMScBQfBR"
      },
      "execution_count": null,
      "outputs": []
    },
    {
      "cell_type": "code",
      "source": [
        "DataTable(gerarIndicadoresFundamentalistas('ENGIE BRASIL ENERGIA S.A.'))"
      ],
      "metadata": {
        "id": "jMC3aJQJ2IjQ"
      },
      "execution_count": null,
      "outputs": []
    },
    {
      "cell_type": "code",
      "source": [
        "#empresas = dre[['DENOM_CIA', 'CD_CVM']].drop_duplicates().set_index('CD_CVM')\n",
        "#DataTable(empresas)"
      ],
      "metadata": {
        "id": "FcKWP_WegFm1"
      },
      "execution_count": null,
      "outputs": []
    },
    {
      "cell_type": "code",
      "source": [
        "#DataTable(empresaDRE[['CD_CONTA', 'DS_CONTA']].drop_duplicates().set_index('CD_CONTA'))\n",
        "#DataTable(empresaBPP[['CD_CONTA', 'DS_CONTA']].drop_duplicates().set_index('CD_CONTA'))"
      ],
      "metadata": {
        "id": "h_7Izw4JiJ7g"
      },
      "execution_count": null,
      "outputs": []
    },
    {
      "cell_type": "markdown",
      "source": [
        "#### 3. Baixar cotações diárias através do Yahoo Finance"
      ],
      "metadata": {
        "id": "qbK26Forjwdg"
      }
    },
    {
      "cell_type": "code",
      "source": [
        "!pip install yfinance"
      ],
      "metadata": {
        "colab": {
          "base_uri": "https://localhost:8080/"
        },
        "id": "xDK9C8yVj1TU",
        "outputId": "54df638f-b5c7-43ea-ac7e-d9c21c317009"
      },
      "execution_count": null,
      "outputs": [
        {
          "output_type": "stream",
          "name": "stdout",
          "text": [
            "Looking in indexes: https://pypi.org/simple, https://us-python.pkg.dev/colab-wheels/public/simple/\n",
            "Requirement already satisfied: yfinance in /usr/local/lib/python3.7/dist-packages (0.1.72)\n",
            "Requirement already satisfied: numpy>=1.15 in /usr/local/lib/python3.7/dist-packages (from yfinance) (1.21.6)\n",
            "Requirement already satisfied: lxml>=4.5.1 in /usr/local/lib/python3.7/dist-packages (from yfinance) (4.9.1)\n",
            "Requirement already satisfied: pandas>=0.24.0 in /usr/local/lib/python3.7/dist-packages (from yfinance) (1.3.5)\n",
            "Requirement already satisfied: multitasking>=0.0.7 in /usr/local/lib/python3.7/dist-packages (from yfinance) (0.0.10)\n",
            "Requirement already satisfied: requests>=2.26 in /usr/local/lib/python3.7/dist-packages (from yfinance) (2.28.1)\n",
            "Requirement already satisfied: pytz>=2017.3 in /usr/local/lib/python3.7/dist-packages (from pandas>=0.24.0->yfinance) (2022.1)\n",
            "Requirement already satisfied: python-dateutil>=2.7.3 in /usr/local/lib/python3.7/dist-packages (from pandas>=0.24.0->yfinance) (2.8.2)\n",
            "Requirement already satisfied: six>=1.5 in /usr/local/lib/python3.7/dist-packages (from python-dateutil>=2.7.3->pandas>=0.24.0->yfinance) (1.15.0)\n",
            "Requirement already satisfied: charset-normalizer<3,>=2 in /usr/local/lib/python3.7/dist-packages (from requests>=2.26->yfinance) (2.0.12)\n",
            "Requirement already satisfied: urllib3<1.27,>=1.21.1 in /usr/local/lib/python3.7/dist-packages (from requests>=2.26->yfinance) (1.24.3)\n",
            "Requirement already satisfied: idna<4,>=2.5 in /usr/local/lib/python3.7/dist-packages (from requests>=2.26->yfinance) (2.10)\n",
            "Requirement already satisfied: certifi>=2017.4.17 in /usr/local/lib/python3.7/dist-packages (from requests>=2.26->yfinance) (2022.6.15)\n"
          ]
        }
      ]
    },
    {
      "cell_type": "code",
      "source": [
        "import yfinance as yf"
      ],
      "metadata": {
        "id": "pb0S73BKkewB"
      },
      "execution_count": null,
      "outputs": []
    },
    {
      "cell_type": "markdown",
      "source": [
        "#### 4. Juntar as cotações diárias com os indicadores fundamentalistas"
      ],
      "metadata": {
        "id": "voqHS5djYBb5"
      }
    },
    {
      "cell_type": "code",
      "source": [
        "# Coletar cotações das ações no Yahoo Finance das empresas selecionadas\n",
        "# Função para gerar Cotações com os indicadores fundamentalistas das empresas selecionadas\n",
        "def gerarCotacoesComIndicadores(Ativo, Empresa):\n",
        "  # Coletar cotações das ações no Yahoo Finance das empresas selecionadas\n",
        "  cotacoes = yf.download(Ativo, start='2011-01-01')[['Close', 'Adj Close']]\n",
        "\n",
        "  # Unificar os Dados financeiros/indicadores/fórmula de Graham com as cotações\n",
        "  indicadores = cotacoes.join(gerarIndicadoresFundamentalistas(Empresa), how = 'outer')\n",
        "\n",
        "  # Preencher os indicadores/dados financeiros a partir da data de disponibilização para o ano seguinte\n",
        "  indicadores.fillna(method='ffill', inplace = True)\n",
        "\n",
        "  # Remover as linhas nulas referente aos dados de Fechamento(Close) e Fechamento ajustado(Adj Close)\n",
        "  indicadores.dropna(inplace = True)\n",
        "\n",
        "  # Retorna o data frame com as informações tratadas\n",
        "  return indicadores"
      ],
      "metadata": {
        "id": "LNXSIFoUcpM7"
      },
      "execution_count": null,
      "outputs": []
    },
    {
      "cell_type": "markdown",
      "source": [
        "Evidência dos resultados"
      ],
      "metadata": {
        "id": "5eZQlNzqqi7U"
      }
    },
    {
      "cell_type": "code",
      "source": [
        "DataTable(gerarCotacoesComIndicadores('BBAS3.SA', 'BCO BRASIL S.A.'))"
      ],
      "metadata": {
        "id": "I0ba9M9uqodB"
      },
      "execution_count": null,
      "outputs": []
    },
    {
      "cell_type": "code",
      "source": [
        "DataTable(gerarCotacoesComIndicadores('WEGE3.SA', 'WEG S.A.'))"
      ],
      "metadata": {
        "id": "Vvemdj3LqwJN"
      },
      "execution_count": null,
      "outputs": []
    },
    {
      "cell_type": "code",
      "source": [
        "DataTable(gerarCotacoesComIndicadores('EGIE3.SA', 'ENGIE BRASIL ENERGIA S.A.'))"
      ],
      "metadata": {
        "id": "MXzZ89P5q0q3"
      },
      "execution_count": null,
      "outputs": []
    },
    {
      "cell_type": "code",
      "source": [
        "# Criar a visualização\n",
        "# Função para gerar data frame unificado com as empresas selecionadas - Cotações x indicadores fundamentalistas\n",
        "# Objetivo: Utilizar na criação do dashboard\n",
        "def criarDataFrameParaDashboard(ListaAtivosEmpresas):\n",
        "  # Cria data frame vazio\n",
        "  indicadoresUnificados = pd.DataFrame()\n",
        "\n",
        "  # Gerar cotações com indicadores de cada empresa e fazer a unificação de todas em um mesmo data frame para ser utilizado na criação do dashboard\n",
        "  for ativoEmpresa in listaAtivosEmpresas:\n",
        "    indicadoresEmpresa = gerarCotacoesComIndicadores(ativoEmpresa[0], ativoEmpresa[1])\n",
        "    # Unifica os data frames das empresas\n",
        "    indicadoresEmpresasUnificados = pd.concat([indicadoresUnificados, indicadoresEmpresa])\n",
        "  \n",
        "  return indicadoresEmpresasUnificados"
      ],
      "metadata": {
        "id": "IR2RZFwKF1W9"
      },
      "execution_count": null,
      "outputs": []
    },
    {
      "cell_type": "code",
      "source": [
        "# Lista de empresas selecionadas com suas respectivas ações\n",
        "listaAtivosEmpresas = [['BBAS3.SA', 'BCO BRASIL S.A.'], ['WEGE3.SA', 'WEG S.A.'], ['EGIE3.SA', 'ENGIE BRASIL ENERGIA S.A.']]\n",
        "\n",
        "# Execução da função que gera o data frame para ser utilizado na criação do dashboard\n",
        "dataFrameDashboard = criarDataFrameParaDashboard(listaAtivosEmpresas)"
      ],
      "metadata": {
        "colab": {
          "base_uri": "https://localhost:8080/"
        },
        "id": "kGwHcCxvIRqx",
        "outputId": "c96c5cb1-7d85-427f-fe1c-202e1f496062"
      },
      "execution_count": null,
      "outputs": [
        {
          "output_type": "stream",
          "name": "stdout",
          "text": [
            "[*********************100%***********************]  1 of 1 completed\n",
            "[*********************100%***********************]  1 of 1 completed\n",
            "[*********************100%***********************]  1 of 1 completed\n"
          ]
        }
      ]
    },
    {
      "cell_type": "code",
      "source": [
        "dataFrameDashboard"
      ],
      "metadata": {
        "id": "BY13DGJmK2Zq"
      },
      "execution_count": null,
      "outputs": []
    },
    {
      "cell_type": "code",
      "source": [
        "# Exportar os dados em formato csv para fazer dashboard\n",
        "dataFrameDashboard.to_csv('dataFrameDashboard.csv', index = True, sep = ';', decimal = '.')"
      ],
      "metadata": {
        "id": "d3G39_4Hq8Le"
      },
      "execution_count": null,
      "outputs": []
    },
    {
      "cell_type": "code",
      "source": [
        "# Exportar os dados em formato csv para fazer dashboard\n",
        "dataFrameDashboard.to_excel(\"dataFrameDashboard.xlsx\",sheet_name='dataFrameDashboard')  "
      ],
      "metadata": {
        "id": "4OWdD7kVhkZ2"
      },
      "execution_count": null,
      "outputs": []
    },
    {
      "cell_type": "markdown",
      "source": [
        "### Gráficos extras para avaliar a empresas\n",
        "Não será utilizado no Projeto Aplicado"
      ],
      "metadata": {
        "id": "qs983SMvaWS3"
      }
    },
    {
      "cell_type": "code",
      "source": [
        "#pricesBBAS3 = yf.download('BBAS3.SA', start='2011-01-01')[['Close', 'Adj Close']]\n",
        "#pricesWEGE3 = yf.download('WEGE3.SA', start='2011-01-01')[['Close', 'Adj Close']]\n",
        "#pricesEGIE3 = yf.download('EGIE3.SA', start='2011-01-01')[['Close', 'Adj Close']]\n",
        "#indicadoresBBAS3 = gerarCotacoesComIndicadores('BBAS3.SA', 'BCO BRASIL S.A.')\n",
        "#indicadoresWEGE3 = gerarCotacoesComIndicadores('WEGE3.SA', 'WEG S.A.')\n",
        "#indicadoresEGIE3 = gerarCotacoesComIndicadores('EGIE3.SA', 'ENGIE BRASIL ENERGIA S.A.')\n",
        "#indicadores = pd.concat([indicadoresBBAS3, indicadoresWEGE3, indicadoresEGIE3])\n",
        "#for ativoEmpresa in listaAtivosEmpresas:\n",
        "  #print(ativoEmpresa[1])"
      ],
      "metadata": {
        "id": "US_I2Pd4avjF"
      },
      "execution_count": null,
      "outputs": []
    },
    {
      "cell_type": "code",
      "source": [
        "indicadoresBBAS3 = pricesBBAS3.join(gerarIndicadoresFundamentalistas('BCO BRASIL S.A.'), how = 'outer')\n",
        "indicadoresWEGE3 = pricesWEGE3.join(gerarIndicadoresFundamentalistas(\"WEG S.A.\"), how = 'outer')\n",
        "indicadoresEGIE3 = pricesEGIE3.join(gerarIndicadoresFundamentalistas(\"ENGIE BRASIL ENERGIA S.A.\"), how = 'outer')"
      ],
      "metadata": {
        "id": "RBsPoSGbaNJ4"
      },
      "execution_count": null,
      "outputs": []
    },
    {
      "cell_type": "code",
      "source": [
        "# Gráfico comparando o Valor Intríseco de Graham com o Valor da Cotação diária\n",
        "fig = go.Figure()\n",
        "fig.add_trace(go.Scatter(x = indicadoresBBAS3.index, y = indicadoresBBAS3['VI_GRAHAM'],  name='Valor Intrínseco - GRAHAM'))\n",
        "fig.add_trace(go.Scatter(x = indicadoresBBAS3.index, y = indicadoresBBAS3['Close'],  name='BBAS3'))\n",
        "fig.add_trace(go.Scatter(x = indicadoresBBAS3.index, y = indicadoresBBAS3['Adj Close'],  name='BBAS3_Ajustado'))"
      ],
      "metadata": {
        "id": "VEtYgY0yovCI"
      },
      "execution_count": null,
      "outputs": []
    },
    {
      "cell_type": "code",
      "source": [
        "# Gráfico comparando o Valor Intríseco de Graham com o Valor da Cotação diária\n",
        "fig = go.Figure()\n",
        "fig.add_trace(go.Scatter(x = indicadoresEGIE3.index, y = indicadoresEGIE3['VI_GRAHAM'],  name='Valor Intrínseco - GRAHAM'))\n",
        "fig.add_trace(go.Scatter(x = indicadoresEGIE3.index, y = indicadoresEGIE3['Close'],  name='EGIE3'))\n",
        "fig.add_trace(go.Scatter(x = indicadoresEGIE3.index, y = indicadoresEGIE3['Adj Close'],  name='EGIE3_Ajustado'))"
      ],
      "metadata": {
        "id": "cDZcaoVny7Mv"
      },
      "execution_count": null,
      "outputs": []
    },
    {
      "cell_type": "code",
      "source": [
        "# Gráfico comparando o Valor Intríseco de Graham com o Valor da Cotação diária\n",
        "fig = go.Figure()\n",
        "fig.add_trace(go.Scatter(x = indicadoresWEGE3.index, y = indicadoresWEGE3['VI_GRAHAM'],  name='Valor Intrínseco - GRAHAM'))\n",
        "fig.add_trace(go.Scatter(x = indicadoresWEGE3.index, y = indicadoresWEGE3['Close'],  name='WEGE3'))\n",
        "fig.add_trace(go.Scatter(x = indicadoresWEGE3.index, y = indicadoresWEGE3['Adj Close'],  name='WEGE3_Ajustado'))"
      ],
      "metadata": {
        "id": "rd_earRyYy8Z"
      },
      "execution_count": null,
      "outputs": []
    }
  ]
}