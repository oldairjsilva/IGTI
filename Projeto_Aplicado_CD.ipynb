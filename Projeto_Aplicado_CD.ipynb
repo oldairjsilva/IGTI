{
  "nbformat": 4,
  "nbformat_minor": 0,
  "metadata": {
    "colab": {
      "name": "Projeto Aplicado - CD.ipynb",
      "provenance": [],
      "authorship_tag": "ABX9TyPlgUIdIkBWh0fmkI3OOHPZ",
      "include_colab_link": true
    },
    "kernelspec": {
      "name": "python3",
      "display_name": "Python 3"
    },
    "language_info": {
      "name": "python"
    }
  },
  "cells": [
    {
      "cell_type": "markdown",
      "metadata": {
        "id": "view-in-github",
        "colab_type": "text"
      },
      "source": [
        "<a href=\"https://colab.research.google.com/github/oldairjsilva/IGTI/blob/main/Projeto_Aplicado_CD.ipynb\" target=\"_parent\"><img src=\"https://colab.research.google.com/assets/colab-badge.svg\" alt=\"Open In Colab\"/></a>"
      ]
    },
    {
      "cell_type": "markdown",
      "source": [
        "\n",
        "## Projeto Aplicado\n",
        "\n",
        "O projeto aplicado tem como desafio coletar os dados financeiros de empresa listada na Bolsa de Valores e comparar com o Valor Intríseco calculado pela fórmula de Graham. \n",
        "O objetivo seria verificar o histórico da margem de segurança entre a diferença entre a cotação diária e valor intrínseco calculado pela fórmula de Graham.\n",
        "\n",
        "#### Base de dados CVM\n",
        "#### http://dados.cvm.gov.br"
      ],
      "metadata": {
        "id": "1hWquOw3X7zf"
      }
    },
    {
      "cell_type": "markdown",
      "source": [
        "#### Configurações iniciais"
      ],
      "metadata": {
        "id": "E303xl_TYwPG"
      }
    },
    {
      "cell_type": "code",
      "source": [
        "!pip install wget\n"
      ],
      "metadata": {
        "colab": {
          "base_uri": "https://localhost:8080/"
        },
        "id": "c_C1I7bkT_jx",
        "outputId": "bd4cefa4-1827-45be-e4b6-99f0ff302a19"
      },
      "execution_count": null,
      "outputs": [
        {
          "output_type": "stream",
          "name": "stdout",
          "text": [
            "Looking in indexes: https://pypi.org/simple, https://us-python.pkg.dev/colab-wheels/public/simple/\n",
            "Collecting wget\n",
            "  Downloading wget-3.2.zip (10 kB)\n",
            "Building wheels for collected packages: wget\n",
            "  Building wheel for wget (setup.py) ... \u001b[?25l\u001b[?25hdone\n",
            "  Created wheel for wget: filename=wget-3.2-py3-none-any.whl size=9675 sha256=602bdc7a4f3a094f2a37f7f74061fcaec35df907b87ca0a50627d955ae410c60\n",
            "  Stored in directory: /root/.cache/pip/wheels/a1/b6/7c/0e63e34eb06634181c63adacca38b79ff8f35c37e3c13e3c02\n",
            "Successfully built wget\n",
            "Installing collected packages: wget\n",
            "Successfully installed wget-3.2\n"
          ]
        }
      ]
    },
    {
      "cell_type": "code",
      "source": [
        "import pandas as pd\n",
        "import wget\n",
        "from zipfile import ZipFile\n",
        "from google.colab.data_table import DataTable\n",
        "import plotly.graph_objects as go\n",
        "import numpy as np\n",
        "from google.colab import drive\n",
        "import os\n",
        "from os import path"
      ],
      "metadata": {
        "id": "bTouXZc6U8Ju"
      },
      "execution_count": null,
      "outputs": []
    },
    {
      "cell_type": "markdown",
      "source": [
        "#### 1. Coletar dados financeiros das empresas na CVM\n",
        "Acessar dados financeiros de empresas listadas da Bolsa de Valores na CVM e criar arquivos históricos"
      ],
      "metadata": {
        "id": "XjVT7cICYlt4"
      }
    },
    {
      "cell_type": "code",
      "source": [
        "# Montar drive para armazenar arquivos\n",
        "drive.mount('/content/gdrive')"
      ],
      "metadata": {
        "colab": {
          "base_uri": "https://localhost:8080/"
        },
        "id": "uix46Z21ylAa",
        "outputId": "72d229d1-b206-41d5-c77b-e4863620356b"
      },
      "execution_count": null,
      "outputs": [
        {
          "output_type": "stream",
          "name": "stdout",
          "text": [
            "Mounted at /content/gdrive\n"
          ]
        }
      ]
    },
    {
      "cell_type": "code",
      "source": [
        "# Função para baixar arquivos CVM\n",
        "def baixarArquivosCVM(AnoInicio, AnoFim):\n",
        "  url_base = 'http://dados.cvm.gov.br/dados/CIA_ABERTA/DOC/DFP/DADOS/'\n",
        "  arquivos_zip = []\n",
        "  # Criar pasta DADOS no google drive\n",
        "  if path.exists('/content/gdrive/MyDrive/IGTI/ProjetoAplicado/DADOS') == False:\n",
        "    os.mkdir('/content/gdrive/MyDrive/IGTI/ProjetoAplicado/DADOS')\n",
        "\n",
        "  os.chdir('/content/gdrive/MyDrive/IGTI/ProjetoAplicado/DADOS')\n",
        "\n",
        "  # Cria as descrições dos arquivos pelos anos informados\n",
        "  for ano in range(AnoInicio,AnoFim):\n",
        "    arquivos_zip.append(f'dfp_cia_aberta_{ano}.zip')\n",
        "  arquivos_zip\n",
        "\n",
        "  # 1. Baixar arquivos .zip da CVM\n",
        "  \n",
        "  # Faz o download dos arquivos da CVM\n",
        "  for arq in arquivos_zip:\n",
        "    wget.download(url_base+arq)\n",
        "\n",
        "  # 2. Descompactar os arquivos na pasta CVM\n",
        "  for arq in arquivos_zip:\n",
        "    ZipFile(arq, 'r').extractall('CVM')\n",
        "\n",
        "  # 3. Unificar os arquivos por seus tipos. Ex. BPP/DRE\n",
        "  \n",
        "  # Unifica os dados\n",
        "\n",
        "  # Cria o diretorio para unificar os dados\n",
        "  if path.exists('/content/gdrive/MyDrive/IGTI/ProjetoAplicado/DADOS/UNIFICADOS') == False:\n",
        "    os.mkdir('/content/gdrive/MyDrive/IGTI/ProjetoAplicado/DADOS/UNIFICADOS')  \n",
        "\n",
        "  nomes = ['BPA_con', 'BPA_ind', 'BPP_con', 'BPP_ind', 'DFC_MD_con', 'DFC_MD_ind', 'DFC_MI_con', 'DFC_MI_ind', 'DMPL_con', 'DMPL_ind', 'DRA_con', 'DRA_ind', 'DRE_con', 'DRE_ind', 'DVA_con', 'DVA_ind']\n",
        "  for nome in nomes:\n",
        "    arquivo = pd.DataFrame()\n",
        "\n",
        "    for ano in range(AnoInicio,AnoFim):\n",
        "      arquivo = pd.concat([arquivo, pd.read_csv(f'CVM/dfp_cia_aberta_{nome}_{ano}.csv', sep=';', decimal=',', encoding='ISO-8859-1')])\n",
        "    arquivo.to_csv(f'UNIFICADOS/dfp_cia_aberta_{nome}_{AnoInicio}-{AnoFim}.csv', index = False)\n"
      ],
      "metadata": {
        "id": "CZfkXpFM1_Iv"
      },
      "execution_count": null,
      "outputs": []
    },
    {
      "cell_type": "code",
      "source": [
        "# Executar a função para baixar arquivos CVM\n",
        "baixarArquivosCVM(2010, 2023) "
      ],
      "metadata": {
        "id": "1JLSMYeK1bHN"
      },
      "execution_count": null,
      "outputs": []
    },
    {
      "cell_type": "markdown",
      "source": [
        "#### 2. \n",
        "Acessar dados financeiros para gerar indicadores fundamentalistas e calcular a fórmula de Graham\n"
      ],
      "metadata": {
        "id": "bhNsV06aezCL"
      }
    },
    {
      "cell_type": "code",
      "source": [
        "# Função para gerar indicadores fundamentalistas\n",
        "def gerarIndicadoresFundamentalistas(Empresa):\n",
        "  # Acesso os arquivos da CVM - DRE e BPP\n",
        "  dre = pd.read_csv('/content/gdrive/MyDrive/IGTI/ProjetoAplicado/DADOS/UNIFICADOS/dfp_cia_aberta_DRE_con_2010-2023.csv')\n",
        "  bpp = pd.read_csv('/content/gdrive/MyDrive/IGTI/ProjetoAplicado/DADOS/UNIFICADOS/dfp_cia_aberta_BPP_con_2010-2023.csv')\n",
        "\n",
        "  # Seleciona o último exercício informado\n",
        "  dre = dre[dre['ORDEM_EXERC'] == \"ÚLTIMO\"]\n",
        "  bpp = bpp[bpp['ORDEM_EXERC'] == \"ÚLTIMO\"]\n",
        "\n",
        "  # Seleciona a empresa a partir do parametro passado\n",
        "  empresaDRE = dre[dre['DENOM_CIA'].isin([Empresa])]\n",
        "  empresaBPP = bpp[bpp['DENOM_CIA'].isin([Empresa])]\n",
        "\n",
        "  # Seleciona as informações de LPA(lucro por ação), Lucro e Patrimonio Liquido a partir das contas contabeis\n",
        "  contaLPA = empresaDRE[empresaDRE['CD_CONTA'] == '3.99.01.01']\n",
        "  contaLucro = empresaDRE[empresaDRE['DS_CONTA'].isin(['Lucro/Prejuízo Consolidado do Período', 'Lucro ou Prejuízo Líquido Consolidado do Período'])]\n",
        "  contaPatrimonioLiquido = empresaBPP[empresaBPP['DS_CONTA'] == 'Patrimônio Líquido Consolidado']\n",
        "\n",
        "  # Seleciona as informações e renomeia a coluna - LPA\n",
        "  contaLPA = contaLPA[['DT_REFER', 'DENOM_CIA', 'VL_CONTA']]\n",
        "  contaLPA.rename({'VL_CONTA':'LPA'}, axis=1, inplace=True)\n",
        "\n",
        "  # Seleciona as informações e renomeia a coluna - Lucro\n",
        "  contaLucro = contaLucro[['DT_REFER', 'DENOM_CIA', 'VL_CONTA']]\n",
        "  contaLucro.rename({'VL_CONTA':'LUCRO'}, axis=1, inplace=True)\n",
        "  contaLucro['LUCRO'] = contaLucro['LUCRO']*1000\n",
        "\n",
        "  # Seleciona as informações e renomeia a coluna - Patrimonio Liquido\n",
        "  contaPatrimonioLiquido = contaPatrimonioLiquido[['DT_REFER', 'DENOM_CIA', 'VL_CONTA']]\n",
        "  contaPatrimonioLiquido.rename({'VL_CONTA':'PATRIMONIO_LIQUIDO'}, axis=1, inplace=True)\n",
        "  contaPatrimonioLiquido['PATRIMONIO_LIQUIDO'] = contaPatrimonioLiquido['PATRIMONIO_LIQUIDO']*1000\n",
        "\n",
        "  # Cria um data frame unificado de contaLPA, contaLucro e contaPatrimonioLiquido\n",
        "  contaLPA_contaLucro = pd.merge(contaLPA, contaLucro, on = ['DENOM_CIA', 'DT_REFER']).sort_values('DT_REFER')\n",
        "  contaLPA_contaLucro_contaPatrimonioLiquido = pd.merge(contaLPA_contaLucro, contaPatrimonioLiquido, on = ['DENOM_CIA', 'DT_REFER']).sort_values('DT_REFER')\n",
        "\n",
        "  # Calcula a quantidade de ações a partir do lucro dividido por lucro por ação\n",
        "  contaLPA_contaLucro_contaPatrimonioLiquido['QTDE_ACOES'] = contaLPA_contaLucro_contaPatrimonioLiquido['LUCRO']/contaLPA_contaLucro_contaPatrimonioLiquido['LPA']\n",
        "  contaLPA_contaLucro_contaPatrimonioLiquido['QTDE_ACOES'] = contaLPA_contaLucro_contaPatrimonioLiquido['QTDE_ACOES'].values.astype(np.int64)\n",
        "\n",
        "  # Calcula o VPA(valor patrimonial por ação) dividindo o valor do patrimonio liquido pela quantidade de ações\n",
        "  contaLPA_contaLucro_contaPatrimonioLiquido['VPA'] = contaLPA_contaLucro_contaPatrimonioLiquido['PATRIMONIO_LIQUIDO']/contaLPA_contaLucro_contaPatrimonioLiquido['QTDE_ACOES']\n",
        "\n",
        "  # Calcula o valor intrinseco da Formula de Graham\n",
        "  contaLPA_contaLucro_contaPatrimonioLiquido['VI_GRAHAM'] = np.sqrt(contaLPA_contaLucro_contaPatrimonioLiquido['VPA'] * contaLPA_contaLucro_contaPatrimonioLiquido['LPA'] * 22.5)\n",
        "\n",
        "  # Cria o data frame indicadoresFundamentalistas\n",
        "  indicadoresFundamentalistas = contaLPA_contaLucro_contaPatrimonioLiquido\n",
        "\n",
        "  # Cria o index a partir da DT_REFER\n",
        "  indicadoresFundamentalistas.index = pd.to_datetime(indicadoresFundamentalistas['DT_REFER'])\n",
        "\n",
        "  # Remove a coluna DT_REFER depois de criar o indice\n",
        "  del indicadoresFundamentalistas['DT_REFER']\n",
        "\n",
        "  # Retorna o data frame com as informações tratadas\n",
        "  return indicadoresFundamentalistas"
      ],
      "metadata": {
        "id": "Wr2JgWeDQY-b"
      },
      "execution_count": null,
      "outputs": []
    },
    {
      "cell_type": "code",
      "source": [
        "gerarIndicadoresFundamentalistas('WEG S.A.')"
      ],
      "metadata": {
        "id": "uzRk33Vj0uLG"
      },
      "execution_count": null,
      "outputs": []
    },
    {
      "cell_type": "code",
      "source": [
        "gerarIndicadoresFundamentalistas('BCO BRASIL S.A.')"
      ],
      "metadata": {
        "id": "MjzuMScBQfBR"
      },
      "execution_count": null,
      "outputs": []
    },
    {
      "cell_type": "code",
      "source": [
        "gerarIndicadoresFundamentalistas('ENGIE BRASIL ENERGIA S.A.')"
      ],
      "metadata": {
        "id": "jMC3aJQJ2IjQ"
      },
      "execution_count": null,
      "outputs": []
    },
    {
      "cell_type": "code",
      "source": [
        "#empresas = dre[['DENOM_CIA', 'CD_CVM']].drop_duplicates().set_index('CD_CVM')\n",
        "#DataTable(empresas)"
      ],
      "metadata": {
        "id": "FcKWP_WegFm1"
      },
      "execution_count": null,
      "outputs": []
    },
    {
      "cell_type": "code",
      "source": [
        "#DataTable(empresaDRE[['CD_CONTA', 'DS_CONTA']].drop_duplicates().set_index('CD_CONTA'))\n",
        "#DataTable(empresaBPP[['CD_CONTA', 'DS_CONTA']].drop_duplicates().set_index('CD_CONTA'))"
      ],
      "metadata": {
        "id": "h_7Izw4JiJ7g"
      },
      "execution_count": null,
      "outputs": []
    },
    {
      "cell_type": "markdown",
      "source": [
        "#### 3. Baixar cotações diárias através do Yahoo Finance"
      ],
      "metadata": {
        "id": "qbK26Forjwdg"
      }
    },
    {
      "cell_type": "code",
      "source": [
        "!pip install yfinance"
      ],
      "metadata": {
        "colab": {
          "base_uri": "https://localhost:8080/"
        },
        "id": "xDK9C8yVj1TU",
        "outputId": "17b5f614-f99b-46e4-ba9c-ed6ee5290a6d"
      },
      "execution_count": null,
      "outputs": [
        {
          "output_type": "stream",
          "name": "stdout",
          "text": [
            "Looking in indexes: https://pypi.org/simple, https://us-python.pkg.dev/colab-wheels/public/simple/\n",
            "Requirement already satisfied: yfinance in /usr/local/lib/python3.7/dist-packages (0.1.70)\n",
            "Requirement already satisfied: pandas>=0.24.0 in /usr/local/lib/python3.7/dist-packages (from yfinance) (1.3.5)\n",
            "Requirement already satisfied: numpy>=1.15 in /usr/local/lib/python3.7/dist-packages (from yfinance) (1.21.6)\n",
            "Requirement already satisfied: lxml>=4.5.1 in /usr/local/lib/python3.7/dist-packages (from yfinance) (4.9.0)\n",
            "Requirement already satisfied: multitasking>=0.0.7 in /usr/local/lib/python3.7/dist-packages (from yfinance) (0.0.10)\n",
            "Requirement already satisfied: requests>=2.26 in /usr/local/lib/python3.7/dist-packages (from yfinance) (2.28.0)\n",
            "Requirement already satisfied: python-dateutil>=2.7.3 in /usr/local/lib/python3.7/dist-packages (from pandas>=0.24.0->yfinance) (2.8.2)\n",
            "Requirement already satisfied: pytz>=2017.3 in /usr/local/lib/python3.7/dist-packages (from pandas>=0.24.0->yfinance) (2022.1)\n",
            "Requirement already satisfied: six>=1.5 in /usr/local/lib/python3.7/dist-packages (from python-dateutil>=2.7.3->pandas>=0.24.0->yfinance) (1.15.0)\n",
            "Requirement already satisfied: certifi>=2017.4.17 in /usr/local/lib/python3.7/dist-packages (from requests>=2.26->yfinance) (2022.5.18.1)\n",
            "Requirement already satisfied: urllib3<1.27,>=1.21.1 in /usr/local/lib/python3.7/dist-packages (from requests>=2.26->yfinance) (1.24.3)\n",
            "Requirement already satisfied: charset-normalizer~=2.0.0 in /usr/local/lib/python3.7/dist-packages (from requests>=2.26->yfinance) (2.0.12)\n",
            "Requirement already satisfied: idna<4,>=2.5 in /usr/local/lib/python3.7/dist-packages (from requests>=2.26->yfinance) (2.10)\n"
          ]
        }
      ]
    },
    {
      "cell_type": "code",
      "source": [
        "import yfinance as yf"
      ],
      "metadata": {
        "id": "pb0S73BKkewB"
      },
      "execution_count": null,
      "outputs": []
    },
    {
      "cell_type": "code",
      "source": [
        "pricesBBAS3 = yf.download('BBAS3.SA', start='2011-01-01')[['Close', 'Adj Close']]\n",
        "pricesWEGE3 = yf.download('WEGE3.SA', start='2011-01-01')[['Close', 'Adj Close']]\n",
        "pricesEGIE3 = yf.download('EGIE3.SA', start='2011-01-01')[['Close', 'Adj Close']]"
      ],
      "metadata": {
        "colab": {
          "base_uri": "https://localhost:8080/"
        },
        "id": "wMRUxbY-kjsI",
        "outputId": "1f87efce-6bb7-40a3-a33e-4ac7def3be63"
      },
      "execution_count": null,
      "outputs": [
        {
          "output_type": "stream",
          "name": "stdout",
          "text": [
            "[*********************100%***********************]  1 of 1 completed\n",
            "[*********************100%***********************]  1 of 1 completed\n",
            "[*********************100%***********************]  1 of 1 completed\n"
          ]
        }
      ]
    },
    {
      "cell_type": "code",
      "source": [
        "pricesEGIE3.head()"
      ],
      "metadata": {
        "colab": {
          "base_uri": "https://localhost:8080/",
          "height": 238
        },
        "id": "XNS2n0Dmk19G",
        "outputId": "3d2a4870-3ca9-4283-8733-466df4cd8f2c"
      },
      "execution_count": null,
      "outputs": [
        {
          "output_type": "execute_result",
          "data": {
            "text/plain": [
              "                Close  Adj Close\n",
              "Date                            \n",
              "2011-01-03  21.440001  10.339413\n",
              "2011-01-04  21.160000  10.204383\n",
              "2011-01-05  21.520000  10.377994\n",
              "2011-01-06  21.799999  10.513021\n",
              "2011-01-07  21.879999  10.551603"
            ],
            "text/html": [
              "\n",
              "  <div id=\"df-7383839a-f42a-4113-a1b7-7af17e09acce\">\n",
              "    <div class=\"colab-df-container\">\n",
              "      <div>\n",
              "<style scoped>\n",
              "    .dataframe tbody tr th:only-of-type {\n",
              "        vertical-align: middle;\n",
              "    }\n",
              "\n",
              "    .dataframe tbody tr th {\n",
              "        vertical-align: top;\n",
              "    }\n",
              "\n",
              "    .dataframe thead th {\n",
              "        text-align: right;\n",
              "    }\n",
              "</style>\n",
              "<table border=\"1\" class=\"dataframe\">\n",
              "  <thead>\n",
              "    <tr style=\"text-align: right;\">\n",
              "      <th></th>\n",
              "      <th>Close</th>\n",
              "      <th>Adj Close</th>\n",
              "    </tr>\n",
              "    <tr>\n",
              "      <th>Date</th>\n",
              "      <th></th>\n",
              "      <th></th>\n",
              "    </tr>\n",
              "  </thead>\n",
              "  <tbody>\n",
              "    <tr>\n",
              "      <th>2011-01-03</th>\n",
              "      <td>21.440001</td>\n",
              "      <td>10.339413</td>\n",
              "    </tr>\n",
              "    <tr>\n",
              "      <th>2011-01-04</th>\n",
              "      <td>21.160000</td>\n",
              "      <td>10.204383</td>\n",
              "    </tr>\n",
              "    <tr>\n",
              "      <th>2011-01-05</th>\n",
              "      <td>21.520000</td>\n",
              "      <td>10.377994</td>\n",
              "    </tr>\n",
              "    <tr>\n",
              "      <th>2011-01-06</th>\n",
              "      <td>21.799999</td>\n",
              "      <td>10.513021</td>\n",
              "    </tr>\n",
              "    <tr>\n",
              "      <th>2011-01-07</th>\n",
              "      <td>21.879999</td>\n",
              "      <td>10.551603</td>\n",
              "    </tr>\n",
              "  </tbody>\n",
              "</table>\n",
              "</div>\n",
              "      <button class=\"colab-df-convert\" onclick=\"convertToInteractive('df-7383839a-f42a-4113-a1b7-7af17e09acce')\"\n",
              "              title=\"Convert this dataframe to an interactive table.\"\n",
              "              style=\"display:none;\">\n",
              "        \n",
              "  <svg xmlns=\"http://www.w3.org/2000/svg\" height=\"24px\"viewBox=\"0 0 24 24\"\n",
              "       width=\"24px\">\n",
              "    <path d=\"M0 0h24v24H0V0z\" fill=\"none\"/>\n",
              "    <path d=\"M18.56 5.44l.94 2.06.94-2.06 2.06-.94-2.06-.94-.94-2.06-.94 2.06-2.06.94zm-11 1L8.5 8.5l.94-2.06 2.06-.94-2.06-.94L8.5 2.5l-.94 2.06-2.06.94zm10 10l.94 2.06.94-2.06 2.06-.94-2.06-.94-.94-2.06-.94 2.06-2.06.94z\"/><path d=\"M17.41 7.96l-1.37-1.37c-.4-.4-.92-.59-1.43-.59-.52 0-1.04.2-1.43.59L10.3 9.45l-7.72 7.72c-.78.78-.78 2.05 0 2.83L4 21.41c.39.39.9.59 1.41.59.51 0 1.02-.2 1.41-.59l7.78-7.78 2.81-2.81c.8-.78.8-2.07 0-2.86zM5.41 20L4 18.59l7.72-7.72 1.47 1.35L5.41 20z\"/>\n",
              "  </svg>\n",
              "      </button>\n",
              "      \n",
              "  <style>\n",
              "    .colab-df-container {\n",
              "      display:flex;\n",
              "      flex-wrap:wrap;\n",
              "      gap: 12px;\n",
              "    }\n",
              "\n",
              "    .colab-df-convert {\n",
              "      background-color: #E8F0FE;\n",
              "      border: none;\n",
              "      border-radius: 50%;\n",
              "      cursor: pointer;\n",
              "      display: none;\n",
              "      fill: #1967D2;\n",
              "      height: 32px;\n",
              "      padding: 0 0 0 0;\n",
              "      width: 32px;\n",
              "    }\n",
              "\n",
              "    .colab-df-convert:hover {\n",
              "      background-color: #E2EBFA;\n",
              "      box-shadow: 0px 1px 2px rgba(60, 64, 67, 0.3), 0px 1px 3px 1px rgba(60, 64, 67, 0.15);\n",
              "      fill: #174EA6;\n",
              "    }\n",
              "\n",
              "    [theme=dark] .colab-df-convert {\n",
              "      background-color: #3B4455;\n",
              "      fill: #D2E3FC;\n",
              "    }\n",
              "\n",
              "    [theme=dark] .colab-df-convert:hover {\n",
              "      background-color: #434B5C;\n",
              "      box-shadow: 0px 1px 3px 1px rgba(0, 0, 0, 0.15);\n",
              "      filter: drop-shadow(0px 1px 2px rgba(0, 0, 0, 0.3));\n",
              "      fill: #FFFFFF;\n",
              "    }\n",
              "  </style>\n",
              "\n",
              "      <script>\n",
              "        const buttonEl =\n",
              "          document.querySelector('#df-7383839a-f42a-4113-a1b7-7af17e09acce button.colab-df-convert');\n",
              "        buttonEl.style.display =\n",
              "          google.colab.kernel.accessAllowed ? 'block' : 'none';\n",
              "\n",
              "        async function convertToInteractive(key) {\n",
              "          const element = document.querySelector('#df-7383839a-f42a-4113-a1b7-7af17e09acce');\n",
              "          const dataTable =\n",
              "            await google.colab.kernel.invokeFunction('convertToInteractive',\n",
              "                                                     [key], {});\n",
              "          if (!dataTable) return;\n",
              "\n",
              "          const docLinkHtml = 'Like what you see? Visit the ' +\n",
              "            '<a target=\"_blank\" href=https://colab.research.google.com/notebooks/data_table.ipynb>data table notebook</a>'\n",
              "            + ' to learn more about interactive tables.';\n",
              "          element.innerHTML = '';\n",
              "          dataTable['output_type'] = 'display_data';\n",
              "          await google.colab.output.renderOutput(dataTable, element);\n",
              "          const docLink = document.createElement('div');\n",
              "          docLink.innerHTML = docLinkHtml;\n",
              "          element.appendChild(docLink);\n",
              "        }\n",
              "      </script>\n",
              "    </div>\n",
              "  </div>\n",
              "  "
            ]
          },
          "metadata": {},
          "execution_count": 44
        }
      ]
    },
    {
      "cell_type": "markdown",
      "source": [
        "#### 4. Juntar as cotações diárias com os indicadores fundamentalistas"
      ],
      "metadata": {
        "id": "voqHS5djYBb5"
      }
    },
    {
      "cell_type": "code",
      "source": [
        "indicadoresBBAS3 = pricesBBAS3.join(gerarIndicadoresFundamentalistas('BCO BRASIL S.A.'), how = 'outer')\n",
        "indicadoresWEGE3 = pricesWEGE3.join(gerarIndicadoresFundamentalistas(\"WEG S.A.\"), how = 'outer')\n",
        "indicadoresEGIE3 = pricesEGIE3.join(gerarIndicadoresFundamentalistas(\"ENGIE BRASIL ENERGIA S.A.\"), how = 'outer')"
      ],
      "metadata": {
        "id": "EhdbwrIxlVd6"
      },
      "execution_count": null,
      "outputs": []
    },
    {
      "cell_type": "code",
      "source": [
        "indicadoresEGIE3.head()"
      ],
      "metadata": {
        "id": "fztIxox-md48"
      },
      "execution_count": null,
      "outputs": []
    },
    {
      "cell_type": "code",
      "source": [
        "# Preencher os dados fundamentalistas a partir da data de disponibilização para o ano seguinte\n",
        "indicadoresBBAS3.fillna(method='ffill', inplace = True)\n",
        "indicadoresWEGE3.fillna(method='ffill', inplace = True)\n",
        "indicadoresEGIE3.fillna(method='ffill', inplace = True)"
      ],
      "metadata": {
        "id": "DgBId58rnFdI"
      },
      "execution_count": null,
      "outputs": []
    },
    {
      "cell_type": "code",
      "source": [
        "indicadoresEGIE3"
      ],
      "metadata": {
        "id": "QSP8xrvundHH"
      },
      "execution_count": null,
      "outputs": []
    },
    {
      "cell_type": "code",
      "source": [
        "# Remover as linhas nulas referente aos dados de Fechamento(Close) e Fechamento ajustado(Adj Close)\n",
        "indicadoresBBAS3.dropna(inplace = True)\n",
        "indicadoresWEGE3.dropna(inplace = True)\n",
        "indicadoresEGIE3.dropna(inplace = True)"
      ],
      "metadata": {
        "id": "pP2SnCxCnokw"
      },
      "execution_count": null,
      "outputs": []
    },
    {
      "cell_type": "code",
      "source": [
        "indicadoresEGIE3"
      ],
      "metadata": {
        "id": "n-pz-bVJn0Wl"
      },
      "execution_count": null,
      "outputs": []
    },
    {
      "cell_type": "code",
      "source": [
        "indicadores = pd.concat([indicadoresBBAS3, indicadoresWEGE3, indicadoresEGIE3])"
      ],
      "metadata": {
        "id": "wS-2ttCcUtnp"
      },
      "execution_count": null,
      "outputs": []
    },
    {
      "cell_type": "code",
      "source": [
        "indicadores"
      ],
      "metadata": {
        "id": "zeG0I_j0U5LQ"
      },
      "execution_count": null,
      "outputs": []
    },
    {
      "cell_type": "code",
      "source": [
        "# Exportar os dados em formato csv para fazer dashboard pelo Google Data Studio\n",
        "indicadores.to_csv('indicadores_BBAS3_EGIE3_WEGE3.csv', index = True, sep = ';', decimal = '.')"
      ],
      "metadata": {
        "id": "d3G39_4Hq8Le"
      },
      "execution_count": null,
      "outputs": []
    },
    {
      "cell_type": "code",
      "source": [
        "# Gráfico comparando o Valor Intríseco de Graham com o Valor da Cotação diária\n",
        "fig = go.Figure()\n",
        "fig.add_trace(go.Scatter(x = indicadoresBBAS3.index, y = indicadoresBBAS3['VI_GRAHAM'],  name='Valor Intrínseco - GRAHAM'))\n",
        "fig.add_trace(go.Scatter(x = indicadoresBBAS3.index, y = indicadoresBBAS3['Close'],  name='BBAS3'))\n",
        "fig.add_trace(go.Scatter(x = indicadoresBBAS3.index, y = indicadoresBBAS3['Adj Close'],  name='BBAS3_Ajustado'))"
      ],
      "metadata": {
        "id": "VEtYgY0yovCI"
      },
      "execution_count": null,
      "outputs": []
    },
    {
      "cell_type": "code",
      "source": [
        "# Gráfico comparando o Valor Intríseco de Graham com o Valor da Cotação diária\n",
        "fig = go.Figure()\n",
        "fig.add_trace(go.Scatter(x = indicadoresEGIE3.index, y = indicadoresEGIE3['VI_GRAHAM'],  name='Valor Intrínseco - GRAHAM'))\n",
        "fig.add_trace(go.Scatter(x = indicadoresEGIE3.index, y = indicadoresEGIE3['Close'],  name='EGIE3'))\n",
        "fig.add_trace(go.Scatter(x = indicadoresEGIE3.index, y = indicadoresEGIE3['Adj Close'],  name='EGIE3_Ajustado'))"
      ],
      "metadata": {
        "id": "cDZcaoVny7Mv"
      },
      "execution_count": null,
      "outputs": []
    },
    {
      "cell_type": "code",
      "source": [
        "# Gráfico comparando o Valor Intríseco de Graham com o Valor da Cotação diária\n",
        "fig = go.Figure()\n",
        "fig.add_trace(go.Scatter(x = indicadoresWEGE3.index, y = indicadoresWEGE3['VI_GRAHAM'],  name='Valor Intrínseco - GRAHAM'))\n",
        "fig.add_trace(go.Scatter(x = indicadoresWEGE3.index, y = indicadoresWEGE3['Close'],  name='WEGE3'))\n",
        "fig.add_trace(go.Scatter(x = indicadoresWEGE3.index, y = indicadoresWEGE3['Adj Close'],  name='WEGE3_Ajustado'))"
      ],
      "metadata": {
        "id": "rd_earRyYy8Z"
      },
      "execution_count": null,
      "outputs": []
    }
  ]
}