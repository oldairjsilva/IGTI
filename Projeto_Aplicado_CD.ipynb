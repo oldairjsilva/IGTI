{
  "nbformat": 4,
  "nbformat_minor": 0,
  "metadata": {
    "colab": {
      "name": "Projeto Aplicado - CD.ipynb",
      "provenance": [],
      "authorship_tag": "ABX9TyPB3/GqoIxixF73dpf3Nv3H",
      "include_colab_link": true
    },
    "kernelspec": {
      "name": "python3",
      "display_name": "Python 3"
    },
    "language_info": {
      "name": "python"
    }
  },
  "cells": [
    {
      "cell_type": "markdown",
      "metadata": {
        "id": "view-in-github",
        "colab_type": "text"
      },
      "source": [
        "<a href=\"https://colab.research.google.com/github/oldairjsilva/IGTI/blob/main/Projeto_Aplicado_CD.ipynb\" target=\"_parent\"><img src=\"https://colab.research.google.com/assets/colab-badge.svg\" alt=\"Open In Colab\"/></a>"
      ]
    },
    {
      "cell_type": "markdown",
      "source": [
        "\n",
        "## Projeto Aplicado\n",
        "\n",
        "O projeto aplicado tem como desafio coletar os dados financeiros de empresa listada na Bolsa de Valores e comparar com o Valor Intríseco calculado pela fórmula de Graham. \n",
        "O objetivo seria verificar o histórico da margem de segurança entre a diferença entre a cotação diária e valor intrínseco calculado pela fórmula de Graham.\n",
        "\n",
        "#### Base de dados CVM\n",
        "#### http://dados.cvm.gov.br"
      ],
      "metadata": {
        "id": "1hWquOw3X7zf"
      }
    },
    {
      "cell_type": "markdown",
      "source": [
        "#### Configurações iniciais"
      ],
      "metadata": {
        "id": "E303xl_TYwPG"
      }
    },
    {
      "cell_type": "code",
      "source": [
        "!pip install wget\n"
      ],
      "metadata": {
        "colab": {
          "base_uri": "https://localhost:8080/"
        },
        "id": "c_C1I7bkT_jx",
        "outputId": "50f66ac5-facb-45ab-e671-d6b9b5990584"
      },
      "execution_count": 1,
      "outputs": [
        {
          "output_type": "stream",
          "name": "stdout",
          "text": [
            "Looking in indexes: https://pypi.org/simple, https://us-python.pkg.dev/colab-wheels/public/simple/\n",
            "Collecting wget\n",
            "  Downloading wget-3.2.zip (10 kB)\n",
            "Building wheels for collected packages: wget\n",
            "  Building wheel for wget (setup.py) ... \u001b[?25l\u001b[?25hdone\n",
            "  Created wheel for wget: filename=wget-3.2-py3-none-any.whl size=9675 sha256=3ed5ae4dcc1a3f1f267d7b072af85c49780f813d114ceb4d15f156e1af852cfd\n",
            "  Stored in directory: /root/.cache/pip/wheels/a1/b6/7c/0e63e34eb06634181c63adacca38b79ff8f35c37e3c13e3c02\n",
            "Successfully built wget\n",
            "Installing collected packages: wget\n",
            "Successfully installed wget-3.2\n"
          ]
        }
      ]
    },
    {
      "cell_type": "code",
      "source": [
        "import pandas as pd\n",
        "import wget\n",
        "from zipfile import ZipFile\n",
        "from google.colab.data_table import DataTable\n",
        "import plotly.graph_objects as go\n",
        "import numpy as np\n",
        "from google.colab import drive\n",
        "import os\n",
        "from os import path"
      ],
      "metadata": {
        "id": "bTouXZc6U8Ju"
      },
      "execution_count": 2,
      "outputs": []
    },
    {
      "cell_type": "markdown",
      "source": [
        "#### 1. Coletar dados financeiros das empresas na CVM\n",
        "Acessar dados financeiros de empresas listadas da Bolsa de Valores na CVM e criar arquivos históricos"
      ],
      "metadata": {
        "id": "XjVT7cICYlt4"
      }
    },
    {
      "cell_type": "code",
      "source": [
        "# Montar drive para armazenar arquivos\n",
        "drive.mount('/content/gdrive')"
      ],
      "metadata": {
        "colab": {
          "base_uri": "https://localhost:8080/"
        },
        "id": "uix46Z21ylAa",
        "outputId": "2c0ef540-545c-4a48-d0e7-ae82891af7bc"
      },
      "execution_count": 3,
      "outputs": [
        {
          "output_type": "stream",
          "name": "stdout",
          "text": [
            "Mounted at /content/gdrive\n"
          ]
        }
      ]
    },
    {
      "cell_type": "code",
      "source": [
        "# Coletar dados financeiros das empresas na CVM\n",
        "# Função para baixar arquivos CVM\n",
        "def baixarArquivosCVM(AnoInicio, AnoFim):\n",
        "  url_base = 'http://dados.cvm.gov.br/dados/CIA_ABERTA/DOC/DFP/DADOS/'\n",
        "  arquivos_zip = []\n",
        "  # Criar pasta DADOS no google drive\n",
        "  if path.exists('/content/gdrive/MyDrive/IGTI/ProjetoAplicado/DADOS') == False:\n",
        "    os.mkdir('/content/gdrive/MyDrive/IGTI/ProjetoAplicado/DADOS')\n",
        "\n",
        "  os.chdir('/content/gdrive/MyDrive/IGTI/ProjetoAplicado/DADOS')\n",
        "\n",
        "  # Cria as descrições dos arquivos pelos anos informados\n",
        "  for ano in range(AnoInicio,AnoFim):\n",
        "    arquivos_zip.append(f'dfp_cia_aberta_{ano}.zip')\n",
        "  arquivos_zip\n",
        "\n",
        "  # 1. Baixar arquivos .zip da CVM considerando os anos de início e fim informados\n",
        "  \n",
        "  # Faz o download dos arquivos da CVM\n",
        "  for arq in arquivos_zip:\n",
        "    wget.download(url_base+arq)\n",
        "\n",
        "  # 2. Descompactar os arquivos na pasta CVM\n",
        "  for arq in arquivos_zip:\n",
        "    ZipFile(arq, 'r').extractall('CVM')\n",
        "\n",
        "  # 3. Unificar os arquivos por seus tipos. Ex. BPP/DRE\n",
        "  \n",
        "  # Cria o diretorio para unificar os dados\n",
        "  if path.exists('/content/gdrive/MyDrive/IGTI/ProjetoAplicado/DADOS/UNIFICADOS') == False:\n",
        "    os.mkdir('/content/gdrive/MyDrive/IGTI/ProjetoAplicado/DADOS/UNIFICADOS')  \n",
        "\n",
        "  nomes = ['BPA_con', 'BPA_ind', 'BPP_con', 'BPP_ind', 'DFC_MD_con', 'DFC_MD_ind', 'DFC_MI_con', 'DFC_MI_ind', 'DMPL_con', 'DMPL_ind', 'DRA_con', 'DRA_ind', 'DRE_con', 'DRE_ind', 'DVA_con', 'DVA_ind']\n",
        "  for nome in nomes:\n",
        "    arquivo = pd.DataFrame()\n",
        "\n",
        "    for ano in range(AnoInicio,AnoFim):\n",
        "      arquivo = pd.concat([arquivo, pd.read_csv(f'CVM/dfp_cia_aberta_{nome}_{ano}.csv', sep=';', decimal=',', encoding='ISO-8859-1')])\n",
        "    arquivo.to_csv(f'UNIFICADOS/dfp_cia_aberta_{nome}_{AnoInicio}-{AnoFim}.csv', index = False)\n"
      ],
      "metadata": {
        "id": "CZfkXpFM1_Iv"
      },
      "execution_count": 7,
      "outputs": []
    },
    {
      "cell_type": "code",
      "source": [
        "# Executar a função para baixar arquivos CVM\n",
        "baixarArquivosCVM(2010, 2023) "
      ],
      "metadata": {
        "id": "1JLSMYeK1bHN"
      },
      "execution_count": 8,
      "outputs": []
    },
    {
      "cell_type": "markdown",
      "source": [
        "#### 2. \n",
        "Acessar dados financeiros para gerar indicadores fundamentalistas e calcular a fórmula de Graham\n"
      ],
      "metadata": {
        "id": "bhNsV06aezCL"
      }
    },
    {
      "cell_type": "code",
      "source": [
        "# Analisar DRE e BPP para calcular indicadores/fórmula de Graham de empresas selecionadas: BCO BRASIL S.A., ENGIE BRASIL ENERGIA S.A. e WEG S.A.\n",
        "# Função para gerar indicadores fundamentalistas\n",
        "def gerarIndicadoresFundamentalistas(Empresa):\n",
        "  # Acesso os arquivos da CVM - DRE e BPP\n",
        "  dre = pd.read_csv('/content/gdrive/MyDrive/IGTI/ProjetoAplicado/DADOS/UNIFICADOS/dfp_cia_aberta_DRE_con_2010-2023.csv')\n",
        "  bpp = pd.read_csv('/content/gdrive/MyDrive/IGTI/ProjetoAplicado/DADOS/UNIFICADOS/dfp_cia_aberta_BPP_con_2010-2023.csv')\n",
        "\n",
        "  # Seleciona o último exercício informado\n",
        "  dre = dre[dre['ORDEM_EXERC'] == \"ÚLTIMO\"]\n",
        "  bpp = bpp[bpp['ORDEM_EXERC'] == \"ÚLTIMO\"]\n",
        "\n",
        "  # Seleciona a empresa a partir do parametro passado\n",
        "  empresaDRE = dre[dre['DENOM_CIA'].isin([Empresa])]\n",
        "  empresaBPP = bpp[bpp['DENOM_CIA'].isin([Empresa])]\n",
        "\n",
        "  # Seleciona as informações de LPA(lucro por ação), Lucro e Patrimonio Liquido a partir das contas contabeis\n",
        "  contaLPA = empresaDRE[empresaDRE['CD_CONTA'] == '3.99.01.01']\n",
        "  contaLucro = empresaDRE[empresaDRE['DS_CONTA'].isin(['Lucro/Prejuízo Consolidado do Período', 'Lucro ou Prejuízo Líquido Consolidado do Período'])]\n",
        "  contaPatrimonioLiquido = empresaBPP[empresaBPP['DS_CONTA'] == 'Patrimônio Líquido Consolidado']\n",
        "\n",
        "  # Seleciona as informações e renomeia a coluna - LPA\n",
        "  contaLPA = contaLPA[['DT_REFER', 'DENOM_CIA', 'VL_CONTA']]\n",
        "  contaLPA.rename({'VL_CONTA':'LPA'}, axis=1, inplace=True)\n",
        "  contaLPA['LPA'] = round(contaLPA['LPA'],2)\n",
        "\n",
        "  # Seleciona as informações e renomeia a coluna - Lucro\n",
        "  contaLucro = contaLucro[['DT_REFER', 'DENOM_CIA', 'VL_CONTA']]\n",
        "  contaLucro.rename({'VL_CONTA':'LUCRO'}, axis=1, inplace=True)\n",
        "  contaLucro['LUCRO'] = contaLucro['LUCRO']*1000\n",
        "\n",
        "  # Seleciona as informações e renomeia a coluna - Patrimonio Liquido\n",
        "  contaPatrimonioLiquido = contaPatrimonioLiquido[['DT_REFER', 'DENOM_CIA', 'VL_CONTA']]\n",
        "  contaPatrimonioLiquido.rename({'VL_CONTA':'PATRIMONIO_LIQUIDO'}, axis=1, inplace=True)\n",
        "  contaPatrimonioLiquido['PATRIMONIO_LIQUIDO'] = contaPatrimonioLiquido['PATRIMONIO_LIQUIDO']*1000\n",
        "\n",
        "  # Cria um data frame unificado de contaLPA, contaLucro e contaPatrimonioLiquido\n",
        "  contaLPA_contaLucro = pd.merge(contaLPA, contaLucro, on = ['DENOM_CIA', 'DT_REFER']).sort_values('DT_REFER')\n",
        "  contaLPA_contaLucro_contaPatrimonioLiquido = pd.merge(contaLPA_contaLucro, contaPatrimonioLiquido, on = ['DENOM_CIA', 'DT_REFER']).sort_values('DT_REFER')\n",
        "\n",
        "  # Calcula a quantidade de ações a partir do lucro dividido por lucro por ação\n",
        "  contaLPA_contaLucro_contaPatrimonioLiquido['QTDE_ACOES'] = contaLPA_contaLucro_contaPatrimonioLiquido['LUCRO']/contaLPA_contaLucro_contaPatrimonioLiquido['LPA']\n",
        "  contaLPA_contaLucro_contaPatrimonioLiquido['QTDE_ACOES'] = contaLPA_contaLucro_contaPatrimonioLiquido['QTDE_ACOES'].values.astype(np.int64)\n",
        "\n",
        "  # Calcula o VPA(valor patrimonial por ação) dividindo o valor do patrimonio liquido pela quantidade de ações\n",
        "  contaLPA_contaLucro_contaPatrimonioLiquido['VPA'] = round(contaLPA_contaLucro_contaPatrimonioLiquido['PATRIMONIO_LIQUIDO']/contaLPA_contaLucro_contaPatrimonioLiquido['QTDE_ACOES'],2)\n",
        "\n",
        "  # Calcula o valor intrinseco da Formula de Graham\n",
        "  contaLPA_contaLucro_contaPatrimonioLiquido['VI_GRAHAM'] = round(np.sqrt(contaLPA_contaLucro_contaPatrimonioLiquido['VPA'] * contaLPA_contaLucro_contaPatrimonioLiquido['LPA'] * 22.5),2)\n",
        "\n",
        "  # Cria o data frame indicadoresFundamentalistas\n",
        "  indicadoresFundamentalistas = contaLPA_contaLucro_contaPatrimonioLiquido\n",
        "\n",
        "  # Cria o index a partir da DT_REFER\n",
        "  indicadoresFundamentalistas.index = pd.to_datetime(indicadoresFundamentalistas['DT_REFER'])\n",
        "\n",
        "  # Remove a coluna DT_REFER depois de criar o indice\n",
        "  del indicadoresFundamentalistas['DT_REFER']\n",
        "\n",
        "  # Retorna o data frame com as informações tratadas\n",
        "  return indicadoresFundamentalistas"
      ],
      "metadata": {
        "id": "Wr2JgWeDQY-b"
      },
      "execution_count": 20,
      "outputs": []
    },
    {
      "cell_type": "code",
      "source": [
        "DataTable(gerarIndicadoresFundamentalistas('WEG S.A.'))"
      ],
      "metadata": {
        "id": "uzRk33Vj0uLG",
        "colab": {
          "base_uri": "https://localhost:8080/",
          "height": 348
        },
        "outputId": "b574d0a7-56f5-4e75-9b33-e0286d4af260"
      },
      "execution_count": 22,
      "outputs": [
        {
          "output_type": "execute_result",
          "data": {
            "text/html": [
              "<div>\n",
              "<style scoped>\n",
              "    .dataframe tbody tr th:only-of-type {\n",
              "        vertical-align: middle;\n",
              "    }\n",
              "\n",
              "    .dataframe tbody tr th {\n",
              "        vertical-align: top;\n",
              "    }\n",
              "\n",
              "    .dataframe thead th {\n",
              "        text-align: right;\n",
              "    }\n",
              "</style>\n",
              "<table border=\"1\" class=\"dataframe\">\n",
              "  <thead>\n",
              "    <tr style=\"text-align: right;\">\n",
              "      <th></th>\n",
              "      <th>DENOM_CIA</th>\n",
              "      <th>LPA</th>\n",
              "      <th>LUCRO</th>\n",
              "      <th>PATRIMONIO_LIQUIDO</th>\n",
              "      <th>QTDE_ACOES</th>\n",
              "      <th>VPA</th>\n",
              "      <th>VI_GRAHAM</th>\n",
              "    </tr>\n",
              "    <tr>\n",
              "      <th>DT_REFER</th>\n",
              "      <th></th>\n",
              "      <th></th>\n",
              "      <th></th>\n",
              "      <th></th>\n",
              "      <th></th>\n",
              "      <th></th>\n",
              "      <th></th>\n",
              "    </tr>\n",
              "  </thead>\n",
              "  <tbody>\n",
              "    <tr>\n",
              "      <th>2010-12-31</th>\n",
              "      <td>WEG S.A.</td>\n",
              "      <td>0.84</td>\n",
              "      <td>5.336340e+08</td>\n",
              "      <td>3.543836e+09</td>\n",
              "      <td>635278571</td>\n",
              "      <td>5.58</td>\n",
              "      <td>10.27</td>\n",
              "    </tr>\n",
              "    <tr>\n",
              "      <th>2011-12-31</th>\n",
              "      <td>WEG S.A.</td>\n",
              "      <td>0.95</td>\n",
              "      <td>6.070210e+08</td>\n",
              "      <td>3.906589e+09</td>\n",
              "      <td>638969473</td>\n",
              "      <td>6.11</td>\n",
              "      <td>11.43</td>\n",
              "    </tr>\n",
              "    <tr>\n",
              "      <th>2012-12-31</th>\n",
              "      <td>WEG S.A.</td>\n",
              "      <td>1.06</td>\n",
              "      <td>6.648640e+08</td>\n",
              "      <td>4.151626e+09</td>\n",
              "      <td>627230188</td>\n",
              "      <td>6.62</td>\n",
              "      <td>12.57</td>\n",
              "    </tr>\n",
              "    <tr>\n",
              "      <th>2013-12-31</th>\n",
              "      <td>WEG S.A.</td>\n",
              "      <td>1.36</td>\n",
              "      <td>8.453040e+08</td>\n",
              "      <td>4.642267e+09</td>\n",
              "      <td>621547058</td>\n",
              "      <td>7.47</td>\n",
              "      <td>15.12</td>\n",
              "    </tr>\n",
              "    <tr>\n",
              "      <th>2014-12-31</th>\n",
              "      <td>WEG S.A.</td>\n",
              "      <td>1.18</td>\n",
              "      <td>9.623160e+08</td>\n",
              "      <td>5.139263e+09</td>\n",
              "      <td>815522033</td>\n",
              "      <td>6.30</td>\n",
              "      <td>12.93</td>\n",
              "    </tr>\n",
              "    <tr>\n",
              "      <th>2015-12-31</th>\n",
              "      <td>WEG S.A.</td>\n",
              "      <td>0.72</td>\n",
              "      <td>1.165810e+09</td>\n",
              "      <td>6.156060e+09</td>\n",
              "      <td>1619180555</td>\n",
              "      <td>3.80</td>\n",
              "      <td>7.85</td>\n",
              "    </tr>\n",
              "    <tr>\n",
              "      <th>2016-12-31</th>\n",
              "      <td>WEG S.A.</td>\n",
              "      <td>0.69</td>\n",
              "      <td>1.127832e+09</td>\n",
              "      <td>6.070832e+09</td>\n",
              "      <td>1634539130</td>\n",
              "      <td>3.71</td>\n",
              "      <td>7.59</td>\n",
              "    </tr>\n",
              "    <tr>\n",
              "      <th>2017-12-31</th>\n",
              "      <td>WEG S.A.</td>\n",
              "      <td>0.71</td>\n",
              "      <td>1.140942e+09</td>\n",
              "      <td>6.843307e+09</td>\n",
              "      <td>1606960563</td>\n",
              "      <td>4.26</td>\n",
              "      <td>8.25</td>\n",
              "    </tr>\n",
              "    <tr>\n",
              "      <th>2018-12-31</th>\n",
              "      <td>WEG S.A.</td>\n",
              "      <td>0.64</td>\n",
              "      <td>1.344148e+09</td>\n",
              "      <td>7.853257e+09</td>\n",
              "      <td>2100231250</td>\n",
              "      <td>3.74</td>\n",
              "      <td>7.34</td>\n",
              "    </tr>\n",
              "    <tr>\n",
              "      <th>2019-12-31</th>\n",
              "      <td>WEG S.A.</td>\n",
              "      <td>0.77</td>\n",
              "      <td>1.632455e+09</td>\n",
              "      <td>8.929990e+09</td>\n",
              "      <td>2120071428</td>\n",
              "      <td>4.21</td>\n",
              "      <td>8.54</td>\n",
              "    </tr>\n",
              "    <tr>\n",
              "      <th>2020-12-31</th>\n",
              "      <td>WEG S.A.</td>\n",
              "      <td>1.12</td>\n",
              "      <td>2.395957e+09</td>\n",
              "      <td>1.193030e+10</td>\n",
              "      <td>2139247321</td>\n",
              "      <td>5.58</td>\n",
              "      <td>11.86</td>\n",
              "    </tr>\n",
              "    <tr>\n",
              "      <th>2021-12-31</th>\n",
              "      <td>WEG S.A.</td>\n",
              "      <td>0.85</td>\n",
              "      <td>3.657480e+09</td>\n",
              "      <td>1.401067e+10</td>\n",
              "      <td>4302917647</td>\n",
              "      <td>3.26</td>\n",
              "      <td>7.90</td>\n",
              "    </tr>\n",
              "  </tbody>\n",
              "</table>\n",
              "</div>"
            ],
            "application/vnd.google.colaboratory.module+javascript": "\n      import \"https://ssl.gstatic.com/colaboratory/data_table/f872b2c2305463fd/data_table.js\";\n\n      window.createDataTable({\n        data: [[\"2010-12-31 00:00:00\",\n\"WEG S.A.\",\n{\n            'v': 0.84,\n            'f': \"0.84\",\n        },\n{\n            'v': 533634000.0,\n            'f': \"533634000.0\",\n        },\n{\n            'v': 3543836000.0,\n            'f': \"3543836000.0\",\n        },\n{\n            'v': 635278571,\n            'f': \"635278571\",\n        },\n{\n            'v': 5.58,\n            'f': \"5.58\",\n        },\n{\n            'v': 10.27,\n            'f': \"10.27\",\n        }],\n [\"2011-12-31 00:00:00\",\n\"WEG S.A.\",\n{\n            'v': 0.95,\n            'f': \"0.95\",\n        },\n{\n            'v': 607021000.0,\n            'f': \"607021000.0\",\n        },\n{\n            'v': 3906589000.0,\n            'f': \"3906589000.0\",\n        },\n{\n            'v': 638969473,\n            'f': \"638969473\",\n        },\n{\n            'v': 6.11,\n            'f': \"6.11\",\n        },\n{\n            'v': 11.43,\n            'f': \"11.43\",\n        }],\n [\"2012-12-31 00:00:00\",\n\"WEG S.A.\",\n{\n            'v': 1.06,\n            'f': \"1.06\",\n        },\n{\n            'v': 664864000.0,\n            'f': \"664864000.0\",\n        },\n{\n            'v': 4151626000.0,\n            'f': \"4151626000.0\",\n        },\n{\n            'v': 627230188,\n            'f': \"627230188\",\n        },\n{\n            'v': 6.62,\n            'f': \"6.62\",\n        },\n{\n            'v': 12.57,\n            'f': \"12.57\",\n        }],\n [\"2013-12-31 00:00:00\",\n\"WEG S.A.\",\n{\n            'v': 1.36,\n            'f': \"1.36\",\n        },\n{\n            'v': 845304000.0,\n            'f': \"845304000.0\",\n        },\n{\n            'v': 4642267000.0,\n            'f': \"4642267000.0\",\n        },\n{\n            'v': 621547058,\n            'f': \"621547058\",\n        },\n{\n            'v': 7.47,\n            'f': \"7.47\",\n        },\n{\n            'v': 15.12,\n            'f': \"15.12\",\n        }],\n [\"2014-12-31 00:00:00\",\n\"WEG S.A.\",\n{\n            'v': 1.18,\n            'f': \"1.18\",\n        },\n{\n            'v': 962316000.0,\n            'f': \"962316000.0\",\n        },\n{\n            'v': 5139263000.0,\n            'f': \"5139263000.0\",\n        },\n{\n            'v': 815522033,\n            'f': \"815522033\",\n        },\n{\n            'v': 6.3,\n            'f': \"6.3\",\n        },\n{\n            'v': 12.93,\n            'f': \"12.93\",\n        }],\n [\"2015-12-31 00:00:00\",\n\"WEG S.A.\",\n{\n            'v': 0.72,\n            'f': \"0.72\",\n        },\n{\n            'v': 1165810000.0,\n            'f': \"1165810000.0\",\n        },\n{\n            'v': 6156060000.0,\n            'f': \"6156060000.0\",\n        },\n{\n            'v': 1619180555,\n            'f': \"1619180555\",\n        },\n{\n            'v': 3.8,\n            'f': \"3.8\",\n        },\n{\n            'v': 7.85,\n            'f': \"7.85\",\n        }],\n [\"2016-12-31 00:00:00\",\n\"WEG S.A.\",\n{\n            'v': 0.69,\n            'f': \"0.69\",\n        },\n{\n            'v': 1127832000.0,\n            'f': \"1127832000.0\",\n        },\n{\n            'v': 6070832000.0,\n            'f': \"6070832000.0\",\n        },\n{\n            'v': 1634539130,\n            'f': \"1634539130\",\n        },\n{\n            'v': 3.71,\n            'f': \"3.71\",\n        },\n{\n            'v': 7.59,\n            'f': \"7.59\",\n        }],\n [\"2017-12-31 00:00:00\",\n\"WEG S.A.\",\n{\n            'v': 0.71,\n            'f': \"0.71\",\n        },\n{\n            'v': 1140942000.0,\n            'f': \"1140942000.0\",\n        },\n{\n            'v': 6843307000.0,\n            'f': \"6843307000.0\",\n        },\n{\n            'v': 1606960563,\n            'f': \"1606960563\",\n        },\n{\n            'v': 4.26,\n            'f': \"4.26\",\n        },\n{\n            'v': 8.25,\n            'f': \"8.25\",\n        }],\n [\"2018-12-31 00:00:00\",\n\"WEG S.A.\",\n{\n            'v': 0.64,\n            'f': \"0.64\",\n        },\n{\n            'v': 1344148000.0,\n            'f': \"1344148000.0\",\n        },\n{\n            'v': 7853257000.0,\n            'f': \"7853257000.0\",\n        },\n{\n            'v': 2100231250,\n            'f': \"2100231250\",\n        },\n{\n            'v': 3.74,\n            'f': \"3.74\",\n        },\n{\n            'v': 7.34,\n            'f': \"7.34\",\n        }],\n [\"2019-12-31 00:00:00\",\n\"WEG S.A.\",\n{\n            'v': 0.77,\n            'f': \"0.77\",\n        },\n{\n            'v': 1632455000.0,\n            'f': \"1632455000.0\",\n        },\n{\n            'v': 8929990000.0,\n            'f': \"8929990000.0\",\n        },\n{\n            'v': 2120071428,\n            'f': \"2120071428\",\n        },\n{\n            'v': 4.21,\n            'f': \"4.21\",\n        },\n{\n            'v': 8.54,\n            'f': \"8.54\",\n        }],\n [\"2020-12-31 00:00:00\",\n\"WEG S.A.\",\n{\n            'v': 1.12,\n            'f': \"1.12\",\n        },\n{\n            'v': 2395957000.0,\n            'f': \"2395957000.0\",\n        },\n{\n            'v': 11930298000.0,\n            'f': \"11930298000.0\",\n        },\n{\n            'v': 2139247321,\n            'f': \"2139247321\",\n        },\n{\n            'v': 5.58,\n            'f': \"5.58\",\n        },\n{\n            'v': 11.86,\n            'f': \"11.86\",\n        }],\n [\"2021-12-31 00:00:00\",\n\"WEG S.A.\",\n{\n            'v': 0.85,\n            'f': \"0.85\",\n        },\n{\n            'v': 3657480000.0,\n            'f': \"3657480000.0\",\n        },\n{\n            'v': 14010672000.0,\n            'f': \"14010672000.0\",\n        },\n{\n            'v': 4302917647,\n            'f': \"4302917647\",\n        },\n{\n            'v': 3.26,\n            'f': \"3.26\",\n        },\n{\n            'v': 7.9,\n            'f': \"7.9\",\n        }]],\n        columns: [[\"string\", \"DT_REFER\"], [\"string\", \"DENOM_CIA\"], [\"number\", \"LPA\"], [\"number\", \"LUCRO\"], [\"number\", \"PATRIMONIO_LIQUIDO\"], [\"number\", \"QTDE_ACOES\"], [\"number\", \"VPA\"], [\"number\", \"VI_GRAHAM\"]],\n        columnOptions: [{\"width\": \"1px\", \"className\": \"index_column\"}],\n        rowsPerPage: 25,\n        helpUrl: \"https://colab.research.google.com/notebooks/data_table.ipynb\",\n        suppressOutputScrolling: true,\n        minimumWidth: undefined,\n      });\n    ",
            "text/plain": [
              "<google.colab.data_table.DataTable object>"
            ]
          },
          "metadata": {},
          "execution_count": 22
        }
      ]
    },
    {
      "cell_type": "code",
      "source": [
        "DataTable(gerarIndicadoresFundamentalistas('BCO BRASIL S.A.'))"
      ],
      "metadata": {
        "id": "MjzuMScBQfBR",
        "colab": {
          "base_uri": "https://localhost:8080/",
          "height": 348
        },
        "outputId": "6ef042cf-0c57-4a6c-f84c-50acf9ad721b"
      },
      "execution_count": 23,
      "outputs": [
        {
          "output_type": "execute_result",
          "data": {
            "text/html": [
              "<div>\n",
              "<style scoped>\n",
              "    .dataframe tbody tr th:only-of-type {\n",
              "        vertical-align: middle;\n",
              "    }\n",
              "\n",
              "    .dataframe tbody tr th {\n",
              "        vertical-align: top;\n",
              "    }\n",
              "\n",
              "    .dataframe thead th {\n",
              "        text-align: right;\n",
              "    }\n",
              "</style>\n",
              "<table border=\"1\" class=\"dataframe\">\n",
              "  <thead>\n",
              "    <tr style=\"text-align: right;\">\n",
              "      <th></th>\n",
              "      <th>DENOM_CIA</th>\n",
              "      <th>LPA</th>\n",
              "      <th>LUCRO</th>\n",
              "      <th>PATRIMONIO_LIQUIDO</th>\n",
              "      <th>QTDE_ACOES</th>\n",
              "      <th>VPA</th>\n",
              "      <th>VI_GRAHAM</th>\n",
              "    </tr>\n",
              "    <tr>\n",
              "      <th>DT_REFER</th>\n",
              "      <th></th>\n",
              "      <th></th>\n",
              "      <th></th>\n",
              "      <th></th>\n",
              "      <th></th>\n",
              "      <th></th>\n",
              "      <th></th>\n",
              "    </tr>\n",
              "  </thead>\n",
              "  <tbody>\n",
              "    <tr>\n",
              "      <th>2010-12-31</th>\n",
              "      <td>BCO BRASIL S.A.</td>\n",
              "      <td>4.17</td>\n",
              "      <td>1.133034e+10</td>\n",
              "      <td>5.441894e+10</td>\n",
              "      <td>2717109112</td>\n",
              "      <td>20.03</td>\n",
              "      <td>43.35</td>\n",
              "    </tr>\n",
              "    <tr>\n",
              "      <th>2011-12-31</th>\n",
              "      <td>BCO BRASIL S.A.</td>\n",
              "      <td>4.43</td>\n",
              "      <td>1.273691e+10</td>\n",
              "      <td>6.326922e+10</td>\n",
              "      <td>2875149435</td>\n",
              "      <td>22.01</td>\n",
              "      <td>46.84</td>\n",
              "    </tr>\n",
              "    <tr>\n",
              "      <th>2012-12-31</th>\n",
              "      <td>BCO BRASIL S.A.</td>\n",
              "      <td>3.93</td>\n",
              "      <td>1.143820e+10</td>\n",
              "      <td>6.989823e+10</td>\n",
              "      <td>2910483460</td>\n",
              "      <td>24.02</td>\n",
              "      <td>46.09</td>\n",
              "    </tr>\n",
              "    <tr>\n",
              "      <th>2013-12-31</th>\n",
              "      <td>BCO BRASIL S.A.</td>\n",
              "      <td>3.68</td>\n",
              "      <td>1.128883e+10</td>\n",
              "      <td>7.638200e+10</td>\n",
              "      <td>3067617934</td>\n",
              "      <td>24.90</td>\n",
              "      <td>45.41</td>\n",
              "    </tr>\n",
              "    <tr>\n",
              "      <th>2014-12-31</th>\n",
              "      <td>BCO BRASIL S.A.</td>\n",
              "      <td>4.23</td>\n",
              "      <td>1.334350e+10</td>\n",
              "      <td>8.544004e+10</td>\n",
              "      <td>3154490780</td>\n",
              "      <td>27.09</td>\n",
              "      <td>50.78</td>\n",
              "    </tr>\n",
              "    <tr>\n",
              "      <th>2015-12-31</th>\n",
              "      <td>BCO BRASIL S.A.</td>\n",
              "      <td>5.03</td>\n",
              "      <td>1.579804e+10</td>\n",
              "      <td>8.622999e+10</td>\n",
              "      <td>3140763220</td>\n",
              "      <td>27.46</td>\n",
              "      <td>55.75</td>\n",
              "    </tr>\n",
              "    <tr>\n",
              "      <th>2016-12-31</th>\n",
              "      <td>BCO BRASIL S.A.</td>\n",
              "      <td>2.52</td>\n",
              "      <td>8.659577e+09</td>\n",
              "      <td>9.007669e+10</td>\n",
              "      <td>3436340079</td>\n",
              "      <td>26.21</td>\n",
              "      <td>38.55</td>\n",
              "    </tr>\n",
              "    <tr>\n",
              "      <th>2017-12-31</th>\n",
              "      <td>BCO BRASIL S.A.</td>\n",
              "      <td>3.82</td>\n",
              "      <td>1.227530e+10</td>\n",
              "      <td>1.012384e+11</td>\n",
              "      <td>3213430104</td>\n",
              "      <td>31.50</td>\n",
              "      <td>52.03</td>\n",
              "    </tr>\n",
              "    <tr>\n",
              "      <th>2018-12-31</th>\n",
              "      <td>BCO BRASIL S.A.</td>\n",
              "      <td>4.96</td>\n",
              "      <td>1.508610e+10</td>\n",
              "      <td>1.045400e+11</td>\n",
              "      <td>3041552620</td>\n",
              "      <td>34.37</td>\n",
              "      <td>61.93</td>\n",
              "    </tr>\n",
              "    <tr>\n",
              "      <th>2019-12-31</th>\n",
              "      <td>BCO BRASIL S.A.</td>\n",
              "      <td>5.86</td>\n",
              "      <td>1.888832e+10</td>\n",
              "      <td>1.099714e+11</td>\n",
              "      <td>3223262457</td>\n",
              "      <td>34.12</td>\n",
              "      <td>67.07</td>\n",
              "    </tr>\n",
              "    <tr>\n",
              "      <th>2020-12-31</th>\n",
              "      <td>BCO BRASIL S.A.</td>\n",
              "      <td>4.16</td>\n",
              "      <td>1.329288e+10</td>\n",
              "      <td>1.278613e+11</td>\n",
              "      <td>3195404567</td>\n",
              "      <td>40.01</td>\n",
              "      <td>61.20</td>\n",
              "    </tr>\n",
              "    <tr>\n",
              "      <th>2021-12-31</th>\n",
              "      <td>BCO BRASIL S.A.</td>\n",
              "      <td>6.43</td>\n",
              "      <td>1.972287e+10</td>\n",
              "      <td>1.461102e+11</td>\n",
              "      <td>3067320528</td>\n",
              "      <td>47.63</td>\n",
              "      <td>83.01</td>\n",
              "    </tr>\n",
              "  </tbody>\n",
              "</table>\n",
              "</div>"
            ],
            "application/vnd.google.colaboratory.module+javascript": "\n      import \"https://ssl.gstatic.com/colaboratory/data_table/f872b2c2305463fd/data_table.js\";\n\n      window.createDataTable({\n        data: [[\"2010-12-31 00:00:00\",\n\"BCO BRASIL S.A.\",\n{\n            'v': 4.17,\n            'f': \"4.17\",\n        },\n{\n            'v': 11330345000.0,\n            'f': \"11330345000.0\",\n        },\n{\n            'v': 54418936000.0,\n            'f': \"54418936000.0\",\n        },\n{\n            'v': 2717109112,\n            'f': \"2717109112\",\n        },\n{\n            'v': 20.03,\n            'f': \"20.03\",\n        },\n{\n            'v': 43.35,\n            'f': \"43.35\",\n        }],\n [\"2011-12-31 00:00:00\",\n\"BCO BRASIL S.A.\",\n{\n            'v': 4.43,\n            'f': \"4.43\",\n        },\n{\n            'v': 12736912000.0,\n            'f': \"12736912000.0\",\n        },\n{\n            'v': 63269224000.0,\n            'f': \"63269224000.0\",\n        },\n{\n            'v': 2875149435,\n            'f': \"2875149435\",\n        },\n{\n            'v': 22.01,\n            'f': \"22.01\",\n        },\n{\n            'v': 46.84,\n            'f': \"46.84\",\n        }],\n [\"2012-12-31 00:00:00\",\n\"BCO BRASIL S.A.\",\n{\n            'v': 3.93,\n            'f': \"3.93\",\n        },\n{\n            'v': 11438200000.0,\n            'f': \"11438200000.0\",\n        },\n{\n            'v': 69898229000.0,\n            'f': \"69898229000.0\",\n        },\n{\n            'v': 2910483460,\n            'f': \"2910483460\",\n        },\n{\n            'v': 24.02,\n            'f': \"24.02\",\n        },\n{\n            'v': 46.09,\n            'f': \"46.09\",\n        }],\n [\"2013-12-31 00:00:00\",\n\"BCO BRASIL S.A.\",\n{\n            'v': 3.68,\n            'f': \"3.68\",\n        },\n{\n            'v': 11288834000.0,\n            'f': \"11288834000.0\",\n        },\n{\n            'v': 76381996000.0,\n            'f': \"76381996000.0\",\n        },\n{\n            'v': 3067617934,\n            'f': \"3067617934\",\n        },\n{\n            'v': 24.9,\n            'f': \"24.9\",\n        },\n{\n            'v': 45.41,\n            'f': \"45.41\",\n        }],\n [\"2014-12-31 00:00:00\",\n\"BCO BRASIL S.A.\",\n{\n            'v': 4.23,\n            'f': \"4.23\",\n        },\n{\n            'v': 13343496000.0,\n            'f': \"13343496000.0\",\n        },\n{\n            'v': 85440036000.0,\n            'f': \"85440036000.0\",\n        },\n{\n            'v': 3154490780,\n            'f': \"3154490780\",\n        },\n{\n            'v': 27.09,\n            'f': \"27.09\",\n        },\n{\n            'v': 50.78,\n            'f': \"50.78\",\n        }],\n [\"2015-12-31 00:00:00\",\n\"BCO BRASIL S.A.\",\n{\n            'v': 5.03,\n            'f': \"5.03\",\n        },\n{\n            'v': 15798039000.0,\n            'f': \"15798039000.0\",\n        },\n{\n            'v': 86229994000.0,\n            'f': \"86229994000.0\",\n        },\n{\n            'v': 3140763220,\n            'f': \"3140763220\",\n        },\n{\n            'v': 27.46,\n            'f': \"27.46\",\n        },\n{\n            'v': 55.75,\n            'f': \"55.75\",\n        }],\n [\"2016-12-31 00:00:00\",\n\"BCO BRASIL S.A.\",\n{\n            'v': 2.52,\n            'f': \"2.52\",\n        },\n{\n            'v': 8659577000.0,\n            'f': \"8659577000.0\",\n        },\n{\n            'v': 90076693000.0,\n            'f': \"90076693000.0\",\n        },\n{\n            'v': 3436340079,\n            'f': \"3436340079\",\n        },\n{\n            'v': 26.21,\n            'f': \"26.21\",\n        },\n{\n            'v': 38.55,\n            'f': \"38.55\",\n        }],\n [\"2017-12-31 00:00:00\",\n\"BCO BRASIL S.A.\",\n{\n            'v': 3.82,\n            'f': \"3.82\",\n        },\n{\n            'v': 12275303000.0,\n            'f': \"12275303000.0\",\n        },\n{\n            'v': 101238428000.0,\n            'f': \"101238428000.0\",\n        },\n{\n            'v': 3213430104,\n            'f': \"3213430104\",\n        },\n{\n            'v': 31.5,\n            'f': \"31.5\",\n        },\n{\n            'v': 52.03,\n            'f': \"52.03\",\n        }],\n [\"2018-12-31 00:00:00\",\n\"BCO BRASIL S.A.\",\n{\n            'v': 4.96,\n            'f': \"4.96\",\n        },\n{\n            'v': 15086101000.0,\n            'f': \"15086101000.0\",\n        },\n{\n            'v': 104539971000.0,\n            'f': \"104539971000.0\",\n        },\n{\n            'v': 3041552620,\n            'f': \"3041552620\",\n        },\n{\n            'v': 34.37,\n            'f': \"34.37\",\n        },\n{\n            'v': 61.93,\n            'f': \"61.93\",\n        }],\n [\"2019-12-31 00:00:00\",\n\"BCO BRASIL S.A.\",\n{\n            'v': 5.86,\n            'f': \"5.86\",\n        },\n{\n            'v': 18888318000.0,\n            'f': \"18888318000.0\",\n        },\n{\n            'v': 109971379000.0,\n            'f': \"109971379000.0\",\n        },\n{\n            'v': 3223262457,\n            'f': \"3223262457\",\n        },\n{\n            'v': 34.12,\n            'f': \"34.12\",\n        },\n{\n            'v': 67.07,\n            'f': \"67.07\",\n        }],\n [\"2020-12-31 00:00:00\",\n\"BCO BRASIL S.A.\",\n{\n            'v': 4.16,\n            'f': \"4.16\",\n        },\n{\n            'v': 13292883000.0,\n            'f': \"13292883000.0\",\n        },\n{\n            'v': 127861284000.0,\n            'f': \"127861284000.0\",\n        },\n{\n            'v': 3195404567,\n            'f': \"3195404567\",\n        },\n{\n            'v': 40.01,\n            'f': \"40.01\",\n        },\n{\n            'v': 61.2,\n            'f': \"61.2\",\n        }],\n [\"2021-12-31 00:00:00\",\n\"BCO BRASIL S.A.\",\n{\n            'v': 6.43,\n            'f': \"6.43\",\n        },\n{\n            'v': 19722871000.0,\n            'f': \"19722871000.0\",\n        },\n{\n            'v': 146110233000.0,\n            'f': \"146110233000.0\",\n        },\n{\n            'v': 3067320528,\n            'f': \"3067320528\",\n        },\n{\n            'v': 47.63,\n            'f': \"47.63\",\n        },\n{\n            'v': 83.01,\n            'f': \"83.01\",\n        }]],\n        columns: [[\"string\", \"DT_REFER\"], [\"string\", \"DENOM_CIA\"], [\"number\", \"LPA\"], [\"number\", \"LUCRO\"], [\"number\", \"PATRIMONIO_LIQUIDO\"], [\"number\", \"QTDE_ACOES\"], [\"number\", \"VPA\"], [\"number\", \"VI_GRAHAM\"]],\n        columnOptions: [{\"width\": \"1px\", \"className\": \"index_column\"}],\n        rowsPerPage: 25,\n        helpUrl: \"https://colab.research.google.com/notebooks/data_table.ipynb\",\n        suppressOutputScrolling: true,\n        minimumWidth: undefined,\n      });\n    ",
            "text/plain": [
              "<google.colab.data_table.DataTable object>"
            ]
          },
          "metadata": {},
          "execution_count": 23
        }
      ]
    },
    {
      "cell_type": "code",
      "source": [
        "DataTable(gerarIndicadoresFundamentalistas('ENGIE BRASIL ENERGIA S.A.'))"
      ],
      "metadata": {
        "id": "jMC3aJQJ2IjQ",
        "colab": {
          "base_uri": "https://localhost:8080/",
          "height": 348
        },
        "outputId": "b6f20337-9fb3-4379-cb22-82f6aaa1afa0"
      },
      "execution_count": 24,
      "outputs": [
        {
          "output_type": "execute_result",
          "data": {
            "text/html": [
              "<div>\n",
              "<style scoped>\n",
              "    .dataframe tbody tr th:only-of-type {\n",
              "        vertical-align: middle;\n",
              "    }\n",
              "\n",
              "    .dataframe tbody tr th {\n",
              "        vertical-align: top;\n",
              "    }\n",
              "\n",
              "    .dataframe thead th {\n",
              "        text-align: right;\n",
              "    }\n",
              "</style>\n",
              "<table border=\"1\" class=\"dataframe\">\n",
              "  <thead>\n",
              "    <tr style=\"text-align: right;\">\n",
              "      <th></th>\n",
              "      <th>DENOM_CIA</th>\n",
              "      <th>LPA</th>\n",
              "      <th>LUCRO</th>\n",
              "      <th>PATRIMONIO_LIQUIDO</th>\n",
              "      <th>QTDE_ACOES</th>\n",
              "      <th>VPA</th>\n",
              "      <th>VI_GRAHAM</th>\n",
              "    </tr>\n",
              "    <tr>\n",
              "      <th>DT_REFER</th>\n",
              "      <th></th>\n",
              "      <th></th>\n",
              "      <th></th>\n",
              "      <th></th>\n",
              "      <th></th>\n",
              "      <th></th>\n",
              "      <th></th>\n",
              "    </tr>\n",
              "  </thead>\n",
              "  <tbody>\n",
              "    <tr>\n",
              "      <th>2010-12-31</th>\n",
              "      <td>ENGIE BRASIL ENERGIA S.A.</td>\n",
              "      <td>1.86</td>\n",
              "      <td>1.211649e+09</td>\n",
              "      <td>5.072684e+09</td>\n",
              "      <td>651424193</td>\n",
              "      <td>7.79</td>\n",
              "      <td>18.06</td>\n",
              "    </tr>\n",
              "    <tr>\n",
              "      <th>2011-12-31</th>\n",
              "      <td>ENGIE BRASIL ENERGIA S.A.</td>\n",
              "      <td>2.22</td>\n",
              "      <td>1.448106e+09</td>\n",
              "      <td>5.450258e+09</td>\n",
              "      <td>652300000</td>\n",
              "      <td>8.36</td>\n",
              "      <td>20.43</td>\n",
              "    </tr>\n",
              "    <tr>\n",
              "      <th>2012-12-31</th>\n",
              "      <td>ENGIE BRASIL ENERGIA S.A.</td>\n",
              "      <td>2.30</td>\n",
              "      <td>1.499923e+09</td>\n",
              "      <td>5.462840e+09</td>\n",
              "      <td>652140434</td>\n",
              "      <td>8.38</td>\n",
              "      <td>20.82</td>\n",
              "    </tr>\n",
              "    <tr>\n",
              "      <th>2013-12-31</th>\n",
              "      <td>ENGIE BRASIL ENERGIA S.A.</td>\n",
              "      <td>2.20</td>\n",
              "      <td>1.436747e+09</td>\n",
              "      <td>5.364611e+09</td>\n",
              "      <td>653066818</td>\n",
              "      <td>8.21</td>\n",
              "      <td>20.16</td>\n",
              "    </tr>\n",
              "    <tr>\n",
              "      <th>2014-12-31</th>\n",
              "      <td>ENGIE BRASIL ENERGIA S.A.</td>\n",
              "      <td>2.12</td>\n",
              "      <td>1.383105e+09</td>\n",
              "      <td>5.654949e+09</td>\n",
              "      <td>652408018</td>\n",
              "      <td>8.67</td>\n",
              "      <td>20.34</td>\n",
              "    </tr>\n",
              "    <tr>\n",
              "      <th>2015-12-31</th>\n",
              "      <td>ENGIE BRASIL ENERGIA S.A.</td>\n",
              "      <td>2.30</td>\n",
              "      <td>1.501303e+09</td>\n",
              "      <td>6.642136e+09</td>\n",
              "      <td>652740434</td>\n",
              "      <td>10.18</td>\n",
              "      <td>22.95</td>\n",
              "    </tr>\n",
              "    <tr>\n",
              "      <th>2016-12-31</th>\n",
              "      <td>ENGIE BRASIL ENERGIA S.A.</td>\n",
              "      <td>2.37</td>\n",
              "      <td>1.548301e+09</td>\n",
              "      <td>6.614394e+09</td>\n",
              "      <td>653291561</td>\n",
              "      <td>10.12</td>\n",
              "      <td>23.23</td>\n",
              "    </tr>\n",
              "    <tr>\n",
              "      <th>2017-12-31</th>\n",
              "      <td>ENGIE BRASIL ENERGIA S.A.</td>\n",
              "      <td>3.07</td>\n",
              "      <td>2.004559e+09</td>\n",
              "      <td>6.834725e+09</td>\n",
              "      <td>652950814</td>\n",
              "      <td>10.47</td>\n",
              "      <td>26.89</td>\n",
              "    </tr>\n",
              "    <tr>\n",
              "      <th>2018-12-31</th>\n",
              "      <td>ENGIE BRASIL ENERGIA S.A.</td>\n",
              "      <td>2.84</td>\n",
              "      <td>2.315407e+09</td>\n",
              "      <td>6.320577e+09</td>\n",
              "      <td>815284154</td>\n",
              "      <td>7.75</td>\n",
              "      <td>22.25</td>\n",
              "    </tr>\n",
              "    <tr>\n",
              "      <th>2019-12-31</th>\n",
              "      <td>ENGIE BRASIL ENERGIA S.A.</td>\n",
              "      <td>2.83</td>\n",
              "      <td>2.311099e+09</td>\n",
              "      <td>6.998820e+09</td>\n",
              "      <td>816642756</td>\n",
              "      <td>8.57</td>\n",
              "      <td>23.36</td>\n",
              "    </tr>\n",
              "    <tr>\n",
              "      <th>2020-12-31</th>\n",
              "      <td>ENGIE BRASIL ENERGIA S.A.</td>\n",
              "      <td>3.43</td>\n",
              "      <td>2.797268e+09</td>\n",
              "      <td>7.741998e+09</td>\n",
              "      <td>815530029</td>\n",
              "      <td>9.49</td>\n",
              "      <td>27.06</td>\n",
              "    </tr>\n",
              "    <tr>\n",
              "      <th>2021-12-31</th>\n",
              "      <td>ENGIE BRASIL ENERGIA S.A.</td>\n",
              "      <td>1.92</td>\n",
              "      <td>1.564970e+09</td>\n",
              "      <td>7.932597e+09</td>\n",
              "      <td>815088541</td>\n",
              "      <td>9.73</td>\n",
              "      <td>20.50</td>\n",
              "    </tr>\n",
              "  </tbody>\n",
              "</table>\n",
              "</div>"
            ],
            "application/vnd.google.colaboratory.module+javascript": "\n      import \"https://ssl.gstatic.com/colaboratory/data_table/f872b2c2305463fd/data_table.js\";\n\n      window.createDataTable({\n        data: [[\"2010-12-31 00:00:00\",\n\"ENGIE BRASIL ENERGIA S.A.\",\n{\n            'v': 1.86,\n            'f': \"1.86\",\n        },\n{\n            'v': 1211649000.0,\n            'f': \"1211649000.0\",\n        },\n{\n            'v': 5072684000.0,\n            'f': \"5072684000.0\",\n        },\n{\n            'v': 651424193,\n            'f': \"651424193\",\n        },\n{\n            'v': 7.79,\n            'f': \"7.79\",\n        },\n{\n            'v': 18.06,\n            'f': \"18.06\",\n        }],\n [\"2011-12-31 00:00:00\",\n\"ENGIE BRASIL ENERGIA S.A.\",\n{\n            'v': 2.22,\n            'f': \"2.22\",\n        },\n{\n            'v': 1448106000.0,\n            'f': \"1448106000.0\",\n        },\n{\n            'v': 5450258000.0,\n            'f': \"5450258000.0\",\n        },\n{\n            'v': 652300000,\n            'f': \"652300000\",\n        },\n{\n            'v': 8.36,\n            'f': \"8.36\",\n        },\n{\n            'v': 20.43,\n            'f': \"20.43\",\n        }],\n [\"2012-12-31 00:00:00\",\n\"ENGIE BRASIL ENERGIA S.A.\",\n{\n            'v': 2.3,\n            'f': \"2.3\",\n        },\n{\n            'v': 1499923000.0,\n            'f': \"1499923000.0\",\n        },\n{\n            'v': 5462840000.0,\n            'f': \"5462840000.0\",\n        },\n{\n            'v': 652140434,\n            'f': \"652140434\",\n        },\n{\n            'v': 8.38,\n            'f': \"8.38\",\n        },\n{\n            'v': 20.82,\n            'f': \"20.82\",\n        }],\n [\"2013-12-31 00:00:00\",\n\"ENGIE BRASIL ENERGIA S.A.\",\n{\n            'v': 2.2,\n            'f': \"2.2\",\n        },\n{\n            'v': 1436747000.0,\n            'f': \"1436747000.0\",\n        },\n{\n            'v': 5364611000.0,\n            'f': \"5364611000.0\",\n        },\n{\n            'v': 653066818,\n            'f': \"653066818\",\n        },\n{\n            'v': 8.21,\n            'f': \"8.21\",\n        },\n{\n            'v': 20.16,\n            'f': \"20.16\",\n        }],\n [\"2014-12-31 00:00:00\",\n\"ENGIE BRASIL ENERGIA S.A.\",\n{\n            'v': 2.12,\n            'f': \"2.12\",\n        },\n{\n            'v': 1383105000.0,\n            'f': \"1383105000.0\",\n        },\n{\n            'v': 5654949000.0,\n            'f': \"5654949000.0\",\n        },\n{\n            'v': 652408018,\n            'f': \"652408018\",\n        },\n{\n            'v': 8.67,\n            'f': \"8.67\",\n        },\n{\n            'v': 20.34,\n            'f': \"20.34\",\n        }],\n [\"2015-12-31 00:00:00\",\n\"ENGIE BRASIL ENERGIA S.A.\",\n{\n            'v': 2.3,\n            'f': \"2.3\",\n        },\n{\n            'v': 1501303000.0,\n            'f': \"1501303000.0\",\n        },\n{\n            'v': 6642136000.0,\n            'f': \"6642136000.0\",\n        },\n{\n            'v': 652740434,\n            'f': \"652740434\",\n        },\n{\n            'v': 10.18,\n            'f': \"10.18\",\n        },\n{\n            'v': 22.95,\n            'f': \"22.95\",\n        }],\n [\"2016-12-31 00:00:00\",\n\"ENGIE BRASIL ENERGIA S.A.\",\n{\n            'v': 2.37,\n            'f': \"2.37\",\n        },\n{\n            'v': 1548301000.0,\n            'f': \"1548301000.0\",\n        },\n{\n            'v': 6614394000.0,\n            'f': \"6614394000.0\",\n        },\n{\n            'v': 653291561,\n            'f': \"653291561\",\n        },\n{\n            'v': 10.12,\n            'f': \"10.12\",\n        },\n{\n            'v': 23.23,\n            'f': \"23.23\",\n        }],\n [\"2017-12-31 00:00:00\",\n\"ENGIE BRASIL ENERGIA S.A.\",\n{\n            'v': 3.07,\n            'f': \"3.07\",\n        },\n{\n            'v': 2004559000.0,\n            'f': \"2004559000.0\",\n        },\n{\n            'v': 6834725000.0,\n            'f': \"6834725000.0\",\n        },\n{\n            'v': 652950814,\n            'f': \"652950814\",\n        },\n{\n            'v': 10.47,\n            'f': \"10.47\",\n        },\n{\n            'v': 26.89,\n            'f': \"26.89\",\n        }],\n [\"2018-12-31 00:00:00\",\n\"ENGIE BRASIL ENERGIA S.A.\",\n{\n            'v': 2.84,\n            'f': \"2.84\",\n        },\n{\n            'v': 2315407000.0,\n            'f': \"2315407000.0\",\n        },\n{\n            'v': 6320577000.0,\n            'f': \"6320577000.0\",\n        },\n{\n            'v': 815284154,\n            'f': \"815284154\",\n        },\n{\n            'v': 7.75,\n            'f': \"7.75\",\n        },\n{\n            'v': 22.25,\n            'f': \"22.25\",\n        }],\n [\"2019-12-31 00:00:00\",\n\"ENGIE BRASIL ENERGIA S.A.\",\n{\n            'v': 2.83,\n            'f': \"2.83\",\n        },\n{\n            'v': 2311099000.0,\n            'f': \"2311099000.0\",\n        },\n{\n            'v': 6998820000.0,\n            'f': \"6998820000.0\",\n        },\n{\n            'v': 816642756,\n            'f': \"816642756\",\n        },\n{\n            'v': 8.57,\n            'f': \"8.57\",\n        },\n{\n            'v': 23.36,\n            'f': \"23.36\",\n        }],\n [\"2020-12-31 00:00:00\",\n\"ENGIE BRASIL ENERGIA S.A.\",\n{\n            'v': 3.43,\n            'f': \"3.43\",\n        },\n{\n            'v': 2797268000.0,\n            'f': \"2797268000.0\",\n        },\n{\n            'v': 7741998000.0,\n            'f': \"7741998000.0\",\n        },\n{\n            'v': 815530029,\n            'f': \"815530029\",\n        },\n{\n            'v': 9.49,\n            'f': \"9.49\",\n        },\n{\n            'v': 27.06,\n            'f': \"27.06\",\n        }],\n [\"2021-12-31 00:00:00\",\n\"ENGIE BRASIL ENERGIA S.A.\",\n{\n            'v': 1.92,\n            'f': \"1.92\",\n        },\n{\n            'v': 1564970000.0,\n            'f': \"1564970000.0\",\n        },\n{\n            'v': 7932597000.0,\n            'f': \"7932597000.0\",\n        },\n{\n            'v': 815088541,\n            'f': \"815088541\",\n        },\n{\n            'v': 9.73,\n            'f': \"9.73\",\n        },\n{\n            'v': 20.5,\n            'f': \"20.5\",\n        }]],\n        columns: [[\"string\", \"DT_REFER\"], [\"string\", \"DENOM_CIA\"], [\"number\", \"LPA\"], [\"number\", \"LUCRO\"], [\"number\", \"PATRIMONIO_LIQUIDO\"], [\"number\", \"QTDE_ACOES\"], [\"number\", \"VPA\"], [\"number\", \"VI_GRAHAM\"]],\n        columnOptions: [{\"width\": \"1px\", \"className\": \"index_column\"}],\n        rowsPerPage: 25,\n        helpUrl: \"https://colab.research.google.com/notebooks/data_table.ipynb\",\n        suppressOutputScrolling: true,\n        minimumWidth: undefined,\n      });\n    ",
            "text/plain": [
              "<google.colab.data_table.DataTable object>"
            ]
          },
          "metadata": {},
          "execution_count": 24
        }
      ]
    },
    {
      "cell_type": "code",
      "source": [
        "#empresas = dre[['DENOM_CIA', 'CD_CVM']].drop_duplicates().set_index('CD_CVM')\n",
        "#DataTable(empresas)"
      ],
      "metadata": {
        "id": "FcKWP_WegFm1"
      },
      "execution_count": null,
      "outputs": []
    },
    {
      "cell_type": "code",
      "source": [
        "#DataTable(empresaDRE[['CD_CONTA', 'DS_CONTA']].drop_duplicates().set_index('CD_CONTA'))\n",
        "#DataTable(empresaBPP[['CD_CONTA', 'DS_CONTA']].drop_duplicates().set_index('CD_CONTA'))"
      ],
      "metadata": {
        "id": "h_7Izw4JiJ7g"
      },
      "execution_count": null,
      "outputs": []
    },
    {
      "cell_type": "markdown",
      "source": [
        "#### 3. Baixar cotações diárias através do Yahoo Finance"
      ],
      "metadata": {
        "id": "qbK26Forjwdg"
      }
    },
    {
      "cell_type": "code",
      "source": [
        "!pip install yfinance"
      ],
      "metadata": {
        "colab": {
          "base_uri": "https://localhost:8080/"
        },
        "id": "xDK9C8yVj1TU",
        "outputId": "17b5f614-f99b-46e4-ba9c-ed6ee5290a6d"
      },
      "execution_count": null,
      "outputs": [
        {
          "output_type": "stream",
          "name": "stdout",
          "text": [
            "Looking in indexes: https://pypi.org/simple, https://us-python.pkg.dev/colab-wheels/public/simple/\n",
            "Requirement already satisfied: yfinance in /usr/local/lib/python3.7/dist-packages (0.1.70)\n",
            "Requirement already satisfied: pandas>=0.24.0 in /usr/local/lib/python3.7/dist-packages (from yfinance) (1.3.5)\n",
            "Requirement already satisfied: numpy>=1.15 in /usr/local/lib/python3.7/dist-packages (from yfinance) (1.21.6)\n",
            "Requirement already satisfied: lxml>=4.5.1 in /usr/local/lib/python3.7/dist-packages (from yfinance) (4.9.0)\n",
            "Requirement already satisfied: multitasking>=0.0.7 in /usr/local/lib/python3.7/dist-packages (from yfinance) (0.0.10)\n",
            "Requirement already satisfied: requests>=2.26 in /usr/local/lib/python3.7/dist-packages (from yfinance) (2.28.0)\n",
            "Requirement already satisfied: python-dateutil>=2.7.3 in /usr/local/lib/python3.7/dist-packages (from pandas>=0.24.0->yfinance) (2.8.2)\n",
            "Requirement already satisfied: pytz>=2017.3 in /usr/local/lib/python3.7/dist-packages (from pandas>=0.24.0->yfinance) (2022.1)\n",
            "Requirement already satisfied: six>=1.5 in /usr/local/lib/python3.7/dist-packages (from python-dateutil>=2.7.3->pandas>=0.24.0->yfinance) (1.15.0)\n",
            "Requirement already satisfied: certifi>=2017.4.17 in /usr/local/lib/python3.7/dist-packages (from requests>=2.26->yfinance) (2022.5.18.1)\n",
            "Requirement already satisfied: urllib3<1.27,>=1.21.1 in /usr/local/lib/python3.7/dist-packages (from requests>=2.26->yfinance) (1.24.3)\n",
            "Requirement already satisfied: charset-normalizer~=2.0.0 in /usr/local/lib/python3.7/dist-packages (from requests>=2.26->yfinance) (2.0.12)\n",
            "Requirement already satisfied: idna<4,>=2.5 in /usr/local/lib/python3.7/dist-packages (from requests>=2.26->yfinance) (2.10)\n"
          ]
        }
      ]
    },
    {
      "cell_type": "code",
      "source": [
        "import yfinance as yf"
      ],
      "metadata": {
        "id": "pb0S73BKkewB"
      },
      "execution_count": null,
      "outputs": []
    },
    {
      "cell_type": "code",
      "source": [
        "pricesBBAS3 = yf.download('BBAS3.SA', start='2011-01-01')[['Close', 'Adj Close']]\n",
        "pricesWEGE3 = yf.download('WEGE3.SA', start='2011-01-01')[['Close', 'Adj Close']]\n",
        "pricesEGIE3 = yf.download('EGIE3.SA', start='2011-01-01')[['Close', 'Adj Close']]"
      ],
      "metadata": {
        "colab": {
          "base_uri": "https://localhost:8080/"
        },
        "id": "wMRUxbY-kjsI",
        "outputId": "1f87efce-6bb7-40a3-a33e-4ac7def3be63"
      },
      "execution_count": null,
      "outputs": [
        {
          "output_type": "stream",
          "name": "stdout",
          "text": [
            "[*********************100%***********************]  1 of 1 completed\n",
            "[*********************100%***********************]  1 of 1 completed\n",
            "[*********************100%***********************]  1 of 1 completed\n"
          ]
        }
      ]
    },
    {
      "cell_type": "code",
      "source": [
        "pricesEGIE3.head()"
      ],
      "metadata": {
        "colab": {
          "base_uri": "https://localhost:8080/",
          "height": 238
        },
        "id": "XNS2n0Dmk19G",
        "outputId": "3d2a4870-3ca9-4283-8733-466df4cd8f2c"
      },
      "execution_count": null,
      "outputs": [
        {
          "output_type": "execute_result",
          "data": {
            "text/plain": [
              "                Close  Adj Close\n",
              "Date                            \n",
              "2011-01-03  21.440001  10.339413\n",
              "2011-01-04  21.160000  10.204383\n",
              "2011-01-05  21.520000  10.377994\n",
              "2011-01-06  21.799999  10.513021\n",
              "2011-01-07  21.879999  10.551603"
            ],
            "text/html": [
              "\n",
              "  <div id=\"df-7383839a-f42a-4113-a1b7-7af17e09acce\">\n",
              "    <div class=\"colab-df-container\">\n",
              "      <div>\n",
              "<style scoped>\n",
              "    .dataframe tbody tr th:only-of-type {\n",
              "        vertical-align: middle;\n",
              "    }\n",
              "\n",
              "    .dataframe tbody tr th {\n",
              "        vertical-align: top;\n",
              "    }\n",
              "\n",
              "    .dataframe thead th {\n",
              "        text-align: right;\n",
              "    }\n",
              "</style>\n",
              "<table border=\"1\" class=\"dataframe\">\n",
              "  <thead>\n",
              "    <tr style=\"text-align: right;\">\n",
              "      <th></th>\n",
              "      <th>Close</th>\n",
              "      <th>Adj Close</th>\n",
              "    </tr>\n",
              "    <tr>\n",
              "      <th>Date</th>\n",
              "      <th></th>\n",
              "      <th></th>\n",
              "    </tr>\n",
              "  </thead>\n",
              "  <tbody>\n",
              "    <tr>\n",
              "      <th>2011-01-03</th>\n",
              "      <td>21.440001</td>\n",
              "      <td>10.339413</td>\n",
              "    </tr>\n",
              "    <tr>\n",
              "      <th>2011-01-04</th>\n",
              "      <td>21.160000</td>\n",
              "      <td>10.204383</td>\n",
              "    </tr>\n",
              "    <tr>\n",
              "      <th>2011-01-05</th>\n",
              "      <td>21.520000</td>\n",
              "      <td>10.377994</td>\n",
              "    </tr>\n",
              "    <tr>\n",
              "      <th>2011-01-06</th>\n",
              "      <td>21.799999</td>\n",
              "      <td>10.513021</td>\n",
              "    </tr>\n",
              "    <tr>\n",
              "      <th>2011-01-07</th>\n",
              "      <td>21.879999</td>\n",
              "      <td>10.551603</td>\n",
              "    </tr>\n",
              "  </tbody>\n",
              "</table>\n",
              "</div>\n",
              "      <button class=\"colab-df-convert\" onclick=\"convertToInteractive('df-7383839a-f42a-4113-a1b7-7af17e09acce')\"\n",
              "              title=\"Convert this dataframe to an interactive table.\"\n",
              "              style=\"display:none;\">\n",
              "        \n",
              "  <svg xmlns=\"http://www.w3.org/2000/svg\" height=\"24px\"viewBox=\"0 0 24 24\"\n",
              "       width=\"24px\">\n",
              "    <path d=\"M0 0h24v24H0V0z\" fill=\"none\"/>\n",
              "    <path d=\"M18.56 5.44l.94 2.06.94-2.06 2.06-.94-2.06-.94-.94-2.06-.94 2.06-2.06.94zm-11 1L8.5 8.5l.94-2.06 2.06-.94-2.06-.94L8.5 2.5l-.94 2.06-2.06.94zm10 10l.94 2.06.94-2.06 2.06-.94-2.06-.94-.94-2.06-.94 2.06-2.06.94z\"/><path d=\"M17.41 7.96l-1.37-1.37c-.4-.4-.92-.59-1.43-.59-.52 0-1.04.2-1.43.59L10.3 9.45l-7.72 7.72c-.78.78-.78 2.05 0 2.83L4 21.41c.39.39.9.59 1.41.59.51 0 1.02-.2 1.41-.59l7.78-7.78 2.81-2.81c.8-.78.8-2.07 0-2.86zM5.41 20L4 18.59l7.72-7.72 1.47 1.35L5.41 20z\"/>\n",
              "  </svg>\n",
              "      </button>\n",
              "      \n",
              "  <style>\n",
              "    .colab-df-container {\n",
              "      display:flex;\n",
              "      flex-wrap:wrap;\n",
              "      gap: 12px;\n",
              "    }\n",
              "\n",
              "    .colab-df-convert {\n",
              "      background-color: #E8F0FE;\n",
              "      border: none;\n",
              "      border-radius: 50%;\n",
              "      cursor: pointer;\n",
              "      display: none;\n",
              "      fill: #1967D2;\n",
              "      height: 32px;\n",
              "      padding: 0 0 0 0;\n",
              "      width: 32px;\n",
              "    }\n",
              "\n",
              "    .colab-df-convert:hover {\n",
              "      background-color: #E2EBFA;\n",
              "      box-shadow: 0px 1px 2px rgba(60, 64, 67, 0.3), 0px 1px 3px 1px rgba(60, 64, 67, 0.15);\n",
              "      fill: #174EA6;\n",
              "    }\n",
              "\n",
              "    [theme=dark] .colab-df-convert {\n",
              "      background-color: #3B4455;\n",
              "      fill: #D2E3FC;\n",
              "    }\n",
              "\n",
              "    [theme=dark] .colab-df-convert:hover {\n",
              "      background-color: #434B5C;\n",
              "      box-shadow: 0px 1px 3px 1px rgba(0, 0, 0, 0.15);\n",
              "      filter: drop-shadow(0px 1px 2px rgba(0, 0, 0, 0.3));\n",
              "      fill: #FFFFFF;\n",
              "    }\n",
              "  </style>\n",
              "\n",
              "      <script>\n",
              "        const buttonEl =\n",
              "          document.querySelector('#df-7383839a-f42a-4113-a1b7-7af17e09acce button.colab-df-convert');\n",
              "        buttonEl.style.display =\n",
              "          google.colab.kernel.accessAllowed ? 'block' : 'none';\n",
              "\n",
              "        async function convertToInteractive(key) {\n",
              "          const element = document.querySelector('#df-7383839a-f42a-4113-a1b7-7af17e09acce');\n",
              "          const dataTable =\n",
              "            await google.colab.kernel.invokeFunction('convertToInteractive',\n",
              "                                                     [key], {});\n",
              "          if (!dataTable) return;\n",
              "\n",
              "          const docLinkHtml = 'Like what you see? Visit the ' +\n",
              "            '<a target=\"_blank\" href=https://colab.research.google.com/notebooks/data_table.ipynb>data table notebook</a>'\n",
              "            + ' to learn more about interactive tables.';\n",
              "          element.innerHTML = '';\n",
              "          dataTable['output_type'] = 'display_data';\n",
              "          await google.colab.output.renderOutput(dataTable, element);\n",
              "          const docLink = document.createElement('div');\n",
              "          docLink.innerHTML = docLinkHtml;\n",
              "          element.appendChild(docLink);\n",
              "        }\n",
              "      </script>\n",
              "    </div>\n",
              "  </div>\n",
              "  "
            ]
          },
          "metadata": {},
          "execution_count": 44
        }
      ]
    },
    {
      "cell_type": "markdown",
      "source": [
        "#### 4. Juntar as cotações diárias com os indicadores fundamentalistas"
      ],
      "metadata": {
        "id": "voqHS5djYBb5"
      }
    },
    {
      "cell_type": "code",
      "source": [
        "indicadoresBBAS3 = pricesBBAS3.join(gerarIndicadoresFundamentalistas('BCO BRASIL S.A.'), how = 'outer')\n",
        "indicadoresWEGE3 = pricesWEGE3.join(gerarIndicadoresFundamentalistas(\"WEG S.A.\"), how = 'outer')\n",
        "indicadoresEGIE3 = pricesEGIE3.join(gerarIndicadoresFundamentalistas(\"ENGIE BRASIL ENERGIA S.A.\"), how = 'outer')"
      ],
      "metadata": {
        "id": "EhdbwrIxlVd6"
      },
      "execution_count": null,
      "outputs": []
    },
    {
      "cell_type": "code",
      "source": [
        "indicadoresEGIE3.head()"
      ],
      "metadata": {
        "id": "fztIxox-md48"
      },
      "execution_count": null,
      "outputs": []
    },
    {
      "cell_type": "code",
      "source": [
        "# Preencher os dados fundamentalistas a partir da data de disponibilização para o ano seguinte\n",
        "indicadoresBBAS3.fillna(method='ffill', inplace = True)\n",
        "indicadoresWEGE3.fillna(method='ffill', inplace = True)\n",
        "indicadoresEGIE3.fillna(method='ffill', inplace = True)"
      ],
      "metadata": {
        "id": "DgBId58rnFdI"
      },
      "execution_count": null,
      "outputs": []
    },
    {
      "cell_type": "code",
      "source": [
        "indicadoresEGIE3"
      ],
      "metadata": {
        "id": "QSP8xrvundHH"
      },
      "execution_count": null,
      "outputs": []
    },
    {
      "cell_type": "code",
      "source": [
        "# Remover as linhas nulas referente aos dados de Fechamento(Close) e Fechamento ajustado(Adj Close)\n",
        "indicadoresBBAS3.dropna(inplace = True)\n",
        "indicadoresWEGE3.dropna(inplace = True)\n",
        "indicadoresEGIE3.dropna(inplace = True)"
      ],
      "metadata": {
        "id": "pP2SnCxCnokw"
      },
      "execution_count": null,
      "outputs": []
    },
    {
      "cell_type": "code",
      "source": [
        "indicadoresEGIE3"
      ],
      "metadata": {
        "id": "n-pz-bVJn0Wl"
      },
      "execution_count": null,
      "outputs": []
    },
    {
      "cell_type": "code",
      "source": [
        "indicadores = pd.concat([indicadoresBBAS3, indicadoresWEGE3, indicadoresEGIE3])"
      ],
      "metadata": {
        "id": "wS-2ttCcUtnp"
      },
      "execution_count": null,
      "outputs": []
    },
    {
      "cell_type": "code",
      "source": [
        "indicadores"
      ],
      "metadata": {
        "id": "zeG0I_j0U5LQ"
      },
      "execution_count": null,
      "outputs": []
    },
    {
      "cell_type": "code",
      "source": [
        "# Exportar os dados em formato csv para fazer dashboard pelo Google Data Studio\n",
        "indicadores.to_csv('indicadores_BBAS3_EGIE3_WEGE3.csv', index = True, sep = ';', decimal = '.')"
      ],
      "metadata": {
        "id": "d3G39_4Hq8Le"
      },
      "execution_count": null,
      "outputs": []
    },
    {
      "cell_type": "code",
      "source": [
        "# Gráfico comparando o Valor Intríseco de Graham com o Valor da Cotação diária\n",
        "fig = go.Figure()\n",
        "fig.add_trace(go.Scatter(x = indicadoresBBAS3.index, y = indicadoresBBAS3['VI_GRAHAM'],  name='Valor Intrínseco - GRAHAM'))\n",
        "fig.add_trace(go.Scatter(x = indicadoresBBAS3.index, y = indicadoresBBAS3['Close'],  name='BBAS3'))\n",
        "fig.add_trace(go.Scatter(x = indicadoresBBAS3.index, y = indicadoresBBAS3['Adj Close'],  name='BBAS3_Ajustado'))"
      ],
      "metadata": {
        "id": "VEtYgY0yovCI"
      },
      "execution_count": null,
      "outputs": []
    },
    {
      "cell_type": "code",
      "source": [
        "# Gráfico comparando o Valor Intríseco de Graham com o Valor da Cotação diária\n",
        "fig = go.Figure()\n",
        "fig.add_trace(go.Scatter(x = indicadoresEGIE3.index, y = indicadoresEGIE3['VI_GRAHAM'],  name='Valor Intrínseco - GRAHAM'))\n",
        "fig.add_trace(go.Scatter(x = indicadoresEGIE3.index, y = indicadoresEGIE3['Close'],  name='EGIE3'))\n",
        "fig.add_trace(go.Scatter(x = indicadoresEGIE3.index, y = indicadoresEGIE3['Adj Close'],  name='EGIE3_Ajustado'))"
      ],
      "metadata": {
        "id": "cDZcaoVny7Mv"
      },
      "execution_count": null,
      "outputs": []
    },
    {
      "cell_type": "code",
      "source": [
        "# Gráfico comparando o Valor Intríseco de Graham com o Valor da Cotação diária\n",
        "fig = go.Figure()\n",
        "fig.add_trace(go.Scatter(x = indicadoresWEGE3.index, y = indicadoresWEGE3['VI_GRAHAM'],  name='Valor Intrínseco - GRAHAM'))\n",
        "fig.add_trace(go.Scatter(x = indicadoresWEGE3.index, y = indicadoresWEGE3['Close'],  name='WEGE3'))\n",
        "fig.add_trace(go.Scatter(x = indicadoresWEGE3.index, y = indicadoresWEGE3['Adj Close'],  name='WEGE3_Ajustado'))"
      ],
      "metadata": {
        "id": "rd_earRyYy8Z"
      },
      "execution_count": null,
      "outputs": []
    }
  ]
}