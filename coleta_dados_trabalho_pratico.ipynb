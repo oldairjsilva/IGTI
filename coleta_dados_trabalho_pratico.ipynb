{
  "cells": [
    {
      "cell_type": "markdown",
      "metadata": {
        "id": "view-in-github",
        "colab_type": "text"
      },
      "source": [
        "<a href=\"https://colab.research.google.com/github/oldairjsilva/IGTI/blob/main/coleta_dados_trabalho_pratico.ipynb\" target=\"_parent\"><img src=\"https://colab.research.google.com/assets/colab-badge.svg\" alt=\"Open In Colab\"/></a>"
      ]
    },
    {
      "cell_type": "markdown",
      "id": "0623547f",
      "metadata": {
        "id": "0623547f"
      },
      "source": [
        "# Coleta de dados estruturados em lista de arquivos"
      ]
    },
    {
      "cell_type": "code",
      "execution_count": null,
      "id": "22e13686",
      "metadata": {
        "id": "22e13686"
      },
      "outputs": [],
      "source": [
        "# Vamos importar as bibliotecas que vamos utilizar para essa prática\n",
        "import pandas as pd\n",
        "import os # bibliotecas para funções do sistema operacional"
      ]
    },
    {
      "cell_type": "code",
      "execution_count": null,
      "id": "a7e42646",
      "metadata": {
        "id": "a7e42646"
      },
      "outputs": [],
      "source": [
        "DIRETORIO = 'C:\\\\Projetos\\\\base_dados\\\\base_trabalho_pratico\\\\'"
      ]
    },
    {
      "cell_type": "code",
      "execution_count": null,
      "id": "817b5b70",
      "metadata": {
        "id": "817b5b70"
      },
      "outputs": [],
      "source": [
        "lista_df = [] # cria uma lista\n",
        "lista_path = os.listdir(DIRETORIO)"
      ]
    },
    {
      "cell_type": "code",
      "execution_count": null,
      "id": "65f4f710",
      "metadata": {
        "id": "65f4f710",
        "outputId": "3c0fa17e-6673-438a-d78f-fca03d2a8b9e"
      },
      "outputs": [
        {
          "data": {
            "text/plain": [
              "['2020-01-01.csv',\n",
              " '2020-01-02.csv',\n",
              " '2020-01-03.csv',\n",
              " '2020-01-04.csv',\n",
              " '2020-01-05.csv']"
            ]
          },
          "execution_count": 13,
          "metadata": {},
          "output_type": "execute_result"
        }
      ],
      "source": [
        "lista_path[:5]"
      ]
    },
    {
      "cell_type": "markdown",
      "id": "879e7001",
      "metadata": {
        "id": "879e7001"
      },
      "source": [
        "Ótimo! Agora temos todos os nomes dos arquivos que estão dentro do diretório. Agora vamos abrir cada arquivo e coltar os seus dados"
      ]
    },
    {
      "cell_type": "code",
      "execution_count": null,
      "id": "37aef52d",
      "metadata": {
        "id": "37aef52d"
      },
      "outputs": [],
      "source": [
        "lista_df = [] # cria uma lista vazia\n",
        "for arquivo in lista_path:\n",
        "    local_arquivo = os.path.join(DIRETORIO, arquivo)\n",
        "    df = pd.read_csv(local_arquivo, sep = '|', encoding = 'latin-1')\n",
        "    lista_df.append(df)\n",
        "df_unificado = pd.concat(lista_df) # Atribui os dados coletados em um dataframe"
      ]
    },
    {
      "cell_type": "code",
      "execution_count": null,
      "id": "b02428e0",
      "metadata": {
        "id": "b02428e0",
        "outputId": "4f88d08b-9841-4a52-86f7-cefc0889f365"
      },
      "outputs": [
        {
          "data": {
            "text/plain": [
              "pandas.core.frame.DataFrame"
            ]
          },
          "execution_count": 18,
          "metadata": {},
          "output_type": "execute_result"
        }
      ],
      "source": [
        "type(df_unificado)"
      ]
    },
    {
      "cell_type": "code",
      "execution_count": null,
      "id": "c01556eb",
      "metadata": {
        "id": "c01556eb",
        "outputId": "e03afbec-61e1-42f0-be92-17f210e55a3d"
      },
      "outputs": [
        {
          "data": {
            "text/html": [
              "<div>\n",
              "<style scoped>\n",
              "    .dataframe tbody tr th:only-of-type {\n",
              "        vertical-align: middle;\n",
              "    }\n",
              "\n",
              "    .dataframe tbody tr th {\n",
              "        vertical-align: top;\n",
              "    }\n",
              "\n",
              "    .dataframe thead th {\n",
              "        text-align: right;\n",
              "    }\n",
              "</style>\n",
              "<table border=\"1\" class=\"dataframe\">\n",
              "  <thead>\n",
              "    <tr style=\"text-align: right;\">\n",
              "      <th></th>\n",
              "      <th>cod_pessoa</th>\n",
              "      <th>data_coleta</th>\n",
              "      <th>genero</th>\n",
              "      <th>data_nascimento</th>\n",
              "      <th>animal_estimacao</th>\n",
              "      <th>clima</th>\n",
              "      <th>bebida_favorita</th>\n",
              "      <th>hobbies</th>\n",
              "    </tr>\n",
              "  </thead>\n",
              "  <tbody>\n",
              "    <tr>\n",
              "      <th>0</th>\n",
              "      <td>10141743</td>\n",
              "      <td>2020-01-01</td>\n",
              "      <td>Masculino</td>\n",
              "      <td>1981-04-25</td>\n",
              "      <td>peixe</td>\n",
              "      <td>frio</td>\n",
              "      <td>Cerveja</td>\n",
              "      <td>Praticar esporte</td>\n",
              "    </tr>\n",
              "    <tr>\n",
              "      <th>1</th>\n",
              "      <td>10141860</td>\n",
              "      <td>2020-01-01</td>\n",
              "      <td>Feminino</td>\n",
              "      <td>1966-01-19</td>\n",
              "      <td>peixe</td>\n",
              "      <td>quente</td>\n",
              "      <td>Café</td>\n",
              "      <td>Assistir TV</td>\n",
              "    </tr>\n",
              "    <tr>\n",
              "      <th>2</th>\n",
              "      <td>10142548</td>\n",
              "      <td>2020-01-01</td>\n",
              "      <td>Masculino</td>\n",
              "      <td>1973-08-02</td>\n",
              "      <td>tartaruga</td>\n",
              "      <td>frio</td>\n",
              "      <td>Café</td>\n",
              "      <td>Ler livros</td>\n",
              "    </tr>\n",
              "    <tr>\n",
              "      <th>3</th>\n",
              "      <td>10142591</td>\n",
              "      <td>2020-01-01</td>\n",
              "      <td>Masculino</td>\n",
              "      <td>1997-03-05</td>\n",
              "      <td>gato</td>\n",
              "      <td>moderado</td>\n",
              "      <td>Cerveja</td>\n",
              "      <td>Aprender algo novo</td>\n",
              "    </tr>\n",
              "    <tr>\n",
              "      <th>4</th>\n",
              "      <td>10142654</td>\n",
              "      <td>2020-01-01</td>\n",
              "      <td>Feminino</td>\n",
              "      <td>1969-08-05</td>\n",
              "      <td>tartaruga</td>\n",
              "      <td>moderado</td>\n",
              "      <td>Café</td>\n",
              "      <td>Assistir TV</td>\n",
              "    </tr>\n",
              "    <tr>\n",
              "      <th>0</th>\n",
              "      <td>10141523</td>\n",
              "      <td>2020-01-02</td>\n",
              "      <td>Feminino</td>\n",
              "      <td>1998-09-24</td>\n",
              "      <td>gato</td>\n",
              "      <td>quente</td>\n",
              "      <td>Cerveja</td>\n",
              "      <td>Aprender algo novo</td>\n",
              "    </tr>\n",
              "    <tr>\n",
              "      <th>1</th>\n",
              "      <td>10141996</td>\n",
              "      <td>2020-01-02</td>\n",
              "      <td>Feminino</td>\n",
              "      <td>1973-03-13</td>\n",
              "      <td>tartaruga</td>\n",
              "      <td>quente</td>\n",
              "      <td>refrigerante</td>\n",
              "      <td>Escrever</td>\n",
              "    </tr>\n",
              "    <tr>\n",
              "      <th>2</th>\n",
              "      <td>10142089</td>\n",
              "      <td>2020-01-02</td>\n",
              "      <td>Feminino</td>\n",
              "      <td>1970-03-23</td>\n",
              "      <td>gato</td>\n",
              "      <td>moderado</td>\n",
              "      <td>Água</td>\n",
              "      <td>Pintar quadros</td>\n",
              "    </tr>\n",
              "    <tr>\n",
              "      <th>3</th>\n",
              "      <td>10142145</td>\n",
              "      <td>2020-01-02</td>\n",
              "      <td>Masculino</td>\n",
              "      <td>1998-08-01</td>\n",
              "      <td>peixe</td>\n",
              "      <td>frio</td>\n",
              "      <td>refrigerante</td>\n",
              "      <td>Escrever</td>\n",
              "    </tr>\n",
              "    <tr>\n",
              "      <th>4</th>\n",
              "      <td>10142520</td>\n",
              "      <td>2020-01-02</td>\n",
              "      <td>Masculino</td>\n",
              "      <td>1994-05-09</td>\n",
              "      <td>peixe</td>\n",
              "      <td>moderado</td>\n",
              "      <td>Café</td>\n",
              "      <td>Praticar esporte</td>\n",
              "    </tr>\n",
              "  </tbody>\n",
              "</table>\n",
              "</div>"
            ],
            "text/plain": [
              "   cod_pessoa data_coleta     genero data_nascimento animal_estimacao  \\\n",
              "0    10141743  2020-01-01  Masculino      1981-04-25            peixe   \n",
              "1    10141860  2020-01-01   Feminino      1966-01-19            peixe   \n",
              "2    10142548  2020-01-01  Masculino      1973-08-02        tartaruga   \n",
              "3    10142591  2020-01-01  Masculino      1997-03-05             gato   \n",
              "4    10142654  2020-01-01   Feminino      1969-08-05        tartaruga   \n",
              "0    10141523  2020-01-02   Feminino      1998-09-24             gato   \n",
              "1    10141996  2020-01-02   Feminino      1973-03-13        tartaruga   \n",
              "2    10142089  2020-01-02   Feminino      1970-03-23             gato   \n",
              "3    10142145  2020-01-02  Masculino      1998-08-01            peixe   \n",
              "4    10142520  2020-01-02  Masculino      1994-05-09            peixe   \n",
              "\n",
              "      clima bebida_favorita             hobbies  \n",
              "0      frio         Cerveja    Praticar esporte  \n",
              "1    quente            Café         Assistir TV  \n",
              "2      frio            Café          Ler livros  \n",
              "3  moderado         Cerveja  Aprender algo novo  \n",
              "4  moderado            Café         Assistir TV  \n",
              "0    quente         Cerveja  Aprender algo novo  \n",
              "1    quente    refrigerante            Escrever  \n",
              "2  moderado            Água      Pintar quadros  \n",
              "3      frio    refrigerante            Escrever  \n",
              "4  moderado            Café    Praticar esporte  "
            ]
          },
          "execution_count": 19,
          "metadata": {},
          "output_type": "execute_result"
        }
      ],
      "source": [
        "df_unificado[:10]"
      ]
    },
    {
      "cell_type": "markdown",
      "id": "ec001221",
      "metadata": {
        "id": "ec001221"
      },
      "source": [
        "# Exportando dados para arquivo\n",
        "Agora que já temos todos os arquivos, vamos exportá-los apenas para um arquivo único"
      ]
    },
    {
      "cell_type": "code",
      "execution_count": null,
      "id": "98d6f989",
      "metadata": {
        "id": "98d6f989"
      },
      "outputs": [],
      "source": [
        "df_unificado.to_csv(DIRETORIO + 'df_unificado.csv', sep = ';', encoding = 'latin-1', index = False)"
      ]
    },
    {
      "cell_type": "markdown",
      "id": "da2d1247",
      "metadata": {
        "id": "da2d1247"
      },
      "source": [
        "# Trabalho prático - Modulo 2"
      ]
    },
    {
      "cell_type": "markdown",
      "id": "d7be29a9",
      "metadata": {
        "id": "d7be29a9"
      },
      "source": [
        "# Pergunta 1\n",
        "Quantas pessoas do gênero masculino gostam de tartaruga? "
      ]
    },
    {
      "cell_type": "code",
      "execution_count": null,
      "id": "55ce2c59",
      "metadata": {
        "id": "55ce2c59",
        "outputId": "43406c8d-0153-49b8-febf-0864d04411a0"
      },
      "outputs": [
        {
          "data": {
            "text/plain": [
              "(4254, 8)"
            ]
          },
          "execution_count": 24,
          "metadata": {},
          "output_type": "execute_result"
        }
      ],
      "source": [
        "df_unificado.shape"
      ]
    },
    {
      "cell_type": "code",
      "execution_count": null,
      "id": "dfd55420",
      "metadata": {
        "id": "dfd55420",
        "outputId": "60fb6957-c654-4ec6-fa63-09d317cbbfff"
      },
      "outputs": [
        {
          "data": {
            "text/html": [
              "<div>\n",
              "<style scoped>\n",
              "    .dataframe tbody tr th:only-of-type {\n",
              "        vertical-align: middle;\n",
              "    }\n",
              "\n",
              "    .dataframe tbody tr th {\n",
              "        vertical-align: top;\n",
              "    }\n",
              "\n",
              "    .dataframe thead th {\n",
              "        text-align: right;\n",
              "    }\n",
              "</style>\n",
              "<table border=\"1\" class=\"dataframe\">\n",
              "  <thead>\n",
              "    <tr style=\"text-align: right;\">\n",
              "      <th></th>\n",
              "      <th>cod_pessoa</th>\n",
              "      <th>data_coleta</th>\n",
              "      <th>genero</th>\n",
              "      <th>data_nascimento</th>\n",
              "      <th>clima</th>\n",
              "      <th>bebida_favorita</th>\n",
              "      <th>hobbies</th>\n",
              "    </tr>\n",
              "    <tr>\n",
              "      <th>animal_estimacao</th>\n",
              "      <th></th>\n",
              "      <th></th>\n",
              "      <th></th>\n",
              "      <th></th>\n",
              "      <th></th>\n",
              "      <th></th>\n",
              "      <th></th>\n",
              "    </tr>\n",
              "  </thead>\n",
              "  <tbody>\n",
              "    <tr>\n",
              "      <th>cachorro</th>\n",
              "      <td>828</td>\n",
              "      <td>828</td>\n",
              "      <td>828</td>\n",
              "      <td>828</td>\n",
              "      <td>828</td>\n",
              "      <td>828</td>\n",
              "      <td>828</td>\n",
              "    </tr>\n",
              "    <tr>\n",
              "      <th>gato</th>\n",
              "      <td>1728</td>\n",
              "      <td>1728</td>\n",
              "      <td>1728</td>\n",
              "      <td>1728</td>\n",
              "      <td>1728</td>\n",
              "      <td>1728</td>\n",
              "      <td>1728</td>\n",
              "    </tr>\n",
              "    <tr>\n",
              "      <th>peixe</th>\n",
              "      <td>864</td>\n",
              "      <td>864</td>\n",
              "      <td>864</td>\n",
              "      <td>864</td>\n",
              "      <td>864</td>\n",
              "      <td>864</td>\n",
              "      <td>864</td>\n",
              "    </tr>\n",
              "    <tr>\n",
              "      <th>tartaruga</th>\n",
              "      <td>834</td>\n",
              "      <td>834</td>\n",
              "      <td>834</td>\n",
              "      <td>834</td>\n",
              "      <td>834</td>\n",
              "      <td>834</td>\n",
              "      <td>834</td>\n",
              "    </tr>\n",
              "  </tbody>\n",
              "</table>\n",
              "</div>"
            ],
            "text/plain": [
              "                  cod_pessoa  data_coleta  genero  data_nascimento  clima  \\\n",
              "animal_estimacao                                                            \n",
              "cachorro                 828          828     828              828    828   \n",
              "gato                    1728         1728    1728             1728   1728   \n",
              "peixe                    864          864     864              864    864   \n",
              "tartaruga                834          834     834              834    834   \n",
              "\n",
              "                  bebida_favorita  hobbies  \n",
              "animal_estimacao                            \n",
              "cachorro                      828      828  \n",
              "gato                         1728     1728  \n",
              "peixe                         864      864  \n",
              "tartaruga                     834      834  "
            ]
          },
          "execution_count": 22,
          "metadata": {},
          "output_type": "execute_result"
        }
      ],
      "source": [
        "df_unificado.groupby('animal_estimacao').nunique.count()"
      ]
    },
    {
      "cell_type": "code",
      "execution_count": null,
      "id": "c4a1fc0c",
      "metadata": {
        "id": "c4a1fc0c",
        "outputId": "fc4a2206-f435-40ea-c51a-28d859d9dcb2"
      },
      "outputs": [
        {
          "data": {
            "text/plain": [
              "cod_pessoa          268\n",
              "data_coleta         194\n",
              "genero                1\n",
              "data_nascimento     267\n",
              "animal_estimacao      1\n",
              "clima                 3\n",
              "bebida_favorita       6\n",
              "hobbies               8\n",
              "idade                50\n",
              "dtype: int64"
            ]
          },
          "execution_count": 108,
          "metadata": {},
          "output_type": "execute_result"
        }
      ],
      "source": [
        "df_unificado.query('genero == \"Masculino\" and animal_estimacao == \"tartaruga\" ').nunique()"
      ]
    },
    {
      "cell_type": "markdown",
      "id": "c0069fe8",
      "metadata": {
        "id": "c0069fe8"
      },
      "source": [
        "# Pergunta 2\n",
        "Qual a média de idade dos homens que gostam de cerveja e clima quente?"
      ]
    },
    {
      "cell_type": "code",
      "execution_count": null,
      "id": "27b18749",
      "metadata": {
        "id": "27b18749",
        "outputId": "0723b278-fb8a-49e9-c7b0-bc644a16db95"
      },
      "outputs": [
        {
          "data": {
            "text/html": [
              "<div>\n",
              "<style scoped>\n",
              "    .dataframe tbody tr th:only-of-type {\n",
              "        vertical-align: middle;\n",
              "    }\n",
              "\n",
              "    .dataframe tbody tr th {\n",
              "        vertical-align: top;\n",
              "    }\n",
              "\n",
              "    .dataframe thead th {\n",
              "        text-align: right;\n",
              "    }\n",
              "</style>\n",
              "<table border=\"1\" class=\"dataframe\">\n",
              "  <thead>\n",
              "    <tr style=\"text-align: right;\">\n",
              "      <th></th>\n",
              "      <th>cod_pessoa</th>\n",
              "      <th>data_coleta</th>\n",
              "      <th>genero</th>\n",
              "      <th>data_nascimento</th>\n",
              "      <th>animal_estimacao</th>\n",
              "      <th>clima</th>\n",
              "      <th>bebida_favorita</th>\n",
              "      <th>hobbies</th>\n",
              "    </tr>\n",
              "  </thead>\n",
              "  <tbody>\n",
              "    <tr>\n",
              "      <th>3</th>\n",
              "      <td>10142733</td>\n",
              "      <td>2020-01-04</td>\n",
              "      <td>Masculino</td>\n",
              "      <td>1978-01-12</td>\n",
              "      <td>tartaruga</td>\n",
              "      <td>quente</td>\n",
              "      <td>Cerveja</td>\n",
              "      <td>Pintar quadros</td>\n",
              "    </tr>\n",
              "    <tr>\n",
              "      <th>1</th>\n",
              "      <td>10142310</td>\n",
              "      <td>2020-01-05</td>\n",
              "      <td>Masculino</td>\n",
              "      <td>1978-08-22</td>\n",
              "      <td>peixe</td>\n",
              "      <td>quente</td>\n",
              "      <td>Cerveja</td>\n",
              "      <td>Aprender algo novo</td>\n",
              "    </tr>\n",
              "    <tr>\n",
              "      <th>2</th>\n",
              "      <td>10143233</td>\n",
              "      <td>2020-01-06</td>\n",
              "      <td>Masculino</td>\n",
              "      <td>1987-02-25</td>\n",
              "      <td>tartaruga</td>\n",
              "      <td>quente</td>\n",
              "      <td>Cerveja</td>\n",
              "      <td>Pintar quadros</td>\n",
              "    </tr>\n",
              "    <tr>\n",
              "      <th>0</th>\n",
              "      <td>10141745</td>\n",
              "      <td>2020-01-07</td>\n",
              "      <td>Masculino</td>\n",
              "      <td>1982-10-19</td>\n",
              "      <td>cachorro</td>\n",
              "      <td>quente</td>\n",
              "      <td>Cerveja</td>\n",
              "      <td>Dormir</td>\n",
              "    </tr>\n",
              "    <tr>\n",
              "      <th>2</th>\n",
              "      <td>10142206</td>\n",
              "      <td>2020-01-10</td>\n",
              "      <td>Masculino</td>\n",
              "      <td>1997-09-29</td>\n",
              "      <td>cachorro</td>\n",
              "      <td>quente</td>\n",
              "      <td>Cerveja</td>\n",
              "      <td>Aprender algo novo</td>\n",
              "    </tr>\n",
              "    <tr>\n",
              "      <th>...</th>\n",
              "      <td>...</td>\n",
              "      <td>...</td>\n",
              "      <td>...</td>\n",
              "      <td>...</td>\n",
              "      <td>...</td>\n",
              "      <td>...</td>\n",
              "      <td>...</td>\n",
              "      <td>...</td>\n",
              "    </tr>\n",
              "    <tr>\n",
              "      <th>2083</th>\n",
              "      <td>10143114</td>\n",
              "      <td>2020-12-24</td>\n",
              "      <td>Masculino</td>\n",
              "      <td>1967-12-24</td>\n",
              "      <td>gato</td>\n",
              "      <td>quente</td>\n",
              "      <td>Cerveja</td>\n",
              "      <td>Praticar esporte</td>\n",
              "    </tr>\n",
              "    <tr>\n",
              "      <th>2095</th>\n",
              "      <td>10142126</td>\n",
              "      <td>2020-12-27</td>\n",
              "      <td>Masculino</td>\n",
              "      <td>1965-11-11</td>\n",
              "      <td>tartaruga</td>\n",
              "      <td>quente</td>\n",
              "      <td>Cerveja</td>\n",
              "      <td>Assistir TV</td>\n",
              "    </tr>\n",
              "    <tr>\n",
              "      <th>2106</th>\n",
              "      <td>10143087</td>\n",
              "      <td>2020-12-28</td>\n",
              "      <td>Masculino</td>\n",
              "      <td>1962-09-05</td>\n",
              "      <td>gato</td>\n",
              "      <td>quente</td>\n",
              "      <td>Cerveja</td>\n",
              "      <td>Aprender algo novo</td>\n",
              "    </tr>\n",
              "    <tr>\n",
              "      <th>2110</th>\n",
              "      <td>10141778</td>\n",
              "      <td>2020-12-29</td>\n",
              "      <td>Masculino</td>\n",
              "      <td>1967-11-14</td>\n",
              "      <td>tartaruga</td>\n",
              "      <td>quente</td>\n",
              "      <td>Cerveja</td>\n",
              "      <td>Dormir</td>\n",
              "    </tr>\n",
              "    <tr>\n",
              "      <th>2119</th>\n",
              "      <td>10143067</td>\n",
              "      <td>2020-12-30</td>\n",
              "      <td>Masculino</td>\n",
              "      <td>1961-12-25</td>\n",
              "      <td>peixe</td>\n",
              "      <td>quente</td>\n",
              "      <td>Cerveja</td>\n",
              "      <td>Escutar música</td>\n",
              "    </tr>\n",
              "  </tbody>\n",
              "</table>\n",
              "<p>152 rows × 8 columns</p>\n",
              "</div>"
            ],
            "text/plain": [
              "      cod_pessoa data_coleta     genero data_nascimento animal_estimacao  \\\n",
              "3       10142733  2020-01-04  Masculino      1978-01-12        tartaruga   \n",
              "1       10142310  2020-01-05  Masculino      1978-08-22            peixe   \n",
              "2       10143233  2020-01-06  Masculino      1987-02-25        tartaruga   \n",
              "0       10141745  2020-01-07  Masculino      1982-10-19         cachorro   \n",
              "2       10142206  2020-01-10  Masculino      1997-09-29         cachorro   \n",
              "...          ...         ...        ...             ...              ...   \n",
              "2083    10143114  2020-12-24  Masculino      1967-12-24             gato   \n",
              "2095    10142126  2020-12-27  Masculino      1965-11-11        tartaruga   \n",
              "2106    10143087  2020-12-28  Masculino      1962-09-05             gato   \n",
              "2110    10141778  2020-12-29  Masculino      1967-11-14        tartaruga   \n",
              "2119    10143067  2020-12-30  Masculino      1961-12-25            peixe   \n",
              "\n",
              "       clima bebida_favorita             hobbies  \n",
              "3     quente         Cerveja      Pintar quadros  \n",
              "1     quente         Cerveja  Aprender algo novo  \n",
              "2     quente         Cerveja      Pintar quadros  \n",
              "0     quente         Cerveja              Dormir  \n",
              "2     quente         Cerveja  Aprender algo novo  \n",
              "...      ...             ...                 ...  \n",
              "2083  quente         Cerveja    Praticar esporte  \n",
              "2095  quente         Cerveja         Assistir TV  \n",
              "2106  quente         Cerveja  Aprender algo novo  \n",
              "2110  quente         Cerveja              Dormir  \n",
              "2119  quente         Cerveja      Escutar música  \n",
              "\n",
              "[152 rows x 8 columns]"
            ]
          },
          "execution_count": 29,
          "metadata": {},
          "output_type": "execute_result"
        }
      ],
      "source": [
        "df_unificado.query('genero == \"Masculino\" and bebida_favorita == \"Cerveja\" and clima == \"quente\" ')"
      ]
    },
    {
      "cell_type": "code",
      "execution_count": null,
      "id": "74828509",
      "metadata": {
        "id": "74828509"
      },
      "outputs": [],
      "source": [
        "df_unificado['data_nascimento'] = pd.to_datetime(df_unificado['data_nascimento'])\n",
        "df_unificado['data_coleta'] = pd.to_datetime(df_unificado['data_coleta'])"
      ]
    },
    {
      "cell_type": "code",
      "execution_count": null,
      "id": "cf5389a2",
      "metadata": {
        "id": "cf5389a2",
        "outputId": "358a8e97-f4b8-4664-9b20-fb10b9ecc241"
      },
      "outputs": [
        {
          "data": {
            "text/plain": [
              "0       1981\n",
              "1       1966\n",
              "2       1973\n",
              "3       1997\n",
              "4       1969\n",
              "        ... \n",
              "2122    1955\n",
              "2123    1954\n",
              "2124    1952\n",
              "2125    1984\n",
              "2126    1971\n",
              "Name: data_nascimento, Length: 4254, dtype: int64"
            ]
          },
          "execution_count": 40,
          "metadata": {},
          "output_type": "execute_result"
        }
      ],
      "source": [
        "df_unificado['data_nascimento'].dt.year"
      ]
    },
    {
      "cell_type": "code",
      "execution_count": null,
      "id": "7bf6daa3",
      "metadata": {
        "id": "7bf6daa3"
      },
      "outputs": [],
      "source": [
        "df_unificado['idade'] = df_unificado['data_coleta'].dt.year - df_unificado['data_nascimento'].dt.year"
      ]
    },
    {
      "cell_type": "code",
      "execution_count": null,
      "id": "3941111a",
      "metadata": {
        "id": "3941111a",
        "outputId": "183acd3d-6cfa-47d9-9c57-8aff9306849b"
      },
      "outputs": [
        {
          "data": {
            "text/plain": [
              "0       39\n",
              "1       54\n",
              "2       47\n",
              "3       23\n",
              "4       51\n",
              "        ..\n",
              "2122    65\n",
              "2123    66\n",
              "2124    68\n",
              "2125    36\n",
              "2126    49\n",
              "Name: idade, Length: 4254, dtype: int64"
            ]
          },
          "execution_count": 42,
          "metadata": {},
          "output_type": "execute_result"
        }
      ],
      "source": [
        "df_unificado['idade']"
      ]
    },
    {
      "cell_type": "code",
      "execution_count": null,
      "id": "56772715",
      "metadata": {
        "id": "56772715",
        "outputId": "9421307f-6ade-4cca-9963-09fa0521b27c"
      },
      "outputs": [
        {
          "data": {
            "text/plain": [
              "cod_pessoa          4254\n",
              "data_coleta         4254\n",
              "genero              4254\n",
              "data_nascimento     4254\n",
              "animal_estimacao    4254\n",
              "clima               4254\n",
              "bebida_favorita     4254\n",
              "hobbies             4254\n",
              "idade               4254\n",
              "dtype: int64"
            ]
          },
          "execution_count": 80,
          "metadata": {},
          "output_type": "execute_result"
        }
      ],
      "source": [
        "df_unificado.isna().count()"
      ]
    },
    {
      "cell_type": "code",
      "execution_count": null,
      "id": "2e4875d6",
      "metadata": {
        "id": "2e4875d6",
        "outputId": "cca2ac9e-e487-4202-b966-0806b1e8bc17"
      },
      "outputs": [
        {
          "data": {
            "text/html": [
              "<div>\n",
              "<style scoped>\n",
              "    .dataframe tbody tr th:only-of-type {\n",
              "        vertical-align: middle;\n",
              "    }\n",
              "\n",
              "    .dataframe tbody tr th {\n",
              "        vertical-align: top;\n",
              "    }\n",
              "\n",
              "    .dataframe thead th {\n",
              "        text-align: right;\n",
              "    }\n",
              "</style>\n",
              "<table border=\"1\" class=\"dataframe\">\n",
              "  <thead>\n",
              "    <tr style=\"text-align: right;\">\n",
              "      <th></th>\n",
              "      <th>cod_pessoa</th>\n",
              "      <th>data_coleta</th>\n",
              "      <th>genero</th>\n",
              "      <th>data_nascimento</th>\n",
              "      <th>animal_estimacao</th>\n",
              "      <th>clima</th>\n",
              "      <th>bebida_favorita</th>\n",
              "      <th>hobbies</th>\n",
              "      <th>idade</th>\n",
              "    </tr>\n",
              "  </thead>\n",
              "  <tbody>\n",
              "    <tr>\n",
              "      <th>0</th>\n",
              "      <td>10141743</td>\n",
              "      <td>2020-01-01</td>\n",
              "      <td>Masculino</td>\n",
              "      <td>1981-04-25</td>\n",
              "      <td>peixe</td>\n",
              "      <td>frio</td>\n",
              "      <td>Cerveja</td>\n",
              "      <td>Praticar esporte</td>\n",
              "      <td>39</td>\n",
              "    </tr>\n",
              "    <tr>\n",
              "      <th>1</th>\n",
              "      <td>10141860</td>\n",
              "      <td>2020-01-01</td>\n",
              "      <td>Feminino</td>\n",
              "      <td>1966-01-19</td>\n",
              "      <td>peixe</td>\n",
              "      <td>quente</td>\n",
              "      <td>Café</td>\n",
              "      <td>Assistir TV</td>\n",
              "      <td>54</td>\n",
              "    </tr>\n",
              "    <tr>\n",
              "      <th>2</th>\n",
              "      <td>10142548</td>\n",
              "      <td>2020-01-01</td>\n",
              "      <td>Masculino</td>\n",
              "      <td>1973-08-02</td>\n",
              "      <td>tartaruga</td>\n",
              "      <td>frio</td>\n",
              "      <td>Café</td>\n",
              "      <td>Ler livros</td>\n",
              "      <td>47</td>\n",
              "    </tr>\n",
              "    <tr>\n",
              "      <th>3</th>\n",
              "      <td>10142591</td>\n",
              "      <td>2020-01-01</td>\n",
              "      <td>Masculino</td>\n",
              "      <td>1997-03-05</td>\n",
              "      <td>gato</td>\n",
              "      <td>moderado</td>\n",
              "      <td>Cerveja</td>\n",
              "      <td>Aprender algo novo</td>\n",
              "      <td>23</td>\n",
              "    </tr>\n",
              "    <tr>\n",
              "      <th>4</th>\n",
              "      <td>10142654</td>\n",
              "      <td>2020-01-01</td>\n",
              "      <td>Feminino</td>\n",
              "      <td>1969-08-05</td>\n",
              "      <td>tartaruga</td>\n",
              "      <td>moderado</td>\n",
              "      <td>Café</td>\n",
              "      <td>Assistir TV</td>\n",
              "      <td>51</td>\n",
              "    </tr>\n",
              "    <tr>\n",
              "      <th>...</th>\n",
              "      <td>...</td>\n",
              "      <td>...</td>\n",
              "      <td>...</td>\n",
              "      <td>...</td>\n",
              "      <td>...</td>\n",
              "      <td>...</td>\n",
              "      <td>...</td>\n",
              "      <td>...</td>\n",
              "      <td>...</td>\n",
              "    </tr>\n",
              "    <tr>\n",
              "      <th>2122</th>\n",
              "      <td>10142475</td>\n",
              "      <td>2020-12-31</td>\n",
              "      <td>Masculino</td>\n",
              "      <td>1955-05-30</td>\n",
              "      <td>peixe</td>\n",
              "      <td>quente</td>\n",
              "      <td>Café</td>\n",
              "      <td>Praticar esporte</td>\n",
              "      <td>65</td>\n",
              "    </tr>\n",
              "    <tr>\n",
              "      <th>2123</th>\n",
              "      <td>10142522</td>\n",
              "      <td>2020-12-31</td>\n",
              "      <td>Masculino</td>\n",
              "      <td>1954-12-22</td>\n",
              "      <td>peixe</td>\n",
              "      <td>moderado</td>\n",
              "      <td>Cerveja</td>\n",
              "      <td>Praticar esporte</td>\n",
              "      <td>66</td>\n",
              "    </tr>\n",
              "    <tr>\n",
              "      <th>2124</th>\n",
              "      <td>10142881</td>\n",
              "      <td>2020-12-31</td>\n",
              "      <td>Masculino</td>\n",
              "      <td>1952-07-30</td>\n",
              "      <td>gato</td>\n",
              "      <td>frio</td>\n",
              "      <td>refrigerante</td>\n",
              "      <td>Assistir TV</td>\n",
              "      <td>68</td>\n",
              "    </tr>\n",
              "    <tr>\n",
              "      <th>2125</th>\n",
              "      <td>10143184</td>\n",
              "      <td>2020-12-31</td>\n",
              "      <td>Masculino</td>\n",
              "      <td>1984-06-05</td>\n",
              "      <td>tartaruga</td>\n",
              "      <td>quente</td>\n",
              "      <td>refrigerante</td>\n",
              "      <td>Pintar quadros</td>\n",
              "      <td>36</td>\n",
              "    </tr>\n",
              "    <tr>\n",
              "      <th>2126</th>\n",
              "      <td>10143307</td>\n",
              "      <td>2020-12-31</td>\n",
              "      <td>Masculino</td>\n",
              "      <td>1971-08-29</td>\n",
              "      <td>tartaruga</td>\n",
              "      <td>moderado</td>\n",
              "      <td>refrigerante</td>\n",
              "      <td>Pintar quadros</td>\n",
              "      <td>49</td>\n",
              "    </tr>\n",
              "  </tbody>\n",
              "</table>\n",
              "<p>4254 rows × 9 columns</p>\n",
              "</div>"
            ],
            "text/plain": [
              "      cod_pessoa data_coleta     genero data_nascimento animal_estimacao  \\\n",
              "0       10141743  2020-01-01  Masculino      1981-04-25            peixe   \n",
              "1       10141860  2020-01-01   Feminino      1966-01-19            peixe   \n",
              "2       10142548  2020-01-01  Masculino      1973-08-02        tartaruga   \n",
              "3       10142591  2020-01-01  Masculino      1997-03-05             gato   \n",
              "4       10142654  2020-01-01   Feminino      1969-08-05        tartaruga   \n",
              "...          ...         ...        ...             ...              ...   \n",
              "2122    10142475  2020-12-31  Masculino      1955-05-30            peixe   \n",
              "2123    10142522  2020-12-31  Masculino      1954-12-22            peixe   \n",
              "2124    10142881  2020-12-31  Masculino      1952-07-30             gato   \n",
              "2125    10143184  2020-12-31  Masculino      1984-06-05        tartaruga   \n",
              "2126    10143307  2020-12-31  Masculino      1971-08-29        tartaruga   \n",
              "\n",
              "         clima bebida_favorita             hobbies  idade  \n",
              "0         frio         Cerveja    Praticar esporte     39  \n",
              "1       quente            Café         Assistir TV     54  \n",
              "2         frio            Café          Ler livros     47  \n",
              "3     moderado         Cerveja  Aprender algo novo     23  \n",
              "4     moderado            Café         Assistir TV     51  \n",
              "...        ...             ...                 ...    ...  \n",
              "2122    quente            Café    Praticar esporte     65  \n",
              "2123  moderado         Cerveja    Praticar esporte     66  \n",
              "2124      frio    refrigerante         Assistir TV     68  \n",
              "2125    quente    refrigerante      Pintar quadros     36  \n",
              "2126  moderado    refrigerante      Pintar quadros     49  \n",
              "\n",
              "[4254 rows x 9 columns]"
            ]
          },
          "execution_count": 43,
          "metadata": {},
          "output_type": "execute_result"
        }
      ],
      "source": [
        "df_unificado"
      ]
    },
    {
      "cell_type": "code",
      "execution_count": null,
      "id": "805c7ada",
      "metadata": {
        "id": "805c7ada",
        "outputId": "022f3d8c-e6fb-4115-f98d-1ce6525168b6"
      },
      "outputs": [
        {
          "data": {
            "text/plain": [
              "44.44736842105263"
            ]
          },
          "execution_count": 114,
          "metadata": {},
          "output_type": "execute_result"
        }
      ],
      "source": [
        "df_unificado.query('genero == \"Masculino\" and bebida_favorita == \"Cerveja\" and clima == \"quente\" ')['idade'].mean()"
      ]
    },
    {
      "cell_type": "markdown",
      "id": "46dccf56",
      "metadata": {
        "id": "46dccf56"
      },
      "source": [
        "# Pergunta 3\n",
        "Qual o hobbie de menor preferência entre os homens? "
      ]
    },
    {
      "cell_type": "code",
      "execution_count": null,
      "id": "bc9491de",
      "metadata": {
        "id": "bc9491de",
        "outputId": "c0251a2a-e29f-458c-9158-2c4caf96159b"
      },
      "outputs": [
        {
          "data": {
            "text/plain": [
              "hobbies\n",
              "Escutar música        306\n",
              "Pintar quadros        342\n",
              "Assistir TV           346\n",
              "Praticar esporte      350\n",
              "Ler livros            354\n",
              "Escrever              364\n",
              "Aprender algo novo    366\n",
              "Dormir                368\n",
              "Name: hobbies, dtype: int64"
            ]
          },
          "execution_count": 53,
          "metadata": {},
          "output_type": "execute_result"
        }
      ],
      "source": [
        "df_unificado.query('genero == \"Masculino\" ').groupby('hobbies')['hobbies'].count().sort_values(ascending=True)"
      ]
    },
    {
      "cell_type": "markdown",
      "id": "bc6754fe",
      "metadata": {
        "id": "bc6754fe"
      },
      "source": [
        "# Pergunta 4\n",
        "Qual o hobbie de menor preferência entre as mulheres que gostam de tartaruga? "
      ]
    },
    {
      "cell_type": "code",
      "execution_count": null,
      "id": "03950f87",
      "metadata": {
        "id": "03950f87",
        "outputId": "895b4ba7-bc3c-4cec-eaba-043f1bd2004c"
      },
      "outputs": [
        {
          "data": {
            "text/plain": [
              "hobbies\n",
              "Dormir                22\n",
              "Ler livros            26\n",
              "Praticar esporte      34\n",
              "Assistir TV           36\n",
              "Aprender algo novo    38\n",
              "Escutar música        44\n",
              "Pintar quadros        48\n",
              "Escrever              50\n",
              "Name: hobbies, dtype: int64"
            ]
          },
          "execution_count": 55,
          "metadata": {},
          "output_type": "execute_result"
        }
      ],
      "source": [
        "df_unificado.query('genero == \"Feminino\" and animal_estimacao == \"tartaruga\" ').groupby('hobbies')['hobbies'].count().sort_values(ascending=True)"
      ]
    },
    {
      "cell_type": "markdown",
      "id": "7ce59558",
      "metadata": {
        "id": "7ce59558"
      },
      "source": [
        "# Pergunta 5\n",
        "Qual a bebida favorita entre as mulheres e homens, respectivamente? "
      ]
    },
    {
      "cell_type": "code",
      "execution_count": null,
      "id": "0f538a0d",
      "metadata": {
        "id": "0f538a0d",
        "outputId": "c13c04e3-cfca-412c-fa42-de49bb600029"
      },
      "outputs": [
        {
          "data": {
            "text/plain": [
              "bebida_favorita\n",
              "Cerveja         276\n",
              "Café            250\n",
              "Chá             250\n",
              "refrigerante    248\n",
              "Vinho           228\n",
              "Água            206\n",
              "Name: bebida_favorita, dtype: int64"
            ]
          },
          "execution_count": 56,
          "metadata": {},
          "output_type": "execute_result"
        }
      ],
      "source": [
        "df_unificado.query('genero == \"Feminino\" ').groupby('bebida_favorita')['bebida_favorita'].count().sort_values(ascending=False)"
      ]
    },
    {
      "cell_type": "code",
      "execution_count": null,
      "id": "af14c6eb",
      "metadata": {
        "id": "af14c6eb",
        "outputId": "8c44f942-b3ce-4381-9d66-1542de011a9f"
      },
      "outputs": [
        {
          "data": {
            "text/plain": [
              "bebida_favorita\n",
              "Café            516\n",
              "Cerveja         500\n",
              "refrigerante    452\n",
              "Chá             446\n",
              "Água            444\n",
              "Vinho           438\n",
              "Name: bebida_favorita, dtype: int64"
            ]
          },
          "execution_count": 57,
          "metadata": {},
          "output_type": "execute_result"
        }
      ],
      "source": [
        "df_unificado.query('genero == \"Masculino\" ').groupby('bebida_favorita')['bebida_favorita'].count().sort_values(ascending=False)"
      ]
    },
    {
      "cell_type": "markdown",
      "id": "7ea6d46a",
      "metadata": {
        "id": "7ea6d46a"
      },
      "source": [
        "# Pergunta 6\n",
        "Qual é a média de idade das pessoas que têm como hobbie assistir TV? "
      ]
    },
    {
      "cell_type": "code",
      "execution_count": null,
      "id": "36cb32bb",
      "metadata": {
        "id": "36cb32bb",
        "outputId": "60b13ecc-95fd-4f69-9167-5bf108d04278"
      },
      "outputs": [
        {
          "data": {
            "text/plain": [
              "44.555133079847906"
            ]
          },
          "execution_count": 117,
          "metadata": {},
          "output_type": "execute_result"
        }
      ],
      "source": [
        "df_unificado.query('hobbies == \"Assistir TV\" ')['idade'].mean()"
      ]
    },
    {
      "cell_type": "markdown",
      "id": "37ab6cc3",
      "metadata": {
        "id": "37ab6cc3"
      },
      "source": [
        "# Pergunta 7\n",
        "Quantas pessoas têm como hobbie pintar quadros e qual média de idade delas, respectivamente? "
      ]
    },
    {
      "cell_type": "code",
      "execution_count": null,
      "id": "9fc609f9",
      "metadata": {
        "id": "9fc609f9",
        "outputId": "72274217-74d4-4358-afee-aa72ccc19cb7"
      },
      "outputs": [
        {
          "data": {
            "text/plain": [
              "cod_pessoa          260\n",
              "data_coleta         187\n",
              "genero                2\n",
              "data_nascimento     260\n",
              "animal_estimacao      4\n",
              "clima                 3\n",
              "bebida_favorita       6\n",
              "hobbies               1\n",
              "idade                50\n",
              "dtype: int64"
            ]
          },
          "execution_count": 85,
          "metadata": {},
          "output_type": "execute_result"
        }
      ],
      "source": [
        "df_unificado.query('hobbies == \"Pintar quadros\" ').nunique()"
      ]
    },
    {
      "cell_type": "code",
      "execution_count": null,
      "id": "8976baf1",
      "metadata": {
        "id": "8976baf1",
        "outputId": "94967a53-417b-4051-ff46-7fa3fe887a3d"
      },
      "outputs": [
        {
          "data": {
            "text/plain": [
              "count    520.000000\n",
              "mean      44.776923\n",
              "std       14.688160\n",
              "min       21.000000\n",
              "25%       31.000000\n",
              "50%       43.500000\n",
              "75%       57.000000\n",
              "max       70.000000\n",
              "Name: idade, dtype: float64"
            ]
          },
          "execution_count": 86,
          "metadata": {},
          "output_type": "execute_result"
        }
      ],
      "source": [
        "df_unificado.query('hobbies == \"Pintar quadros\" ')['idade'].describe()"
      ]
    },
    {
      "cell_type": "markdown",
      "id": "619528de",
      "metadata": {
        "id": "619528de"
      },
      "source": [
        "# Pergunta 8\n",
        "Qual script abaixo retorna o número total de pessoas que responderam na pesquisa que gostam de cachorro? "
      ]
    },
    {
      "cell_type": "markdown",
      "id": "134f537a",
      "metadata": {
        "id": "134f537a"
      },
      "source": [
        "#### select ae.animal, count(1) total from pesquisa p inner join animal_estimacao ae on p.cod_animal_estimacao = ae.cod_animal_estimacao where ae.animal = 'cachorro' group by animal\n",
        "Resposta escolhida"
      ]
    },
    {
      "cell_type": "markdown",
      "id": "36b80142",
      "metadata": {
        "id": "36b80142"
      },
      "source": [
        "#### select ae.animal, sum(1) total from pesquisa p inner join animal_estimacao ae on p.cod_animal_estimacao = ae.cod_animal_estimacao where ae.animal = 'cachorro' order by p.animal"
      ]
    },
    {
      "cell_type": "markdown",
      "id": "1807492d",
      "metadata": {
        "id": "1807492d"
      },
      "source": [
        "#### select ae.animal, count(*) total from pesquisa p inner join animal_estimacao ae on p.cod_animal_estimacao = ae.cod_animal_estimacao where p.animal <> 'cachorro' group by animal"
      ]
    },
    {
      "cell_type": "code",
      "execution_count": null,
      "id": "6dda6021",
      "metadata": {
        "id": "6dda6021"
      },
      "outputs": [],
      "source": [
        "import pandasql as psql"
      ]
    },
    {
      "cell_type": "code",
      "execution_count": null,
      "id": "321cf9c0",
      "metadata": {
        "id": "321cf9c0",
        "outputId": "6e37ffa3-474b-467a-bac6-10df8896745e"
      },
      "outputs": [
        {
          "data": {
            "text/html": [
              "<div>\n",
              "<style scoped>\n",
              "    .dataframe tbody tr th:only-of-type {\n",
              "        vertical-align: middle;\n",
              "    }\n",
              "\n",
              "    .dataframe tbody tr th {\n",
              "        vertical-align: top;\n",
              "    }\n",
              "\n",
              "    .dataframe thead th {\n",
              "        text-align: right;\n",
              "    }\n",
              "</style>\n",
              "<table border=\"1\" class=\"dataframe\">\n",
              "  <thead>\n",
              "    <tr style=\"text-align: right;\">\n",
              "      <th></th>\n",
              "      <th>animal_estimacao</th>\n",
              "      <th>count(1)</th>\n",
              "    </tr>\n",
              "  </thead>\n",
              "  <tbody>\n",
              "    <tr>\n",
              "      <th>0</th>\n",
              "      <td>cachorro</td>\n",
              "      <td>828</td>\n",
              "    </tr>\n",
              "  </tbody>\n",
              "</table>\n",
              "</div>"
            ],
            "text/plain": [
              "  animal_estimacao  count(1)\n",
              "0         cachorro       828"
            ]
          },
          "execution_count": 96,
          "metadata": {},
          "output_type": "execute_result"
        }
      ],
      "source": [
        "sdfc =  psql.sqldf(\"select animal_estimacao, count(1) from df_unificado where animal_estimacao = 'cachorro' group by animal_estimacao\")\n",
        "sdfc.head()"
      ]
    },
    {
      "cell_type": "markdown",
      "id": "1fa608fc",
      "metadata": {
        "id": "1fa608fc"
      },
      "source": [
        "# Pergunta 9\n",
        "Quantas pessoas, de modo geral, gostam de gatos?  "
      ]
    },
    {
      "cell_type": "code",
      "execution_count": null,
      "id": "9ad08750",
      "metadata": {
        "id": "9ad08750",
        "outputId": "fafbaa84-e537-40d0-87a8-2ebe8aba5d18"
      },
      "outputs": [
        {
          "data": {
            "text/plain": [
              "cod_pessoa          864\n",
              "data_coleta         331\n",
              "genero                2\n",
              "data_nascimento     840\n",
              "animal_estimacao      1\n",
              "clima                 3\n",
              "bebida_favorita       6\n",
              "hobbies               8\n",
              "idade                50\n",
              "dtype: int64"
            ]
          },
          "execution_count": 100,
          "metadata": {},
          "output_type": "execute_result"
        }
      ],
      "source": [
        "df_unificado.query('animal_estimacao == \"gato\" ').nunique()"
      ]
    },
    {
      "cell_type": "markdown",
      "id": "9e99d115",
      "metadata": {
        "id": "9e99d115"
      },
      "source": [
        "# Pergunta 10\n",
        "Quantas pessoas do gênero masculino gostam de peixe? "
      ]
    },
    {
      "cell_type": "code",
      "execution_count": null,
      "id": "3ee631af",
      "metadata": {
        "id": "3ee631af",
        "outputId": "823c9cef-8ce7-4516-db09-a532823517ad"
      },
      "outputs": [
        {
          "data": {
            "text/plain": [
              "cod_pessoa          274\n",
              "data_coleta         190\n",
              "genero                1\n",
              "data_nascimento     271\n",
              "animal_estimacao      1\n",
              "clima                 3\n",
              "bebida_favorita       6\n",
              "hobbies               8\n",
              "idade                49\n",
              "dtype: int64"
            ]
          },
          "execution_count": 102,
          "metadata": {},
          "output_type": "execute_result"
        }
      ],
      "source": [
        "df_unificado.query('animal_estimacao == \"peixe\" and genero == \"Masculino\" ').nunique()"
      ]
    },
    {
      "cell_type": "markdown",
      "id": "2dd1fd40",
      "metadata": {
        "id": "2dd1fd40"
      },
      "source": [
        "# Pergunta 11\n",
        "Quantas pessoas gostam do clima quente? "
      ]
    },
    {
      "cell_type": "code",
      "execution_count": null,
      "id": "2ee0e502",
      "metadata": {
        "id": "2ee0e502",
        "outputId": "57f467d2-d6ed-48e3-941c-e9c4baa0bdcd"
      },
      "outputs": [
        {
          "data": {
            "text/plain": [
              "cod_pessoa          693\n",
              "data_coleta         304\n",
              "genero                2\n",
              "data_nascimento     680\n",
              "animal_estimacao      4\n",
              "clima                 1\n",
              "bebida_favorita       6\n",
              "hobbies               8\n",
              "idade                50\n",
              "dtype: int64"
            ]
          },
          "execution_count": 103,
          "metadata": {},
          "output_type": "execute_result"
        }
      ],
      "source": [
        "df_unificado.query('clima == \"quente\"').nunique()"
      ]
    },
    {
      "cell_type": "markdown",
      "id": "ad83085b",
      "metadata": {
        "id": "ad83085b"
      },
      "source": [
        "# Pergunta 12\n",
        "Sobre os dados não estruturados, todas as afirmativas estão corretas, EXCETO: "
      ]
    },
    {
      "cell_type": "markdown",
      "id": "5dbb000e",
      "metadata": {
        "id": "5dbb000e"
      },
      "source": [
        "- Possuem estrutura flexível e dinâmica.\n",
        "\n",
        "- Não são alinhados ou padronizados.\n",
        "\n",
        "- Possuem estrutura pré-definida. (Escolhida)\n",
        "\n",
        "- Nenhuma das alternativas."
      ]
    },
    {
      "cell_type": "markdown",
      "id": "c203c8e2",
      "metadata": {
        "id": "c203c8e2"
      },
      "source": [
        "# Pergunta 13\n",
        "É uma das vantagens de realizar uma coleta de dados, EXCETO:"
      ]
    },
    {
      "cell_type": "markdown",
      "id": "8ea63e24",
      "metadata": {
        "id": "8ea63e24"
      },
      "source": [
        "- Auxilia na análise para reconhecer tendências.\n",
        "\n",
        "- Ajuda a entender melhor seus clientes.\n",
        "\n",
        "- Auxilia nas tomadas de decisões.\n",
        "\n",
        "- Todas as alternativas. (Escolhida)"
      ]
    },
    {
      "cell_type": "markdown",
      "id": "6d298d5c",
      "metadata": {
        "id": "6d298d5c"
      },
      "source": [
        "# Pergunta 14\n",
        "De acordo com o conceito de Web Semântica, podemos afirmar que: \n",
        "\n"
      ]
    },
    {
      "cell_type": "markdown",
      "id": "7b67261c",
      "metadata": {
        "id": "7b67261c"
      },
      "source": [
        "- Ela visa tornar o browser um assistente que orienta o usuário através de uma interação inteligente.\n",
        "\n",
        "- Deseja substituir a web tradicional com suas modificações.\n",
        "\n",
        "- Foi pensada para um novo layout nas páginas da internet.\n",
        "\n",
        "- Deseja tornar as pesquisas mais amplas, trazendo vários resultados diferentes para a mesma pesquisa e assim ter mais chances de acertar o desejo do pesquisador. (Escolhida)"
      ]
    },
    {
      "cell_type": "markdown",
      "id": "a8bc98c8",
      "metadata": {
        "id": "a8bc98c8"
      },
      "source": [
        "# Pergunta 15\n",
        "Para instalar uma biblioteca no ambiente de uma virtual env, devemos: "
      ]
    },
    {
      "cell_type": "markdown",
      "id": "c1ffe3ec",
      "metadata": {
        "id": "c1ffe3ec"
      },
      "source": [
        "- Utilizar o comando pip list + python –r + o nome da biblioteca.\n",
        "\n",
        "- Utilizar o comando pip install –p python3 + nome da biblioteca.\n",
        "\n",
        "- Utilizar o comando pip install –h + pip list + o nome da biblioteca.\n",
        "\n",
        "- Nenhuma das alternativas. (Escolhida)"
      ]
    },
    {
      "cell_type": "code",
      "execution_count": null,
      "id": "9278fef2",
      "metadata": {
        "id": "9278fef2"
      },
      "outputs": [],
      "source": [
        ""
      ]
    }
  ],
  "metadata": {
    "kernelspec": {
      "display_name": "coleta_dados",
      "language": "python",
      "name": "coleta_dados"
    },
    "language_info": {
      "codemirror_mode": {
        "name": "ipython",
        "version": 3
      },
      "file_extension": ".py",
      "mimetype": "text/x-python",
      "name": "python",
      "nbconvert_exporter": "python",
      "pygments_lexer": "ipython3",
      "version": "3.9.1"
    },
    "colab": {
      "name": "coleta_dados_trabalho_pratico(4).ipynb",
      "provenance": [],
      "include_colab_link": true
    }
  },
  "nbformat": 4,
  "nbformat_minor": 5
}